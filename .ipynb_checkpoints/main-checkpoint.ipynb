{
 "cells": [
  {
   "cell_type": "code",
   "execution_count": 1,
   "id": "d484a890-963f-43c9-b71f-bbc0c053f80e",
   "metadata": {},
   "outputs": [],
   "source": [
    "import sqlite3\n",
    "import numpy as np\n",
    "import pandas as pd\n",
    "from tqdm import tqdm\n",
    "from utils.utils import get_citation_doi\n",
    "from utils.utils import get_paper_citation_pairs\n",
    "from acm_api.acm import acm_meta"
   ]
  },
  {
   "cell_type": "markdown",
   "id": "6dff21f2-d307-4844-9cca-86019027e973",
   "metadata": {},
   "source": [
    "<h2>Processing the input file with doi of papers</h2>"
   ]
  },
  {
   "cell_type": "code",
   "execution_count": 5,
   "id": "823117b6-e153-441a-8eb9-10baeb699470",
   "metadata": {},
   "outputs": [
    {
     "name": "stdout",
     "output_type": "stream",
     "text": [
      "processing doi....\n"
     ]
    },
    {
     "name": "stderr",
     "output_type": "stream",
     "text": [
      "  0%|                                                                                                                                                                                 | 0/8 [00:00<?, ?it/s]"
     ]
    },
    {
     "name": "stdout",
     "output_type": "stream",
     "text": [
      "extracting citation's doi....\n"
     ]
    },
    {
     "name": "stderr",
     "output_type": "stream",
     "text": [
      "\n",
      "100%|████████████████████████████████████████████████████████████████████████████████████████████████████████████████████████████████████████████████████████████████| 249/249 [00:00<00:00, 1989298.47it/s]\u001b[A\n",
      " 12%|█████████████████████▏                                                                                                                                                   | 1/8 [00:02<00:20,  2.88s/it]"
     ]
    },
    {
     "name": "stdout",
     "output_type": "stream",
     "text": [
      "extracting citation's doi....\n"
     ]
    },
    {
     "name": "stderr",
     "output_type": "stream",
     "text": [
      "\n",
      "100%|████████████████████████████████████████████████████████████████████████████████████████████████████████████████████████████████████████████████████████████████| 155/155 [00:00<00:00, 1182031.13it/s]\u001b[A\n",
      " 25%|██████████████████████████████████████████▎                                                                                                                              | 2/8 [00:05<00:15,  2.58s/it]"
     ]
    },
    {
     "name": "stdout",
     "output_type": "stream",
     "text": [
      "extracting citation's doi....\n"
     ]
    },
    {
     "name": "stderr",
     "output_type": "stream",
     "text": [
      "\n",
      "100%|█████████████████████████████████████████████████████████████████████████████████████████████████████████████████████████████████████████████████████████████████| 172/172 [00:00<00:00, 588914.52it/s]\u001b[A\n",
      " 38%|███████████████████████████████████████████████████████████████▍                                                                                                         | 3/8 [00:07<00:11,  2.29s/it]"
     ]
    },
    {
     "name": "stdout",
     "output_type": "stream",
     "text": [
      "extracting citation's doi....\n"
     ]
    },
    {
     "name": "stderr",
     "output_type": "stream",
     "text": [
      "\n",
      "100%|█████████████████████████████████████████████████████████████████████████████████████████████████████████████████████████████████████████████████████████████████| 162/162 [00:00<00:00, 872242.94it/s]\u001b[A\n",
      " 50%|████████████████████████████████████████████████████████████████████████████████████▌                                                                                    | 4/8 [00:09<00:08,  2.18s/it]"
     ]
    },
    {
     "name": "stdout",
     "output_type": "stream",
     "text": [
      "extracting citation's doi....\n"
     ]
    },
    {
     "name": "stderr",
     "output_type": "stream",
     "text": [
      "\n",
      "100%|████████████████████████████████████████████████████████████████████████████████████████████████████████████████████████████████████████████████████████████████| 162/162 [00:00<00:00, 1080250.00it/s]\u001b[A\n"
     ]
    },
    {
     "name": "stdout",
     "output_type": "stream",
     "text": [
      "extracting citation's doi....\n"
     ]
    },
    {
     "name": "stderr",
     "output_type": "stream",
     "text": [
      "\n",
      "100%|████████████████████████████████████████████████████████████████████████████████████████████████████████████████████████████████████████████████████████████████| 146/146 [00:00<00:00, 1720135.91it/s]\u001b[A\n",
      " 75%|██████████████████████████████████████████████████████████████████████████████████████████████████████████████████████████████▊                                          | 6/8 [00:11<00:03,  1.63s/it]"
     ]
    },
    {
     "name": "stdout",
     "output_type": "stream",
     "text": [
      "extracting citation's doi....\n"
     ]
    },
    {
     "name": "stderr",
     "output_type": "stream",
     "text": [
      "\n",
      "100%|████████████████████████████████████████████████████████████████████████████████████████████████████████████████████████████████████████████████████████████████████| 18/18 [00:00<00:00, 66752.85it/s]\u001b[A\n",
      " 88%|███████████████████████████████████████████████████████████████████████████████████████████████████████████████████████████████████████████████████▉                     | 7/8 [00:13<00:01,  1.85s/it]"
     ]
    },
    {
     "name": "stdout",
     "output_type": "stream",
     "text": [
      "extracting citation's doi....\n"
     ]
    },
    {
     "name": "stderr",
     "output_type": "stream",
     "text": [
      "\n",
      "100%|████████████████████████████████████████████████████████████████████████████████████████████████████████████████████████████████████████████████████████████████| 136/136 [00:00<00:00, 1672801.60it/s]\u001b[A\n",
      "100%|█████████████████████████████████████████████████████████████████████████████████████████████████████████████████████████████████████████████████████████████████████████| 8/8 [00:18<00:00,  2.36s/it]\n"
     ]
    }
   ],
   "source": [
    "doi_list = []\n",
    "data = {}\n",
    "\n",
    "# reading the input file with doi of papers\n",
    "with open('doi/doi.txt', 'r') as doi_file:\n",
    "    lines = doi_file.readlines()\n",
    "    \n",
    "for line in lines:\n",
    "    doi_list.append(line.strip())\n",
    "    \n",
    "con = sqlite3.connect('papers.db')\n",
    "cur = con.cursor()\n",
    "\n",
    "is_table_exists = cur.execute(\n",
    "    \"\"\"\n",
    "    SELECT name FROM sqlite_master WHERE type='table'\n",
    "    AND name='PAPERS'; \"\"\").fetchall()\n",
    "\n",
    "if is_table_exists == []:\n",
    "    cur.execute(\"\"\" \n",
    "        CREATE TABLE PAPERS (doi TEXT, data TEXT);\n",
    "    \"\"\")\n",
    "    \n",
    "print('processing doi....')\n",
    "for doi in tqdm(doi_list):\n",
    "    cursor = con.execute(\"SELECT * FROM PAPERS WHERE doi=?;\", (doi,))\n",
    "    fetch_data = cursor.fetchone()\n",
    "    \n",
    "    if fetch_data is None:\n",
    "        temp = acm_meta(doi)\n",
    "        insert_statement = 'INSERT INTO PAPERS(doi, data) VALUES(?, ?)'\n",
    "        \n",
    "        con.execute(insert_statement, (doi, str(temp)))\n",
    "        data[doi] = get_citation_doi(temp)\n",
    "        \n",
    "    else:\n",
    "        data[doi] = get_citation_doi(fetch_data[1])\n",
    "\n",
    "con.commit()\n",
    "con.close()"
   ]
  },
  {
   "cell_type": "code",
   "execution_count": null,
   "id": "2ad4fa89-bfff-4c5a-ac99-c11928083b3d",
   "metadata": {},
   "outputs": [],
   "source": []
  }
 ],
 "metadata": {
  "kernelspec": {
   "display_name": "Python 3 (ipykernel)",
   "language": "python",
   "name": "python3"
  },
  "language_info": {
   "codemirror_mode": {
    "name": "ipython",
    "version": 3
   },
   "file_extension": ".py",
   "mimetype": "text/x-python",
   "name": "python",
   "nbconvert_exporter": "python",
   "pygments_lexer": "ipython3",
   "version": "3.7.3"
  }
 },
 "nbformat": 4,
 "nbformat_minor": 5
}
