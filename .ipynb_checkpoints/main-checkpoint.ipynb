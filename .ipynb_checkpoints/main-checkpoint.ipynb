{
 "cells": [
  {
   "cell_type": "code",
   "execution_count": 23,
   "id": "d484a890-963f-43c9-b71f-bbc0c053f80e",
   "metadata": {},
   "outputs": [],
   "source": [
    "%reload_ext autoreload\n",
    "%autoreload 2\n",
    "\n",
    "import numpy as np\n",
    "import pandas as pd\n",
    "from tqdm.notebook import tqdm\n",
    "from utils.dummy import dummy_data\n",
    "from utils.dummy import dummy_doi\n",
    "from utils.dummy import get_dummy_info\n",
    "from utils.utils import get_paper_citation_pairs\n",
    "from utils.utils import get_fully_connected_network\n",
    "from acm_api.acm import acm_meta\n",
    "from acm_api.acm import acm_db_init\n",
    "from evaluation.evaluate import Train_Test_Split_Plain\n",
    "import matplotlib.pyplot as plt\n",
    "from cf.cf import CF\n",
    "from cf.cf_unit import CFU\n",
    "from cf.cf_pr import CFUPR\n",
    "from cf.cf_full_hits import CFUH\n",
    "from sklearn.feature_extraction.text import TfidfVectorizer\n",
    "from sklearn.feature_extraction.text import CountVectorizer\n",
    "from nltk.tokenize import word_tokenize\n",
    "from nltk.stem import PorterStemmer\n",
    "from nltk.corpus import stopwords"
   ]
  },
  {
   "cell_type": "markdown",
   "id": "6dff21f2-d307-4844-9cca-86019027e973",
   "metadata": {},
   "source": [
    "<h2>Processing the input file with doi of papers</h2>"
   ]
  },
  {
   "cell_type": "code",
   "execution_count": 24,
   "id": "823117b6-e153-441a-8eb9-10baeb699470",
   "metadata": {},
   "outputs": [
    {
     "name": "stdout",
     "output_type": "stream",
     "text": [
      "processing doi....\n"
     ]
    },
    {
     "data": {
      "application/vnd.jupyter.widget-view+json": {
       "model_id": "a062975ca0cd4f309e6666c44d8188f0",
       "version_major": 2,
       "version_minor": 0
      },
      "text/plain": [
       "  0%|          | 0/6 [00:00<?, ?it/s]"
      ]
     },
     "metadata": {},
     "output_type": "display_data"
    },
    {
     "name": "stdout",
     "output_type": "stream",
     "text": [
      "doi is  10.1145/3439723\n",
      "extracting citation's doi....\n"
     ]
    },
    {
     "data": {
      "application/vnd.jupyter.widget-view+json": {
       "model_id": "1e04579f757e46c694cbfefa7eb92216",
       "version_major": 2,
       "version_minor": 0
      },
      "text/plain": [
       "  0%|          | 0/155 [00:00<?, ?it/s]"
      ]
     },
     "metadata": {},
     "output_type": "display_data"
    },
    {
     "name": "stdout",
     "output_type": "stream",
     "text": [
      "extracting citation's doi....\n"
     ]
    },
    {
     "data": {
      "application/vnd.jupyter.widget-view+json": {
       "model_id": "ce610b3f543a44709fd837728f240563",
       "version_major": 2,
       "version_minor": 0
      },
      "text/plain": [
       "  0%|          | 0/172 [00:00<?, ?it/s]"
      ]
     },
     "metadata": {},
     "output_type": "display_data"
    },
    {
     "name": "stdout",
     "output_type": "stream",
     "text": [
      "extracting cited_by doi....\n"
     ]
    },
    {
     "data": {
      "application/vnd.jupyter.widget-view+json": {
       "model_id": "cad44383d7ef4aeb8a4ab10e4898f710",
       "version_major": 2,
       "version_minor": 0
      },
      "text/plain": [
       "  0%|          | 0/3 [00:00<?, ?it/s]"
      ]
     },
     "metadata": {},
     "output_type": "display_data"
    },
    {
     "name": "stdout",
     "output_type": "stream",
     "text": [
      "extracting citation's doi....\n"
     ]
    },
    {
     "data": {
      "application/vnd.jupyter.widget-view+json": {
       "model_id": "95f5b14624ea4b07b2061cb551c530d7",
       "version_major": 2,
       "version_minor": 0
      },
      "text/plain": [
       "  0%|          | 0/162 [00:00<?, ?it/s]"
      ]
     },
     "metadata": {},
     "output_type": "display_data"
    },
    {
     "name": "stdout",
     "output_type": "stream",
     "text": [
      "extracting cited_by doi....\n"
     ]
    },
    {
     "data": {
      "application/vnd.jupyter.widget-view+json": {
       "model_id": "7e5469ae0db34442aed39fa7dfe2340a",
       "version_major": 2,
       "version_minor": 0
      },
      "text/plain": [
       "  0%|          | 0/18 [00:00<?, ?it/s]"
      ]
     },
     "metadata": {},
     "output_type": "display_data"
    },
    {
     "name": "stdout",
     "output_type": "stream",
     "text": [
      "doi is  10.1145/3301282\n",
      "extracting citation's doi....\n"
     ]
    },
    {
     "data": {
      "application/vnd.jupyter.widget-view+json": {
       "model_id": "878f3f7b1fa24b16b1645e70b1bfde85",
       "version_major": 2,
       "version_minor": 0
      },
      "text/plain": [
       "  0%|          | 0/146 [00:00<?, ?it/s]"
      ]
     },
     "metadata": {},
     "output_type": "display_data"
    },
    {
     "name": "stdout",
     "output_type": "stream",
     "text": [
      "doi is  10.1145/3322645.3322656\n",
      "extracting citation's doi....\n"
     ]
    },
    {
     "data": {
      "application/vnd.jupyter.widget-view+json": {
       "model_id": "524f71e8b51e43129ba15cdbb362728d",
       "version_major": 2,
       "version_minor": 0
      },
      "text/plain": [
       "  0%|          | 0/18 [00:00<?, ?it/s]"
      ]
     },
     "metadata": {},
     "output_type": "display_data"
    },
    {
     "name": "stdout",
     "output_type": "stream",
     "text": [
      "extracting citation's doi....\n"
     ]
    },
    {
     "data": {
      "application/vnd.jupyter.widget-view+json": {
       "model_id": "d67d6a59d8f24944b1c148df9c96d0ac",
       "version_major": 2,
       "version_minor": 0
      },
      "text/plain": [
       "  0%|          | 0/136 [00:00<?, ?it/s]"
      ]
     },
     "metadata": {},
     "output_type": "display_data"
    }
   ],
   "source": [
    "doi_list, data, data_citedby = acm_db_init()"
   ]
  },
  {
   "cell_type": "code",
   "execution_count": 3,
   "id": "4bcd1929-daf9-4bc5-a906-d4a9d28afcbc",
   "metadata": {},
   "outputs": [],
   "source": [
    "# Paper's doi and it's citations\n",
    "# data"
   ]
  },
  {
   "cell_type": "code",
   "execution_count": 4,
   "id": "5346f8d1-ab21-4ed9-a5e4-a8bf143efcea",
   "metadata": {},
   "outputs": [],
   "source": [
    "# data_citedby"
   ]
  },
  {
   "cell_type": "markdown",
   "id": "cd689ff6-3a60-4ffc-a4e1-aa4c1c2e0f74",
   "metadata": {},
   "source": [
    "<h2>Code for creating the rating matrix</h2>"
   ]
  },
  {
   "cell_type": "code",
   "execution_count": 5,
   "id": "7c68584b-510b-42cd-a500-19e0124b479f",
   "metadata": {},
   "outputs": [
    {
     "data": {
      "application/vnd.jupyter.widget-view+json": {
       "model_id": "e7b08076d4b74b328123b03175380914",
       "version_major": 2,
       "version_minor": 0
      },
      "text/plain": [
       "  0%|          | 0/220 [00:00<?, ?it/s]"
      ]
     },
     "metadata": {},
     "output_type": "display_data"
    }
   ],
   "source": [
    "# Store the citation space\n",
    "citation_set = set()\n",
    "\n",
    "# Store the citation space including the cited_by space\n",
    "citation_set_with_cited_by = set()\n",
    "\n",
    "# Here we are capturing the all the citation for a given paper\n",
    "# Later we can use this to know the citation space\n",
    "for key in data.keys():\n",
    "    citation_set.update(data[key])\n",
    "    citation_set_with_cited_by.update(data[key])\n",
    "    \n",
    "# We also need to include the queryset itself because they are cited by other papers    \n",
    "citation_set_with_cited_by.update(data.keys())\n",
    "\n",
    "# Index of the data without the cited_by key\n",
    "index_ = data.keys()\n",
    "                                                   \n",
    "# Index of the data including the cited_by key\n",
    "index_with_citedby = set(data.keys())\n",
    "index_with_citedby.update(data_citedby.keys())\n",
    "index_with_citedby = list(index_with_citedby)\n",
    "\n",
    "# This dataframe does not include the cited_by data\n",
    "df = pd.DataFrame(np.zeros((len(index_), len(citation_set))), index=index_, columns=citation_set)\n",
    "\n",
    "# This dataframe includes the cited_by data\n",
    "df_with_cited_by = pd.DataFrame(np.zeros((len(index_with_citedby), len(citation_set_with_cited_by))), \\\n",
    "                                index=index_with_citedby, columns=citation_set_with_cited_by)\n",
    "\n",
    "for i in index_:\n",
    "    for j in citation_set:\n",
    "        if j in data[i]:\n",
    "            df.loc[i][j] = 1\n",
    "\n",
    "\n",
    "            \n",
    "# Here data_citedby is the key-value with key being the paper\n",
    "# that cites our query set and value is one of the paper in the\n",
    "# query set\n",
    "# Similary in data, the key is each paper in query set and\n",
    "# value is list of citations\n",
    "overall_ = {**data_citedby, **data}\n",
    "overall = get_fully_connected_network(overall_, data_citedby.keys(), acm=False)\n",
    "for i in index_with_citedby:\n",
    "    for j in citation_set_with_cited_by:\n",
    "        if j in overall[i]:\n",
    "            df_with_cited_by.loc[i][j] = 1\n",
    "\n",
    "df.to_csv('citation-web/matrix-way/citation-matrix.csv')\n",
    "df_with_cited_by.to_csv('citation-web/matrix-way/citation-full-matrix.csv')"
   ]
  },
  {
   "cell_type": "markdown",
   "id": "37494a71-56c4-4697-a349-4d8b151aaac0",
   "metadata": {},
   "source": [
    "<h2>Assign root nodes that can be used for cf full version</h2>"
   ]
  },
  {
   "cell_type": "code",
   "execution_count": 6,
   "id": "4e0173a3-1285-4ceb-b468-8035ac4fca18",
   "metadata": {},
   "outputs": [],
   "source": [
    "root_nodes = df.index.values"
   ]
  },
  {
   "cell_type": "markdown",
   "id": "494979c8-3cea-4afd-9cb6-130f1a24dfee",
   "metadata": {},
   "source": [
    "<h2>Creating the citation pair</h2>"
   ]
  },
  {
   "cell_type": "code",
   "execution_count": 7,
   "id": "a0090e86-30a9-453a-8e6a-7bbeea06ef31",
   "metadata": {},
   "outputs": [
    {
     "name": "stdout",
     "output_type": "stream",
     "text": [
      "writing citation pairs....\n"
     ]
    },
    {
     "data": {
      "application/vnd.jupyter.widget-view+json": {
       "model_id": "cfaad1ee1d824c108dfae0e7962d8e7b",
       "version_major": 2,
       "version_minor": 0
      },
      "text/plain": [
       "  0%|          | 0/20 [00:00<?, ?it/s]"
      ]
     },
     "metadata": {},
     "output_type": "display_data"
    },
    {
     "name": "stdout",
     "output_type": "stream",
     "text": [
      "writing citation pairs....\n"
     ]
    },
    {
     "data": {
      "application/vnd.jupyter.widget-view+json": {
       "model_id": "20f77cd461a048838792795f2a979a20",
       "version_major": 2,
       "version_minor": 0
      },
      "text/plain": [
       "  0%|          | 0/220 [00:00<?, ?it/s]"
      ]
     },
     "metadata": {},
     "output_type": "display_data"
    }
   ],
   "source": [
    "# This only includes the citation data\n",
    "citation_pair_path = get_paper_citation_pairs(df)\n",
    "\n",
    "# This also includes the cited_by data \n",
    "citation_pair_full_path = get_paper_citation_pairs(df_with_cited_by, out_file='citation-full-pairs.txt')"
   ]
  },
  {
   "cell_type": "markdown",
   "id": "c9b9f824-8d71-4190-9db5-33bbf37c7285",
   "metadata": {},
   "source": [
    "<h2>Below are the experiments</h2>"
   ]
  },
  {
   "cell_type": "code",
   "execution_count": 8,
   "id": "2c069b9a",
   "metadata": {},
   "outputs": [
    {
     "name": "stdout",
     "output_type": "stream",
     "text": [
      "The following doi's are ignored because of low reference :\n",
      "{}\n",
      "writing citation pairs....\n"
     ]
    },
    {
     "data": {
      "application/vnd.jupyter.widget-view+json": {
       "model_id": "e8320d7032e9483d98edfc518625bca9",
       "version_major": 2,
       "version_minor": 0
      },
      "text/plain": [
       "  0%|          | 0/20 [00:00<?, ?it/s]"
      ]
     },
     "metadata": {},
     "output_type": "display_data"
    },
    {
     "name": "stdout",
     "output_type": "stream",
     "text": [
      "removing the indexes with no citations....\n",
      "normalizing dataframe....\n"
     ]
    },
    {
     "name": "stderr",
     "output_type": "stream",
     "text": [
      "100%|█████████████████████████████████████████| 20/20 [00:00<00:00, 2838.50it/s]\n"
     ]
    },
    {
     "name": "stdout",
     "output_type": "stream",
     "text": [
      "creating similarity matrix....\n"
     ]
    },
    {
     "name": "stderr",
     "output_type": "stream",
     "text": [
      "100%|█████████████████████████████████████████| 109/109 [00:01<00:00, 77.66it/s]\n"
     ]
    },
    {
     "name": "stdout",
     "output_type": "stream",
     "text": [
      "computing recommendations for : 9\n"
     ]
    },
    {
     "name": "stderr",
     "output_type": "stream",
     "text": [
      "0it [00:00, ?it/s]\n"
     ]
    },
    {
     "name": "stdout",
     "output_type": "stream",
     "text": [
      "computing recommendations for : 2\n"
     ]
    },
    {
     "name": "stderr",
     "output_type": "stream",
     "text": [
      "0it [00:00, ?it/s]\n"
     ]
    },
    {
     "name": "stdout",
     "output_type": "stream",
     "text": [
      "computing recommendations for : 3\n"
     ]
    },
    {
     "name": "stderr",
     "output_type": "stream",
     "text": [
      "0it [00:00, ?it/s]\n"
     ]
    },
    {
     "name": "stdout",
     "output_type": "stream",
     "text": [
      "computing recommendations for : 20\n"
     ]
    },
    {
     "name": "stderr",
     "output_type": "stream",
     "text": [
      "0it [00:00, ?it/s]\n"
     ]
    },
    {
     "name": "stdout",
     "output_type": "stream",
     "text": [
      "computing recommendations for : 11\n"
     ]
    },
    {
     "name": "stderr",
     "output_type": "stream",
     "text": [
      "0it [00:00, ?it/s]\n"
     ]
    },
    {
     "name": "stdout",
     "output_type": "stream",
     "text": [
      "computing recommendations for : 5\n"
     ]
    },
    {
     "name": "stderr",
     "output_type": "stream",
     "text": [
      "0it [00:00, ?it/s]\n"
     ]
    },
    {
     "name": "stdout",
     "output_type": "stream",
     "text": [
      "computing recommendations for : 13\n"
     ]
    },
    {
     "name": "stderr",
     "output_type": "stream",
     "text": [
      "0it [00:00, ?it/s]\n"
     ]
    },
    {
     "name": "stdout",
     "output_type": "stream",
     "text": [
      "computing recommendations for : 4\n"
     ]
    },
    {
     "name": "stderr",
     "output_type": "stream",
     "text": [
      "0it [00:00, ?it/s]"
     ]
    },
    {
     "name": "stdout",
     "output_type": "stream",
     "text": [
      "computing recommendations for : 16"
     ]
    },
    {
     "name": "stderr",
     "output_type": "stream",
     "text": [
      "\n"
     ]
    },
    {
     "name": "stdout",
     "output_type": "stream",
     "text": [
      "\n"
     ]
    },
    {
     "name": "stderr",
     "output_type": "stream",
     "text": [
      "0it [00:00, ?it/s]\n"
     ]
    },
    {
     "name": "stdout",
     "output_type": "stream",
     "text": [
      "computing recommendations for : 1\n"
     ]
    },
    {
     "name": "stderr",
     "output_type": "stream",
     "text": [
      "0it [00:00, ?it/s]\n"
     ]
    },
    {
     "name": "stdout",
     "output_type": "stream",
     "text": [
      "finishing evaluation....\n"
     ]
    },
    {
     "data": {
      "application/vnd.jupyter.widget-view+json": {
       "model_id": "8758ee1121d54bcbace2cc903bfb80bf",
       "version_major": 2,
       "version_minor": 0
      },
      "text/plain": [
       "  0%|          | 0/10 [00:00<?, ?it/s]"
      ]
     },
     "metadata": {},
     "output_type": "display_data"
    },
    {
     "data": {
      "text/plain": [
       "0.0"
      ]
     },
     "execution_count": 8,
     "metadata": {},
     "output_type": "execute_result"
    }
   ],
   "source": [
    "evaluate = Train_Test_Split_Plain(CFU, min_ref_limit=5, train_size=0.5)\n",
    "evaluate.fit(data)"
   ]
  },
  {
   "cell_type": "code",
   "execution_count": 9,
   "id": "f394d0bb-df27-464b-bb51-fef1e2948fc3",
   "metadata": {},
   "outputs": [
    {
     "name": "stdout",
     "output_type": "stream",
     "text": [
      "The following doi's are ignored because of low reference :\n",
      "{}\n",
      "writing citation pairs....\n"
     ]
    },
    {
     "data": {
      "application/vnd.jupyter.widget-view+json": {
       "model_id": "7f928f641a1441bc95e9295205c45e22",
       "version_major": 2,
       "version_minor": 0
      },
      "text/plain": [
       "  0%|          | 0/20 [00:00<?, ?it/s]"
      ]
     },
     "metadata": {},
     "output_type": "display_data"
    },
    {
     "name": "stdout",
     "output_type": "stream",
     "text": [
      "Creating similarity matrix....\n"
     ]
    },
    {
     "name": "stderr",
     "output_type": "stream",
     "text": [
      "100%|█████████████████████████████████████████| 109/109 [00:01<00:00, 77.58it/s]\n"
     ]
    },
    {
     "name": "stdout",
     "output_type": "stream",
     "text": [
      "Computing recommendations for : 9\n"
     ]
    },
    {
     "name": "stderr",
     "output_type": "stream",
     "text": [
      "0it [00:00, ?it/s]\n"
     ]
    },
    {
     "name": "stdout",
     "output_type": "stream",
     "text": [
      "Computing recommendations for : 2\n"
     ]
    },
    {
     "name": "stderr",
     "output_type": "stream",
     "text": [
      "0it [00:00, ?it/s]\n"
     ]
    },
    {
     "name": "stdout",
     "output_type": "stream",
     "text": [
      "Computing recommendations for : 3\n"
     ]
    },
    {
     "name": "stderr",
     "output_type": "stream",
     "text": [
      "0it [00:00, ?it/s]\n"
     ]
    },
    {
     "name": "stdout",
     "output_type": "stream",
     "text": [
      "Computing recommendations for : 20\n"
     ]
    },
    {
     "name": "stderr",
     "output_type": "stream",
     "text": [
      "0it [00:00, ?it/s]\n"
     ]
    },
    {
     "name": "stdout",
     "output_type": "stream",
     "text": [
      "Computing recommendations for : 11\n"
     ]
    },
    {
     "name": "stderr",
     "output_type": "stream",
     "text": [
      "0it [00:00, ?it/s]\n"
     ]
    },
    {
     "name": "stdout",
     "output_type": "stream",
     "text": [
      "Computing recommendations for : 5\n"
     ]
    },
    {
     "name": "stderr",
     "output_type": "stream",
     "text": [
      "0it [00:00, ?it/s]\n"
     ]
    },
    {
     "name": "stdout",
     "output_type": "stream",
     "text": [
      "Computing recommendations for : 13\n"
     ]
    },
    {
     "name": "stderr",
     "output_type": "stream",
     "text": [
      "0it [00:00, ?it/s]\n"
     ]
    },
    {
     "name": "stdout",
     "output_type": "stream",
     "text": [
      "Computing recommendations for : 4\n"
     ]
    },
    {
     "name": "stderr",
     "output_type": "stream",
     "text": [
      "0it [00:00, ?it/s]\n"
     ]
    },
    {
     "name": "stdout",
     "output_type": "stream",
     "text": [
      "Computing recommendations for : 16\n"
     ]
    },
    {
     "name": "stderr",
     "output_type": "stream",
     "text": [
      "0it [00:00, ?it/s]\n"
     ]
    },
    {
     "name": "stdout",
     "output_type": "stream",
     "text": [
      "Computing recommendations for : 1\n"
     ]
    },
    {
     "name": "stderr",
     "output_type": "stream",
     "text": [
      "0it [00:00, ?it/s]\n"
     ]
    },
    {
     "name": "stdout",
     "output_type": "stream",
     "text": [
      "finishing evaluation....\n"
     ]
    },
    {
     "data": {
      "application/vnd.jupyter.widget-view+json": {
       "model_id": "f05f0b4c85544afc81585226e43f5896",
       "version_major": 2,
       "version_minor": 0
      },
      "text/plain": [
       "  0%|          | 0/10 [00:00<?, ?it/s]"
      ]
     },
     "metadata": {},
     "output_type": "display_data"
    },
    {
     "data": {
      "text/plain": [
       "0.0"
      ]
     },
     "execution_count": 9,
     "metadata": {},
     "output_type": "execute_result"
    }
   ],
   "source": [
    "evaluate = Train_Test_Split_Plain(CF, min_ref_limit=5, train_size=0.5)\n",
    "evaluate.fit(data)"
   ]
  },
  {
   "cell_type": "code",
   "execution_count": 10,
   "id": "f61c2478-3be2-48ec-a7ed-1ffe347fa43f",
   "metadata": {},
   "outputs": [
    {
     "name": "stdout",
     "output_type": "stream",
     "text": [
      "The following doi's are ignored because of low reference :\n",
      "{}\n",
      "writing citation pairs....\n"
     ]
    },
    {
     "data": {
      "application/vnd.jupyter.widget-view+json": {
       "model_id": "f09e2985ba9e4db3b7fe313a0ba17593",
       "version_major": 2,
       "version_minor": 0
      },
      "text/plain": [
       "  0%|          | 0/20 [00:00<?, ?it/s]"
      ]
     },
     "metadata": {},
     "output_type": "display_data"
    },
    {
     "name": "stdout",
     "output_type": "stream",
     "text": [
      "removing the indexes with no citations....\n",
      "page rank normalization on dataframe....\n"
     ]
    },
    {
     "name": "stderr",
     "output_type": "stream",
     "text": [
      "100%|█████████████████████████████████████████| 20/20 [00:00<00:00, 5485.62it/s]\n"
     ]
    },
    {
     "name": "stdout",
     "output_type": "stream",
     "text": [
      "creating similarity matrix....\n"
     ]
    },
    {
     "name": "stderr",
     "output_type": "stream",
     "text": [
      "100%|█████████████████████████████████████████| 109/109 [00:01<00:00, 77.57it/s]\n"
     ]
    },
    {
     "name": "stdout",
     "output_type": "stream",
     "text": [
      "normalizing the similarity matrix....\n"
     ]
    },
    {
     "name": "stderr",
     "output_type": "stream",
     "text": [
      "100%|███████████████████████████████████████| 109/109 [00:00<00:00, 4218.57it/s]\n"
     ]
    },
    {
     "name": "stdout",
     "output_type": "stream",
     "text": [
      "Computing recommendations for : 9\n"
     ]
    },
    {
     "name": "stderr",
     "output_type": "stream",
     "text": [
      "0it [00:00, ?it/s]\n"
     ]
    },
    {
     "name": "stdout",
     "output_type": "stream",
     "text": [
      "Computing recommendations for : 2\n"
     ]
    },
    {
     "name": "stderr",
     "output_type": "stream",
     "text": [
      "100%|████████████████████████████████████████████| 2/2 [00:00<00:00, 181.85it/s]\n"
     ]
    },
    {
     "name": "stdout",
     "output_type": "stream",
     "text": [
      "Computing recommendations for : 3\n"
     ]
    },
    {
     "name": "stderr",
     "output_type": "stream",
     "text": [
      "100%|████████████████████████████████████████████| 2/2 [00:00<00:00, 181.58it/s]\n"
     ]
    },
    {
     "name": "stdout",
     "output_type": "stream",
     "text": [
      "Computing recommendations for : 20\n"
     ]
    },
    {
     "name": "stderr",
     "output_type": "stream",
     "text": [
      "100%|████████████████████████████████████████████| 1/1 [00:00<00:00, 182.74it/s]\n"
     ]
    },
    {
     "name": "stdout",
     "output_type": "stream",
     "text": [
      "Computing recommendations for : 11\n"
     ]
    },
    {
     "name": "stderr",
     "output_type": "stream",
     "text": [
      "0it [00:00, ?it/s]\n"
     ]
    },
    {
     "name": "stdout",
     "output_type": "stream",
     "text": [
      "Computing recommendations for : 5\n"
     ]
    },
    {
     "name": "stderr",
     "output_type": "stream",
     "text": [
      "0it [00:00, ?it/s]\n"
     ]
    },
    {
     "name": "stdout",
     "output_type": "stream",
     "text": [
      "Computing recommendations for : 13\n"
     ]
    },
    {
     "name": "stderr",
     "output_type": "stream",
     "text": [
      "100%|████████████████████████████████████████████| 3/3 [00:00<00:00, 179.40it/s]\n"
     ]
    },
    {
     "name": "stdout",
     "output_type": "stream",
     "text": [
      "Computing recommendations for : 4\n"
     ]
    },
    {
     "name": "stderr",
     "output_type": "stream",
     "text": [
      "0it [00:00, ?it/s]\n"
     ]
    },
    {
     "name": "stdout",
     "output_type": "stream",
     "text": [
      "Computing recommendations for : 16\n"
     ]
    },
    {
     "name": "stderr",
     "output_type": "stream",
     "text": [
      "100%|████████████████████████████████████████████| 2/2 [00:00<00:00, 180.36it/s]\n"
     ]
    },
    {
     "name": "stdout",
     "output_type": "stream",
     "text": [
      "Computing recommendations for : 1\n"
     ]
    },
    {
     "name": "stderr",
     "output_type": "stream",
     "text": [
      "100%|████████████████████████████████████████████| 2/2 [00:00<00:00, 179.87it/s]"
     ]
    },
    {
     "name": "stdout",
     "output_type": "stream",
     "text": [
      "finishing evaluation....\n"
     ]
    },
    {
     "name": "stderr",
     "output_type": "stream",
     "text": [
      "\n"
     ]
    },
    {
     "data": {
      "application/vnd.jupyter.widget-view+json": {
       "model_id": "42466c8ba83f4d83bba7c744c7f50bb4",
       "version_major": 2,
       "version_minor": 0
      },
      "text/plain": [
       "  0%|          | 0/10 [00:00<?, ?it/s]"
      ]
     },
     "metadata": {},
     "output_type": "display_data"
    },
    {
     "data": {
      "text/plain": [
       "0.2995631807125634"
      ]
     },
     "execution_count": 10,
     "metadata": {},
     "output_type": "execute_result"
    }
   ],
   "source": [
    "evaluate = Train_Test_Split_Plain(CFUPR, min_ref_limit=5, train_size=0.5, normalize_similarity=True)\n",
    "evaluate.fit(data)"
   ]
  },
  {
   "cell_type": "code",
   "execution_count": 14,
   "id": "292008ec-7672-4c36-95c2-1d4dd97cc87a",
   "metadata": {},
   "outputs": [
    {
     "name": "stdout",
     "output_type": "stream",
     "text": [
      "The following doi's are ignored because of low reference :\n",
      "{'204': 4,\n",
      " '205': 3,\n",
      " '208': 3,\n",
      " '212': 3,\n",
      " '223': 4,\n",
      " '228': 4,\n",
      " '238': 4,\n",
      " '242': 4,\n",
      " '265': 3,\n",
      " '266': 4,\n",
      " '277': 4,\n",
      " '279': 4,\n",
      " '290': 4}\n",
      "writing citation pairs....\n"
     ]
    },
    {
     "data": {
      "application/vnd.jupyter.widget-view+json": {
       "model_id": "5923dacf99cb4905865babea8a1b7f60",
       "version_major": 2,
       "version_minor": 0
      },
      "text/plain": [
       "  0%|          | 0/207 [00:00<?, ?it/s]"
      ]
     },
     "metadata": {},
     "output_type": "display_data"
    },
    {
     "name": "stdout",
     "output_type": "stream",
     "text": [
      "removing the indexes with no citations....\n",
      "Deleting :  298\n",
      "Deleting :  289\n",
      "Deleting :  218\n",
      "Deleting :  262\n",
      "Deleting :  256\n",
      "Deleting :  284\n",
      "Deleting :  255\n",
      "Deleting :  280\n",
      "Deleting :  251\n",
      "Deleting :  231\n",
      "page rank normalization on dataframe....\n"
     ]
    },
    {
     "name": "stderr",
     "output_type": "stream",
     "text": [
      "100%|███████████████████████████████████████| 197/197 [00:00<00:00, 5548.69it/s]\n"
     ]
    },
    {
     "name": "stdout",
     "output_type": "stream",
     "text": [
      "creating similarity matrix....\n"
     ]
    },
    {
     "name": "stderr",
     "output_type": "stream",
     "text": [
      "100%|█████████████████████████████████████████| 120/120 [00:01<00:00, 67.58it/s]\n"
     ]
    },
    {
     "name": "stdout",
     "output_type": "stream",
     "text": [
      "normalizing the similarity matrix....\n"
     ]
    },
    {
     "name": "stderr",
     "output_type": "stream",
     "text": [
      "100%|███████████████████████████████████████| 120/120 [00:00<00:00, 4026.69it/s]\n"
     ]
    },
    {
     "name": "stdout",
     "output_type": "stream",
     "text": [
      "['1' '2' '3' '4' '5' '6' '7' '8' '9' '10' '11' '12' '13' '14' '15' '16'\n",
      " '17' '18' '19' '20' '432' '488' '486' '484' '419' '438' '454' '418' '410'\n",
      " '490' '477' '423' '412' '442' '406' '460' '447' '437' '449' '482' '499'\n",
      " '448' '408' '453' '497' '461' '434' '491' '498' '480' '471' '422' '407'\n",
      " '439' '405' '462' '445' '466' '436' '473' '409' '451' '468' '430' '431'\n",
      " '464' '470' '400' '426' '416' '493' '203' '200' '202' '495' '443' '248'\n",
      " '209' '297' '226' '245' '414' '234' '269' '479' '273' '210' '270' '452'\n",
      " '283' '217' '403' '465' '292' '278' '230' '249' '216' '220' '429' '207'\n",
      " '219' '233' '411' '250' '469' '232' '474' '281' '254' '287' '247' '263'\n",
      " '417' '288' '299' '296' '475' '494' '458' '275' '222' '404' '476' '467'\n",
      " '463' '291' '496' '450' '295' '487' '440' '481' '261' '294' '472' '267'\n",
      " '227' '415' '206' '241' '489' '224' '214' '282' '243' '244' '215' '235'\n",
      " '246' '274' '253' '402' '229' '433' '420' '435' '268' '264' '259' '444'\n",
      " '272' '258' '237' '485' '211' '285' '401' '201' '257' '455' '457' '252'\n",
      " '446' '483' '276' '240' '428' '456' '221' '421' '424' '239' '293' '225'\n",
      " '271' '441' '425' '478' '413' '213' '260' '427' '236' '459' '286' '492']\n"
     ]
    },
    {
     "name": "stderr",
     "output_type": "stream",
     "text": [
      "100%|██████████████████████████████████████████| 12/12 [00:00<00:00, 182.83it/s]\n"
     ]
    },
    {
     "name": "stdout",
     "output_type": "stream",
     "text": [
      "['1' '2' '3' '4' '5' '6' '7' '8' '9' '10' '11' '12' '13' '14' '15' '16'\n",
      " '17' '18' '19' '20' '432' '488' '486' '484' '419' '438' '454' '418' '410'\n",
      " '490' '477' '423' '412' '442' '406' '460' '447' '437' '449' '482' '499'\n",
      " '448' '408' '453' '497' '461' '434' '491' '498' '480' '471' '422' '407'\n",
      " '439' '405' '462' '445' '466' '436' '473' '409' '451' '468' '430' '431'\n",
      " '464' '470' '400' '426' '416' '493' '203' '200' '202' '495' '443' '248'\n",
      " '209' '297' '226' '245' '414' '234' '269' '479' '273' '210' '270' '452'\n",
      " '283' '217' '403' '465' '292' '278' '230' '249' '216' '220' '429' '207'\n",
      " '219' '233' '411' '250' '469' '232' '474' '281' '254' '287' '247' '263'\n",
      " '417' '288' '299' '296' '475' '494' '458' '275' '222' '404' '476' '467'\n",
      " '463' '291' '496' '450' '295' '487' '440' '481' '261' '294' '472' '267'\n",
      " '227' '415' '206' '241' '489' '224' '214' '282' '243' '244' '215' '235'\n",
      " '246' '274' '253' '402' '229' '433' '420' '435' '268' '264' '259' '444'\n",
      " '272' '258' '237' '485' '211' '285' '401' '201' '257' '455' '457' '252'\n",
      " '446' '483' '276' '240' '428' '456' '221' '421' '424' '239' '293' '225'\n",
      " '271' '441' '425' '478' '413' '213' '260' '427' '236' '459' '286' '492']\n"
     ]
    },
    {
     "name": "stderr",
     "output_type": "stream",
     "text": [
      "100%|█████████████████████████████████████████| 20/20 [00:00<00:00, 4052.86it/s]\n"
     ]
    },
    {
     "name": "stdout",
     "output_type": "stream",
     "text": [
      "['1' '2' '3' '4' '5' '6' '7' '8' '9' '10' '11' '12' '13' '14' '15' '16'\n",
      " '17' '18' '19' '20' '432' '488' '486' '484' '419' '438' '454' '418' '410'\n",
      " '490' '477' '423' '412' '442' '406' '460' '447' '437' '449' '482' '499'\n",
      " '448' '408' '453' '497' '461' '434' '491' '498' '480' '471' '422' '407'\n",
      " '439' '405' '462' '445' '466' '436' '473' '409' '451' '468' '430' '431'\n",
      " '464' '470' '400' '426' '416' '493' '203' '200' '202' '495' '443' '248'\n",
      " '209' '297' '226' '245' '414' '234' '269' '479' '273' '210' '270' '452'\n",
      " '283' '217' '403' '465' '292' '278' '230' '249' '216' '220' '429' '207'\n",
      " '219' '233' '411' '250' '469' '232' '474' '281' '254' '287' '247' '263'\n",
      " '417' '288' '299' '296' '475' '494' '458' '275' '222' '404' '476' '467'\n",
      " '463' '291' '496' '450' '295' '487' '440' '481' '261' '294' '472' '267'\n",
      " '227' '415' '206' '241' '489' '224' '214' '282' '243' '244' '215' '235'\n",
      " '246' '274' '253' '402' '229' '433' '420' '435' '268' '264' '259' '444'\n",
      " '272' '258' '237' '485' '211' '285' '401' '201' '257' '455' '457' '252'\n",
      " '446' '483' '276' '240' '428' '456' '221' '421' '424' '239' '293' '225'\n",
      " '271' '441' '425' '478' '413' '213' '260' '427' '236' '459' '286' '492']\n"
     ]
    },
    {
     "name": "stderr",
     "output_type": "stream",
     "text": [
      "100%|█████████████████████████████████████████| 20/20 [00:00<00:00, 5596.14it/s]\n"
     ]
    },
    {
     "name": "stdout",
     "output_type": "stream",
     "text": [
      "['1' '2' '3' '4' '5' '6' '7' '8' '9' '10' '11' '12' '13' '14' '15' '16'\n",
      " '17' '18' '19' '20' '432' '488' '486' '484' '419' '438' '454' '418' '410'\n",
      " '490' '477' '423' '412' '442' '406' '460' '447' '437' '449' '482' '499'\n",
      " '448' '408' '453' '497' '461' '434' '491' '498' '480' '471' '422' '407'\n",
      " '439' '405' '462' '445' '466' '436' '473' '409' '451' '468' '430' '431'\n",
      " '464' '470' '400' '426' '416' '493' '203' '200' '202' '495' '443' '248'\n",
      " '209' '297' '226' '245' '414' '234' '269' '479' '273' '210' '270' '452'\n",
      " '283' '217' '403' '465' '292' '278' '230' '249' '216' '220' '429' '207'\n",
      " '219' '233' '411' '250' '469' '232' '474' '281' '254' '287' '247' '263'\n",
      " '417' '288' '299' '296' '475' '494' '458' '275' '222' '404' '476' '467'\n",
      " '463' '291' '496' '450' '295' '487' '440' '481' '261' '294' '472' '267'\n",
      " '227' '415' '206' '241' '489' '224' '214' '282' '243' '244' '215' '235'\n",
      " '246' '274' '253' '402' '229' '433' '420' '435' '268' '264' '259' '444'\n",
      " '272' '258' '237' '485' '211' '285' '401' '201' '257' '455' '457' '252'\n",
      " '446' '483' '276' '240' '428' '456' '221' '421' '424' '239' '293' '225'\n",
      " '271' '441' '425' '478' '413' '213' '260' '427' '236' '459' '286' '492']\n"
     ]
    },
    {
     "name": "stderr",
     "output_type": "stream",
     "text": [
      "0it [00:00, ?it/s]\n"
     ]
    },
    {
     "name": "stdout",
     "output_type": "stream",
     "text": [
      "['1' '2' '3' '4' '5' '6' '7' '8' '9' '10' '11' '12' '13' '14' '15' '16'\n",
      " '17' '18' '19' '20' '432' '488' '486' '484' '419' '438' '454' '418' '410'\n",
      " '490' '477' '423' '412' '442' '406' '460' '447' '437' '449' '482' '499'\n",
      " '448' '408' '453' '497' '461' '434' '491' '498' '480' '471' '422' '407'\n",
      " '439' '405' '462' '445' '466' '436' '473' '409' '451' '468' '430' '431'\n",
      " '464' '470' '400' '426' '416' '493' '203' '200' '202' '495' '443' '248'\n",
      " '209' '297' '226' '245' '414' '234' '269' '479' '273' '210' '270' '452'\n",
      " '283' '217' '403' '465' '292' '278' '230' '249' '216' '220' '429' '207'\n",
      " '219' '233' '411' '250' '469' '232' '474' '281' '254' '287' '247' '263'\n",
      " '417' '288' '299' '296' '475' '494' '458' '275' '222' '404' '476' '467'\n",
      " '463' '291' '496' '450' '295' '487' '440' '481' '261' '294' '472' '267'\n",
      " '227' '415' '206' '241' '489' '224' '214' '282' '243' '244' '215' '235'\n",
      " '246' '274' '253' '402' '229' '433' '420' '435' '268' '264' '259' '444'\n",
      " '272' '258' '237' '485' '211' '285' '401' '201' '257' '455' '457' '252'\n",
      " '446' '483' '276' '240' '428' '456' '221' '421' '424' '239' '293' '225'\n",
      " '271' '441' '425' '478' '413' '213' '260' '427' '236' '459' '286' '492']\n"
     ]
    },
    {
     "name": "stderr",
     "output_type": "stream",
     "text": [
      "0it [00:00, ?it/s]\n"
     ]
    },
    {
     "name": "stdout",
     "output_type": "stream",
     "text": [
      "['1' '2' '3' '4' '5' '6' '7' '8' '9' '10' '11' '12' '13' '14' '15' '16'\n",
      " '17' '18' '19' '20' '432' '488' '486' '484' '419' '438' '454' '418' '410'\n",
      " '490' '477' '423' '412' '442' '406' '460' '447' '437' '449' '482' '499'\n",
      " '448' '408' '453' '497' '461' '434' '491' '498' '480' '471' '422' '407'\n",
      " '439' '405' '462' '445' '466' '436' '473' '409' '451' '468' '430' '431'\n",
      " '464' '470' '400' '426' '416' '493' '203' '200' '202' '495' '443' '248'\n",
      " '209' '297' '226' '245' '414' '234' '269' '479' '273' '210' '270' '452'\n",
      " '283' '217' '403' '465' '292' '278' '230' '249' '216' '220' '429' '207'\n",
      " '219' '233' '411' '250' '469' '232' '474' '281' '254' '287' '247' '263'\n",
      " '417' '288' '299' '296' '475' '494' '458' '275' '222' '404' '476' '467'\n",
      " '463' '291' '496' '450' '295' '487' '440' '481' '261' '294' '472' '267'\n",
      " '227' '415' '206' '241' '489' '224' '214' '282' '243' '244' '215' '235'\n",
      " '246' '274' '253' '402' '229' '433' '420' '435' '268' '264' '259' '444'\n",
      " '272' '258' '237' '485' '211' '285' '401' '201' '257' '455' '457' '252'\n",
      " '446' '483' '276' '240' '428' '456' '221' '421' '424' '239' '293' '225'\n",
      " '271' '441' '425' '478' '413' '213' '260' '427' '236' '459' '286' '492']\n"
     ]
    },
    {
     "name": "stderr",
     "output_type": "stream",
     "text": [
      "100%|█████████████████████████████████████████| 20/20 [00:00<00:00, 4997.38it/s]\n"
     ]
    },
    {
     "name": "stdout",
     "output_type": "stream",
     "text": [
      "['1' '2' '3' '4' '5' '6' '7' '8' '9' '10' '11' '12' '13' '14' '15' '16'\n",
      " '17' '18' '19' '20' '432' '488' '486' '484' '419' '438' '454' '418' '410'\n",
      " '490' '477' '423' '412' '442' '406' '460' '447' '437' '449' '482' '499'\n",
      " '448' '408' '453' '497' '461' '434' '491' '498' '480' '471' '422' '407'\n",
      " '439' '405' '462' '445' '466' '436' '473' '409' '451' '468' '430' '431'\n",
      " '464' '470' '400' '426' '416' '493' '203' '200' '202' '495' '443' '248'\n",
      " '209' '297' '226' '245' '414' '234' '269' '479' '273' '210' '270' '452'\n",
      " '283' '217' '403' '465' '292' '278' '230' '249' '216' '220' '429' '207'\n",
      " '219' '233' '411' '250' '469' '232' '474' '281' '254' '287' '247' '263'\n",
      " '417' '288' '299' '296' '475' '494' '458' '275' '222' '404' '476' '467'\n",
      " '463' '291' '496' '450' '295' '487' '440' '481' '261' '294' '472' '267'\n",
      " '227' '415' '206' '241' '489' '224' '214' '282' '243' '244' '215' '235'\n",
      " '246' '274' '253' '402' '229' '433' '420' '435' '268' '264' '259' '444'\n",
      " '272' '258' '237' '485' '211' '285' '401' '201' '257' '455' '457' '252'\n",
      " '446' '483' '276' '240' '428' '456' '221' '421' '424' '239' '293' '225'\n",
      " '271' '441' '425' '478' '413' '213' '260' '427' '236' '459' '286' '492']\n"
     ]
    },
    {
     "name": "stderr",
     "output_type": "stream",
     "text": [
      "100%|█████████████████████████████████████████| 20/20 [00:00<00:00, 2972.68it/s]\n"
     ]
    },
    {
     "name": "stdout",
     "output_type": "stream",
     "text": [
      "['1' '2' '3' '4' '5' '6' '7' '8' '9' '10' '11' '12' '13' '14' '15' '16'\n",
      " '17' '18' '19' '20' '432' '488' '486' '484' '419' '438' '454' '418' '410'\n",
      " '490' '477' '423' '412' '442' '406' '460' '447' '437' '449' '482' '499'\n",
      " '448' '408' '453' '497' '461' '434' '491' '498' '480' '471' '422' '407'\n",
      " '439' '405' '462' '445' '466' '436' '473' '409' '451' '468' '430' '431'\n",
      " '464' '470' '400' '426' '416' '493' '203' '200' '202' '495' '443' '248'\n",
      " '209' '297' '226' '245' '414' '234' '269' '479' '273' '210' '270' '452'\n",
      " '283' '217' '403' '465' '292' '278' '230' '249' '216' '220' '429' '207'\n",
      " '219' '233' '411' '250' '469' '232' '474' '281' '254' '287' '247' '263'\n",
      " '417' '288' '299' '296' '475' '494' '458' '275' '222' '404' '476' '467'\n",
      " '463' '291' '496' '450' '295' '487' '440' '481' '261' '294' '472' '267'\n",
      " '227' '415' '206' '241' '489' '224' '214' '282' '243' '244' '215' '235'\n",
      " '246' '274' '253' '402' '229' '433' '420' '435' '268' '264' '259' '444'\n",
      " '272' '258' '237' '485' '211' '285' '401' '201' '257' '455' '457' '252'\n",
      " '446' '483' '276' '240' '428' '456' '221' '421' '424' '239' '293' '225'\n",
      " '271' '441' '425' '478' '413' '213' '260' '427' '236' '459' '286' '492']\n"
     ]
    },
    {
     "name": "stderr",
     "output_type": "stream",
     "text": [
      "0it [00:00, ?it/s]\n"
     ]
    },
    {
     "name": "stdout",
     "output_type": "stream",
     "text": [
      "['1' '2' '3' '4' '5' '6' '7' '8' '9' '10' '11' '12' '13' '14' '15' '16'\n",
      " '17' '18' '19' '20' '432' '488' '486' '484' '419' '438' '454' '418' '410'\n",
      " '490' '477' '423' '412' '442' '406' '460' '447' '437' '449' '482' '499'\n",
      " '448' '408' '453' '497' '461' '434' '491' '498' '480' '471' '422' '407'\n",
      " '439' '405' '462' '445' '466' '436' '473' '409' '451' '468' '430' '431'\n",
      " '464' '470' '400' '426' '416' '493' '203' '200' '202' '495' '443' '248'\n",
      " '209' '297' '226' '245' '414' '234' '269' '479' '273' '210' '270' '452'\n",
      " '283' '217' '403' '465' '292' '278' '230' '249' '216' '220' '429' '207'\n",
      " '219' '233' '411' '250' '469' '232' '474' '281' '254' '287' '247' '263'\n",
      " '417' '288' '299' '296' '475' '494' '458' '275' '222' '404' '476' '467'\n",
      " '463' '291' '496' '450' '295' '487' '440' '481' '261' '294' '472' '267'\n",
      " '227' '415' '206' '241' '489' '224' '214' '282' '243' '244' '215' '235'\n",
      " '246' '274' '253' '402' '229' '433' '420' '435' '268' '264' '259' '444'\n",
      " '272' '258' '237' '485' '211' '285' '401' '201' '257' '455' '457' '252'\n",
      " '446' '483' '276' '240' '428' '456' '221' '421' '424' '239' '293' '225'\n",
      " '271' '441' '425' '478' '413' '213' '260' '427' '236' '459' '286' '492']\n"
     ]
    },
    {
     "name": "stderr",
     "output_type": "stream",
     "text": [
      "100%|██████████████████████████████████████████| 12/12 [00:00<00:00, 177.90it/s]\n"
     ]
    },
    {
     "name": "stdout",
     "output_type": "stream",
     "text": [
      "['1' '2' '3' '4' '5' '6' '7' '8' '9' '10' '11' '12' '13' '14' '15' '16'\n",
      " '17' '18' '19' '20' '432' '488' '486' '484' '419' '438' '454' '418' '410'\n",
      " '490' '477' '423' '412' '442' '406' '460' '447' '437' '449' '482' '499'\n",
      " '448' '408' '453' '497' '461' '434' '491' '498' '480' '471' '422' '407'\n",
      " '439' '405' '462' '445' '466' '436' '473' '409' '451' '468' '430' '431'\n",
      " '464' '470' '400' '426' '416' '493' '203' '200' '202' '495' '443' '248'\n",
      " '209' '297' '226' '245' '414' '234' '269' '479' '273' '210' '270' '452'\n",
      " '283' '217' '403' '465' '292' '278' '230' '249' '216' '220' '429' '207'\n",
      " '219' '233' '411' '250' '469' '232' '474' '281' '254' '287' '247' '263'\n",
      " '417' '288' '299' '296' '475' '494' '458' '275' '222' '404' '476' '467'\n",
      " '463' '291' '496' '450' '295' '487' '440' '481' '261' '294' '472' '267'\n",
      " '227' '415' '206' '241' '489' '224' '214' '282' '243' '244' '215' '235'\n",
      " '246' '274' '253' '402' '229' '433' '420' '435' '268' '264' '259' '444'\n",
      " '272' '258' '237' '485' '211' '285' '401' '201' '257' '455' '457' '252'\n",
      " '446' '483' '276' '240' '428' '456' '221' '421' '424' '239' '293' '225'\n",
      " '271' '441' '425' '478' '413' '213' '260' '427' '236' '459' '286' '492']\n"
     ]
    },
    {
     "name": "stderr",
     "output_type": "stream",
     "text": [
      "0it [00:00, ?it/s]\n"
     ]
    },
    {
     "name": "stdout",
     "output_type": "stream",
     "text": [
      "['1' '2' '3' '4' '5' '6' '7' '8' '9' '10' '11' '12' '13' '14' '15' '16'\n",
      " '17' '18' '19' '20' '432' '488' '486' '484' '419' '438' '454' '418' '410'\n",
      " '490' '477' '423' '412' '442' '406' '460' '447' '437' '449' '482' '499'\n",
      " '448' '408' '453' '497' '461' '434' '491' '498' '480' '471' '422' '407'\n",
      " '439' '405' '462' '445' '466' '436' '473' '409' '451' '468' '430' '431'\n",
      " '464' '470' '400' '426' '416' '493' '203' '200' '202' '495' '443' '248'\n",
      " '209' '297' '226' '245' '414' '234' '269' '479' '273' '210' '270' '452'\n",
      " '283' '217' '403' '465' '292' '278' '230' '249' '216' '220' '429' '207'\n",
      " '219' '233' '411' '250' '469' '232' '474' '281' '254' '287' '247' '263'\n",
      " '417' '288' '299' '296' '475' '494' '458' '275' '222' '404' '476' '467'\n",
      " '463' '291' '496' '450' '295' '487' '440' '481' '261' '294' '472' '267'\n",
      " '227' '415' '206' '241' '489' '224' '214' '282' '243' '244' '215' '235'\n",
      " '246' '274' '253' '402' '229' '433' '420' '435' '268' '264' '259' '444'\n",
      " '272' '258' '237' '485' '211' '285' '401' '201' '257' '455' '457' '252'\n",
      " '446' '483' '276' '240' '428' '456' '221' '421' '424' '239' '293' '225'\n",
      " '271' '441' '425' '478' '413' '213' '260' '427' '236' '459' '286' '492']\n"
     ]
    },
    {
     "name": "stderr",
     "output_type": "stream",
     "text": [
      "0it [00:00, ?it/s]\n"
     ]
    },
    {
     "name": "stdout",
     "output_type": "stream",
     "text": [
      "['1' '2' '3' '4' '5' '6' '7' '8' '9' '10' '11' '12' '13' '14' '15' '16'\n",
      " '17' '18' '19' '20' '432' '488' '486' '484' '419' '438' '454' '418' '410'\n",
      " '490' '477' '423' '412' '442' '406' '460' '447' '437' '449' '482' '499'\n",
      " '448' '408' '453' '497' '461' '434' '491' '498' '480' '471' '422' '407'\n",
      " '439' '405' '462' '445' '466' '436' '473' '409' '451' '468' '430' '431'\n",
      " '464' '470' '400' '426' '416' '493' '203' '200' '202' '495' '443' '248'\n",
      " '209' '297' '226' '245' '414' '234' '269' '479' '273' '210' '270' '452'\n",
      " '283' '217' '403' '465' '292' '278' '230' '249' '216' '220' '429' '207'\n",
      " '219' '233' '411' '250' '469' '232' '474' '281' '254' '287' '247' '263'\n",
      " '417' '288' '299' '296' '475' '494' '458' '275' '222' '404' '476' '467'\n",
      " '463' '291' '496' '450' '295' '487' '440' '481' '261' '294' '472' '267'\n",
      " '227' '415' '206' '241' '489' '224' '214' '282' '243' '244' '215' '235'\n",
      " '246' '274' '253' '402' '229' '433' '420' '435' '268' '264' '259' '444'\n",
      " '272' '258' '237' '485' '211' '285' '401' '201' '257' '455' '457' '252'\n",
      " '446' '483' '276' '240' '428' '456' '221' '421' '424' '239' '293' '225'\n",
      " '271' '441' '425' '478' '413' '213' '260' '427' '236' '459' '286' '492']\n"
     ]
    },
    {
     "name": "stderr",
     "output_type": "stream",
     "text": [
      "100%|█████████████████████████████████████████| 19/19 [00:00<00:00, 7683.36it/s]\n"
     ]
    },
    {
     "name": "stdout",
     "output_type": "stream",
     "text": [
      "['1' '2' '3' '4' '5' '6' '7' '8' '9' '10' '11' '12' '13' '14' '15' '16'\n",
      " '17' '18' '19' '20' '432' '488' '486' '484' '419' '438' '454' '418' '410'\n",
      " '490' '477' '423' '412' '442' '406' '460' '447' '437' '449' '482' '499'\n",
      " '448' '408' '453' '497' '461' '434' '491' '498' '480' '471' '422' '407'\n",
      " '439' '405' '462' '445' '466' '436' '473' '409' '451' '468' '430' '431'\n",
      " '464' '470' '400' '426' '416' '493' '203' '200' '202' '495' '443' '248'\n",
      " '209' '297' '226' '245' '414' '234' '269' '479' '273' '210' '270' '452'\n",
      " '283' '217' '403' '465' '292' '278' '230' '249' '216' '220' '429' '207'\n",
      " '219' '233' '411' '250' '469' '232' '474' '281' '254' '287' '247' '263'\n",
      " '417' '288' '299' '296' '475' '494' '458' '275' '222' '404' '476' '467'\n",
      " '463' '291' '496' '450' '295' '487' '440' '481' '261' '294' '472' '267'\n",
      " '227' '415' '206' '241' '489' '224' '214' '282' '243' '244' '215' '235'\n",
      " '246' '274' '253' '402' '229' '433' '420' '435' '268' '264' '259' '444'\n",
      " '272' '258' '237' '485' '211' '285' '401' '201' '257' '455' '457' '252'\n",
      " '446' '483' '276' '240' '428' '456' '221' '421' '424' '239' '293' '225'\n",
      " '271' '441' '425' '478' '413' '213' '260' '427' '236' '459' '286' '492']\n"
     ]
    },
    {
     "name": "stderr",
     "output_type": "stream",
     "text": [
      "0it [00:00, ?it/s]\n"
     ]
    },
    {
     "name": "stdout",
     "output_type": "stream",
     "text": [
      "['1' '2' '3' '4' '5' '6' '7' '8' '9' '10' '11' '12' '13' '14' '15' '16'\n",
      " '17' '18' '19' '20' '432' '488' '486' '484' '419' '438' '454' '418' '410'\n",
      " '490' '477' '423' '412' '442' '406' '460' '447' '437' '449' '482' '499'\n",
      " '448' '408' '453' '497' '461' '434' '491' '498' '480' '471' '422' '407'\n",
      " '439' '405' '462' '445' '466' '436' '473' '409' '451' '468' '430' '431'\n",
      " '464' '470' '400' '426' '416' '493' '203' '200' '202' '495' '443' '248'\n",
      " '209' '297' '226' '245' '414' '234' '269' '479' '273' '210' '270' '452'\n",
      " '283' '217' '403' '465' '292' '278' '230' '249' '216' '220' '429' '207'\n",
      " '219' '233' '411' '250' '469' '232' '474' '281' '254' '287' '247' '263'\n",
      " '417' '288' '299' '296' '475' '494' '458' '275' '222' '404' '476' '467'\n",
      " '463' '291' '496' '450' '295' '487' '440' '481' '261' '294' '472' '267'\n",
      " '227' '415' '206' '241' '489' '224' '214' '282' '243' '244' '215' '235'\n",
      " '246' '274' '253' '402' '229' '433' '420' '435' '268' '264' '259' '444'\n",
      " '272' '258' '237' '485' '211' '285' '401' '201' '257' '455' '457' '252'\n",
      " '446' '483' '276' '240' '428' '456' '221' '421' '424' '239' '293' '225'\n",
      " '271' '441' '425' '478' '413' '213' '260' '427' '236' '459' '286' '492']\n"
     ]
    },
    {
     "name": "stderr",
     "output_type": "stream",
     "text": [
      "0it [00:00, ?it/s]\n"
     ]
    },
    {
     "name": "stdout",
     "output_type": "stream",
     "text": [
      "['1' '2' '3' '4' '5' '6' '7' '8' '9' '10' '11' '12' '13' '14' '15' '16'\n",
      " '17' '18' '19' '20' '432' '488' '486' '484' '419' '438' '454' '418' '410'\n",
      " '490' '477' '423' '412' '442' '406' '460' '447' '437' '449' '482' '499'\n",
      " '448' '408' '453' '497' '461' '434' '491' '498' '480' '471' '422' '407'\n",
      " '439' '405' '462' '445' '466' '436' '473' '409' '451' '468' '430' '431'\n",
      " '464' '470' '400' '426' '416' '493' '203' '200' '202' '495' '443' '248'\n",
      " '209' '297' '226' '245' '414' '234' '269' '479' '273' '210' '270' '452'\n",
      " '283' '217' '403' '465' '292' '278' '230' '249' '216' '220' '429' '207'\n",
      " '219' '233' '411' '250' '469' '232' '474' '281' '254' '287' '247' '263'\n",
      " '417' '288' '299' '296' '475' '494' '458' '275' '222' '404' '476' '467'\n",
      " '463' '291' '496' '450' '295' '487' '440' '481' '261' '294' '472' '267'\n",
      " '227' '415' '206' '241' '489' '224' '214' '282' '243' '244' '215' '235'\n",
      " '246' '274' '253' '402' '229' '433' '420' '435' '268' '264' '259' '444'\n",
      " '272' '258' '237' '485' '211' '285' '401' '201' '257' '455' '457' '252'\n",
      " '446' '483' '276' '240' '428' '456' '221' '421' '424' '239' '293' '225'\n",
      " '271' '441' '425' '478' '413' '213' '260' '427' '236' '459' '286' '492']\n"
     ]
    },
    {
     "name": "stderr",
     "output_type": "stream",
     "text": [
      "0it [00:00, ?it/s]\n"
     ]
    },
    {
     "name": "stdout",
     "output_type": "stream",
     "text": [
      "['1' '2' '3' '4' '5' '6' '7' '8' '9' '10' '11' '12' '13' '14' '15' '16'\n",
      " '17' '18' '19' '20' '432' '488' '486' '484' '419' '438' '454' '418' '410'\n",
      " '490' '477' '423' '412' '442' '406' '460' '447' '437' '449' '482' '499'\n",
      " '448' '408' '453' '497' '461' '434' '491' '498' '480' '471' '422' '407'\n",
      " '439' '405' '462' '445' '466' '436' '473' '409' '451' '468' '430' '431'\n",
      " '464' '470' '400' '426' '416' '493' '203' '200' '202' '495' '443' '248'\n",
      " '209' '297' '226' '245' '414' '234' '269' '479' '273' '210' '270' '452'\n",
      " '283' '217' '403' '465' '292' '278' '230' '249' '216' '220' '429' '207'\n",
      " '219' '233' '411' '250' '469' '232' '474' '281' '254' '287' '247' '263'\n",
      " '417' '288' '299' '296' '475' '494' '458' '275' '222' '404' '476' '467'\n",
      " '463' '291' '496' '450' '295' '487' '440' '481' '261' '294' '472' '267'\n",
      " '227' '415' '206' '241' '489' '224' '214' '282' '243' '244' '215' '235'\n",
      " '246' '274' '253' '402' '229' '433' '420' '435' '268' '264' '259' '444'\n",
      " '272' '258' '237' '485' '211' '285' '401' '201' '257' '455' '457' '252'\n",
      " '446' '483' '276' '240' '428' '456' '221' '421' '424' '239' '293' '225'\n",
      " '271' '441' '425' '478' '413' '213' '260' '427' '236' '459' '286' '492']\n"
     ]
    },
    {
     "name": "stderr",
     "output_type": "stream",
     "text": [
      "100%|██████████████████████████████████████████| 12/12 [00:00<00:00, 182.79it/s]\n"
     ]
    },
    {
     "name": "stdout",
     "output_type": "stream",
     "text": [
      "['1' '2' '3' '4' '5' '6' '7' '8' '9' '10' '11' '12' '13' '14' '15' '16'\n",
      " '17' '18' '19' '20' '432' '488' '486' '484' '419' '438' '454' '418' '410'\n",
      " '490' '477' '423' '412' '442' '406' '460' '447' '437' '449' '482' '499'\n",
      " '448' '408' '453' '497' '461' '434' '491' '498' '480' '471' '422' '407'\n",
      " '439' '405' '462' '445' '466' '436' '473' '409' '451' '468' '430' '431'\n",
      " '464' '470' '400' '426' '416' '493' '203' '200' '202' '495' '443' '248'\n",
      " '209' '297' '226' '245' '414' '234' '269' '479' '273' '210' '270' '452'\n",
      " '283' '217' '403' '465' '292' '278' '230' '249' '216' '220' '429' '207'\n",
      " '219' '233' '411' '250' '469' '232' '474' '281' '254' '287' '247' '263'\n",
      " '417' '288' '299' '296' '475' '494' '458' '275' '222' '404' '476' '467'\n",
      " '463' '291' '496' '450' '295' '487' '440' '481' '261' '294' '472' '267'\n",
      " '227' '415' '206' '241' '489' '224' '214' '282' '243' '244' '215' '235'\n",
      " '246' '274' '253' '402' '229' '433' '420' '435' '268' '264' '259' '444'\n",
      " '272' '258' '237' '485' '211' '285' '401' '201' '257' '455' '457' '252'\n",
      " '446' '483' '276' '240' '428' '456' '221' '421' '424' '239' '293' '225'\n",
      " '271' '441' '425' '478' '413' '213' '260' '427' '236' '459' '286' '492']\n"
     ]
    },
    {
     "name": "stderr",
     "output_type": "stream",
     "text": [
      "0it [00:00, ?it/s]\n"
     ]
    },
    {
     "name": "stdout",
     "output_type": "stream",
     "text": [
      "['1' '2' '3' '4' '5' '6' '7' '8' '9' '10' '11' '12' '13' '14' '15' '16'\n",
      " '17' '18' '19' '20' '432' '488' '486' '484' '419' '438' '454' '418' '410'\n",
      " '490' '477' '423' '412' '442' '406' '460' '447' '437' '449' '482' '499'\n",
      " '448' '408' '453' '497' '461' '434' '491' '498' '480' '471' '422' '407'\n",
      " '439' '405' '462' '445' '466' '436' '473' '409' '451' '468' '430' '431'\n",
      " '464' '470' '400' '426' '416' '493' '203' '200' '202' '495' '443' '248'\n",
      " '209' '297' '226' '245' '414' '234' '269' '479' '273' '210' '270' '452'\n",
      " '283' '217' '403' '465' '292' '278' '230' '249' '216' '220' '429' '207'\n",
      " '219' '233' '411' '250' '469' '232' '474' '281' '254' '287' '247' '263'\n",
      " '417' '288' '299' '296' '475' '494' '458' '275' '222' '404' '476' '467'\n",
      " '463' '291' '496' '450' '295' '487' '440' '481' '261' '294' '472' '267'\n",
      " '227' '415' '206' '241' '489' '224' '214' '282' '243' '244' '215' '235'\n",
      " '246' '274' '253' '402' '229' '433' '420' '435' '268' '264' '259' '444'\n",
      " '272' '258' '237' '485' '211' '285' '401' '201' '257' '455' '457' '252'\n",
      " '446' '483' '276' '240' '428' '456' '221' '421' '424' '239' '293' '225'\n",
      " '271' '441' '425' '478' '413' '213' '260' '427' '236' '459' '286' '492']\n"
     ]
    },
    {
     "name": "stderr",
     "output_type": "stream",
     "text": [
      "0it [00:00, ?it/s]\n"
     ]
    },
    {
     "name": "stdout",
     "output_type": "stream",
     "text": [
      "['1' '2' '3' '4' '5' '6' '7' '8' '9' '10' '11' '12' '13' '14' '15' '16'\n",
      " '17' '18' '19' '20' '432' '488' '486' '484' '419' '438' '454' '418' '410'\n",
      " '490' '477' '423' '412' '442' '406' '460' '447' '437' '449' '482' '499'\n",
      " '448' '408' '453' '497' '461' '434' '491' '498' '480' '471' '422' '407'\n",
      " '439' '405' '462' '445' '466' '436' '473' '409' '451' '468' '430' '431'\n",
      " '464' '470' '400' '426' '416' '493' '203' '200' '202' '495' '443' '248'\n",
      " '209' '297' '226' '245' '414' '234' '269' '479' '273' '210' '270' '452'\n",
      " '283' '217' '403' '465' '292' '278' '230' '249' '216' '220' '429' '207'\n",
      " '219' '233' '411' '250' '469' '232' '474' '281' '254' '287' '247' '263'\n",
      " '417' '288' '299' '296' '475' '494' '458' '275' '222' '404' '476' '467'\n",
      " '463' '291' '496' '450' '295' '487' '440' '481' '261' '294' '472' '267'\n",
      " '227' '415' '206' '241' '489' '224' '214' '282' '243' '244' '215' '235'\n",
      " '246' '274' '253' '402' '229' '433' '420' '435' '268' '264' '259' '444'\n",
      " '272' '258' '237' '485' '211' '285' '401' '201' '257' '455' '457' '252'\n",
      " '446' '483' '276' '240' '428' '456' '221' '421' '424' '239' '293' '225'\n",
      " '271' '441' '425' '478' '413' '213' '260' '427' '236' '459' '286' '492']\n"
     ]
    },
    {
     "name": "stderr",
     "output_type": "stream",
     "text": [
      "100%|█████████████████████████████████████████| 19/19 [00:00<00:00, 8253.94it/s]\n"
     ]
    },
    {
     "name": "stdout",
     "output_type": "stream",
     "text": [
      "['1' '2' '3' '4' '5' '6' '7' '8' '9' '10' '11' '12' '13' '14' '15' '16'\n",
      " '17' '18' '19' '20' '432' '488' '486' '484' '419' '438' '454' '418' '410'\n",
      " '490' '477' '423' '412' '442' '406' '460' '447' '437' '449' '482' '499'\n",
      " '448' '408' '453' '497' '461' '434' '491' '498' '480' '471' '422' '407'\n",
      " '439' '405' '462' '445' '466' '436' '473' '409' '451' '468' '430' '431'\n",
      " '464' '470' '400' '426' '416' '493' '203' '200' '202' '495' '443' '248'\n",
      " '209' '297' '226' '245' '414' '234' '269' '479' '273' '210' '270' '452'\n",
      " '283' '217' '403' '465' '292' '278' '230' '249' '216' '220' '429' '207'\n",
      " '219' '233' '411' '250' '469' '232' '474' '281' '254' '287' '247' '263'\n",
      " '417' '288' '299' '296' '475' '494' '458' '275' '222' '404' '476' '467'\n",
      " '463' '291' '496' '450' '295' '487' '440' '481' '261' '294' '472' '267'\n",
      " '227' '415' '206' '241' '489' '224' '214' '282' '243' '244' '215' '235'\n",
      " '246' '274' '253' '402' '229' '433' '420' '435' '268' '264' '259' '444'\n",
      " '272' '258' '237' '485' '211' '285' '401' '201' '257' '455' '457' '252'\n",
      " '446' '483' '276' '240' '428' '456' '221' '421' '424' '239' '293' '225'\n",
      " '271' '441' '425' '478' '413' '213' '260' '427' '236' '459' '286' '492']\n"
     ]
    },
    {
     "name": "stderr",
     "output_type": "stream",
     "text": [
      "0it [00:00, ?it/s]\n"
     ]
    },
    {
     "name": "stdout",
     "output_type": "stream",
     "text": [
      "['1' '2' '3' '4' '5' '6' '7' '8' '9' '10' '11' '12' '13' '14' '15' '16'\n",
      " '17' '18' '19' '20' '432' '488' '486' '484' '419' '438' '454' '418' '410'\n",
      " '490' '477' '423' '412' '442' '406' '460' '447' '437' '449' '482' '499'\n",
      " '448' '408' '453' '497' '461' '434' '491' '498' '480' '471' '422' '407'\n",
      " '439' '405' '462' '445' '466' '436' '473' '409' '451' '468' '430' '431'\n",
      " '464' '470' '400' '426' '416' '493' '203' '200' '202' '495' '443' '248'\n",
      " '209' '297' '226' '245' '414' '234' '269' '479' '273' '210' '270' '452'\n",
      " '283' '217' '403' '465' '292' '278' '230' '249' '216' '220' '429' '207'\n",
      " '219' '233' '411' '250' '469' '232' '474' '281' '254' '287' '247' '263'\n",
      " '417' '288' '299' '296' '475' '494' '458' '275' '222' '404' '476' '467'\n",
      " '463' '291' '496' '450' '295' '487' '440' '481' '261' '294' '472' '267'\n",
      " '227' '415' '206' '241' '489' '224' '214' '282' '243' '244' '215' '235'\n",
      " '246' '274' '253' '402' '229' '433' '420' '435' '268' '264' '259' '444'\n",
      " '272' '258' '237' '485' '211' '285' '401' '201' '257' '455' '457' '252'\n",
      " '446' '483' '276' '240' '428' '456' '221' '421' '424' '239' '293' '225'\n",
      " '271' '441' '425' '478' '413' '213' '260' '427' '236' '459' '286' '492']\n"
     ]
    },
    {
     "name": "stderr",
     "output_type": "stream",
     "text": [
      "0it [00:00, ?it/s]\n"
     ]
    },
    {
     "name": "stdout",
     "output_type": "stream",
     "text": [
      "['1' '2' '3' '4' '5' '6' '7' '8' '9' '10' '11' '12' '13' '14' '15' '16'\n",
      " '17' '18' '19' '20' '432' '488' '486' '484' '419' '438' '454' '418' '410'\n",
      " '490' '477' '423' '412' '442' '406' '460' '447' '437' '449' '482' '499'\n",
      " '448' '408' '453' '497' '461' '434' '491' '498' '480' '471' '422' '407'\n",
      " '439' '405' '462' '445' '466' '436' '473' '409' '451' '468' '430' '431'\n",
      " '464' '470' '400' '426' '416' '493' '203' '200' '202' '495' '443' '248'\n",
      " '209' '297' '226' '245' '414' '234' '269' '479' '273' '210' '270' '452'\n",
      " '283' '217' '403' '465' '292' '278' '230' '249' '216' '220' '429' '207'\n",
      " '219' '233' '411' '250' '469' '232' '474' '281' '254' '287' '247' '263'\n",
      " '417' '288' '299' '296' '475' '494' '458' '275' '222' '404' '476' '467'\n",
      " '463' '291' '496' '450' '295' '487' '440' '481' '261' '294' '472' '267'\n",
      " '227' '415' '206' '241' '489' '224' '214' '282' '243' '244' '215' '235'\n",
      " '246' '274' '253' '402' '229' '433' '420' '435' '268' '264' '259' '444'\n",
      " '272' '258' '237' '485' '211' '285' '401' '201' '257' '455' '457' '252'\n",
      " '446' '483' '276' '240' '428' '456' '221' '421' '424' '239' '293' '225'\n",
      " '271' '441' '425' '478' '413' '213' '260' '427' '236' '459' '286' '492']\n"
     ]
    },
    {
     "name": "stderr",
     "output_type": "stream",
     "text": [
      "0it [00:00, ?it/s]\n"
     ]
    },
    {
     "name": "stdout",
     "output_type": "stream",
     "text": [
      "['1' '2' '3' '4' '5' '6' '7' '8' '9' '10' '11' '12' '13' '14' '15' '16'\n",
      " '17' '18' '19' '20' '432' '488' '486' '484' '419' '438' '454' '418' '410'\n",
      " '490' '477' '423' '412' '442' '406' '460' '447' '437' '449' '482' '499'\n",
      " '448' '408' '453' '497' '461' '434' '491' '498' '480' '471' '422' '407'\n",
      " '439' '405' '462' '445' '466' '436' '473' '409' '451' '468' '430' '431'\n",
      " '464' '470' '400' '426' '416' '493' '203' '200' '202' '495' '443' '248'\n",
      " '209' '297' '226' '245' '414' '234' '269' '479' '273' '210' '270' '452'\n",
      " '283' '217' '403' '465' '292' '278' '230' '249' '216' '220' '429' '207'\n",
      " '219' '233' '411' '250' '469' '232' '474' '281' '254' '287' '247' '263'\n",
      " '417' '288' '299' '296' '475' '494' '458' '275' '222' '404' '476' '467'\n",
      " '463' '291' '496' '450' '295' '487' '440' '481' '261' '294' '472' '267'\n",
      " '227' '415' '206' '241' '489' '224' '214' '282' '243' '244' '215' '235'\n",
      " '246' '274' '253' '402' '229' '433' '420' '435' '268' '264' '259' '444'\n",
      " '272' '258' '237' '485' '211' '285' '401' '201' '257' '455' '457' '252'\n",
      " '446' '483' '276' '240' '428' '456' '221' '421' '424' '239' '293' '225'\n",
      " '271' '441' '425' '478' '413' '213' '260' '427' '236' '459' '286' '492']\n"
     ]
    },
    {
     "name": "stderr",
     "output_type": "stream",
     "text": [
      "0it [00:00, ?it/s]\n"
     ]
    },
    {
     "name": "stdout",
     "output_type": "stream",
     "text": [
      "['1' '2' '3' '4' '5' '6' '7' '8' '9' '10' '11' '12' '13' '14' '15' '16'\n",
      " '17' '18' '19' '20' '432' '488' '486' '484' '419' '438' '454' '418' '410'\n",
      " '490' '477' '423' '412' '442' '406' '460' '447' '437' '449' '482' '499'\n",
      " '448' '408' '453' '497' '461' '434' '491' '498' '480' '471' '422' '407'\n",
      " '439' '405' '462' '445' '466' '436' '473' '409' '451' '468' '430' '431'\n",
      " '464' '470' '400' '426' '416' '493' '203' '200' '202' '495' '443' '248'\n",
      " '209' '297' '226' '245' '414' '234' '269' '479' '273' '210' '270' '452'\n",
      " '283' '217' '403' '465' '292' '278' '230' '249' '216' '220' '429' '207'\n",
      " '219' '233' '411' '250' '469' '232' '474' '281' '254' '287' '247' '263'\n",
      " '417' '288' '299' '296' '475' '494' '458' '275' '222' '404' '476' '467'\n",
      " '463' '291' '496' '450' '295' '487' '440' '481' '261' '294' '472' '267'\n",
      " '227' '415' '206' '241' '489' '224' '214' '282' '243' '244' '215' '235'\n",
      " '246' '274' '253' '402' '229' '433' '420' '435' '268' '264' '259' '444'\n",
      " '272' '258' '237' '485' '211' '285' '401' '201' '257' '455' '457' '252'\n",
      " '446' '483' '276' '240' '428' '456' '221' '421' '424' '239' '293' '225'\n",
      " '271' '441' '425' '478' '413' '213' '260' '427' '236' '459' '286' '492']\n"
     ]
    },
    {
     "name": "stderr",
     "output_type": "stream",
     "text": [
      "0it [00:00, ?it/s]\n"
     ]
    },
    {
     "name": "stdout",
     "output_type": "stream",
     "text": [
      "['1' '2' '3' '4' '5' '6' '7' '8' '9' '10' '11' '12' '13' '14' '15' '16'\n",
      " '17' '18' '19' '20' '432' '488' '486' '484' '419' '438' '454' '418' '410'\n",
      " '490' '477' '423' '412' '442' '406' '460' '447' '437' '449' '482' '499'\n",
      " '448' '408' '453' '497' '461' '434' '491' '498' '480' '471' '422' '407'\n",
      " '439' '405' '462' '445' '466' '436' '473' '409' '451' '468' '430' '431'\n",
      " '464' '470' '400' '426' '416' '493' '203' '200' '202' '495' '443' '248'\n",
      " '209' '297' '226' '245' '414' '234' '269' '479' '273' '210' '270' '452'\n",
      " '283' '217' '403' '465' '292' '278' '230' '249' '216' '220' '429' '207'\n",
      " '219' '233' '411' '250' '469' '232' '474' '281' '254' '287' '247' '263'\n",
      " '417' '288' '299' '296' '475' '494' '458' '275' '222' '404' '476' '467'\n",
      " '463' '291' '496' '450' '295' '487' '440' '481' '261' '294' '472' '267'\n",
      " '227' '415' '206' '241' '489' '224' '214' '282' '243' '244' '215' '235'\n",
      " '246' '274' '253' '402' '229' '433' '420' '435' '268' '264' '259' '444'\n",
      " '272' '258' '237' '485' '211' '285' '401' '201' '257' '455' '457' '252'\n",
      " '446' '483' '276' '240' '428' '456' '221' '421' '424' '239' '293' '225'\n",
      " '271' '441' '425' '478' '413' '213' '260' '427' '236' '459' '286' '492']\n"
     ]
    },
    {
     "name": "stderr",
     "output_type": "stream",
     "text": [
      "100%|█████████████████████████████████████████| 21/21 [00:00<00:00, 3439.30it/s]\n"
     ]
    },
    {
     "name": "stdout",
     "output_type": "stream",
     "text": [
      "['1' '2' '3' '4' '5' '6' '7' '8' '9' '10' '11' '12' '13' '14' '15' '16'\n",
      " '17' '18' '19' '20' '432' '488' '486' '484' '419' '438' '454' '418' '410'\n",
      " '490' '477' '423' '412' '442' '406' '460' '447' '437' '449' '482' '499'\n",
      " '448' '408' '453' '497' '461' '434' '491' '498' '480' '471' '422' '407'\n",
      " '439' '405' '462' '445' '466' '436' '473' '409' '451' '468' '430' '431'\n",
      " '464' '470' '400' '426' '416' '493' '203' '200' '202' '495' '443' '248'\n",
      " '209' '297' '226' '245' '414' '234' '269' '479' '273' '210' '270' '452'\n",
      " '283' '217' '403' '465' '292' '278' '230' '249' '216' '220' '429' '207'\n",
      " '219' '233' '411' '250' '469' '232' '474' '281' '254' '287' '247' '263'\n",
      " '417' '288' '299' '296' '475' '494' '458' '275' '222' '404' '476' '467'\n",
      " '463' '291' '496' '450' '295' '487' '440' '481' '261' '294' '472' '267'\n",
      " '227' '415' '206' '241' '489' '224' '214' '282' '243' '244' '215' '235'\n",
      " '246' '274' '253' '402' '229' '433' '420' '435' '268' '264' '259' '444'\n",
      " '272' '258' '237' '485' '211' '285' '401' '201' '257' '455' '457' '252'\n",
      " '446' '483' '276' '240' '428' '456' '221' '421' '424' '239' '293' '225'\n",
      " '271' '441' '425' '478' '413' '213' '260' '427' '236' '459' '286' '492']\n"
     ]
    },
    {
     "name": "stderr",
     "output_type": "stream",
     "text": [
      "0it [00:00, ?it/s]\n"
     ]
    },
    {
     "name": "stdout",
     "output_type": "stream",
     "text": [
      "['1' '2' '3' '4' '5' '6' '7' '8' '9' '10' '11' '12' '13' '14' '15' '16'\n",
      " '17' '18' '19' '20' '432' '488' '486' '484' '419' '438' '454' '418' '410'\n",
      " '490' '477' '423' '412' '442' '406' '460' '447' '437' '449' '482' '499'\n",
      " '448' '408' '453' '497' '461' '434' '491' '498' '480' '471' '422' '407'\n",
      " '439' '405' '462' '445' '466' '436' '473' '409' '451' '468' '430' '431'\n",
      " '464' '470' '400' '426' '416' '493' '203' '200' '202' '495' '443' '248'\n",
      " '209' '297' '226' '245' '414' '234' '269' '479' '273' '210' '270' '452'\n",
      " '283' '217' '403' '465' '292' '278' '230' '249' '216' '220' '429' '207'\n",
      " '219' '233' '411' '250' '469' '232' '474' '281' '254' '287' '247' '263'\n",
      " '417' '288' '299' '296' '475' '494' '458' '275' '222' '404' '476' '467'\n",
      " '463' '291' '496' '450' '295' '487' '440' '481' '261' '294' '472' '267'\n",
      " '227' '415' '206' '241' '489' '224' '214' '282' '243' '244' '215' '235'\n",
      " '246' '274' '253' '402' '229' '433' '420' '435' '268' '264' '259' '444'\n",
      " '272' '258' '237' '485' '211' '285' '401' '201' '257' '455' '457' '252'\n",
      " '446' '483' '276' '240' '428' '456' '221' '421' '424' '239' '293' '225'\n",
      " '271' '441' '425' '478' '413' '213' '260' '427' '236' '459' '286' '492']\n"
     ]
    },
    {
     "name": "stderr",
     "output_type": "stream",
     "text": [
      "100%|█████████████████████████████████████████| 20/20 [00:00<00:00, 3301.43it/s]\n"
     ]
    },
    {
     "name": "stdout",
     "output_type": "stream",
     "text": [
      "['1' '2' '3' '4' '5' '6' '7' '8' '9' '10' '11' '12' '13' '14' '15' '16'\n",
      " '17' '18' '19' '20' '432' '488' '486' '484' '419' '438' '454' '418' '410'\n",
      " '490' '477' '423' '412' '442' '406' '460' '447' '437' '449' '482' '499'\n",
      " '448' '408' '453' '497' '461' '434' '491' '498' '480' '471' '422' '407'\n",
      " '439' '405' '462' '445' '466' '436' '473' '409' '451' '468' '430' '431'\n",
      " '464' '470' '400' '426' '416' '493' '203' '200' '202' '495' '443' '248'\n",
      " '209' '297' '226' '245' '414' '234' '269' '479' '273' '210' '270' '452'\n",
      " '283' '217' '403' '465' '292' '278' '230' '249' '216' '220' '429' '207'\n",
      " '219' '233' '411' '250' '469' '232' '474' '281' '254' '287' '247' '263'\n",
      " '417' '288' '299' '296' '475' '494' '458' '275' '222' '404' '476' '467'\n",
      " '463' '291' '496' '450' '295' '487' '440' '481' '261' '294' '472' '267'\n",
      " '227' '415' '206' '241' '489' '224' '214' '282' '243' '244' '215' '235'\n",
      " '246' '274' '253' '402' '229' '433' '420' '435' '268' '264' '259' '444'\n",
      " '272' '258' '237' '485' '211' '285' '401' '201' '257' '455' '457' '252'\n",
      " '446' '483' '276' '240' '428' '456' '221' '421' '424' '239' '293' '225'\n",
      " '271' '441' '425' '478' '413' '213' '260' '427' '236' '459' '286' '492']\n"
     ]
    },
    {
     "name": "stderr",
     "output_type": "stream",
     "text": [
      "0it [00:00, ?it/s]\n"
     ]
    },
    {
     "name": "stdout",
     "output_type": "stream",
     "text": [
      "['1' '2' '3' '4' '5' '6' '7' '8' '9' '10' '11' '12' '13' '14' '15' '16'\n",
      " '17' '18' '19' '20' '432' '488' '486' '484' '419' '438' '454' '418' '410'\n",
      " '490' '477' '423' '412' '442' '406' '460' '447' '437' '449' '482' '499'\n",
      " '448' '408' '453' '497' '461' '434' '491' '498' '480' '471' '422' '407'\n",
      " '439' '405' '462' '445' '466' '436' '473' '409' '451' '468' '430' '431'\n",
      " '464' '470' '400' '426' '416' '493' '203' '200' '202' '495' '443' '248'\n",
      " '209' '297' '226' '245' '414' '234' '269' '479' '273' '210' '270' '452'\n",
      " '283' '217' '403' '465' '292' '278' '230' '249' '216' '220' '429' '207'\n",
      " '219' '233' '411' '250' '469' '232' '474' '281' '254' '287' '247' '263'\n",
      " '417' '288' '299' '296' '475' '494' '458' '275' '222' '404' '476' '467'\n",
      " '463' '291' '496' '450' '295' '487' '440' '481' '261' '294' '472' '267'\n",
      " '227' '415' '206' '241' '489' '224' '214' '282' '243' '244' '215' '235'\n",
      " '246' '274' '253' '402' '229' '433' '420' '435' '268' '264' '259' '444'\n",
      " '272' '258' '237' '485' '211' '285' '401' '201' '257' '455' '457' '252'\n",
      " '446' '483' '276' '240' '428' '456' '221' '421' '424' '239' '293' '225'\n",
      " '271' '441' '425' '478' '413' '213' '260' '427' '236' '459' '286' '492']\n"
     ]
    },
    {
     "name": "stderr",
     "output_type": "stream",
     "text": [
      "0it [00:00, ?it/s]\n"
     ]
    },
    {
     "name": "stdout",
     "output_type": "stream",
     "text": [
      "['1' '2' '3' '4' '5' '6' '7' '8' '9' '10' '11' '12' '13' '14' '15' '16'\n",
      " '17' '18' '19' '20' '432' '488' '486' '484' '419' '438' '454' '418' '410'\n",
      " '490' '477' '423' '412' '442' '406' '460' '447' '437' '449' '482' '499'\n",
      " '448' '408' '453' '497' '461' '434' '491' '498' '480' '471' '422' '407'\n",
      " '439' '405' '462' '445' '466' '436' '473' '409' '451' '468' '430' '431'\n",
      " '464' '470' '400' '426' '416' '493' '203' '200' '202' '495' '443' '248'\n",
      " '209' '297' '226' '245' '414' '234' '269' '479' '273' '210' '270' '452'\n",
      " '283' '217' '403' '465' '292' '278' '230' '249' '216' '220' '429' '207'\n",
      " '219' '233' '411' '250' '469' '232' '474' '281' '254' '287' '247' '263'\n",
      " '417' '288' '299' '296' '475' '494' '458' '275' '222' '404' '476' '467'\n",
      " '463' '291' '496' '450' '295' '487' '440' '481' '261' '294' '472' '267'\n",
      " '227' '415' '206' '241' '489' '224' '214' '282' '243' '244' '215' '235'\n",
      " '246' '274' '253' '402' '229' '433' '420' '435' '268' '264' '259' '444'\n",
      " '272' '258' '237' '485' '211' '285' '401' '201' '257' '455' '457' '252'\n",
      " '446' '483' '276' '240' '428' '456' '221' '421' '424' '239' '293' '225'\n",
      " '271' '441' '425' '478' '413' '213' '260' '427' '236' '459' '286' '492']\n"
     ]
    },
    {
     "name": "stderr",
     "output_type": "stream",
     "text": [
      "100%|█████████████████████████████████████████| 22/22 [00:00<00:00, 5220.93it/s]\n"
     ]
    },
    {
     "name": "stdout",
     "output_type": "stream",
     "text": [
      "['1' '2' '3' '4' '5' '6' '7' '8' '9' '10' '11' '12' '13' '14' '15' '16'\n",
      " '17' '18' '19' '20' '432' '488' '486' '484' '419' '438' '454' '418' '410'\n",
      " '490' '477' '423' '412' '442' '406' '460' '447' '437' '449' '482' '499'\n",
      " '448' '408' '453' '497' '461' '434' '491' '498' '480' '471' '422' '407'\n",
      " '439' '405' '462' '445' '466' '436' '473' '409' '451' '468' '430' '431'\n",
      " '464' '470' '400' '426' '416' '493' '203' '200' '202' '495' '443' '248'\n",
      " '209' '297' '226' '245' '414' '234' '269' '479' '273' '210' '270' '452'\n",
      " '283' '217' '403' '465' '292' '278' '230' '249' '216' '220' '429' '207'\n",
      " '219' '233' '411' '250' '469' '232' '474' '281' '254' '287' '247' '263'\n",
      " '417' '288' '299' '296' '475' '494' '458' '275' '222' '404' '476' '467'\n",
      " '463' '291' '496' '450' '295' '487' '440' '481' '261' '294' '472' '267'\n",
      " '227' '415' '206' '241' '489' '224' '214' '282' '243' '244' '215' '235'\n",
      " '246' '274' '253' '402' '229' '433' '420' '435' '268' '264' '259' '444'\n",
      " '272' '258' '237' '485' '211' '285' '401' '201' '257' '455' '457' '252'\n",
      " '446' '483' '276' '240' '428' '456' '221' '421' '424' '239' '293' '225'\n",
      " '271' '441' '425' '478' '413' '213' '260' '427' '236' '459' '286' '492']\n"
     ]
    },
    {
     "name": "stderr",
     "output_type": "stream",
     "text": [
      "100%|█████████████████████████████████████████| 19/19 [00:00<00:00, 8050.49it/s]\n"
     ]
    },
    {
     "name": "stdout",
     "output_type": "stream",
     "text": [
      "['1' '2' '3' '4' '5' '6' '7' '8' '9' '10' '11' '12' '13' '14' '15' '16'\n",
      " '17' '18' '19' '20' '432' '488' '486' '484' '419' '438' '454' '418' '410'\n",
      " '490' '477' '423' '412' '442' '406' '460' '447' '437' '449' '482' '499'\n",
      " '448' '408' '453' '497' '461' '434' '491' '498' '480' '471' '422' '407'\n",
      " '439' '405' '462' '445' '466' '436' '473' '409' '451' '468' '430' '431'\n",
      " '464' '470' '400' '426' '416' '493' '203' '200' '202' '495' '443' '248'\n",
      " '209' '297' '226' '245' '414' '234' '269' '479' '273' '210' '270' '452'\n",
      " '283' '217' '403' '465' '292' '278' '230' '249' '216' '220' '429' '207'\n",
      " '219' '233' '411' '250' '469' '232' '474' '281' '254' '287' '247' '263'\n",
      " '417' '288' '299' '296' '475' '494' '458' '275' '222' '404' '476' '467'\n",
      " '463' '291' '496' '450' '295' '487' '440' '481' '261' '294' '472' '267'\n",
      " '227' '415' '206' '241' '489' '224' '214' '282' '243' '244' '215' '235'\n",
      " '246' '274' '253' '402' '229' '433' '420' '435' '268' '264' '259' '444'\n",
      " '272' '258' '237' '485' '211' '285' '401' '201' '257' '455' '457' '252'\n",
      " '446' '483' '276' '240' '428' '456' '221' '421' '424' '239' '293' '225'\n",
      " '271' '441' '425' '478' '413' '213' '260' '427' '236' '459' '286' '492']\n"
     ]
    },
    {
     "name": "stderr",
     "output_type": "stream",
     "text": [
      "0it [00:00, ?it/s]\n"
     ]
    },
    {
     "name": "stdout",
     "output_type": "stream",
     "text": [
      "['1' '2' '3' '4' '5' '6' '7' '8' '9' '10' '11' '12' '13' '14' '15' '16'\n",
      " '17' '18' '19' '20' '432' '488' '486' '484' '419' '438' '454' '418' '410'\n",
      " '490' '477' '423' '412' '442' '406' '460' '447' '437' '449' '482' '499'\n",
      " '448' '408' '453' '497' '461' '434' '491' '498' '480' '471' '422' '407'\n",
      " '439' '405' '462' '445' '466' '436' '473' '409' '451' '468' '430' '431'\n",
      " '464' '470' '400' '426' '416' '493' '203' '200' '202' '495' '443' '248'\n",
      " '209' '297' '226' '245' '414' '234' '269' '479' '273' '210' '270' '452'\n",
      " '283' '217' '403' '465' '292' '278' '230' '249' '216' '220' '429' '207'\n",
      " '219' '233' '411' '250' '469' '232' '474' '281' '254' '287' '247' '263'\n",
      " '417' '288' '299' '296' '475' '494' '458' '275' '222' '404' '476' '467'\n",
      " '463' '291' '496' '450' '295' '487' '440' '481' '261' '294' '472' '267'\n",
      " '227' '415' '206' '241' '489' '224' '214' '282' '243' '244' '215' '235'\n",
      " '246' '274' '253' '402' '229' '433' '420' '435' '268' '264' '259' '444'\n",
      " '272' '258' '237' '485' '211' '285' '401' '201' '257' '455' '457' '252'\n",
      " '446' '483' '276' '240' '428' '456' '221' '421' '424' '239' '293' '225'\n",
      " '271' '441' '425' '478' '413' '213' '260' '427' '236' '459' '286' '492']\n"
     ]
    },
    {
     "name": "stderr",
     "output_type": "stream",
     "text": [
      "100%|█████████████████████████████████████████| 19/19 [00:00<00:00, 7524.48it/s]\n"
     ]
    },
    {
     "name": "stdout",
     "output_type": "stream",
     "text": [
      "['1' '2' '3' '4' '5' '6' '7' '8' '9' '10' '11' '12' '13' '14' '15' '16'\n",
      " '17' '18' '19' '20' '432' '488' '486' '484' '419' '438' '454' '418' '410'\n",
      " '490' '477' '423' '412' '442' '406' '460' '447' '437' '449' '482' '499'\n",
      " '448' '408' '453' '497' '461' '434' '491' '498' '480' '471' '422' '407'\n",
      " '439' '405' '462' '445' '466' '436' '473' '409' '451' '468' '430' '431'\n",
      " '464' '470' '400' '426' '416' '493' '203' '200' '202' '495' '443' '248'\n",
      " '209' '297' '226' '245' '414' '234' '269' '479' '273' '210' '270' '452'\n",
      " '283' '217' '403' '465' '292' '278' '230' '249' '216' '220' '429' '207'\n",
      " '219' '233' '411' '250' '469' '232' '474' '281' '254' '287' '247' '263'\n",
      " '417' '288' '299' '296' '475' '494' '458' '275' '222' '404' '476' '467'\n",
      " '463' '291' '496' '450' '295' '487' '440' '481' '261' '294' '472' '267'\n",
      " '227' '415' '206' '241' '489' '224' '214' '282' '243' '244' '215' '235'\n",
      " '246' '274' '253' '402' '229' '433' '420' '435' '268' '264' '259' '444'\n",
      " '272' '258' '237' '485' '211' '285' '401' '201' '257' '455' '457' '252'\n",
      " '446' '483' '276' '240' '428' '456' '221' '421' '424' '239' '293' '225'\n",
      " '271' '441' '425' '478' '413' '213' '260' '427' '236' '459' '286' '492']\n"
     ]
    },
    {
     "name": "stderr",
     "output_type": "stream",
     "text": [
      "0it [00:00, ?it/s]\n"
     ]
    },
    {
     "name": "stdout",
     "output_type": "stream",
     "text": [
      "['1' '2' '3' '4' '5' '6' '7' '8' '9' '10' '11' '12' '13' '14' '15' '16'\n",
      " '17' '18' '19' '20' '432' '488' '486' '484' '419' '438' '454' '418' '410'\n",
      " '490' '477' '423' '412' '442' '406' '460' '447' '437' '449' '482' '499'\n",
      " '448' '408' '453' '497' '461' '434' '491' '498' '480' '471' '422' '407'\n",
      " '439' '405' '462' '445' '466' '436' '473' '409' '451' '468' '430' '431'\n",
      " '464' '470' '400' '426' '416' '493' '203' '200' '202' '495' '443' '248'\n",
      " '209' '297' '226' '245' '414' '234' '269' '479' '273' '210' '270' '452'\n",
      " '283' '217' '403' '465' '292' '278' '230' '249' '216' '220' '429' '207'\n",
      " '219' '233' '411' '250' '469' '232' '474' '281' '254' '287' '247' '263'\n",
      " '417' '288' '299' '296' '475' '494' '458' '275' '222' '404' '476' '467'\n",
      " '463' '291' '496' '450' '295' '487' '440' '481' '261' '294' '472' '267'\n",
      " '227' '415' '206' '241' '489' '224' '214' '282' '243' '244' '215' '235'\n",
      " '246' '274' '253' '402' '229' '433' '420' '435' '268' '264' '259' '444'\n",
      " '272' '258' '237' '485' '211' '285' '401' '201' '257' '455' '457' '252'\n",
      " '446' '483' '276' '240' '428' '456' '221' '421' '424' '239' '293' '225'\n",
      " '271' '441' '425' '478' '413' '213' '260' '427' '236' '459' '286' '492']\n"
     ]
    },
    {
     "name": "stderr",
     "output_type": "stream",
     "text": [
      "100%|█████████████████████████████████████████| 19/19 [00:00<00:00, 7398.05it/s]\n"
     ]
    },
    {
     "name": "stdout",
     "output_type": "stream",
     "text": [
      "['1' '2' '3' '4' '5' '6' '7' '8' '9' '10' '11' '12' '13' '14' '15' '16'\n",
      " '17' '18' '19' '20' '432' '488' '486' '484' '419' '438' '454' '418' '410'\n",
      " '490' '477' '423' '412' '442' '406' '460' '447' '437' '449' '482' '499'\n",
      " '448' '408' '453' '497' '461' '434' '491' '498' '480' '471' '422' '407'\n",
      " '439' '405' '462' '445' '466' '436' '473' '409' '451' '468' '430' '431'\n",
      " '464' '470' '400' '426' '416' '493' '203' '200' '202' '495' '443' '248'\n",
      " '209' '297' '226' '245' '414' '234' '269' '479' '273' '210' '270' '452'\n",
      " '283' '217' '403' '465' '292' '278' '230' '249' '216' '220' '429' '207'\n",
      " '219' '233' '411' '250' '469' '232' '474' '281' '254' '287' '247' '263'\n",
      " '417' '288' '299' '296' '475' '494' '458' '275' '222' '404' '476' '467'\n",
      " '463' '291' '496' '450' '295' '487' '440' '481' '261' '294' '472' '267'\n",
      " '227' '415' '206' '241' '489' '224' '214' '282' '243' '244' '215' '235'\n",
      " '246' '274' '253' '402' '229' '433' '420' '435' '268' '264' '259' '444'\n",
      " '272' '258' '237' '485' '211' '285' '401' '201' '257' '455' '457' '252'\n",
      " '446' '483' '276' '240' '428' '456' '221' '421' '424' '239' '293' '225'\n",
      " '271' '441' '425' '478' '413' '213' '260' '427' '236' '459' '286' '492']\n"
     ]
    },
    {
     "name": "stderr",
     "output_type": "stream",
     "text": [
      "0it [00:00, ?it/s]\n"
     ]
    },
    {
     "name": "stdout",
     "output_type": "stream",
     "text": [
      "['1' '2' '3' '4' '5' '6' '7' '8' '9' '10' '11' '12' '13' '14' '15' '16'\n",
      " '17' '18' '19' '20' '432' '488' '486' '484' '419' '438' '454' '418' '410'\n",
      " '490' '477' '423' '412' '442' '406' '460' '447' '437' '449' '482' '499'\n",
      " '448' '408' '453' '497' '461' '434' '491' '498' '480' '471' '422' '407'\n",
      " '439' '405' '462' '445' '466' '436' '473' '409' '451' '468' '430' '431'\n",
      " '464' '470' '400' '426' '416' '493' '203' '200' '202' '495' '443' '248'\n",
      " '209' '297' '226' '245' '414' '234' '269' '479' '273' '210' '270' '452'\n",
      " '283' '217' '403' '465' '292' '278' '230' '249' '216' '220' '429' '207'\n",
      " '219' '233' '411' '250' '469' '232' '474' '281' '254' '287' '247' '263'\n",
      " '417' '288' '299' '296' '475' '494' '458' '275' '222' '404' '476' '467'\n",
      " '463' '291' '496' '450' '295' '487' '440' '481' '261' '294' '472' '267'\n",
      " '227' '415' '206' '241' '489' '224' '214' '282' '243' '244' '215' '235'\n",
      " '246' '274' '253' '402' '229' '433' '420' '435' '268' '264' '259' '444'\n",
      " '272' '258' '237' '485' '211' '285' '401' '201' '257' '455' '457' '252'\n",
      " '446' '483' '276' '240' '428' '456' '221' '421' '424' '239' '293' '225'\n",
      " '271' '441' '425' '478' '413' '213' '260' '427' '236' '459' '286' '492']\n"
     ]
    },
    {
     "name": "stderr",
     "output_type": "stream",
     "text": [
      "100%|██████████████████████████████████████████| 14/14 [00:00<00:00, 181.92it/s]\n"
     ]
    },
    {
     "name": "stdout",
     "output_type": "stream",
     "text": [
      "['1' '2' '3' '4' '5' '6' '7' '8' '9' '10' '11' '12' '13' '14' '15' '16'\n",
      " '17' '18' '19' '20' '432' '488' '486' '484' '419' '438' '454' '418' '410'\n",
      " '490' '477' '423' '412' '442' '406' '460' '447' '437' '449' '482' '499'\n",
      " '448' '408' '453' '497' '461' '434' '491' '498' '480' '471' '422' '407'\n",
      " '439' '405' '462' '445' '466' '436' '473' '409' '451' '468' '430' '431'\n",
      " '464' '470' '400' '426' '416' '493' '203' '200' '202' '495' '443' '248'\n",
      " '209' '297' '226' '245' '414' '234' '269' '479' '273' '210' '270' '452'\n",
      " '283' '217' '403' '465' '292' '278' '230' '249' '216' '220' '429' '207'\n",
      " '219' '233' '411' '250' '469' '232' '474' '281' '254' '287' '247' '263'\n",
      " '417' '288' '299' '296' '475' '494' '458' '275' '222' '404' '476' '467'\n",
      " '463' '291' '496' '450' '295' '487' '440' '481' '261' '294' '472' '267'\n",
      " '227' '415' '206' '241' '489' '224' '214' '282' '243' '244' '215' '235'\n",
      " '246' '274' '253' '402' '229' '433' '420' '435' '268' '264' '259' '444'\n",
      " '272' '258' '237' '485' '211' '285' '401' '201' '257' '455' '457' '252'\n",
      " '446' '483' '276' '240' '428' '456' '221' '421' '424' '239' '293' '225'\n",
      " '271' '441' '425' '478' '413' '213' '260' '427' '236' '459' '286' '492']\n"
     ]
    },
    {
     "name": "stderr",
     "output_type": "stream",
     "text": [
      "0it [00:00, ?it/s]\n"
     ]
    },
    {
     "name": "stdout",
     "output_type": "stream",
     "text": [
      "['1' '2' '3' '4' '5' '6' '7' '8' '9' '10' '11' '12' '13' '14' '15' '16'\n",
      " '17' '18' '19' '20' '432' '488' '486' '484' '419' '438' '454' '418' '410'\n",
      " '490' '477' '423' '412' '442' '406' '460' '447' '437' '449' '482' '499'\n",
      " '448' '408' '453' '497' '461' '434' '491' '498' '480' '471' '422' '407'\n",
      " '439' '405' '462' '445' '466' '436' '473' '409' '451' '468' '430' '431'\n",
      " '464' '470' '400' '426' '416' '493' '203' '200' '202' '495' '443' '248'\n",
      " '209' '297' '226' '245' '414' '234' '269' '479' '273' '210' '270' '452'\n",
      " '283' '217' '403' '465' '292' '278' '230' '249' '216' '220' '429' '207'\n",
      " '219' '233' '411' '250' '469' '232' '474' '281' '254' '287' '247' '263'\n",
      " '417' '288' '299' '296' '475' '494' '458' '275' '222' '404' '476' '467'\n",
      " '463' '291' '496' '450' '295' '487' '440' '481' '261' '294' '472' '267'\n",
      " '227' '415' '206' '241' '489' '224' '214' '282' '243' '244' '215' '235'\n",
      " '246' '274' '253' '402' '229' '433' '420' '435' '268' '264' '259' '444'\n",
      " '272' '258' '237' '485' '211' '285' '401' '201' '257' '455' '457' '252'\n",
      " '446' '483' '276' '240' '428' '456' '221' '421' '424' '239' '293' '225'\n",
      " '271' '441' '425' '478' '413' '213' '260' '427' '236' '459' '286' '492']\n"
     ]
    },
    {
     "name": "stderr",
     "output_type": "stream",
     "text": [
      "0it [00:00, ?it/s]\n"
     ]
    },
    {
     "name": "stdout",
     "output_type": "stream",
     "text": [
      "['1' '2' '3' '4' '5' '6' '7' '8' '9' '10' '11' '12' '13' '14' '15' '16'\n",
      " '17' '18' '19' '20' '432' '488' '486' '484' '419' '438' '454' '418' '410'\n",
      " '490' '477' '423' '412' '442' '406' '460' '447' '437' '449' '482' '499'\n",
      " '448' '408' '453' '497' '461' '434' '491' '498' '480' '471' '422' '407'\n",
      " '439' '405' '462' '445' '466' '436' '473' '409' '451' '468' '430' '431'\n",
      " '464' '470' '400' '426' '416' '493' '203' '200' '202' '495' '443' '248'\n",
      " '209' '297' '226' '245' '414' '234' '269' '479' '273' '210' '270' '452'\n",
      " '283' '217' '403' '465' '292' '278' '230' '249' '216' '220' '429' '207'\n",
      " '219' '233' '411' '250' '469' '232' '474' '281' '254' '287' '247' '263'\n",
      " '417' '288' '299' '296' '475' '494' '458' '275' '222' '404' '476' '467'\n",
      " '463' '291' '496' '450' '295' '487' '440' '481' '261' '294' '472' '267'\n",
      " '227' '415' '206' '241' '489' '224' '214' '282' '243' '244' '215' '235'\n",
      " '246' '274' '253' '402' '229' '433' '420' '435' '268' '264' '259' '444'\n",
      " '272' '258' '237' '485' '211' '285' '401' '201' '257' '455' '457' '252'\n",
      " '446' '483' '276' '240' '428' '456' '221' '421' '424' '239' '293' '225'\n",
      " '271' '441' '425' '478' '413' '213' '260' '427' '236' '459' '286' '492']\n"
     ]
    },
    {
     "name": "stderr",
     "output_type": "stream",
     "text": [
      "100%|█████████████████████████████████████████| 20/20 [00:00<00:00, 5119.06it/s]\n"
     ]
    },
    {
     "name": "stdout",
     "output_type": "stream",
     "text": [
      "['1' '2' '3' '4' '5' '6' '7' '8' '9' '10' '11' '12' '13' '14' '15' '16'\n",
      " '17' '18' '19' '20' '432' '488' '486' '484' '419' '438' '454' '418' '410'\n",
      " '490' '477' '423' '412' '442' '406' '460' '447' '437' '449' '482' '499'\n",
      " '448' '408' '453' '497' '461' '434' '491' '498' '480' '471' '422' '407'\n",
      " '439' '405' '462' '445' '466' '436' '473' '409' '451' '468' '430' '431'\n",
      " '464' '470' '400' '426' '416' '493' '203' '200' '202' '495' '443' '248'\n",
      " '209' '297' '226' '245' '414' '234' '269' '479' '273' '210' '270' '452'\n",
      " '283' '217' '403' '465' '292' '278' '230' '249' '216' '220' '429' '207'\n",
      " '219' '233' '411' '250' '469' '232' '474' '281' '254' '287' '247' '263'\n",
      " '417' '288' '299' '296' '475' '494' '458' '275' '222' '404' '476' '467'\n",
      " '463' '291' '496' '450' '295' '487' '440' '481' '261' '294' '472' '267'\n",
      " '227' '415' '206' '241' '489' '224' '214' '282' '243' '244' '215' '235'\n",
      " '246' '274' '253' '402' '229' '433' '420' '435' '268' '264' '259' '444'\n",
      " '272' '258' '237' '485' '211' '285' '401' '201' '257' '455' '457' '252'\n",
      " '446' '483' '276' '240' '428' '456' '221' '421' '424' '239' '293' '225'\n",
      " '271' '441' '425' '478' '413' '213' '260' '427' '236' '459' '286' '492']\n"
     ]
    },
    {
     "name": "stderr",
     "output_type": "stream",
     "text": [
      "0it [00:00, ?it/s]\n"
     ]
    },
    {
     "name": "stdout",
     "output_type": "stream",
     "text": [
      "['1' '2' '3' '4' '5' '6' '7' '8' '9' '10' '11' '12' '13' '14' '15' '16'\n",
      " '17' '18' '19' '20' '432' '488' '486' '484' '419' '438' '454' '418' '410'\n",
      " '490' '477' '423' '412' '442' '406' '460' '447' '437' '449' '482' '499'\n",
      " '448' '408' '453' '497' '461' '434' '491' '498' '480' '471' '422' '407'\n",
      " '439' '405' '462' '445' '466' '436' '473' '409' '451' '468' '430' '431'\n",
      " '464' '470' '400' '426' '416' '493' '203' '200' '202' '495' '443' '248'\n",
      " '209' '297' '226' '245' '414' '234' '269' '479' '273' '210' '270' '452'\n",
      " '283' '217' '403' '465' '292' '278' '230' '249' '216' '220' '429' '207'\n",
      " '219' '233' '411' '250' '469' '232' '474' '281' '254' '287' '247' '263'\n",
      " '417' '288' '299' '296' '475' '494' '458' '275' '222' '404' '476' '467'\n",
      " '463' '291' '496' '450' '295' '487' '440' '481' '261' '294' '472' '267'\n",
      " '227' '415' '206' '241' '489' '224' '214' '282' '243' '244' '215' '235'\n",
      " '246' '274' '253' '402' '229' '433' '420' '435' '268' '264' '259' '444'\n",
      " '272' '258' '237' '485' '211' '285' '401' '201' '257' '455' '457' '252'\n",
      " '446' '483' '276' '240' '428' '456' '221' '421' '424' '239' '293' '225'\n",
      " '271' '441' '425' '478' '413' '213' '260' '427' '236' '459' '286' '492']\n"
     ]
    },
    {
     "name": "stderr",
     "output_type": "stream",
     "text": [
      "100%|█████████████████████████████████████████| 20/20 [00:00<00:00, 4935.93it/s]\n"
     ]
    },
    {
     "name": "stdout",
     "output_type": "stream",
     "text": [
      "['1' '2' '3' '4' '5' '6' '7' '8' '9' '10' '11' '12' '13' '14' '15' '16'\n",
      " '17' '18' '19' '20' '432' '488' '486' '484' '419' '438' '454' '418' '410'\n",
      " '490' '477' '423' '412' '442' '406' '460' '447' '437' '449' '482' '499'\n",
      " '448' '408' '453' '497' '461' '434' '491' '498' '480' '471' '422' '407'\n",
      " '439' '405' '462' '445' '466' '436' '473' '409' '451' '468' '430' '431'\n",
      " '464' '470' '400' '426' '416' '493' '203' '200' '202' '495' '443' '248'\n",
      " '209' '297' '226' '245' '414' '234' '269' '479' '273' '210' '270' '452'\n",
      " '283' '217' '403' '465' '292' '278' '230' '249' '216' '220' '429' '207'\n",
      " '219' '233' '411' '250' '469' '232' '474' '281' '254' '287' '247' '263'\n",
      " '417' '288' '299' '296' '475' '494' '458' '275' '222' '404' '476' '467'\n",
      " '463' '291' '496' '450' '295' '487' '440' '481' '261' '294' '472' '267'\n",
      " '227' '415' '206' '241' '489' '224' '214' '282' '243' '244' '215' '235'\n",
      " '246' '274' '253' '402' '229' '433' '420' '435' '268' '264' '259' '444'\n",
      " '272' '258' '237' '485' '211' '285' '401' '201' '257' '455' '457' '252'\n",
      " '446' '483' '276' '240' '428' '456' '221' '421' '424' '239' '293' '225'\n",
      " '271' '441' '425' '478' '413' '213' '260' '427' '236' '459' '286' '492']\n"
     ]
    },
    {
     "name": "stderr",
     "output_type": "stream",
     "text": [
      "100%|█████████████████████████████████████████| 20/20 [00:00<00:00, 3977.72it/s]\n"
     ]
    },
    {
     "name": "stdout",
     "output_type": "stream",
     "text": [
      "['1' '2' '3' '4' '5' '6' '7' '8' '9' '10' '11' '12' '13' '14' '15' '16'\n",
      " '17' '18' '19' '20' '432' '488' '486' '484' '419' '438' '454' '418' '410'\n",
      " '490' '477' '423' '412' '442' '406' '460' '447' '437' '449' '482' '499'\n",
      " '448' '408' '453' '497' '461' '434' '491' '498' '480' '471' '422' '407'\n",
      " '439' '405' '462' '445' '466' '436' '473' '409' '451' '468' '430' '431'\n",
      " '464' '470' '400' '426' '416' '493' '203' '200' '202' '495' '443' '248'\n",
      " '209' '297' '226' '245' '414' '234' '269' '479' '273' '210' '270' '452'\n",
      " '283' '217' '403' '465' '292' '278' '230' '249' '216' '220' '429' '207'\n",
      " '219' '233' '411' '250' '469' '232' '474' '281' '254' '287' '247' '263'\n",
      " '417' '288' '299' '296' '475' '494' '458' '275' '222' '404' '476' '467'\n",
      " '463' '291' '496' '450' '295' '487' '440' '481' '261' '294' '472' '267'\n",
      " '227' '415' '206' '241' '489' '224' '214' '282' '243' '244' '215' '235'\n",
      " '246' '274' '253' '402' '229' '433' '420' '435' '268' '264' '259' '444'\n",
      " '272' '258' '237' '485' '211' '285' '401' '201' '257' '455' '457' '252'\n",
      " '446' '483' '276' '240' '428' '456' '221' '421' '424' '239' '293' '225'\n",
      " '271' '441' '425' '478' '413' '213' '260' '427' '236' '459' '286' '492']\n"
     ]
    },
    {
     "name": "stderr",
     "output_type": "stream",
     "text": [
      "100%|█████████████████████████████████████████| 23/23 [00:00<00:00, 5350.47it/s]\n"
     ]
    },
    {
     "name": "stdout",
     "output_type": "stream",
     "text": [
      "['1' '2' '3' '4' '5' '6' '7' '8' '9' '10' '11' '12' '13' '14' '15' '16'\n",
      " '17' '18' '19' '20' '432' '488' '486' '484' '419' '438' '454' '418' '410'\n",
      " '490' '477' '423' '412' '442' '406' '460' '447' '437' '449' '482' '499'\n",
      " '448' '408' '453' '497' '461' '434' '491' '498' '480' '471' '422' '407'\n",
      " '439' '405' '462' '445' '466' '436' '473' '409' '451' '468' '430' '431'\n",
      " '464' '470' '400' '426' '416' '493' '203' '200' '202' '495' '443' '248'\n",
      " '209' '297' '226' '245' '414' '234' '269' '479' '273' '210' '270' '452'\n",
      " '283' '217' '403' '465' '292' '278' '230' '249' '216' '220' '429' '207'\n",
      " '219' '233' '411' '250' '469' '232' '474' '281' '254' '287' '247' '263'\n",
      " '417' '288' '299' '296' '475' '494' '458' '275' '222' '404' '476' '467'\n",
      " '463' '291' '496' '450' '295' '487' '440' '481' '261' '294' '472' '267'\n",
      " '227' '415' '206' '241' '489' '224' '214' '282' '243' '244' '215' '235'\n",
      " '246' '274' '253' '402' '229' '433' '420' '435' '268' '264' '259' '444'\n",
      " '272' '258' '237' '485' '211' '285' '401' '201' '257' '455' '457' '252'\n",
      " '446' '483' '276' '240' '428' '456' '221' '421' '424' '239' '293' '225'\n",
      " '271' '441' '425' '478' '413' '213' '260' '427' '236' '459' '286' '492']\n"
     ]
    },
    {
     "name": "stderr",
     "output_type": "stream",
     "text": [
      "0it [00:00, ?it/s]\n"
     ]
    },
    {
     "name": "stdout",
     "output_type": "stream",
     "text": [
      "['1' '2' '3' '4' '5' '6' '7' '8' '9' '10' '11' '12' '13' '14' '15' '16'\n",
      " '17' '18' '19' '20' '432' '488' '486' '484' '419' '438' '454' '418' '410'\n",
      " '490' '477' '423' '412' '442' '406' '460' '447' '437' '449' '482' '499'\n",
      " '448' '408' '453' '497' '461' '434' '491' '498' '480' '471' '422' '407'\n",
      " '439' '405' '462' '445' '466' '436' '473' '409' '451' '468' '430' '431'\n",
      " '464' '470' '400' '426' '416' '493' '203' '200' '202' '495' '443' '248'\n",
      " '209' '297' '226' '245' '414' '234' '269' '479' '273' '210' '270' '452'\n",
      " '283' '217' '403' '465' '292' '278' '230' '249' '216' '220' '429' '207'\n",
      " '219' '233' '411' '250' '469' '232' '474' '281' '254' '287' '247' '263'\n",
      " '417' '288' '299' '296' '475' '494' '458' '275' '222' '404' '476' '467'\n",
      " '463' '291' '496' '450' '295' '487' '440' '481' '261' '294' '472' '267'\n",
      " '227' '415' '206' '241' '489' '224' '214' '282' '243' '244' '215' '235'\n",
      " '246' '274' '253' '402' '229' '433' '420' '435' '268' '264' '259' '444'\n",
      " '272' '258' '237' '485' '211' '285' '401' '201' '257' '455' '457' '252'\n",
      " '446' '483' '276' '240' '428' '456' '221' '421' '424' '239' '293' '225'\n",
      " '271' '441' '425' '478' '413' '213' '260' '427' '236' '459' '286' '492']\n"
     ]
    },
    {
     "name": "stderr",
     "output_type": "stream",
     "text": [
      "0it [00:00, ?it/s]\n"
     ]
    },
    {
     "name": "stdout",
     "output_type": "stream",
     "text": [
      "['1' '2' '3' '4' '5' '6' '7' '8' '9' '10' '11' '12' '13' '14' '15' '16'\n",
      " '17' '18' '19' '20' '432' '488' '486' '484' '419' '438' '454' '418' '410'\n",
      " '490' '477' '423' '412' '442' '406' '460' '447' '437' '449' '482' '499'\n",
      " '448' '408' '453' '497' '461' '434' '491' '498' '480' '471' '422' '407'\n",
      " '439' '405' '462' '445' '466' '436' '473' '409' '451' '468' '430' '431'\n",
      " '464' '470' '400' '426' '416' '493' '203' '200' '202' '495' '443' '248'\n",
      " '209' '297' '226' '245' '414' '234' '269' '479' '273' '210' '270' '452'\n",
      " '283' '217' '403' '465' '292' '278' '230' '249' '216' '220' '429' '207'\n",
      " '219' '233' '411' '250' '469' '232' '474' '281' '254' '287' '247' '263'\n",
      " '417' '288' '299' '296' '475' '494' '458' '275' '222' '404' '476' '467'\n",
      " '463' '291' '496' '450' '295' '487' '440' '481' '261' '294' '472' '267'\n",
      " '227' '415' '206' '241' '489' '224' '214' '282' '243' '244' '215' '235'\n",
      " '246' '274' '253' '402' '229' '433' '420' '435' '268' '264' '259' '444'\n",
      " '272' '258' '237' '485' '211' '285' '401' '201' '257' '455' '457' '252'\n",
      " '446' '483' '276' '240' '428' '456' '221' '421' '424' '239' '293' '225'\n",
      " '271' '441' '425' '478' '413' '213' '260' '427' '236' '459' '286' '492']\n"
     ]
    },
    {
     "name": "stderr",
     "output_type": "stream",
     "text": [
      "0it [00:00, ?it/s]\n"
     ]
    },
    {
     "name": "stdout",
     "output_type": "stream",
     "text": [
      "['1' '2' '3' '4' '5' '6' '7' '8' '9' '10' '11' '12' '13' '14' '15' '16'\n",
      " '17' '18' '19' '20' '432' '488' '486' '484' '419' '438' '454' '418' '410'\n",
      " '490' '477' '423' '412' '442' '406' '460' '447' '437' '449' '482' '499'\n",
      " '448' '408' '453' '497' '461' '434' '491' '498' '480' '471' '422' '407'\n",
      " '439' '405' '462' '445' '466' '436' '473' '409' '451' '468' '430' '431'\n",
      " '464' '470' '400' '426' '416' '493' '203' '200' '202' '495' '443' '248'\n",
      " '209' '297' '226' '245' '414' '234' '269' '479' '273' '210' '270' '452'\n",
      " '283' '217' '403' '465' '292' '278' '230' '249' '216' '220' '429' '207'\n",
      " '219' '233' '411' '250' '469' '232' '474' '281' '254' '287' '247' '263'\n",
      " '417' '288' '299' '296' '475' '494' '458' '275' '222' '404' '476' '467'\n",
      " '463' '291' '496' '450' '295' '487' '440' '481' '261' '294' '472' '267'\n",
      " '227' '415' '206' '241' '489' '224' '214' '282' '243' '244' '215' '235'\n",
      " '246' '274' '253' '402' '229' '433' '420' '435' '268' '264' '259' '444'\n",
      " '272' '258' '237' '485' '211' '285' '401' '201' '257' '455' '457' '252'\n",
      " '446' '483' '276' '240' '428' '456' '221' '421' '424' '239' '293' '225'\n",
      " '271' '441' '425' '478' '413' '213' '260' '427' '236' '459' '286' '492']\n"
     ]
    },
    {
     "name": "stderr",
     "output_type": "stream",
     "text": [
      "100%|██████████████████████████████████████████| 13/13 [00:00<00:00, 181.55it/s]\n"
     ]
    },
    {
     "name": "stdout",
     "output_type": "stream",
     "text": [
      "['1' '2' '3' '4' '5' '6' '7' '8' '9' '10' '11' '12' '13' '14' '15' '16'\n",
      " '17' '18' '19' '20' '432' '488' '486' '484' '419' '438' '454' '418' '410'\n",
      " '490' '477' '423' '412' '442' '406' '460' '447' '437' '449' '482' '499'\n",
      " '448' '408' '453' '497' '461' '434' '491' '498' '480' '471' '422' '407'\n",
      " '439' '405' '462' '445' '466' '436' '473' '409' '451' '468' '430' '431'\n",
      " '464' '470' '400' '426' '416' '493' '203' '200' '202' '495' '443' '248'\n",
      " '209' '297' '226' '245' '414' '234' '269' '479' '273' '210' '270' '452'\n",
      " '283' '217' '403' '465' '292' '278' '230' '249' '216' '220' '429' '207'\n",
      " '219' '233' '411' '250' '469' '232' '474' '281' '254' '287' '247' '263'\n",
      " '417' '288' '299' '296' '475' '494' '458' '275' '222' '404' '476' '467'\n",
      " '463' '291' '496' '450' '295' '487' '440' '481' '261' '294' '472' '267'\n",
      " '227' '415' '206' '241' '489' '224' '214' '282' '243' '244' '215' '235'\n",
      " '246' '274' '253' '402' '229' '433' '420' '435' '268' '264' '259' '444'\n",
      " '272' '258' '237' '485' '211' '285' '401' '201' '257' '455' '457' '252'\n",
      " '446' '483' '276' '240' '428' '456' '221' '421' '424' '239' '293' '225'\n",
      " '271' '441' '425' '478' '413' '213' '260' '427' '236' '459' '286' '492']\n"
     ]
    },
    {
     "name": "stderr",
     "output_type": "stream",
     "text": [
      "100%|█████████████████████████████████████████| 19/19 [00:00<00:00, 8792.12it/s]\n"
     ]
    },
    {
     "name": "stdout",
     "output_type": "stream",
     "text": [
      "['1' '2' '3' '4' '5' '6' '7' '8' '9' '10' '11' '12' '13' '14' '15' '16'\n",
      " '17' '18' '19' '20' '432' '488' '486' '484' '419' '438' '454' '418' '410'\n",
      " '490' '477' '423' '412' '442' '406' '460' '447' '437' '449' '482' '499'\n",
      " '448' '408' '453' '497' '461' '434' '491' '498' '480' '471' '422' '407'\n",
      " '439' '405' '462' '445' '466' '436' '473' '409' '451' '468' '430' '431'\n",
      " '464' '470' '400' '426' '416' '493' '203' '200' '202' '495' '443' '248'\n",
      " '209' '297' '226' '245' '414' '234' '269' '479' '273' '210' '270' '452'\n",
      " '283' '217' '403' '465' '292' '278' '230' '249' '216' '220' '429' '207'\n",
      " '219' '233' '411' '250' '469' '232' '474' '281' '254' '287' '247' '263'\n",
      " '417' '288' '299' '296' '475' '494' '458' '275' '222' '404' '476' '467'\n",
      " '463' '291' '496' '450' '295' '487' '440' '481' '261' '294' '472' '267'\n",
      " '227' '415' '206' '241' '489' '224' '214' '282' '243' '244' '215' '235'\n",
      " '246' '274' '253' '402' '229' '433' '420' '435' '268' '264' '259' '444'\n",
      " '272' '258' '237' '485' '211' '285' '401' '201' '257' '455' '457' '252'\n",
      " '446' '483' '276' '240' '428' '456' '221' '421' '424' '239' '293' '225'\n",
      " '271' '441' '425' '478' '413' '213' '260' '427' '236' '459' '286' '492']\n"
     ]
    },
    {
     "name": "stderr",
     "output_type": "stream",
     "text": [
      "100%|█████████████████████████████████████████| 19/19 [00:00<00:00, 4013.49it/s]\n"
     ]
    },
    {
     "name": "stdout",
     "output_type": "stream",
     "text": [
      "['1' '2' '3' '4' '5' '6' '7' '8' '9' '10' '11' '12' '13' '14' '15' '16'\n",
      " '17' '18' '19' '20' '432' '488' '486' '484' '419' '438' '454' '418' '410'\n",
      " '490' '477' '423' '412' '442' '406' '460' '447' '437' '449' '482' '499'\n",
      " '448' '408' '453' '497' '461' '434' '491' '498' '480' '471' '422' '407'\n",
      " '439' '405' '462' '445' '466' '436' '473' '409' '451' '468' '430' '431'\n",
      " '464' '470' '400' '426' '416' '493' '203' '200' '202' '495' '443' '248'\n",
      " '209' '297' '226' '245' '414' '234' '269' '479' '273' '210' '270' '452'\n",
      " '283' '217' '403' '465' '292' '278' '230' '249' '216' '220' '429' '207'\n",
      " '219' '233' '411' '250' '469' '232' '474' '281' '254' '287' '247' '263'\n",
      " '417' '288' '299' '296' '475' '494' '458' '275' '222' '404' '476' '467'\n",
      " '463' '291' '496' '450' '295' '487' '440' '481' '261' '294' '472' '267'\n",
      " '227' '415' '206' '241' '489' '224' '214' '282' '243' '244' '215' '235'\n",
      " '246' '274' '253' '402' '229' '433' '420' '435' '268' '264' '259' '444'\n",
      " '272' '258' '237' '485' '211' '285' '401' '201' '257' '455' '457' '252'\n",
      " '446' '483' '276' '240' '428' '456' '221' '421' '424' '239' '293' '225'\n",
      " '271' '441' '425' '478' '413' '213' '260' '427' '236' '459' '286' '492']\n"
     ]
    },
    {
     "name": "stderr",
     "output_type": "stream",
     "text": [
      "0it [00:00, ?it/s]\n"
     ]
    },
    {
     "name": "stdout",
     "output_type": "stream",
     "text": [
      "['1' '2' '3' '4' '5' '6' '7' '8' '9' '10' '11' '12' '13' '14' '15' '16'\n",
      " '17' '18' '19' '20' '432' '488' '486' '484' '419' '438' '454' '418' '410'\n",
      " '490' '477' '423' '412' '442' '406' '460' '447' '437' '449' '482' '499'\n",
      " '448' '408' '453' '497' '461' '434' '491' '498' '480' '471' '422' '407'\n",
      " '439' '405' '462' '445' '466' '436' '473' '409' '451' '468' '430' '431'\n",
      " '464' '470' '400' '426' '416' '493' '203' '200' '202' '495' '443' '248'\n",
      " '209' '297' '226' '245' '414' '234' '269' '479' '273' '210' '270' '452'\n",
      " '283' '217' '403' '465' '292' '278' '230' '249' '216' '220' '429' '207'\n",
      " '219' '233' '411' '250' '469' '232' '474' '281' '254' '287' '247' '263'\n",
      " '417' '288' '299' '296' '475' '494' '458' '275' '222' '404' '476' '467'\n",
      " '463' '291' '496' '450' '295' '487' '440' '481' '261' '294' '472' '267'\n",
      " '227' '415' '206' '241' '489' '224' '214' '282' '243' '244' '215' '235'\n",
      " '246' '274' '253' '402' '229' '433' '420' '435' '268' '264' '259' '444'\n",
      " '272' '258' '237' '485' '211' '285' '401' '201' '257' '455' '457' '252'\n",
      " '446' '483' '276' '240' '428' '456' '221' '421' '424' '239' '293' '225'\n",
      " '271' '441' '425' '478' '413' '213' '260' '427' '236' '459' '286' '492']\n"
     ]
    },
    {
     "name": "stderr",
     "output_type": "stream",
     "text": [
      "100%|█████████████████████████████████████████| 19/19 [00:00<00:00, 7052.99it/s]\n"
     ]
    },
    {
     "name": "stdout",
     "output_type": "stream",
     "text": [
      "['1' '2' '3' '4' '5' '6' '7' '8' '9' '10' '11' '12' '13' '14' '15' '16'\n",
      " '17' '18' '19' '20' '432' '488' '486' '484' '419' '438' '454' '418' '410'\n",
      " '490' '477' '423' '412' '442' '406' '460' '447' '437' '449' '482' '499'\n",
      " '448' '408' '453' '497' '461' '434' '491' '498' '480' '471' '422' '407'\n",
      " '439' '405' '462' '445' '466' '436' '473' '409' '451' '468' '430' '431'\n",
      " '464' '470' '400' '426' '416' '493' '203' '200' '202' '495' '443' '248'\n",
      " '209' '297' '226' '245' '414' '234' '269' '479' '273' '210' '270' '452'\n",
      " '283' '217' '403' '465' '292' '278' '230' '249' '216' '220' '429' '207'\n",
      " '219' '233' '411' '250' '469' '232' '474' '281' '254' '287' '247' '263'\n",
      " '417' '288' '299' '296' '475' '494' '458' '275' '222' '404' '476' '467'\n",
      " '463' '291' '496' '450' '295' '487' '440' '481' '261' '294' '472' '267'\n",
      " '227' '415' '206' '241' '489' '224' '214' '282' '243' '244' '215' '235'\n",
      " '246' '274' '253' '402' '229' '433' '420' '435' '268' '264' '259' '444'\n",
      " '272' '258' '237' '485' '211' '285' '401' '201' '257' '455' '457' '252'\n",
      " '446' '483' '276' '240' '428' '456' '221' '421' '424' '239' '293' '225'\n",
      " '271' '441' '425' '478' '413' '213' '260' '427' '236' '459' '286' '492']\n"
     ]
    },
    {
     "name": "stderr",
     "output_type": "stream",
     "text": [
      "100%|█████████████████████████████████████████| 20/20 [00:00<00:00, 3602.12it/s]\n"
     ]
    },
    {
     "name": "stdout",
     "output_type": "stream",
     "text": [
      "['1' '2' '3' '4' '5' '6' '7' '8' '9' '10' '11' '12' '13' '14' '15' '16'\n",
      " '17' '18' '19' '20' '432' '488' '486' '484' '419' '438' '454' '418' '410'\n",
      " '490' '477' '423' '412' '442' '406' '460' '447' '437' '449' '482' '499'\n",
      " '448' '408' '453' '497' '461' '434' '491' '498' '480' '471' '422' '407'\n",
      " '439' '405' '462' '445' '466' '436' '473' '409' '451' '468' '430' '431'\n",
      " '464' '470' '400' '426' '416' '493' '203' '200' '202' '495' '443' '248'\n",
      " '209' '297' '226' '245' '414' '234' '269' '479' '273' '210' '270' '452'\n",
      " '283' '217' '403' '465' '292' '278' '230' '249' '216' '220' '429' '207'\n",
      " '219' '233' '411' '250' '469' '232' '474' '281' '254' '287' '247' '263'\n",
      " '417' '288' '299' '296' '475' '494' '458' '275' '222' '404' '476' '467'\n",
      " '463' '291' '496' '450' '295' '487' '440' '481' '261' '294' '472' '267'\n",
      " '227' '415' '206' '241' '489' '224' '214' '282' '243' '244' '215' '235'\n",
      " '246' '274' '253' '402' '229' '433' '420' '435' '268' '264' '259' '444'\n",
      " '272' '258' '237' '485' '211' '285' '401' '201' '257' '455' '457' '252'\n",
      " '446' '483' '276' '240' '428' '456' '221' '421' '424' '239' '293' '225'\n",
      " '271' '441' '425' '478' '413' '213' '260' '427' '236' '459' '286' '492']\n"
     ]
    },
    {
     "name": "stderr",
     "output_type": "stream",
     "text": [
      "0it [00:00, ?it/s]\n"
     ]
    },
    {
     "name": "stdout",
     "output_type": "stream",
     "text": [
      "['1' '2' '3' '4' '5' '6' '7' '8' '9' '10' '11' '12' '13' '14' '15' '16'\n",
      " '17' '18' '19' '20' '432' '488' '486' '484' '419' '438' '454' '418' '410'\n",
      " '490' '477' '423' '412' '442' '406' '460' '447' '437' '449' '482' '499'\n",
      " '448' '408' '453' '497' '461' '434' '491' '498' '480' '471' '422' '407'\n",
      " '439' '405' '462' '445' '466' '436' '473' '409' '451' '468' '430' '431'\n",
      " '464' '470' '400' '426' '416' '493' '203' '200' '202' '495' '443' '248'\n",
      " '209' '297' '226' '245' '414' '234' '269' '479' '273' '210' '270' '452'\n",
      " '283' '217' '403' '465' '292' '278' '230' '249' '216' '220' '429' '207'\n",
      " '219' '233' '411' '250' '469' '232' '474' '281' '254' '287' '247' '263'\n",
      " '417' '288' '299' '296' '475' '494' '458' '275' '222' '404' '476' '467'\n",
      " '463' '291' '496' '450' '295' '487' '440' '481' '261' '294' '472' '267'\n",
      " '227' '415' '206' '241' '489' '224' '214' '282' '243' '244' '215' '235'\n",
      " '246' '274' '253' '402' '229' '433' '420' '435' '268' '264' '259' '444'\n",
      " '272' '258' '237' '485' '211' '285' '401' '201' '257' '455' '457' '252'\n",
      " '446' '483' '276' '240' '428' '456' '221' '421' '424' '239' '293' '225'\n",
      " '271' '441' '425' '478' '413' '213' '260' '427' '236' '459' '286' '492']\n"
     ]
    },
    {
     "name": "stderr",
     "output_type": "stream",
     "text": [
      "100%|██████████████████████████████████████████| 12/12 [00:00<00:00, 182.42it/s]\n"
     ]
    },
    {
     "name": "stdout",
     "output_type": "stream",
     "text": [
      "['1' '2' '3' '4' '5' '6' '7' '8' '9' '10' '11' '12' '13' '14' '15' '16'\n",
      " '17' '18' '19' '20' '432' '488' '486' '484' '419' '438' '454' '418' '410'\n",
      " '490' '477' '423' '412' '442' '406' '460' '447' '437' '449' '482' '499'\n",
      " '448' '408' '453' '497' '461' '434' '491' '498' '480' '471' '422' '407'\n",
      " '439' '405' '462' '445' '466' '436' '473' '409' '451' '468' '430' '431'\n",
      " '464' '470' '400' '426' '416' '493' '203' '200' '202' '495' '443' '248'\n",
      " '209' '297' '226' '245' '414' '234' '269' '479' '273' '210' '270' '452'\n",
      " '283' '217' '403' '465' '292' '278' '230' '249' '216' '220' '429' '207'\n",
      " '219' '233' '411' '250' '469' '232' '474' '281' '254' '287' '247' '263'\n",
      " '417' '288' '299' '296' '475' '494' '458' '275' '222' '404' '476' '467'\n",
      " '463' '291' '496' '450' '295' '487' '440' '481' '261' '294' '472' '267'\n",
      " '227' '415' '206' '241' '489' '224' '214' '282' '243' '244' '215' '235'\n",
      " '246' '274' '253' '402' '229' '433' '420' '435' '268' '264' '259' '444'\n",
      " '272' '258' '237' '485' '211' '285' '401' '201' '257' '455' '457' '252'\n",
      " '446' '483' '276' '240' '428' '456' '221' '421' '424' '239' '293' '225'\n",
      " '271' '441' '425' '478' '413' '213' '260' '427' '236' '459' '286' '492']\n"
     ]
    },
    {
     "name": "stderr",
     "output_type": "stream",
     "text": [
      "0it [00:00, ?it/s]\n"
     ]
    },
    {
     "name": "stdout",
     "output_type": "stream",
     "text": [
      "['1' '2' '3' '4' '5' '6' '7' '8' '9' '10' '11' '12' '13' '14' '15' '16'\n",
      " '17' '18' '19' '20' '432' '488' '486' '484' '419' '438' '454' '418' '410'\n",
      " '490' '477' '423' '412' '442' '406' '460' '447' '437' '449' '482' '499'\n",
      " '448' '408' '453' '497' '461' '434' '491' '498' '480' '471' '422' '407'\n",
      " '439' '405' '462' '445' '466' '436' '473' '409' '451' '468' '430' '431'\n",
      " '464' '470' '400' '426' '416' '493' '203' '200' '202' '495' '443' '248'\n",
      " '209' '297' '226' '245' '414' '234' '269' '479' '273' '210' '270' '452'\n",
      " '283' '217' '403' '465' '292' '278' '230' '249' '216' '220' '429' '207'\n",
      " '219' '233' '411' '250' '469' '232' '474' '281' '254' '287' '247' '263'\n",
      " '417' '288' '299' '296' '475' '494' '458' '275' '222' '404' '476' '467'\n",
      " '463' '291' '496' '450' '295' '487' '440' '481' '261' '294' '472' '267'\n",
      " '227' '415' '206' '241' '489' '224' '214' '282' '243' '244' '215' '235'\n",
      " '246' '274' '253' '402' '229' '433' '420' '435' '268' '264' '259' '444'\n",
      " '272' '258' '237' '485' '211' '285' '401' '201' '257' '455' '457' '252'\n",
      " '446' '483' '276' '240' '428' '456' '221' '421' '424' '239' '293' '225'\n",
      " '271' '441' '425' '478' '413' '213' '260' '427' '236' '459' '286' '492']\n"
     ]
    },
    {
     "name": "stderr",
     "output_type": "stream",
     "text": [
      "100%|█████████████████████████████████████████| 21/21 [00:00<00:00, 2784.80it/s]\n"
     ]
    },
    {
     "name": "stdout",
     "output_type": "stream",
     "text": [
      "['1' '2' '3' '4' '5' '6' '7' '8' '9' '10' '11' '12' '13' '14' '15' '16'\n",
      " '17' '18' '19' '20' '432' '488' '486' '484' '419' '438' '454' '418' '410'\n",
      " '490' '477' '423' '412' '442' '406' '460' '447' '437' '449' '482' '499'\n",
      " '448' '408' '453' '497' '461' '434' '491' '498' '480' '471' '422' '407'\n",
      " '439' '405' '462' '445' '466' '436' '473' '409' '451' '468' '430' '431'\n",
      " '464' '470' '400' '426' '416' '493' '203' '200' '202' '495' '443' '248'\n",
      " '209' '297' '226' '245' '414' '234' '269' '479' '273' '210' '270' '452'\n",
      " '283' '217' '403' '465' '292' '278' '230' '249' '216' '220' '429' '207'\n",
      " '219' '233' '411' '250' '469' '232' '474' '281' '254' '287' '247' '263'\n",
      " '417' '288' '299' '296' '475' '494' '458' '275' '222' '404' '476' '467'\n",
      " '463' '291' '496' '450' '295' '487' '440' '481' '261' '294' '472' '267'\n",
      " '227' '415' '206' '241' '489' '224' '214' '282' '243' '244' '215' '235'\n",
      " '246' '274' '253' '402' '229' '433' '420' '435' '268' '264' '259' '444'\n",
      " '272' '258' '237' '485' '211' '285' '401' '201' '257' '455' '457' '252'\n",
      " '446' '483' '276' '240' '428' '456' '221' '421' '424' '239' '293' '225'\n",
      " '271' '441' '425' '478' '413' '213' '260' '427' '236' '459' '286' '492']\n"
     ]
    },
    {
     "name": "stderr",
     "output_type": "stream",
     "text": [
      "100%|█████████████████████████████████████████| 20/20 [00:00<00:00, 3772.87it/s]\n"
     ]
    },
    {
     "name": "stdout",
     "output_type": "stream",
     "text": [
      "['1' '2' '3' '4' '5' '6' '7' '8' '9' '10' '11' '12' '13' '14' '15' '16'\n",
      " '17' '18' '19' '20' '432' '488' '486' '484' '419' '438' '454' '418' '410'\n",
      " '490' '477' '423' '412' '442' '406' '460' '447' '437' '449' '482' '499'\n",
      " '448' '408' '453' '497' '461' '434' '491' '498' '480' '471' '422' '407'\n",
      " '439' '405' '462' '445' '466' '436' '473' '409' '451' '468' '430' '431'\n",
      " '464' '470' '400' '426' '416' '493' '203' '200' '202' '495' '443' '248'\n",
      " '209' '297' '226' '245' '414' '234' '269' '479' '273' '210' '270' '452'\n",
      " '283' '217' '403' '465' '292' '278' '230' '249' '216' '220' '429' '207'\n",
      " '219' '233' '411' '250' '469' '232' '474' '281' '254' '287' '247' '263'\n",
      " '417' '288' '299' '296' '475' '494' '458' '275' '222' '404' '476' '467'\n",
      " '463' '291' '496' '450' '295' '487' '440' '481' '261' '294' '472' '267'\n",
      " '227' '415' '206' '241' '489' '224' '214' '282' '243' '244' '215' '235'\n",
      " '246' '274' '253' '402' '229' '433' '420' '435' '268' '264' '259' '444'\n",
      " '272' '258' '237' '485' '211' '285' '401' '201' '257' '455' '457' '252'\n",
      " '446' '483' '276' '240' '428' '456' '221' '421' '424' '239' '293' '225'\n",
      " '271' '441' '425' '478' '413' '213' '260' '427' '236' '459' '286' '492']\n"
     ]
    },
    {
     "name": "stderr",
     "output_type": "stream",
     "text": [
      "0it [00:00, ?it/s]\n"
     ]
    },
    {
     "name": "stdout",
     "output_type": "stream",
     "text": [
      "['1' '2' '3' '4' '5' '6' '7' '8' '9' '10' '11' '12' '13' '14' '15' '16'\n",
      " '17' '18' '19' '20' '432' '488' '486' '484' '419' '438' '454' '418' '410'\n",
      " '490' '477' '423' '412' '442' '406' '460' '447' '437' '449' '482' '499'\n",
      " '448' '408' '453' '497' '461' '434' '491' '498' '480' '471' '422' '407'\n",
      " '439' '405' '462' '445' '466' '436' '473' '409' '451' '468' '430' '431'\n",
      " '464' '470' '400' '426' '416' '493' '203' '200' '202' '495' '443' '248'\n",
      " '209' '297' '226' '245' '414' '234' '269' '479' '273' '210' '270' '452'\n",
      " '283' '217' '403' '465' '292' '278' '230' '249' '216' '220' '429' '207'\n",
      " '219' '233' '411' '250' '469' '232' '474' '281' '254' '287' '247' '263'\n",
      " '417' '288' '299' '296' '475' '494' '458' '275' '222' '404' '476' '467'\n",
      " '463' '291' '496' '450' '295' '487' '440' '481' '261' '294' '472' '267'\n",
      " '227' '415' '206' '241' '489' '224' '214' '282' '243' '244' '215' '235'\n",
      " '246' '274' '253' '402' '229' '433' '420' '435' '268' '264' '259' '444'\n",
      " '272' '258' '237' '485' '211' '285' '401' '201' '257' '455' '457' '252'\n",
      " '446' '483' '276' '240' '428' '456' '221' '421' '424' '239' '293' '225'\n",
      " '271' '441' '425' '478' '413' '213' '260' '427' '236' '459' '286' '492']\n"
     ]
    },
    {
     "name": "stderr",
     "output_type": "stream",
     "text": [
      "0it [00:00, ?it/s]\n"
     ]
    },
    {
     "name": "stdout",
     "output_type": "stream",
     "text": [
      "['1' '2' '3' '4' '5' '6' '7' '8' '9' '10' '11' '12' '13' '14' '15' '16'\n",
      " '17' '18' '19' '20' '432' '488' '486' '484' '419' '438' '454' '418' '410'\n",
      " '490' '477' '423' '412' '442' '406' '460' '447' '437' '449' '482' '499'\n",
      " '448' '408' '453' '497' '461' '434' '491' '498' '480' '471' '422' '407'\n",
      " '439' '405' '462' '445' '466' '436' '473' '409' '451' '468' '430' '431'\n",
      " '464' '470' '400' '426' '416' '493' '203' '200' '202' '495' '443' '248'\n",
      " '209' '297' '226' '245' '414' '234' '269' '479' '273' '210' '270' '452'\n",
      " '283' '217' '403' '465' '292' '278' '230' '249' '216' '220' '429' '207'\n",
      " '219' '233' '411' '250' '469' '232' '474' '281' '254' '287' '247' '263'\n",
      " '417' '288' '299' '296' '475' '494' '458' '275' '222' '404' '476' '467'\n",
      " '463' '291' '496' '450' '295' '487' '440' '481' '261' '294' '472' '267'\n",
      " '227' '415' '206' '241' '489' '224' '214' '282' '243' '244' '215' '235'\n",
      " '246' '274' '253' '402' '229' '433' '420' '435' '268' '264' '259' '444'\n",
      " '272' '258' '237' '485' '211' '285' '401' '201' '257' '455' '457' '252'\n",
      " '446' '483' '276' '240' '428' '456' '221' '421' '424' '239' '293' '225'\n",
      " '271' '441' '425' '478' '413' '213' '260' '427' '236' '459' '286' '492']\n"
     ]
    },
    {
     "name": "stderr",
     "output_type": "stream",
     "text": [
      "0it [00:00, ?it/s]\n"
     ]
    },
    {
     "name": "stdout",
     "output_type": "stream",
     "text": [
      "['1' '2' '3' '4' '5' '6' '7' '8' '9' '10' '11' '12' '13' '14' '15' '16'\n",
      " '17' '18' '19' '20' '432' '488' '486' '484' '419' '438' '454' '418' '410'\n",
      " '490' '477' '423' '412' '442' '406' '460' '447' '437' '449' '482' '499'\n",
      " '448' '408' '453' '497' '461' '434' '491' '498' '480' '471' '422' '407'\n",
      " '439' '405' '462' '445' '466' '436' '473' '409' '451' '468' '430' '431'\n",
      " '464' '470' '400' '426' '416' '493' '203' '200' '202' '495' '443' '248'\n",
      " '209' '297' '226' '245' '414' '234' '269' '479' '273' '210' '270' '452'\n",
      " '283' '217' '403' '465' '292' '278' '230' '249' '216' '220' '429' '207'\n",
      " '219' '233' '411' '250' '469' '232' '474' '281' '254' '287' '247' '263'\n",
      " '417' '288' '299' '296' '475' '494' '458' '275' '222' '404' '476' '467'\n",
      " '463' '291' '496' '450' '295' '487' '440' '481' '261' '294' '472' '267'\n",
      " '227' '415' '206' '241' '489' '224' '214' '282' '243' '244' '215' '235'\n",
      " '246' '274' '253' '402' '229' '433' '420' '435' '268' '264' '259' '444'\n",
      " '272' '258' '237' '485' '211' '285' '401' '201' '257' '455' '457' '252'\n",
      " '446' '483' '276' '240' '428' '456' '221' '421' '424' '239' '293' '225'\n",
      " '271' '441' '425' '478' '413' '213' '260' '427' '236' '459' '286' '492']\n"
     ]
    },
    {
     "name": "stderr",
     "output_type": "stream",
     "text": [
      "100%|█████████████████████████████████████████| 19/19 [00:00<00:00, 8221.58it/s]\n"
     ]
    },
    {
     "name": "stdout",
     "output_type": "stream",
     "text": [
      "['1' '2' '3' '4' '5' '6' '7' '8' '9' '10' '11' '12' '13' '14' '15' '16'\n",
      " '17' '18' '19' '20' '432' '488' '486' '484' '419' '438' '454' '418' '410'\n",
      " '490' '477' '423' '412' '442' '406' '460' '447' '437' '449' '482' '499'\n",
      " '448' '408' '453' '497' '461' '434' '491' '498' '480' '471' '422' '407'\n",
      " '439' '405' '462' '445' '466' '436' '473' '409' '451' '468' '430' '431'\n",
      " '464' '470' '400' '426' '416' '493' '203' '200' '202' '495' '443' '248'\n",
      " '209' '297' '226' '245' '414' '234' '269' '479' '273' '210' '270' '452'\n",
      " '283' '217' '403' '465' '292' '278' '230' '249' '216' '220' '429' '207'\n",
      " '219' '233' '411' '250' '469' '232' '474' '281' '254' '287' '247' '263'\n",
      " '417' '288' '299' '296' '475' '494' '458' '275' '222' '404' '476' '467'\n",
      " '463' '291' '496' '450' '295' '487' '440' '481' '261' '294' '472' '267'\n",
      " '227' '415' '206' '241' '489' '224' '214' '282' '243' '244' '215' '235'\n",
      " '246' '274' '253' '402' '229' '433' '420' '435' '268' '264' '259' '444'\n",
      " '272' '258' '237' '485' '211' '285' '401' '201' '257' '455' '457' '252'\n",
      " '446' '483' '276' '240' '428' '456' '221' '421' '424' '239' '293' '225'\n",
      " '271' '441' '425' '478' '413' '213' '260' '427' '236' '459' '286' '492']\n"
     ]
    },
    {
     "name": "stderr",
     "output_type": "stream",
     "text": [
      "0it [00:00, ?it/s]\n"
     ]
    },
    {
     "name": "stdout",
     "output_type": "stream",
     "text": [
      "['1' '2' '3' '4' '5' '6' '7' '8' '9' '10' '11' '12' '13' '14' '15' '16'\n",
      " '17' '18' '19' '20' '432' '488' '486' '484' '419' '438' '454' '418' '410'\n",
      " '490' '477' '423' '412' '442' '406' '460' '447' '437' '449' '482' '499'\n",
      " '448' '408' '453' '497' '461' '434' '491' '498' '480' '471' '422' '407'\n",
      " '439' '405' '462' '445' '466' '436' '473' '409' '451' '468' '430' '431'\n",
      " '464' '470' '400' '426' '416' '493' '203' '200' '202' '495' '443' '248'\n",
      " '209' '297' '226' '245' '414' '234' '269' '479' '273' '210' '270' '452'\n",
      " '283' '217' '403' '465' '292' '278' '230' '249' '216' '220' '429' '207'\n",
      " '219' '233' '411' '250' '469' '232' '474' '281' '254' '287' '247' '263'\n",
      " '417' '288' '299' '296' '475' '494' '458' '275' '222' '404' '476' '467'\n",
      " '463' '291' '496' '450' '295' '487' '440' '481' '261' '294' '472' '267'\n",
      " '227' '415' '206' '241' '489' '224' '214' '282' '243' '244' '215' '235'\n",
      " '246' '274' '253' '402' '229' '433' '420' '435' '268' '264' '259' '444'\n",
      " '272' '258' '237' '485' '211' '285' '401' '201' '257' '455' '457' '252'\n",
      " '446' '483' '276' '240' '428' '456' '221' '421' '424' '239' '293' '225'\n",
      " '271' '441' '425' '478' '413' '213' '260' '427' '236' '459' '286' '492']\n"
     ]
    },
    {
     "name": "stderr",
     "output_type": "stream",
     "text": [
      "0it [00:00, ?it/s]\n"
     ]
    },
    {
     "name": "stdout",
     "output_type": "stream",
     "text": [
      "['1' '2' '3' '4' '5' '6' '7' '8' '9' '10' '11' '12' '13' '14' '15' '16'\n",
      " '17' '18' '19' '20' '432' '488' '486' '484' '419' '438' '454' '418' '410'\n",
      " '490' '477' '423' '412' '442' '406' '460' '447' '437' '449' '482' '499'\n",
      " '448' '408' '453' '497' '461' '434' '491' '498' '480' '471' '422' '407'\n",
      " '439' '405' '462' '445' '466' '436' '473' '409' '451' '468' '430' '431'\n",
      " '464' '470' '400' '426' '416' '493' '203' '200' '202' '495' '443' '248'\n",
      " '209' '297' '226' '245' '414' '234' '269' '479' '273' '210' '270' '452'\n",
      " '283' '217' '403' '465' '292' '278' '230' '249' '216' '220' '429' '207'\n",
      " '219' '233' '411' '250' '469' '232' '474' '281' '254' '287' '247' '263'\n",
      " '417' '288' '299' '296' '475' '494' '458' '275' '222' '404' '476' '467'\n",
      " '463' '291' '496' '450' '295' '487' '440' '481' '261' '294' '472' '267'\n",
      " '227' '415' '206' '241' '489' '224' '214' '282' '243' '244' '215' '235'\n",
      " '246' '274' '253' '402' '229' '433' '420' '435' '268' '264' '259' '444'\n",
      " '272' '258' '237' '485' '211' '285' '401' '201' '257' '455' '457' '252'\n",
      " '446' '483' '276' '240' '428' '456' '221' '421' '424' '239' '293' '225'\n",
      " '271' '441' '425' '478' '413' '213' '260' '427' '236' '459' '286' '492']\n"
     ]
    },
    {
     "name": "stderr",
     "output_type": "stream",
     "text": [
      "100%|█████████████████████████████████████████| 19/19 [00:00<00:00, 7230.25it/s]\n"
     ]
    },
    {
     "name": "stdout",
     "output_type": "stream",
     "text": [
      "['1' '2' '3' '4' '5' '6' '7' '8' '9' '10' '11' '12' '13' '14' '15' '16'\n",
      " '17' '18' '19' '20' '432' '488' '486' '484' '419' '438' '454' '418' '410'\n",
      " '490' '477' '423' '412' '442' '406' '460' '447' '437' '449' '482' '499'\n",
      " '448' '408' '453' '497' '461' '434' '491' '498' '480' '471' '422' '407'\n",
      " '439' '405' '462' '445' '466' '436' '473' '409' '451' '468' '430' '431'\n",
      " '464' '470' '400' '426' '416' '493' '203' '200' '202' '495' '443' '248'\n",
      " '209' '297' '226' '245' '414' '234' '269' '479' '273' '210' '270' '452'\n",
      " '283' '217' '403' '465' '292' '278' '230' '249' '216' '220' '429' '207'\n",
      " '219' '233' '411' '250' '469' '232' '474' '281' '254' '287' '247' '263'\n",
      " '417' '288' '299' '296' '475' '494' '458' '275' '222' '404' '476' '467'\n",
      " '463' '291' '496' '450' '295' '487' '440' '481' '261' '294' '472' '267'\n",
      " '227' '415' '206' '241' '489' '224' '214' '282' '243' '244' '215' '235'\n",
      " '246' '274' '253' '402' '229' '433' '420' '435' '268' '264' '259' '444'\n",
      " '272' '258' '237' '485' '211' '285' '401' '201' '257' '455' '457' '252'\n",
      " '446' '483' '276' '240' '428' '456' '221' '421' '424' '239' '293' '225'\n",
      " '271' '441' '425' '478' '413' '213' '260' '427' '236' '459' '286' '492']\n"
     ]
    },
    {
     "name": "stderr",
     "output_type": "stream",
     "text": [
      "0it [00:00, ?it/s]\n"
     ]
    },
    {
     "name": "stdout",
     "output_type": "stream",
     "text": [
      "['1' '2' '3' '4' '5' '6' '7' '8' '9' '10' '11' '12' '13' '14' '15' '16'\n",
      " '17' '18' '19' '20' '432' '488' '486' '484' '419' '438' '454' '418' '410'\n",
      " '490' '477' '423' '412' '442' '406' '460' '447' '437' '449' '482' '499'\n",
      " '448' '408' '453' '497' '461' '434' '491' '498' '480' '471' '422' '407'\n",
      " '439' '405' '462' '445' '466' '436' '473' '409' '451' '468' '430' '431'\n",
      " '464' '470' '400' '426' '416' '493' '203' '200' '202' '495' '443' '248'\n",
      " '209' '297' '226' '245' '414' '234' '269' '479' '273' '210' '270' '452'\n",
      " '283' '217' '403' '465' '292' '278' '230' '249' '216' '220' '429' '207'\n",
      " '219' '233' '411' '250' '469' '232' '474' '281' '254' '287' '247' '263'\n",
      " '417' '288' '299' '296' '475' '494' '458' '275' '222' '404' '476' '467'\n",
      " '463' '291' '496' '450' '295' '487' '440' '481' '261' '294' '472' '267'\n",
      " '227' '415' '206' '241' '489' '224' '214' '282' '243' '244' '215' '235'\n",
      " '246' '274' '253' '402' '229' '433' '420' '435' '268' '264' '259' '444'\n",
      " '272' '258' '237' '485' '211' '285' '401' '201' '257' '455' '457' '252'\n",
      " '446' '483' '276' '240' '428' '456' '221' '421' '424' '239' '293' '225'\n",
      " '271' '441' '425' '478' '413' '213' '260' '427' '236' '459' '286' '492']\n"
     ]
    },
    {
     "name": "stderr",
     "output_type": "stream",
     "text": [
      "100%|█████████████████████████████████████████| 18/18 [00:00<00:00, 1887.81it/s]\n"
     ]
    },
    {
     "name": "stdout",
     "output_type": "stream",
     "text": [
      "['1' '2' '3' '4' '5' '6' '7' '8' '9' '10' '11' '12' '13' '14' '15' '16'\n",
      " '17' '18' '19' '20' '432' '488' '486' '484' '419' '438' '454' '418' '410'\n",
      " '490' '477' '423' '412' '442' '406' '460' '447' '437' '449' '482' '499'\n",
      " '448' '408' '453' '497' '461' '434' '491' '498' '480' '471' '422' '407'\n",
      " '439' '405' '462' '445' '466' '436' '473' '409' '451' '468' '430' '431'\n",
      " '464' '470' '400' '426' '416' '493' '203' '200' '202' '495' '443' '248'\n",
      " '209' '297' '226' '245' '414' '234' '269' '479' '273' '210' '270' '452'\n",
      " '283' '217' '403' '465' '292' '278' '230' '249' '216' '220' '429' '207'\n",
      " '219' '233' '411' '250' '469' '232' '474' '281' '254' '287' '247' '263'\n",
      " '417' '288' '299' '296' '475' '494' '458' '275' '222' '404' '476' '467'\n",
      " '463' '291' '496' '450' '295' '487' '440' '481' '261' '294' '472' '267'\n",
      " '227' '415' '206' '241' '489' '224' '214' '282' '243' '244' '215' '235'\n",
      " '246' '274' '253' '402' '229' '433' '420' '435' '268' '264' '259' '444'\n",
      " '272' '258' '237' '485' '211' '285' '401' '201' '257' '455' '457' '252'\n",
      " '446' '483' '276' '240' '428' '456' '221' '421' '424' '239' '293' '225'\n",
      " '271' '441' '425' '478' '413' '213' '260' '427' '236' '459' '286' '492']\n"
     ]
    },
    {
     "name": "stderr",
     "output_type": "stream",
     "text": [
      "100%|██████████████████████████████████████████| 11/11 [00:00<00:00, 182.42it/s]\n"
     ]
    },
    {
     "name": "stdout",
     "output_type": "stream",
     "text": [
      "['1' '2' '3' '4' '5' '6' '7' '8' '9' '10' '11' '12' '13' '14' '15' '16'\n",
      " '17' '18' '19' '20' '432' '488' '486' '484' '419' '438' '454' '418' '410'\n",
      " '490' '477' '423' '412' '442' '406' '460' '447' '437' '449' '482' '499'\n",
      " '448' '408' '453' '497' '461' '434' '491' '498' '480' '471' '422' '407'\n",
      " '439' '405' '462' '445' '466' '436' '473' '409' '451' '468' '430' '431'\n",
      " '464' '470' '400' '426' '416' '493' '203' '200' '202' '495' '443' '248'\n",
      " '209' '297' '226' '245' '414' '234' '269' '479' '273' '210' '270' '452'\n",
      " '283' '217' '403' '465' '292' '278' '230' '249' '216' '220' '429' '207'\n",
      " '219' '233' '411' '250' '469' '232' '474' '281' '254' '287' '247' '263'\n",
      " '417' '288' '299' '296' '475' '494' '458' '275' '222' '404' '476' '467'\n",
      " '463' '291' '496' '450' '295' '487' '440' '481' '261' '294' '472' '267'\n",
      " '227' '415' '206' '241' '489' '224' '214' '282' '243' '244' '215' '235'\n",
      " '246' '274' '253' '402' '229' '433' '420' '435' '268' '264' '259' '444'\n",
      " '272' '258' '237' '485' '211' '285' '401' '201' '257' '455' '457' '252'\n",
      " '446' '483' '276' '240' '428' '456' '221' '421' '424' '239' '293' '225'\n",
      " '271' '441' '425' '478' '413' '213' '260' '427' '236' '459' '286' '492']\n"
     ]
    },
    {
     "name": "stderr",
     "output_type": "stream",
     "text": [
      "0it [00:00, ?it/s]\n"
     ]
    },
    {
     "name": "stdout",
     "output_type": "stream",
     "text": [
      "['1' '2' '3' '4' '5' '6' '7' '8' '9' '10' '11' '12' '13' '14' '15' '16'\n",
      " '17' '18' '19' '20' '432' '488' '486' '484' '419' '438' '454' '418' '410'\n",
      " '490' '477' '423' '412' '442' '406' '460' '447' '437' '449' '482' '499'\n",
      " '448' '408' '453' '497' '461' '434' '491' '498' '480' '471' '422' '407'\n",
      " '439' '405' '462' '445' '466' '436' '473' '409' '451' '468' '430' '431'\n",
      " '464' '470' '400' '426' '416' '493' '203' '200' '202' '495' '443' '248'\n",
      " '209' '297' '226' '245' '414' '234' '269' '479' '273' '210' '270' '452'\n",
      " '283' '217' '403' '465' '292' '278' '230' '249' '216' '220' '429' '207'\n",
      " '219' '233' '411' '250' '469' '232' '474' '281' '254' '287' '247' '263'\n",
      " '417' '288' '299' '296' '475' '494' '458' '275' '222' '404' '476' '467'\n",
      " '463' '291' '496' '450' '295' '487' '440' '481' '261' '294' '472' '267'\n",
      " '227' '415' '206' '241' '489' '224' '214' '282' '243' '244' '215' '235'\n",
      " '246' '274' '253' '402' '229' '433' '420' '435' '268' '264' '259' '444'\n",
      " '272' '258' '237' '485' '211' '285' '401' '201' '257' '455' '457' '252'\n",
      " '446' '483' '276' '240' '428' '456' '221' '421' '424' '239' '293' '225'\n",
      " '271' '441' '425' '478' '413' '213' '260' '427' '236' '459' '286' '492']\n"
     ]
    },
    {
     "name": "stderr",
     "output_type": "stream",
     "text": [
      "0it [00:00, ?it/s]\n"
     ]
    },
    {
     "name": "stdout",
     "output_type": "stream",
     "text": [
      "['1' '2' '3' '4' '5' '6' '7' '8' '9' '10' '11' '12' '13' '14' '15' '16'\n",
      " '17' '18' '19' '20' '432' '488' '486' '484' '419' '438' '454' '418' '410'\n",
      " '490' '477' '423' '412' '442' '406' '460' '447' '437' '449' '482' '499'\n",
      " '448' '408' '453' '497' '461' '434' '491' '498' '480' '471' '422' '407'\n",
      " '439' '405' '462' '445' '466' '436' '473' '409' '451' '468' '430' '431'\n",
      " '464' '470' '400' '426' '416' '493' '203' '200' '202' '495' '443' '248'\n",
      " '209' '297' '226' '245' '414' '234' '269' '479' '273' '210' '270' '452'\n",
      " '283' '217' '403' '465' '292' '278' '230' '249' '216' '220' '429' '207'\n",
      " '219' '233' '411' '250' '469' '232' '474' '281' '254' '287' '247' '263'\n",
      " '417' '288' '299' '296' '475' '494' '458' '275' '222' '404' '476' '467'\n",
      " '463' '291' '496' '450' '295' '487' '440' '481' '261' '294' '472' '267'\n",
      " '227' '415' '206' '241' '489' '224' '214' '282' '243' '244' '215' '235'\n",
      " '246' '274' '253' '402' '229' '433' '420' '435' '268' '264' '259' '444'\n",
      " '272' '258' '237' '485' '211' '285' '401' '201' '257' '455' '457' '252'\n",
      " '446' '483' '276' '240' '428' '456' '221' '421' '424' '239' '293' '225'\n",
      " '271' '441' '425' '478' '413' '213' '260' '427' '236' '459' '286' '492']\n"
     ]
    },
    {
     "name": "stderr",
     "output_type": "stream",
     "text": [
      "100%|█████████████████████████████████████████| 19/19 [00:00<00:00, 7639.90it/s]\n"
     ]
    },
    {
     "name": "stdout",
     "output_type": "stream",
     "text": [
      "['1' '2' '3' '4' '5' '6' '7' '8' '9' '10' '11' '12' '13' '14' '15' '16'\n",
      " '17' '18' '19' '20' '432' '488' '486' '484' '419' '438' '454' '418' '410'\n",
      " '490' '477' '423' '412' '442' '406' '460' '447' '437' '449' '482' '499'\n",
      " '448' '408' '453' '497' '461' '434' '491' '498' '480' '471' '422' '407'\n",
      " '439' '405' '462' '445' '466' '436' '473' '409' '451' '468' '430' '431'\n",
      " '464' '470' '400' '426' '416' '493' '203' '200' '202' '495' '443' '248'\n",
      " '209' '297' '226' '245' '414' '234' '269' '479' '273' '210' '270' '452'\n",
      " '283' '217' '403' '465' '292' '278' '230' '249' '216' '220' '429' '207'\n",
      " '219' '233' '411' '250' '469' '232' '474' '281' '254' '287' '247' '263'\n",
      " '417' '288' '299' '296' '475' '494' '458' '275' '222' '404' '476' '467'\n",
      " '463' '291' '496' '450' '295' '487' '440' '481' '261' '294' '472' '267'\n",
      " '227' '415' '206' '241' '489' '224' '214' '282' '243' '244' '215' '235'\n",
      " '246' '274' '253' '402' '229' '433' '420' '435' '268' '264' '259' '444'\n",
      " '272' '258' '237' '485' '211' '285' '401' '201' '257' '455' '457' '252'\n",
      " '446' '483' '276' '240' '428' '456' '221' '421' '424' '239' '293' '225'\n",
      " '271' '441' '425' '478' '413' '213' '260' '427' '236' '459' '286' '492']\n"
     ]
    },
    {
     "name": "stderr",
     "output_type": "stream",
     "text": [
      "0it [00:00, ?it/s]\n"
     ]
    },
    {
     "name": "stdout",
     "output_type": "stream",
     "text": [
      "['1' '2' '3' '4' '5' '6' '7' '8' '9' '10' '11' '12' '13' '14' '15' '16'\n",
      " '17' '18' '19' '20' '432' '488' '486' '484' '419' '438' '454' '418' '410'\n",
      " '490' '477' '423' '412' '442' '406' '460' '447' '437' '449' '482' '499'\n",
      " '448' '408' '453' '497' '461' '434' '491' '498' '480' '471' '422' '407'\n",
      " '439' '405' '462' '445' '466' '436' '473' '409' '451' '468' '430' '431'\n",
      " '464' '470' '400' '426' '416' '493' '203' '200' '202' '495' '443' '248'\n",
      " '209' '297' '226' '245' '414' '234' '269' '479' '273' '210' '270' '452'\n",
      " '283' '217' '403' '465' '292' '278' '230' '249' '216' '220' '429' '207'\n",
      " '219' '233' '411' '250' '469' '232' '474' '281' '254' '287' '247' '263'\n",
      " '417' '288' '299' '296' '475' '494' '458' '275' '222' '404' '476' '467'\n",
      " '463' '291' '496' '450' '295' '487' '440' '481' '261' '294' '472' '267'\n",
      " '227' '415' '206' '241' '489' '224' '214' '282' '243' '244' '215' '235'\n",
      " '246' '274' '253' '402' '229' '433' '420' '435' '268' '264' '259' '444'\n",
      " '272' '258' '237' '485' '211' '285' '401' '201' '257' '455' '457' '252'\n",
      " '446' '483' '276' '240' '428' '456' '221' '421' '424' '239' '293' '225'\n",
      " '271' '441' '425' '478' '413' '213' '260' '427' '236' '459' '286' '492']\n"
     ]
    },
    {
     "name": "stderr",
     "output_type": "stream",
     "text": [
      "0it [00:00, ?it/s]\n"
     ]
    },
    {
     "name": "stdout",
     "output_type": "stream",
     "text": [
      "['1' '2' '3' '4' '5' '6' '7' '8' '9' '10' '11' '12' '13' '14' '15' '16'\n",
      " '17' '18' '19' '20' '432' '488' '486' '484' '419' '438' '454' '418' '410'\n",
      " '490' '477' '423' '412' '442' '406' '460' '447' '437' '449' '482' '499'\n",
      " '448' '408' '453' '497' '461' '434' '491' '498' '480' '471' '422' '407'\n",
      " '439' '405' '462' '445' '466' '436' '473' '409' '451' '468' '430' '431'\n",
      " '464' '470' '400' '426' '416' '493' '203' '200' '202' '495' '443' '248'\n",
      " '209' '297' '226' '245' '414' '234' '269' '479' '273' '210' '270' '452'\n",
      " '283' '217' '403' '465' '292' '278' '230' '249' '216' '220' '429' '207'\n",
      " '219' '233' '411' '250' '469' '232' '474' '281' '254' '287' '247' '263'\n",
      " '417' '288' '299' '296' '475' '494' '458' '275' '222' '404' '476' '467'\n",
      " '463' '291' '496' '450' '295' '487' '440' '481' '261' '294' '472' '267'\n",
      " '227' '415' '206' '241' '489' '224' '214' '282' '243' '244' '215' '235'\n",
      " '246' '274' '253' '402' '229' '433' '420' '435' '268' '264' '259' '444'\n",
      " '272' '258' '237' '485' '211' '285' '401' '201' '257' '455' '457' '252'\n",
      " '446' '483' '276' '240' '428' '456' '221' '421' '424' '239' '293' '225'\n",
      " '271' '441' '425' '478' '413' '213' '260' '427' '236' '459' '286' '492']\n"
     ]
    },
    {
     "name": "stderr",
     "output_type": "stream",
     "text": [
      "0it [00:00, ?it/s]\n"
     ]
    },
    {
     "name": "stdout",
     "output_type": "stream",
     "text": [
      "['1' '2' '3' '4' '5' '6' '7' '8' '9' '10' '11' '12' '13' '14' '15' '16'\n",
      " '17' '18' '19' '20' '432' '488' '486' '484' '419' '438' '454' '418' '410'\n",
      " '490' '477' '423' '412' '442' '406' '460' '447' '437' '449' '482' '499'\n",
      " '448' '408' '453' '497' '461' '434' '491' '498' '480' '471' '422' '407'\n",
      " '439' '405' '462' '445' '466' '436' '473' '409' '451' '468' '430' '431'\n",
      " '464' '470' '400' '426' '416' '493' '203' '200' '202' '495' '443' '248'\n",
      " '209' '297' '226' '245' '414' '234' '269' '479' '273' '210' '270' '452'\n",
      " '283' '217' '403' '465' '292' '278' '230' '249' '216' '220' '429' '207'\n",
      " '219' '233' '411' '250' '469' '232' '474' '281' '254' '287' '247' '263'\n",
      " '417' '288' '299' '296' '475' '494' '458' '275' '222' '404' '476' '467'\n",
      " '463' '291' '496' '450' '295' '487' '440' '481' '261' '294' '472' '267'\n",
      " '227' '415' '206' '241' '489' '224' '214' '282' '243' '244' '215' '235'\n",
      " '246' '274' '253' '402' '229' '433' '420' '435' '268' '264' '259' '444'\n",
      " '272' '258' '237' '485' '211' '285' '401' '201' '257' '455' '457' '252'\n",
      " '446' '483' '276' '240' '428' '456' '221' '421' '424' '239' '293' '225'\n",
      " '271' '441' '425' '478' '413' '213' '260' '427' '236' '459' '286' '492']\n"
     ]
    },
    {
     "name": "stderr",
     "output_type": "stream",
     "text": [
      "100%|█████████████████████████████████████████| 20/20 [00:00<00:00, 2781.65it/s]\n"
     ]
    },
    {
     "name": "stdout",
     "output_type": "stream",
     "text": [
      "['1' '2' '3' '4' '5' '6' '7' '8' '9' '10' '11' '12' '13' '14' '15' '16'\n",
      " '17' '18' '19' '20' '432' '488' '486' '484' '419' '438' '454' '418' '410'\n",
      " '490' '477' '423' '412' '442' '406' '460' '447' '437' '449' '482' '499'\n",
      " '448' '408' '453' '497' '461' '434' '491' '498' '480' '471' '422' '407'\n",
      " '439' '405' '462' '445' '466' '436' '473' '409' '451' '468' '430' '431'\n",
      " '464' '470' '400' '426' '416' '493' '203' '200' '202' '495' '443' '248'\n",
      " '209' '297' '226' '245' '414' '234' '269' '479' '273' '210' '270' '452'\n",
      " '283' '217' '403' '465' '292' '278' '230' '249' '216' '220' '429' '207'\n",
      " '219' '233' '411' '250' '469' '232' '474' '281' '254' '287' '247' '263'\n",
      " '417' '288' '299' '296' '475' '494' '458' '275' '222' '404' '476' '467'\n",
      " '463' '291' '496' '450' '295' '487' '440' '481' '261' '294' '472' '267'\n",
      " '227' '415' '206' '241' '489' '224' '214' '282' '243' '244' '215' '235'\n",
      " '246' '274' '253' '402' '229' '433' '420' '435' '268' '264' '259' '444'\n",
      " '272' '258' '237' '485' '211' '285' '401' '201' '257' '455' '457' '252'\n",
      " '446' '483' '276' '240' '428' '456' '221' '421' '424' '239' '293' '225'\n",
      " '271' '441' '425' '478' '413' '213' '260' '427' '236' '459' '286' '492']\n"
     ]
    },
    {
     "name": "stderr",
     "output_type": "stream",
     "text": [
      "100%|█████████████████████████████████████████| 19/19 [00:00<00:00, 8535.97it/s]\n"
     ]
    },
    {
     "name": "stdout",
     "output_type": "stream",
     "text": [
      "['1' '2' '3' '4' '5' '6' '7' '8' '9' '10' '11' '12' '13' '14' '15' '16'\n",
      " '17' '18' '19' '20' '432' '488' '486' '484' '419' '438' '454' '418' '410'\n",
      " '490' '477' '423' '412' '442' '406' '460' '447' '437' '449' '482' '499'\n",
      " '448' '408' '453' '497' '461' '434' '491' '498' '480' '471' '422' '407'\n",
      " '439' '405' '462' '445' '466' '436' '473' '409' '451' '468' '430' '431'\n",
      " '464' '470' '400' '426' '416' '493' '203' '200' '202' '495' '443' '248'\n",
      " '209' '297' '226' '245' '414' '234' '269' '479' '273' '210' '270' '452'\n",
      " '283' '217' '403' '465' '292' '278' '230' '249' '216' '220' '429' '207'\n",
      " '219' '233' '411' '250' '469' '232' '474' '281' '254' '287' '247' '263'\n",
      " '417' '288' '299' '296' '475' '494' '458' '275' '222' '404' '476' '467'\n",
      " '463' '291' '496' '450' '295' '487' '440' '481' '261' '294' '472' '267'\n",
      " '227' '415' '206' '241' '489' '224' '214' '282' '243' '244' '215' '235'\n",
      " '246' '274' '253' '402' '229' '433' '420' '435' '268' '264' '259' '444'\n",
      " '272' '258' '237' '485' '211' '285' '401' '201' '257' '455' '457' '252'\n",
      " '446' '483' '276' '240' '428' '456' '221' '421' '424' '239' '293' '225'\n",
      " '271' '441' '425' '478' '413' '213' '260' '427' '236' '459' '286' '492']\n"
     ]
    },
    {
     "name": "stderr",
     "output_type": "stream",
     "text": [
      "0it [00:00, ?it/s]\n"
     ]
    },
    {
     "name": "stdout",
     "output_type": "stream",
     "text": [
      "['1' '2' '3' '4' '5' '6' '7' '8' '9' '10' '11' '12' '13' '14' '15' '16'\n",
      " '17' '18' '19' '20' '432' '488' '486' '484' '419' '438' '454' '418' '410'\n",
      " '490' '477' '423' '412' '442' '406' '460' '447' '437' '449' '482' '499'\n",
      " '448' '408' '453' '497' '461' '434' '491' '498' '480' '471' '422' '407'\n",
      " '439' '405' '462' '445' '466' '436' '473' '409' '451' '468' '430' '431'\n",
      " '464' '470' '400' '426' '416' '493' '203' '200' '202' '495' '443' '248'\n",
      " '209' '297' '226' '245' '414' '234' '269' '479' '273' '210' '270' '452'\n",
      " '283' '217' '403' '465' '292' '278' '230' '249' '216' '220' '429' '207'\n",
      " '219' '233' '411' '250' '469' '232' '474' '281' '254' '287' '247' '263'\n",
      " '417' '288' '299' '296' '475' '494' '458' '275' '222' '404' '476' '467'\n",
      " '463' '291' '496' '450' '295' '487' '440' '481' '261' '294' '472' '267'\n",
      " '227' '415' '206' '241' '489' '224' '214' '282' '243' '244' '215' '235'\n",
      " '246' '274' '253' '402' '229' '433' '420' '435' '268' '264' '259' '444'\n",
      " '272' '258' '237' '485' '211' '285' '401' '201' '257' '455' '457' '252'\n",
      " '446' '483' '276' '240' '428' '456' '221' '421' '424' '239' '293' '225'\n",
      " '271' '441' '425' '478' '413' '213' '260' '427' '236' '459' '286' '492']\n"
     ]
    },
    {
     "name": "stderr",
     "output_type": "stream",
     "text": [
      "100%|██████████████████████████████████████████| 15/15 [00:00<00:00, 185.35it/s]\n"
     ]
    },
    {
     "name": "stdout",
     "output_type": "stream",
     "text": [
      "['1' '2' '3' '4' '5' '6' '7' '8' '9' '10' '11' '12' '13' '14' '15' '16'\n",
      " '17' '18' '19' '20' '432' '488' '486' '484' '419' '438' '454' '418' '410'\n",
      " '490' '477' '423' '412' '442' '406' '460' '447' '437' '449' '482' '499'\n",
      " '448' '408' '453' '497' '461' '434' '491' '498' '480' '471' '422' '407'\n",
      " '439' '405' '462' '445' '466' '436' '473' '409' '451' '468' '430' '431'\n",
      " '464' '470' '400' '426' '416' '493' '203' '200' '202' '495' '443' '248'\n",
      " '209' '297' '226' '245' '414' '234' '269' '479' '273' '210' '270' '452'\n",
      " '283' '217' '403' '465' '292' '278' '230' '249' '216' '220' '429' '207'\n",
      " '219' '233' '411' '250' '469' '232' '474' '281' '254' '287' '247' '263'\n",
      " '417' '288' '299' '296' '475' '494' '458' '275' '222' '404' '476' '467'\n",
      " '463' '291' '496' '450' '295' '487' '440' '481' '261' '294' '472' '267'\n",
      " '227' '415' '206' '241' '489' '224' '214' '282' '243' '244' '215' '235'\n",
      " '246' '274' '253' '402' '229' '433' '420' '435' '268' '264' '259' '444'\n",
      " '272' '258' '237' '485' '211' '285' '401' '201' '257' '455' '457' '252'\n",
      " '446' '483' '276' '240' '428' '456' '221' '421' '424' '239' '293' '225'\n",
      " '271' '441' '425' '478' '413' '213' '260' '427' '236' '459' '286' '492']\n"
     ]
    },
    {
     "name": "stderr",
     "output_type": "stream",
     "text": [
      "0it [00:00, ?it/s]\n"
     ]
    },
    {
     "name": "stdout",
     "output_type": "stream",
     "text": [
      "['1' '2' '3' '4' '5' '6' '7' '8' '9' '10' '11' '12' '13' '14' '15' '16'\n",
      " '17' '18' '19' '20' '432' '488' '486' '484' '419' '438' '454' '418' '410'\n",
      " '490' '477' '423' '412' '442' '406' '460' '447' '437' '449' '482' '499'\n",
      " '448' '408' '453' '497' '461' '434' '491' '498' '480' '471' '422' '407'\n",
      " '439' '405' '462' '445' '466' '436' '473' '409' '451' '468' '430' '431'\n",
      " '464' '470' '400' '426' '416' '493' '203' '200' '202' '495' '443' '248'\n",
      " '209' '297' '226' '245' '414' '234' '269' '479' '273' '210' '270' '452'\n",
      " '283' '217' '403' '465' '292' '278' '230' '249' '216' '220' '429' '207'\n",
      " '219' '233' '411' '250' '469' '232' '474' '281' '254' '287' '247' '263'\n",
      " '417' '288' '299' '296' '475' '494' '458' '275' '222' '404' '476' '467'\n",
      " '463' '291' '496' '450' '295' '487' '440' '481' '261' '294' '472' '267'\n",
      " '227' '415' '206' '241' '489' '224' '214' '282' '243' '244' '215' '235'\n",
      " '246' '274' '253' '402' '229' '433' '420' '435' '268' '264' '259' '444'\n",
      " '272' '258' '237' '485' '211' '285' '401' '201' '257' '455' '457' '252'\n",
      " '446' '483' '276' '240' '428' '456' '221' '421' '424' '239' '293' '225'\n",
      " '271' '441' '425' '478' '413' '213' '260' '427' '236' '459' '286' '492']\n"
     ]
    },
    {
     "name": "stderr",
     "output_type": "stream",
     "text": [
      "100%|██████████████████████████████████████████| 12/12 [00:00<00:00, 185.39it/s]\n"
     ]
    },
    {
     "name": "stdout",
     "output_type": "stream",
     "text": [
      "['1' '2' '3' '4' '5' '6' '7' '8' '9' '10' '11' '12' '13' '14' '15' '16'\n",
      " '17' '18' '19' '20' '432' '488' '486' '484' '419' '438' '454' '418' '410'\n",
      " '490' '477' '423' '412' '442' '406' '460' '447' '437' '449' '482' '499'\n",
      " '448' '408' '453' '497' '461' '434' '491' '498' '480' '471' '422' '407'\n",
      " '439' '405' '462' '445' '466' '436' '473' '409' '451' '468' '430' '431'\n",
      " '464' '470' '400' '426' '416' '493' '203' '200' '202' '495' '443' '248'\n",
      " '209' '297' '226' '245' '414' '234' '269' '479' '273' '210' '270' '452'\n",
      " '283' '217' '403' '465' '292' '278' '230' '249' '216' '220' '429' '207'\n",
      " '219' '233' '411' '250' '469' '232' '474' '281' '254' '287' '247' '263'\n",
      " '417' '288' '299' '296' '475' '494' '458' '275' '222' '404' '476' '467'\n",
      " '463' '291' '496' '450' '295' '487' '440' '481' '261' '294' '472' '267'\n",
      " '227' '415' '206' '241' '489' '224' '214' '282' '243' '244' '215' '235'\n",
      " '246' '274' '253' '402' '229' '433' '420' '435' '268' '264' '259' '444'\n",
      " '272' '258' '237' '485' '211' '285' '401' '201' '257' '455' '457' '252'\n",
      " '446' '483' '276' '240' '428' '456' '221' '421' '424' '239' '293' '225'\n",
      " '271' '441' '425' '478' '413' '213' '260' '427' '236' '459' '286' '492']\n"
     ]
    },
    {
     "name": "stderr",
     "output_type": "stream",
     "text": [
      "0it [00:00, ?it/s]\n"
     ]
    },
    {
     "name": "stdout",
     "output_type": "stream",
     "text": [
      "['1' '2' '3' '4' '5' '6' '7' '8' '9' '10' '11' '12' '13' '14' '15' '16'\n",
      " '17' '18' '19' '20' '432' '488' '486' '484' '419' '438' '454' '418' '410'\n",
      " '490' '477' '423' '412' '442' '406' '460' '447' '437' '449' '482' '499'\n",
      " '448' '408' '453' '497' '461' '434' '491' '498' '480' '471' '422' '407'\n",
      " '439' '405' '462' '445' '466' '436' '473' '409' '451' '468' '430' '431'\n",
      " '464' '470' '400' '426' '416' '493' '203' '200' '202' '495' '443' '248'\n",
      " '209' '297' '226' '245' '414' '234' '269' '479' '273' '210' '270' '452'\n",
      " '283' '217' '403' '465' '292' '278' '230' '249' '216' '220' '429' '207'\n",
      " '219' '233' '411' '250' '469' '232' '474' '281' '254' '287' '247' '263'\n",
      " '417' '288' '299' '296' '475' '494' '458' '275' '222' '404' '476' '467'\n",
      " '463' '291' '496' '450' '295' '487' '440' '481' '261' '294' '472' '267'\n",
      " '227' '415' '206' '241' '489' '224' '214' '282' '243' '244' '215' '235'\n",
      " '246' '274' '253' '402' '229' '433' '420' '435' '268' '264' '259' '444'\n",
      " '272' '258' '237' '485' '211' '285' '401' '201' '257' '455' '457' '252'\n",
      " '446' '483' '276' '240' '428' '456' '221' '421' '424' '239' '293' '225'\n",
      " '271' '441' '425' '478' '413' '213' '260' '427' '236' '459' '286' '492']\n"
     ]
    },
    {
     "name": "stderr",
     "output_type": "stream",
     "text": [
      "0it [00:00, ?it/s]\n"
     ]
    },
    {
     "name": "stdout",
     "output_type": "stream",
     "text": [
      "['1' '2' '3' '4' '5' '6' '7' '8' '9' '10' '11' '12' '13' '14' '15' '16'\n",
      " '17' '18' '19' '20' '432' '488' '486' '484' '419' '438' '454' '418' '410'\n",
      " '490' '477' '423' '412' '442' '406' '460' '447' '437' '449' '482' '499'\n",
      " '448' '408' '453' '497' '461' '434' '491' '498' '480' '471' '422' '407'\n",
      " '439' '405' '462' '445' '466' '436' '473' '409' '451' '468' '430' '431'\n",
      " '464' '470' '400' '426' '416' '493' '203' '200' '202' '495' '443' '248'\n",
      " '209' '297' '226' '245' '414' '234' '269' '479' '273' '210' '270' '452'\n",
      " '283' '217' '403' '465' '292' '278' '230' '249' '216' '220' '429' '207'\n",
      " '219' '233' '411' '250' '469' '232' '474' '281' '254' '287' '247' '263'\n",
      " '417' '288' '299' '296' '475' '494' '458' '275' '222' '404' '476' '467'\n",
      " '463' '291' '496' '450' '295' '487' '440' '481' '261' '294' '472' '267'\n",
      " '227' '415' '206' '241' '489' '224' '214' '282' '243' '244' '215' '235'\n",
      " '246' '274' '253' '402' '229' '433' '420' '435' '268' '264' '259' '444'\n",
      " '272' '258' '237' '485' '211' '285' '401' '201' '257' '455' '457' '252'\n",
      " '446' '483' '276' '240' '428' '456' '221' '421' '424' '239' '293' '225'\n",
      " '271' '441' '425' '478' '413' '213' '260' '427' '236' '459' '286' '492']\n"
     ]
    },
    {
     "name": "stderr",
     "output_type": "stream",
     "text": [
      "0it [00:00, ?it/s]\n"
     ]
    },
    {
     "name": "stdout",
     "output_type": "stream",
     "text": [
      "['1' '2' '3' '4' '5' '6' '7' '8' '9' '10' '11' '12' '13' '14' '15' '16'\n",
      " '17' '18' '19' '20' '432' '488' '486' '484' '419' '438' '454' '418' '410'\n",
      " '490' '477' '423' '412' '442' '406' '460' '447' '437' '449' '482' '499'\n",
      " '448' '408' '453' '497' '461' '434' '491' '498' '480' '471' '422' '407'\n",
      " '439' '405' '462' '445' '466' '436' '473' '409' '451' '468' '430' '431'\n",
      " '464' '470' '400' '426' '416' '493' '203' '200' '202' '495' '443' '248'\n",
      " '209' '297' '226' '245' '414' '234' '269' '479' '273' '210' '270' '452'\n",
      " '283' '217' '403' '465' '292' '278' '230' '249' '216' '220' '429' '207'\n",
      " '219' '233' '411' '250' '469' '232' '474' '281' '254' '287' '247' '263'\n",
      " '417' '288' '299' '296' '475' '494' '458' '275' '222' '404' '476' '467'\n",
      " '463' '291' '496' '450' '295' '487' '440' '481' '261' '294' '472' '267'\n",
      " '227' '415' '206' '241' '489' '224' '214' '282' '243' '244' '215' '235'\n",
      " '246' '274' '253' '402' '229' '433' '420' '435' '268' '264' '259' '444'\n",
      " '272' '258' '237' '485' '211' '285' '401' '201' '257' '455' '457' '252'\n",
      " '446' '483' '276' '240' '428' '456' '221' '421' '424' '239' '293' '225'\n",
      " '271' '441' '425' '478' '413' '213' '260' '427' '236' '459' '286' '492']\n"
     ]
    },
    {
     "name": "stderr",
     "output_type": "stream",
     "text": [
      "100%|█████████████████████████████████████████| 20/20 [00:00<00:00, 4494.54it/s]\n"
     ]
    },
    {
     "name": "stdout",
     "output_type": "stream",
     "text": [
      "['1' '2' '3' '4' '5' '6' '7' '8' '9' '10' '11' '12' '13' '14' '15' '16'\n",
      " '17' '18' '19' '20' '432' '488' '486' '484' '419' '438' '454' '418' '410'\n",
      " '490' '477' '423' '412' '442' '406' '460' '447' '437' '449' '482' '499'\n",
      " '448' '408' '453' '497' '461' '434' '491' '498' '480' '471' '422' '407'\n",
      " '439' '405' '462' '445' '466' '436' '473' '409' '451' '468' '430' '431'\n",
      " '464' '470' '400' '426' '416' '493' '203' '200' '202' '495' '443' '248'\n",
      " '209' '297' '226' '245' '414' '234' '269' '479' '273' '210' '270' '452'\n",
      " '283' '217' '403' '465' '292' '278' '230' '249' '216' '220' '429' '207'\n",
      " '219' '233' '411' '250' '469' '232' '474' '281' '254' '287' '247' '263'\n",
      " '417' '288' '299' '296' '475' '494' '458' '275' '222' '404' '476' '467'\n",
      " '463' '291' '496' '450' '295' '487' '440' '481' '261' '294' '472' '267'\n",
      " '227' '415' '206' '241' '489' '224' '214' '282' '243' '244' '215' '235'\n",
      " '246' '274' '253' '402' '229' '433' '420' '435' '268' '264' '259' '444'\n",
      " '272' '258' '237' '485' '211' '285' '401' '201' '257' '455' '457' '252'\n",
      " '446' '483' '276' '240' '428' '456' '221' '421' '424' '239' '293' '225'\n",
      " '271' '441' '425' '478' '413' '213' '260' '427' '236' '459' '286' '492']\n"
     ]
    },
    {
     "name": "stderr",
     "output_type": "stream",
     "text": [
      "0it [00:00, ?it/s]\n"
     ]
    },
    {
     "name": "stdout",
     "output_type": "stream",
     "text": [
      "['1' '2' '3' '4' '5' '6' '7' '8' '9' '10' '11' '12' '13' '14' '15' '16'\n",
      " '17' '18' '19' '20' '432' '488' '486' '484' '419' '438' '454' '418' '410'\n",
      " '490' '477' '423' '412' '442' '406' '460' '447' '437' '449' '482' '499'\n",
      " '448' '408' '453' '497' '461' '434' '491' '498' '480' '471' '422' '407'\n",
      " '439' '405' '462' '445' '466' '436' '473' '409' '451' '468' '430' '431'\n",
      " '464' '470' '400' '426' '416' '493' '203' '200' '202' '495' '443' '248'\n",
      " '209' '297' '226' '245' '414' '234' '269' '479' '273' '210' '270' '452'\n",
      " '283' '217' '403' '465' '292' '278' '230' '249' '216' '220' '429' '207'\n",
      " '219' '233' '411' '250' '469' '232' '474' '281' '254' '287' '247' '263'\n",
      " '417' '288' '299' '296' '475' '494' '458' '275' '222' '404' '476' '467'\n",
      " '463' '291' '496' '450' '295' '487' '440' '481' '261' '294' '472' '267'\n",
      " '227' '415' '206' '241' '489' '224' '214' '282' '243' '244' '215' '235'\n",
      " '246' '274' '253' '402' '229' '433' '420' '435' '268' '264' '259' '444'\n",
      " '272' '258' '237' '485' '211' '285' '401' '201' '257' '455' '457' '252'\n",
      " '446' '483' '276' '240' '428' '456' '221' '421' '424' '239' '293' '225'\n",
      " '271' '441' '425' '478' '413' '213' '260' '427' '236' '459' '286' '492']\n"
     ]
    },
    {
     "name": "stderr",
     "output_type": "stream",
     "text": [
      "0it [00:00, ?it/s]\n"
     ]
    },
    {
     "name": "stdout",
     "output_type": "stream",
     "text": [
      "['1' '2' '3' '4' '5' '6' '7' '8' '9' '10' '11' '12' '13' '14' '15' '16'\n",
      " '17' '18' '19' '20' '432' '488' '486' '484' '419' '438' '454' '418' '410'\n",
      " '490' '477' '423' '412' '442' '406' '460' '447' '437' '449' '482' '499'\n",
      " '448' '408' '453' '497' '461' '434' '491' '498' '480' '471' '422' '407'\n",
      " '439' '405' '462' '445' '466' '436' '473' '409' '451' '468' '430' '431'\n",
      " '464' '470' '400' '426' '416' '493' '203' '200' '202' '495' '443' '248'\n",
      " '209' '297' '226' '245' '414' '234' '269' '479' '273' '210' '270' '452'\n",
      " '283' '217' '403' '465' '292' '278' '230' '249' '216' '220' '429' '207'\n",
      " '219' '233' '411' '250' '469' '232' '474' '281' '254' '287' '247' '263'\n",
      " '417' '288' '299' '296' '475' '494' '458' '275' '222' '404' '476' '467'\n",
      " '463' '291' '496' '450' '295' '487' '440' '481' '261' '294' '472' '267'\n",
      " '227' '415' '206' '241' '489' '224' '214' '282' '243' '244' '215' '235'\n",
      " '246' '274' '253' '402' '229' '433' '420' '435' '268' '264' '259' '444'\n",
      " '272' '258' '237' '485' '211' '285' '401' '201' '257' '455' '457' '252'\n",
      " '446' '483' '276' '240' '428' '456' '221' '421' '424' '239' '293' '225'\n",
      " '271' '441' '425' '478' '413' '213' '260' '427' '236' '459' '286' '492']\n"
     ]
    },
    {
     "name": "stderr",
     "output_type": "stream",
     "text": [
      "0it [00:00, ?it/s]\n"
     ]
    },
    {
     "name": "stdout",
     "output_type": "stream",
     "text": [
      "['1' '2' '3' '4' '5' '6' '7' '8' '9' '10' '11' '12' '13' '14' '15' '16'\n",
      " '17' '18' '19' '20' '432' '488' '486' '484' '419' '438' '454' '418' '410'\n",
      " '490' '477' '423' '412' '442' '406' '460' '447' '437' '449' '482' '499'\n",
      " '448' '408' '453' '497' '461' '434' '491' '498' '480' '471' '422' '407'\n",
      " '439' '405' '462' '445' '466' '436' '473' '409' '451' '468' '430' '431'\n",
      " '464' '470' '400' '426' '416' '493' '203' '200' '202' '495' '443' '248'\n",
      " '209' '297' '226' '245' '414' '234' '269' '479' '273' '210' '270' '452'\n",
      " '283' '217' '403' '465' '292' '278' '230' '249' '216' '220' '429' '207'\n",
      " '219' '233' '411' '250' '469' '232' '474' '281' '254' '287' '247' '263'\n",
      " '417' '288' '299' '296' '475' '494' '458' '275' '222' '404' '476' '467'\n",
      " '463' '291' '496' '450' '295' '487' '440' '481' '261' '294' '472' '267'\n",
      " '227' '415' '206' '241' '489' '224' '214' '282' '243' '244' '215' '235'\n",
      " '246' '274' '253' '402' '229' '433' '420' '435' '268' '264' '259' '444'\n",
      " '272' '258' '237' '485' '211' '285' '401' '201' '257' '455' '457' '252'\n",
      " '446' '483' '276' '240' '428' '456' '221' '421' '424' '239' '293' '225'\n",
      " '271' '441' '425' '478' '413' '213' '260' '427' '236' '459' '286' '492']\n"
     ]
    },
    {
     "name": "stderr",
     "output_type": "stream",
     "text": [
      "100%|██████████████████████████████████████████| 12/12 [00:00<00:00, 189.05it/s]\n"
     ]
    },
    {
     "name": "stdout",
     "output_type": "stream",
     "text": [
      "['1' '2' '3' '4' '5' '6' '7' '8' '9' '10' '11' '12' '13' '14' '15' '16'\n",
      " '17' '18' '19' '20' '432' '488' '486' '484' '419' '438' '454' '418' '410'\n",
      " '490' '477' '423' '412' '442' '406' '460' '447' '437' '449' '482' '499'\n",
      " '448' '408' '453' '497' '461' '434' '491' '498' '480' '471' '422' '407'\n",
      " '439' '405' '462' '445' '466' '436' '473' '409' '451' '468' '430' '431'\n",
      " '464' '470' '400' '426' '416' '493' '203' '200' '202' '495' '443' '248'\n",
      " '209' '297' '226' '245' '414' '234' '269' '479' '273' '210' '270' '452'\n",
      " '283' '217' '403' '465' '292' '278' '230' '249' '216' '220' '429' '207'\n",
      " '219' '233' '411' '250' '469' '232' '474' '281' '254' '287' '247' '263'\n",
      " '417' '288' '299' '296' '475' '494' '458' '275' '222' '404' '476' '467'\n",
      " '463' '291' '496' '450' '295' '487' '440' '481' '261' '294' '472' '267'\n",
      " '227' '415' '206' '241' '489' '224' '214' '282' '243' '244' '215' '235'\n",
      " '246' '274' '253' '402' '229' '433' '420' '435' '268' '264' '259' '444'\n",
      " '272' '258' '237' '485' '211' '285' '401' '201' '257' '455' '457' '252'\n",
      " '446' '483' '276' '240' '428' '456' '221' '421' '424' '239' '293' '225'\n",
      " '271' '441' '425' '478' '413' '213' '260' '427' '236' '459' '286' '492']\n"
     ]
    },
    {
     "name": "stderr",
     "output_type": "stream",
     "text": [
      "0it [00:00, ?it/s]\n"
     ]
    },
    {
     "name": "stdout",
     "output_type": "stream",
     "text": [
      "['1' '2' '3' '4' '5' '6' '7' '8' '9' '10' '11' '12' '13' '14' '15' '16'\n",
      " '17' '18' '19' '20' '432' '488' '486' '484' '419' '438' '454' '418' '410'\n",
      " '490' '477' '423' '412' '442' '406' '460' '447' '437' '449' '482' '499'\n",
      " '448' '408' '453' '497' '461' '434' '491' '498' '480' '471' '422' '407'\n",
      " '439' '405' '462' '445' '466' '436' '473' '409' '451' '468' '430' '431'\n",
      " '464' '470' '400' '426' '416' '493' '203' '200' '202' '495' '443' '248'\n",
      " '209' '297' '226' '245' '414' '234' '269' '479' '273' '210' '270' '452'\n",
      " '283' '217' '403' '465' '292' '278' '230' '249' '216' '220' '429' '207'\n",
      " '219' '233' '411' '250' '469' '232' '474' '281' '254' '287' '247' '263'\n",
      " '417' '288' '299' '296' '475' '494' '458' '275' '222' '404' '476' '467'\n",
      " '463' '291' '496' '450' '295' '487' '440' '481' '261' '294' '472' '267'\n",
      " '227' '415' '206' '241' '489' '224' '214' '282' '243' '244' '215' '235'\n",
      " '246' '274' '253' '402' '229' '433' '420' '435' '268' '264' '259' '444'\n",
      " '272' '258' '237' '485' '211' '285' '401' '201' '257' '455' '457' '252'\n",
      " '446' '483' '276' '240' '428' '456' '221' '421' '424' '239' '293' '225'\n",
      " '271' '441' '425' '478' '413' '213' '260' '427' '236' '459' '286' '492']\n"
     ]
    },
    {
     "name": "stderr",
     "output_type": "stream",
     "text": [
      "0it [00:00, ?it/s]\n"
     ]
    },
    {
     "name": "stdout",
     "output_type": "stream",
     "text": [
      "['1' '2' '3' '4' '5' '6' '7' '8' '9' '10' '11' '12' '13' '14' '15' '16'\n",
      " '17' '18' '19' '20' '432' '488' '486' '484' '419' '438' '454' '418' '410'\n",
      " '490' '477' '423' '412' '442' '406' '460' '447' '437' '449' '482' '499'\n",
      " '448' '408' '453' '497' '461' '434' '491' '498' '480' '471' '422' '407'\n",
      " '439' '405' '462' '445' '466' '436' '473' '409' '451' '468' '430' '431'\n",
      " '464' '470' '400' '426' '416' '493' '203' '200' '202' '495' '443' '248'\n",
      " '209' '297' '226' '245' '414' '234' '269' '479' '273' '210' '270' '452'\n",
      " '283' '217' '403' '465' '292' '278' '230' '249' '216' '220' '429' '207'\n",
      " '219' '233' '411' '250' '469' '232' '474' '281' '254' '287' '247' '263'\n",
      " '417' '288' '299' '296' '475' '494' '458' '275' '222' '404' '476' '467'\n",
      " '463' '291' '496' '450' '295' '487' '440' '481' '261' '294' '472' '267'\n",
      " '227' '415' '206' '241' '489' '224' '214' '282' '243' '244' '215' '235'\n",
      " '246' '274' '253' '402' '229' '433' '420' '435' '268' '264' '259' '444'\n",
      " '272' '258' '237' '485' '211' '285' '401' '201' '257' '455' '457' '252'\n",
      " '446' '483' '276' '240' '428' '456' '221' '421' '424' '239' '293' '225'\n",
      " '271' '441' '425' '478' '413' '213' '260' '427' '236' '459' '286' '492']\n"
     ]
    },
    {
     "name": "stderr",
     "output_type": "stream",
     "text": [
      "0it [00:00, ?it/s]\n"
     ]
    },
    {
     "name": "stdout",
     "output_type": "stream",
     "text": [
      "['1' '2' '3' '4' '5' '6' '7' '8' '9' '10' '11' '12' '13' '14' '15' '16'\n",
      " '17' '18' '19' '20' '432' '488' '486' '484' '419' '438' '454' '418' '410'\n",
      " '490' '477' '423' '412' '442' '406' '460' '447' '437' '449' '482' '499'\n",
      " '448' '408' '453' '497' '461' '434' '491' '498' '480' '471' '422' '407'\n",
      " '439' '405' '462' '445' '466' '436' '473' '409' '451' '468' '430' '431'\n",
      " '464' '470' '400' '426' '416' '493' '203' '200' '202' '495' '443' '248'\n",
      " '209' '297' '226' '245' '414' '234' '269' '479' '273' '210' '270' '452'\n",
      " '283' '217' '403' '465' '292' '278' '230' '249' '216' '220' '429' '207'\n",
      " '219' '233' '411' '250' '469' '232' '474' '281' '254' '287' '247' '263'\n",
      " '417' '288' '299' '296' '475' '494' '458' '275' '222' '404' '476' '467'\n",
      " '463' '291' '496' '450' '295' '487' '440' '481' '261' '294' '472' '267'\n",
      " '227' '415' '206' '241' '489' '224' '214' '282' '243' '244' '215' '235'\n",
      " '246' '274' '253' '402' '229' '433' '420' '435' '268' '264' '259' '444'\n",
      " '272' '258' '237' '485' '211' '285' '401' '201' '257' '455' '457' '252'\n",
      " '446' '483' '276' '240' '428' '456' '221' '421' '424' '239' '293' '225'\n",
      " '271' '441' '425' '478' '413' '213' '260' '427' '236' '459' '286' '492']\n"
     ]
    },
    {
     "name": "stderr",
     "output_type": "stream",
     "text": [
      "0it [00:00, ?it/s]\n"
     ]
    },
    {
     "name": "stdout",
     "output_type": "stream",
     "text": [
      "['1' '2' '3' '4' '5' '6' '7' '8' '9' '10' '11' '12' '13' '14' '15' '16'\n",
      " '17' '18' '19' '20' '432' '488' '486' '484' '419' '438' '454' '418' '410'\n",
      " '490' '477' '423' '412' '442' '406' '460' '447' '437' '449' '482' '499'\n",
      " '448' '408' '453' '497' '461' '434' '491' '498' '480' '471' '422' '407'\n",
      " '439' '405' '462' '445' '466' '436' '473' '409' '451' '468' '430' '431'\n",
      " '464' '470' '400' '426' '416' '493' '203' '200' '202' '495' '443' '248'\n",
      " '209' '297' '226' '245' '414' '234' '269' '479' '273' '210' '270' '452'\n",
      " '283' '217' '403' '465' '292' '278' '230' '249' '216' '220' '429' '207'\n",
      " '219' '233' '411' '250' '469' '232' '474' '281' '254' '287' '247' '263'\n",
      " '417' '288' '299' '296' '475' '494' '458' '275' '222' '404' '476' '467'\n",
      " '463' '291' '496' '450' '295' '487' '440' '481' '261' '294' '472' '267'\n",
      " '227' '415' '206' '241' '489' '224' '214' '282' '243' '244' '215' '235'\n",
      " '246' '274' '253' '402' '229' '433' '420' '435' '268' '264' '259' '444'\n",
      " '272' '258' '237' '485' '211' '285' '401' '201' '257' '455' '457' '252'\n",
      " '446' '483' '276' '240' '428' '456' '221' '421' '424' '239' '293' '225'\n",
      " '271' '441' '425' '478' '413' '213' '260' '427' '236' '459' '286' '492']\n"
     ]
    },
    {
     "name": "stderr",
     "output_type": "stream",
     "text": [
      "100%|█████████████████████████████████████████| 20/20 [00:00<00:00, 5108.46it/s]\n"
     ]
    },
    {
     "name": "stdout",
     "output_type": "stream",
     "text": [
      "['1' '2' '3' '4' '5' '6' '7' '8' '9' '10' '11' '12' '13' '14' '15' '16'\n",
      " '17' '18' '19' '20' '432' '488' '486' '484' '419' '438' '454' '418' '410'\n",
      " '490' '477' '423' '412' '442' '406' '460' '447' '437' '449' '482' '499'\n",
      " '448' '408' '453' '497' '461' '434' '491' '498' '480' '471' '422' '407'\n",
      " '439' '405' '462' '445' '466' '436' '473' '409' '451' '468' '430' '431'\n",
      " '464' '470' '400' '426' '416' '493' '203' '200' '202' '495' '443' '248'\n",
      " '209' '297' '226' '245' '414' '234' '269' '479' '273' '210' '270' '452'\n",
      " '283' '217' '403' '465' '292' '278' '230' '249' '216' '220' '429' '207'\n",
      " '219' '233' '411' '250' '469' '232' '474' '281' '254' '287' '247' '263'\n",
      " '417' '288' '299' '296' '475' '494' '458' '275' '222' '404' '476' '467'\n",
      " '463' '291' '496' '450' '295' '487' '440' '481' '261' '294' '472' '267'\n",
      " '227' '415' '206' '241' '489' '224' '214' '282' '243' '244' '215' '235'\n",
      " '246' '274' '253' '402' '229' '433' '420' '435' '268' '264' '259' '444'\n",
      " '272' '258' '237' '485' '211' '285' '401' '201' '257' '455' '457' '252'\n",
      " '446' '483' '276' '240' '428' '456' '221' '421' '424' '239' '293' '225'\n",
      " '271' '441' '425' '478' '413' '213' '260' '427' '236' '459' '286' '492']\n"
     ]
    },
    {
     "name": "stderr",
     "output_type": "stream",
     "text": [
      "100%|██████████████████████████████████████████| 13/13 [00:00<00:00, 189.18it/s]"
     ]
    },
    {
     "name": "stdout",
     "output_type": "stream",
     "text": [
      "finishing evaluation....\n"
     ]
    },
    {
     "name": "stderr",
     "output_type": "stream",
     "text": [
      "\n"
     ]
    },
    {
     "data": {
      "application/vnd.jupyter.widget-view+json": {
       "model_id": "9dd9ef3e37a641f784149ca5b5ab736a",
       "version_major": 2,
       "version_minor": 0
      },
      "text/plain": [
       "  0%|          | 0/94 [00:00<?, ?it/s]"
      ]
     },
     "metadata": {},
     "output_type": "display_data"
    },
    {
     "data": {
      "text/plain": [
       "0.21366380205976676"
      ]
     },
     "execution_count": 14,
     "metadata": {},
     "output_type": "execute_result"
    }
   ],
   "source": [
    "evaluate = Train_Test_Split_Plain(CFUH, min_ref_limit=5, train_size=0.5, normalize_similarity=True, root_node_indexes=root_nodes)\n",
    "overall = {**data, **data_citedby}\n",
    "evaluate.fit(overall)"
   ]
  },
  {
   "cell_type": "code",
   "execution_count": 1,
   "id": "620dff0c-b1ec-48db-9cf4-296a5d3dcf2f",
   "metadata": {},
   "outputs": [],
   "source": [
    "doc1 = \"Generative adversarial networks (GANs) have been extensively studied in the past few years. Arguably their most significant impact has been in the area of computer vision where great advances have been made in challenges such as plausible image generation, image-to-image translation, facial attribute manipulation, and similar domains. Despite the significant successes achieved to date, applying GANs to real-world problems still poses significant challenges, three of which we focus on here. These are as follows: (1) the generation of high quality images, (2) diversity of image generation, and (3) stabilizing training. Focusing on the degree to which popular GAN technologies have made progress against these challenges, we provide a detailed review of the state-of-the-art in GAN-related research in the published scientific literature. We further structure this review through a convenient taxonomy we have adopted based on variations in GAN architectures and loss functions. While several reviews for GANs have been presented to date, none have considered the status of this field based on their progress toward addressing practical challenges relevant to computer vision. Accordingly, we review and critically discuss the most popular architecture-variant, and loss-variant GANs, for tackling these challenges. Our objective is to provide an overview as well as a critical analysis of the status of GAN research in terms of relevant progress toward critical computer vision application requirements. As we do this we also discuss the most compelling applications in computer vision in which GANs have demonstrated considerable success along with some suggestions for future research directions.\"\n",
    "docs = {\n",
    "    'doc2' : \"Generative Adversarial Networks (GANs) is a novel class of deep generative models that has recently gained significant attention. GANs learn complex and high-dimensional distributions implicitly over images, audio, and data. However, there exist major challenges in training of GANs, mode collapse, non-convergence, and instability, due to inappropriate design of network architectre, use of objective function, and selection of optimization algorithm. Recently, to address these challenges, several solutions for better design and optimization of GANs have been investigated based on techniques of re-engineered network architectures, new objective functions, and alternative optimization algorithms. To the best of our knowledge, there is no existing survey that has particularly focused on the broad and systematic developments of these solutions. In this study, we perform a comprehensive survey of the advancements in GANs design and optimization solutions proposed to handle GANs challenges. We first identify key research issues within each design and optimization technique and then propose a new taxonomy to structure solutions by key research issues. In accordance with the taxonomy, we provide a detailed discussion on different GANs variants proposed within each solution and their relationships. Finally, based on the insights gained, we present promising research directions in this rapidly growing field.\",\n",
    "    'doc3' : \"Generative Adversarial Networks (GANs) have promoted a variety of applications in computer vision and natural language processing among others, due to its generative model’s compelling ability to generate realistic examples plausibly drawn from an existing distribution of samples. GAN not only provides impressive performance on data generation-based tasks but also stimulates fertilization for privacy and security oriented research because of its game theoretic optimization strategy. Unfortunately, there are no comprehensive surveys on GAN in privacy and security, which motivates this survey to summarize systematically. The existing works are classified into proper categories based on privacy and security functions, and this survey conducts a comprehensive analysis of their advantages and drawbacks. Considering that GAN in privacy and security is still at a very initial stage and has imposed unique challenges that are yet to be well addressed this article also sheds light on some potential privacy and security applications with GAN and elaborates on some future research directions.\",\n",
    "    'doc4' : \"Generative Adversarial Networks (GANs) have received wide attention in the machine learning field for their potential to learn high-dimensional, complex real data distribution. Specifically, they do not rely on any assumptions about the distribution and can generate real-like samples from latent space in a simple manner. This powerful property allows GANs to be applied to various applications such as image synthesis, image attribute editing, image translation, domain adaptation, and other academic fields. In this article, we discuss the details of GANs for those readers who are familiar with, but do not comprehend GANs deeply or who wish to view GANs from various perspectives. In addition, we explain how GANs operates and the fundamental meaning of various objective functions that have been suggested recently. We then focus on how the GAN can be combined with an autoencoder framework. Finally, we enumerate the GAN variants that are applied to various tasks and other fields for those who are interested in exploiting GANs for their research.\",\n",
    "    'doc5' : \"Image denoising is a challenging task which aims to remove additional noise and preserve all useful information. Many existing image denoising algorithms focus on improving the typical object measure, peak signal-to-noise ratio (PSNR), and take the mean square error (MSE) as their loss function to train their networks. Although these algorithms can effectively improve the PSNR on the benchmark dataset, their denoised images often lose some important details or become over-smooth in some texture-rich regions. In order to solve this problem, we introduce Generative Adversarial Networks (GAN) and perceptual loss from single image super-resolution (SISR) field into our image denoising work. The GAN and perceptual loss can help our network to better focus on the recovering of details during denoising. To understand easily, we use the term Detail Loss to represent the whole loss which includes the MSE and the perceptual loss. Besides, we propose a new convolutional neural network which achieves state-of-the-art result on PSNR. Our experimental results show that our method outperforms the current state-of-the-art methods on preserving the details during denoising. Compared with the current state-of-the-art methods, the denoised images by our method are clearer, sharper and more realistic on details.\",\n",
    "    'doc6' : \"With the increasing interest in the content creation field in multiple sectors such as media, education, and entertainment, there is an increased trend in the papers that use AI algorithms to generate content such as images, videos, audio, and text. Generative Adversarial Networks (GANs) is one of the promising models that synthesizes data samples that are similar to real data samples. While the variations of GANs models in general have been covered to some extent in several survey papers, to the best of our knowledge, this is the first paper that reviews the state-of-the-art video GANs models. This paper first categorizes GANs review papers into general GANs review papers, image GANs review papers, and special field GANs review papers such as anomaly detection, medical imaging, or cybersecurity. The paper then summarizes the main improvements in GANs that are not necessarily applied in the video domain in the first run but have been adopted in multiple video GANs variations. Then, a comprehensive review of video GANs models are provided under two main divisions based on existence of a condition. The conditional models are then further classified according to the provided condition into audio, text, video, and image. The paper concludes with the main challenges and limitations of the current video GANs models.\",\n",
    "    'doc7' : \"The discriminative model learning for image denoising has been recently attracting considerable attentions due to its favorable denoising performance. In this paper, we take one step forward by investigating the construction of feed-forward denoising convolutional neural networks (DnCNNs) to embrace the progress in very deep architecture, learning algorithm, and regularization method into image denoising. Specifically, residual learning and batch normalization are utilized to speed up the training process as well as boost the denoising performance. Different from the existing discriminative denoising models which usually train a specific model for additive white Gaussian noise at a certain noise level, our DnCNN model is able to handle Gaussian denoising with unknown noise level (i.e., blind Gaussian denoising). With the residual learning strategy, DnCNN implicitly removes the latent clean image in the hidden layers. This property motivates us to train a single DnCNN model to tackle with several general image denoising tasks, such as Gaussian denoising, single image super-resolution, and JPEG image deblocking. Our extensive experiments demonstrate that our DnCNN model can not only exhibit high effectiveness in several general image denoising tasks, but also be efficiently implemented by benefiting from GPU computing.\",\n",
    "    'doc8' : \"Image restoration tasks are ill-posed problems, typically solved with priors. Since the optimal prior is the exact unknown density of natural images, actual priors are only approximate and typically restricted to small patches. This raises several questions: How much may we hope to improve current restoration results with future sophisticated algorithms? And more fundamentally, even with perfect knowledge of natural image statistics, what is the inherent ambiguity of the problem? In addition, since most current methods are limited to finite support patches or kernels, what is the relation between the patch complexity of natural images, patch size, and restoration errors? Focusing on image denoising, we make several contributions. First, in light of computational constraints, we study the relation between denoising gain and sample size requirements in a non parametric approach. We present a law of diminishing return, namely that with increasing patch size, rare patches not only require a much larger dataset, but also gain little from it. This result suggests novel adaptive variable-sized patch schemes for denoising. Second, we study absolute denoising limits, regardless of the algorithm used, and the converge rate to them as a function of patch size. Scale invariance of natural images plays a key role here and implies both a strictly positive lower bound on denoising and a power law convergence. Extrapolating this parametric law gives a ballpark estimate of the best achievable denoising, suggesting that some improvement, although modest, is still possible.\",\n",
    "    'doc9' : \"Image restoration is a long-standing problem in low-level computer vision with many interesting applications. We describe a flexible learning framework based on the concept of nonlinear reaction diffusion models for various image restoration problems. By embodying recent improvements in nonlinear diffusion models, we propose a dynamic nonlinear reaction diffusion model with time-dependent parameters (i.e., linear filters and influence functions). In contrast to previous nonlinear diffusion models, all the parameters, including the filters and the influence functions, are simultaneously learned from training data through a loss based approach. We call this approach TNRD—Trainable Nonlinear Reaction Diffusion. The TNRD approach is applicable for a variety of image restoration tasks by incorporating appropriate reaction force. We demonstrate its capabilities with three representative applications, Gaussian image denoising, single image super resolution and JPEG deblocking. Experiments show that our trained nonlinear diffusion models largely benefit from the training of the parameters and finally lead to the best reported performance on common test datasets for the tested applications. Our trained models preserve the structural simplicity of diffusion models and take only a small number of diffusion steps, thus are highly efficient. Moreover, they are also well-suited for parallel computation on GPUs, which makes the inference procedure extremely fast.\",\n",
    "}\n",
    "\n"
   ]
  },
  {
   "cell_type": "code",
   "execution_count": 13,
   "id": "642df58d-7d60-45be-8474-8ed62d036b56",
   "metadata": {},
   "outputs": [
    {
     "name": "stdout",
     "output_type": "stream",
     "text": [
      "downloading paper meta data....\n",
      "processing doi....\n"
     ]
    },
    {
     "data": {
      "application/vnd.jupyter.widget-view+json": {
       "model_id": "031ef988907242cbba29bc0fc1ff2277",
       "version_major": 2,
       "version_minor": 0
      },
      "text/plain": [
       "  0%|          | 0/50 [00:00<?, ?it/s]"
      ]
     },
     "metadata": {},
     "output_type": "display_data"
    },
    {
     "name": "stdout",
     "output_type": "stream",
     "text": [
      "extracting citation's doi....\n"
     ]
    },
    {
     "data": {
      "application/vnd.jupyter.widget-view+json": {
       "model_id": "b0a1e69cfc7f4f71b7cf61e7a645a82a",
       "version_major": 2,
       "version_minor": 0
      },
      "text/plain": [
       "  0%|          | 0/136 [00:00<?, ?it/s]"
      ]
     },
     "metadata": {},
     "output_type": "display_data"
    },
    {
     "name": "stdout",
     "output_type": "stream",
     "text": [
      "extracting citation's doi....\n"
     ]
    },
    {
     "data": {
      "application/vnd.jupyter.widget-view+json": {
       "model_id": "e2cef19b64d347de83338545fa23da94",
       "version_major": 2,
       "version_minor": 0
      },
      "text/plain": [
       "  0%|          | 0/25 [00:00<?, ?it/s]"
      ]
     },
     "metadata": {},
     "output_type": "display_data"
    },
    {
     "name": "stdout",
     "output_type": "stream",
     "text": [
      "extracting citation's doi....\n"
     ]
    },
    {
     "data": {
      "application/vnd.jupyter.widget-view+json": {
       "model_id": "18af0b769b754ba1b4fc3b98fde7e9c7",
       "version_major": 2,
       "version_minor": 0
      },
      "text/plain": [
       "  0%|          | 0/162 [00:00<?, ?it/s]"
      ]
     },
     "metadata": {},
     "output_type": "display_data"
    },
    {
     "name": "stdout",
     "output_type": "stream",
     "text": [
      "extracting cited_by doi....\n"
     ]
    },
    {
     "data": {
      "application/vnd.jupyter.widget-view+json": {
       "model_id": "543fccd952324c86937c0db284db4840",
       "version_major": 2,
       "version_minor": 0
      },
      "text/plain": [
       "  0%|          | 0/18 [00:00<?, ?it/s]"
      ]
     },
     "metadata": {},
     "output_type": "display_data"
    },
    {
     "name": "stdout",
     "output_type": "stream",
     "text": [
      "extracting citation's doi....\n"
     ]
    },
    {
     "data": {
      "application/vnd.jupyter.widget-view+json": {
       "model_id": "a3ff84d3f6a04f128e8dd04f94828ba9",
       "version_major": 2,
       "version_minor": 0
      },
      "text/plain": [
       "  0%|          | 0/172 [00:00<?, ?it/s]"
      ]
     },
     "metadata": {},
     "output_type": "display_data"
    },
    {
     "name": "stdout",
     "output_type": "stream",
     "text": [
      "extracting cited_by doi....\n"
     ]
    },
    {
     "data": {
      "application/vnd.jupyter.widget-view+json": {
       "model_id": "eb14827268c14d82afdc4119658ab169",
       "version_major": 2,
       "version_minor": 0
      },
      "text/plain": [
       "  0%|          | 0/3 [00:00<?, ?it/s]"
      ]
     },
     "metadata": {},
     "output_type": "display_data"
    },
    {
     "name": "stdout",
     "output_type": "stream",
     "text": [
      "extracting citation's doi....\n"
     ]
    },
    {
     "data": {
      "application/vnd.jupyter.widget-view+json": {
       "model_id": "72d9e8ad7fe44502be296c7e02bfbcb8",
       "version_major": 2,
       "version_minor": 0
      },
      "text/plain": [
       "  0%|          | 0/249 [00:00<?, ?it/s]"
      ]
     },
     "metadata": {},
     "output_type": "display_data"
    },
    {
     "name": "stdout",
     "output_type": "stream",
     "text": [
      "extracting citation's doi....\n"
     ]
    },
    {
     "data": {
      "application/vnd.jupyter.widget-view+json": {
       "model_id": "72922b4beb7541caaabc576f76847bf6",
       "version_major": 2,
       "version_minor": 0
      },
      "text/plain": [
       "  0%|          | 0/35 [00:00<?, ?it/s]"
      ]
     },
     "metadata": {},
     "output_type": "display_data"
    },
    {
     "name": "stdout",
     "output_type": "stream",
     "text": [
      "extracting cited_by doi....\n"
     ]
    },
    {
     "data": {
      "application/vnd.jupyter.widget-view+json": {
       "model_id": "7369f8bef880425e8e4fc8885371b813",
       "version_major": 2,
       "version_minor": 0
      },
      "text/plain": [
       "  0%|          | 0/542 [00:00<?, ?it/s]"
      ]
     },
     "metadata": {},
     "output_type": "display_data"
    },
    {
     "name": "stdout",
     "output_type": "stream",
     "text": [
      "extracting citation's doi....\n"
     ]
    },
    {
     "data": {
      "application/vnd.jupyter.widget-view+json": {
       "model_id": "877a702c8b0c49b6ad0aa51f6efa6b67",
       "version_major": 2,
       "version_minor": 0
      },
      "text/plain": [
       "  0%|          | 0/28 [00:00<?, ?it/s]"
      ]
     },
     "metadata": {},
     "output_type": "display_data"
    },
    {
     "name": "stdout",
     "output_type": "stream",
     "text": [
      "extracting cited_by doi....\n"
     ]
    },
    {
     "data": {
      "application/vnd.jupyter.widget-view+json": {
       "model_id": "521c7b4452e04fecbd9b01527e84250c",
       "version_major": 2,
       "version_minor": 0
      },
      "text/plain": [
       "  0%|          | 0/1 [00:00<?, ?it/s]"
      ]
     },
     "metadata": {},
     "output_type": "display_data"
    },
    {
     "name": "stdout",
     "output_type": "stream",
     "text": [
      "extracting citation's doi....\n"
     ]
    },
    {
     "data": {
      "application/vnd.jupyter.widget-view+json": {
       "model_id": "6fe4efa291f84490b24095c02e2c3084",
       "version_major": 2,
       "version_minor": 0
      },
      "text/plain": [
       "  0%|          | 0/31 [00:00<?, ?it/s]"
      ]
     },
     "metadata": {},
     "output_type": "display_data"
    },
    {
     "name": "stdout",
     "output_type": "stream",
     "text": [
      "extracting citation's doi....\n"
     ]
    },
    {
     "data": {
      "application/vnd.jupyter.widget-view+json": {
       "model_id": "81f72b773cd0465b91d42526ac003b5d",
       "version_major": 2,
       "version_minor": 0
      },
      "text/plain": [
       "  0%|          | 0/77 [00:00<?, ?it/s]"
      ]
     },
     "metadata": {},
     "output_type": "display_data"
    },
    {
     "name": "stdout",
     "output_type": "stream",
     "text": [
      "extracting cited_by doi....\n"
     ]
    },
    {
     "data": {
      "application/vnd.jupyter.widget-view+json": {
       "model_id": "c5b5143a96e740c59c0e9fb58a761321",
       "version_major": 2,
       "version_minor": 0
      },
      "text/plain": [
       "  0%|          | 0/5 [00:00<?, ?it/s]"
      ]
     },
     "metadata": {},
     "output_type": "display_data"
    },
    {
     "name": "stdout",
     "output_type": "stream",
     "text": [
      "extracting citation's doi....\n"
     ]
    },
    {
     "data": {
      "application/vnd.jupyter.widget-view+json": {
       "model_id": "b834bd8fbe894fb0b6b4e1f159ba2394",
       "version_major": 2,
       "version_minor": 0
      },
      "text/plain": [
       "  0%|          | 0/60 [00:00<?, ?it/s]"
      ]
     },
     "metadata": {},
     "output_type": "display_data"
    },
    {
     "name": "stdout",
     "output_type": "stream",
     "text": [
      "extracting cited_by doi....\n"
     ]
    },
    {
     "data": {
      "application/vnd.jupyter.widget-view+json": {
       "model_id": "e1e6077643184347bf8479341fef87fe",
       "version_major": 2,
       "version_minor": 0
      },
      "text/plain": [
       "  0%|          | 0/20 [00:00<?, ?it/s]"
      ]
     },
     "metadata": {},
     "output_type": "display_data"
    },
    {
     "name": "stdout",
     "output_type": "stream",
     "text": [
      "extracting citation's doi....\n"
     ]
    },
    {
     "data": {
      "application/vnd.jupyter.widget-view+json": {
       "model_id": "69c2815825e44cbf9eb8bcb03be028d1",
       "version_major": 2,
       "version_minor": 0
      },
      "text/plain": [
       "  0%|          | 0/34 [00:00<?, ?it/s]"
      ]
     },
     "metadata": {},
     "output_type": "display_data"
    },
    {
     "name": "stdout",
     "output_type": "stream",
     "text": [
      "extracting cited_by doi....\n"
     ]
    },
    {
     "data": {
      "application/vnd.jupyter.widget-view+json": {
       "model_id": "b100e4dc90a54240a4febd0f04b66472",
       "version_major": 2,
       "version_minor": 0
      },
      "text/plain": [
       "  0%|          | 0/20 [00:00<?, ?it/s]"
      ]
     },
     "metadata": {},
     "output_type": "display_data"
    },
    {
     "name": "stdout",
     "output_type": "stream",
     "text": [
      "extracting citation's doi....\n"
     ]
    },
    {
     "data": {
      "application/vnd.jupyter.widget-view+json": {
       "model_id": "7de89959d55340e89db0059e89d02192",
       "version_major": 2,
       "version_minor": 0
      },
      "text/plain": [
       "  0%|          | 0/32 [00:00<?, ?it/s]"
      ]
     },
     "metadata": {},
     "output_type": "display_data"
    },
    {
     "name": "stdout",
     "output_type": "stream",
     "text": [
      "extracting citation's doi....\n"
     ]
    },
    {
     "data": {
      "application/vnd.jupyter.widget-view+json": {
       "model_id": "a3aafd2683de4eed82cb7c901c4cba8c",
       "version_major": 2,
       "version_minor": 0
      },
      "text/plain": [
       "  0%|          | 0/38 [00:00<?, ?it/s]"
      ]
     },
     "metadata": {},
     "output_type": "display_data"
    },
    {
     "name": "stdout",
     "output_type": "stream",
     "text": [
      "extracting cited_by doi....\n"
     ]
    },
    {
     "data": {
      "application/vnd.jupyter.widget-view+json": {
       "model_id": "611cee74b45e45cf814480e7b58d3e5a",
       "version_major": 2,
       "version_minor": 0
      },
      "text/plain": [
       "  0%|          | 0/1 [00:00<?, ?it/s]"
      ]
     },
     "metadata": {},
     "output_type": "display_data"
    },
    {
     "name": "stdout",
     "output_type": "stream",
     "text": [
      "extracting citation's doi....\n"
     ]
    },
    {
     "data": {
      "application/vnd.jupyter.widget-view+json": {
       "model_id": "5297b0e380ae4d69b0f8ee5db2131cef",
       "version_major": 2,
       "version_minor": 0
      },
      "text/plain": [
       "  0%|          | 0/59 [00:00<?, ?it/s]"
      ]
     },
     "metadata": {},
     "output_type": "display_data"
    },
    {
     "name": "stdout",
     "output_type": "stream",
     "text": [
      "extracting citation's doi....\n"
     ]
    },
    {
     "data": {
      "application/vnd.jupyter.widget-view+json": {
       "model_id": "1d90cc6a575d46d8a227e731701903c2",
       "version_major": 2,
       "version_minor": 0
      },
      "text/plain": [
       "  0%|          | 0/51 [00:00<?, ?it/s]"
      ]
     },
     "metadata": {},
     "output_type": "display_data"
    },
    {
     "name": "stdout",
     "output_type": "stream",
     "text": [
      "extracting cited_by doi....\n"
     ]
    },
    {
     "data": {
      "application/vnd.jupyter.widget-view+json": {
       "model_id": "98cdccf72aa3443288c5c0d6eb17acec",
       "version_major": 2,
       "version_minor": 0
      },
      "text/plain": [
       "  0%|          | 0/1 [00:00<?, ?it/s]"
      ]
     },
     "metadata": {},
     "output_type": "display_data"
    },
    {
     "name": "stdout",
     "output_type": "stream",
     "text": [
      "extracting citation's doi....\n"
     ]
    },
    {
     "data": {
      "application/vnd.jupyter.widget-view+json": {
       "model_id": "127a5109b2224732a9ca7d645ba5ff4a",
       "version_major": 2,
       "version_minor": 0
      },
      "text/plain": [
       "  0%|          | 0/39 [00:00<?, ?it/s]"
      ]
     },
     "metadata": {},
     "output_type": "display_data"
    },
    {
     "name": "stdout",
     "output_type": "stream",
     "text": [
      "extracting cited_by doi....\n"
     ]
    },
    {
     "data": {
      "application/vnd.jupyter.widget-view+json": {
       "model_id": "3ec78abe2840498e86b6fea1ea62e4af",
       "version_major": 2,
       "version_minor": 0
      },
      "text/plain": [
       "  0%|          | 0/4 [00:00<?, ?it/s]"
      ]
     },
     "metadata": {},
     "output_type": "display_data"
    },
    {
     "name": "stdout",
     "output_type": "stream",
     "text": [
      "extracting citation's doi....\n"
     ]
    },
    {
     "data": {
      "application/vnd.jupyter.widget-view+json": {
       "model_id": "66fe9a2e33b246a1a5a162868f0386d9",
       "version_major": 2,
       "version_minor": 0
      },
      "text/plain": [
       "  0%|          | 0/30 [00:00<?, ?it/s]"
      ]
     },
     "metadata": {},
     "output_type": "display_data"
    },
    {
     "name": "stdout",
     "output_type": "stream",
     "text": [
      "extracting citation's doi....\n"
     ]
    },
    {
     "data": {
      "application/vnd.jupyter.widget-view+json": {
       "model_id": "4a09fd8ce6824fe285c3c33529eba97e",
       "version_major": 2,
       "version_minor": 0
      },
      "text/plain": [
       "  0%|          | 0/37 [00:00<?, ?it/s]"
      ]
     },
     "metadata": {},
     "output_type": "display_data"
    },
    {
     "name": "stdout",
     "output_type": "stream",
     "text": [
      "extracting cited_by doi....\n"
     ]
    },
    {
     "data": {
      "application/vnd.jupyter.widget-view+json": {
       "model_id": "77a471a081be4e0094c22a8dbce999ba",
       "version_major": 2,
       "version_minor": 0
      },
      "text/plain": [
       "  0%|          | 0/8 [00:00<?, ?it/s]"
      ]
     },
     "metadata": {},
     "output_type": "display_data"
    },
    {
     "name": "stdout",
     "output_type": "stream",
     "text": [
      "extracting citation's doi....\n"
     ]
    },
    {
     "data": {
      "application/vnd.jupyter.widget-view+json": {
       "model_id": "1486e207b6ca4c7a9d80718a75fd21b7",
       "version_major": 2,
       "version_minor": 0
      },
      "text/plain": [
       "  0%|          | 0/8 [00:00<?, ?it/s]"
      ]
     },
     "metadata": {},
     "output_type": "display_data"
    },
    {
     "name": "stdout",
     "output_type": "stream",
     "text": [
      "extracting citation's doi....\n"
     ]
    },
    {
     "data": {
      "application/vnd.jupyter.widget-view+json": {
       "model_id": "696de0e19fb544399bb92026916cc5a0",
       "version_major": 2,
       "version_minor": 0
      },
      "text/plain": [
       "  0%|          | 0/25 [00:00<?, ?it/s]"
      ]
     },
     "metadata": {},
     "output_type": "display_data"
    },
    {
     "name": "stdout",
     "output_type": "stream",
     "text": [
      "extracting citation's doi....\n"
     ]
    },
    {
     "data": {
      "application/vnd.jupyter.widget-view+json": {
       "model_id": "52f8cf462df44d0e82016f0c7428e243",
       "version_major": 2,
       "version_minor": 0
      },
      "text/plain": [
       "  0%|          | 0/33 [00:00<?, ?it/s]"
      ]
     },
     "metadata": {},
     "output_type": "display_data"
    },
    {
     "name": "stdout",
     "output_type": "stream",
     "text": [
      "extracting cited_by doi....\n"
     ]
    },
    {
     "data": {
      "application/vnd.jupyter.widget-view+json": {
       "model_id": "08762906186745d1892f595d56d43502",
       "version_major": 2,
       "version_minor": 0
      },
      "text/plain": [
       "  0%|          | 0/75 [00:00<?, ?it/s]"
      ]
     },
     "metadata": {},
     "output_type": "display_data"
    },
    {
     "name": "stdout",
     "output_type": "stream",
     "text": [
      "extracting citation's doi....\n"
     ]
    },
    {
     "data": {
      "application/vnd.jupyter.widget-view+json": {
       "model_id": "d3d8f2e8920d48ad860822dc9cadec2b",
       "version_major": 2,
       "version_minor": 0
      },
      "text/plain": [
       "  0%|          | 0/52 [00:00<?, ?it/s]"
      ]
     },
     "metadata": {},
     "output_type": "display_data"
    },
    {
     "name": "stdout",
     "output_type": "stream",
     "text": [
      "extracting cited_by doi....\n"
     ]
    },
    {
     "data": {
      "application/vnd.jupyter.widget-view+json": {
       "model_id": "c5c7d41972b049e3bea12360c59ab67f",
       "version_major": 2,
       "version_minor": 0
      },
      "text/plain": [
       "  0%|          | 0/18 [00:00<?, ?it/s]"
      ]
     },
     "metadata": {},
     "output_type": "display_data"
    },
    {
     "name": "stdout",
     "output_type": "stream",
     "text": [
      "extracting citation's doi....\n"
     ]
    },
    {
     "data": {
      "application/vnd.jupyter.widget-view+json": {
       "model_id": "56141264ef564b328a1809510271a432",
       "version_major": 2,
       "version_minor": 0
      },
      "text/plain": [
       "  0%|          | 0/32 [00:00<?, ?it/s]"
      ]
     },
     "metadata": {},
     "output_type": "display_data"
    },
    {
     "name": "stdout",
     "output_type": "stream",
     "text": [
      "extracting citation's doi....\n"
     ]
    },
    {
     "data": {
      "application/vnd.jupyter.widget-view+json": {
       "model_id": "9e45970211194a748d2d60f322392387",
       "version_major": 2,
       "version_minor": 0
      },
      "text/plain": [
       "  0%|          | 0/9 [00:00<?, ?it/s]"
      ]
     },
     "metadata": {},
     "output_type": "display_data"
    },
    {
     "name": "stdout",
     "output_type": "stream",
     "text": [
      "extracting citation's doi....\n"
     ]
    },
    {
     "data": {
      "application/vnd.jupyter.widget-view+json": {
       "model_id": "070023d9cc234144ac4561d4d08fa9c4",
       "version_major": 2,
       "version_minor": 0
      },
      "text/plain": [
       "  0%|          | 0/44 [00:00<?, ?it/s]"
      ]
     },
     "metadata": {},
     "output_type": "display_data"
    },
    {
     "name": "stdout",
     "output_type": "stream",
     "text": [
      "extracting cited_by doi....\n"
     ]
    },
    {
     "data": {
      "application/vnd.jupyter.widget-view+json": {
       "model_id": "10582c7a83cc490cb648f180b0bec3ba",
       "version_major": 2,
       "version_minor": 0
      },
      "text/plain": [
       "  0%|          | 0/2 [00:00<?, ?it/s]"
      ]
     },
     "metadata": {},
     "output_type": "display_data"
    },
    {
     "name": "stdout",
     "output_type": "stream",
     "text": [
      "extracting citation's doi....\n"
     ]
    },
    {
     "data": {
      "application/vnd.jupyter.widget-view+json": {
       "model_id": "1851873599dd48dc9a5701624a482b23",
       "version_major": 2,
       "version_minor": 0
      },
      "text/plain": [
       "  0%|          | 0/40 [00:00<?, ?it/s]"
      ]
     },
     "metadata": {},
     "output_type": "display_data"
    },
    {
     "name": "stdout",
     "output_type": "stream",
     "text": [
      "extracting citation's doi....\n"
     ]
    },
    {
     "data": {
      "application/vnd.jupyter.widget-view+json": {
       "model_id": "8d90582cdc08499ca34cf513302f00df",
       "version_major": 2,
       "version_minor": 0
      },
      "text/plain": [
       "  0%|          | 0/62 [00:00<?, ?it/s]"
      ]
     },
     "metadata": {},
     "output_type": "display_data"
    },
    {
     "name": "stdout",
     "output_type": "stream",
     "text": [
      "extracting cited_by doi....\n"
     ]
    },
    {
     "data": {
      "application/vnd.jupyter.widget-view+json": {
       "model_id": "68c7c3671d784015864ebb80829a4a80",
       "version_major": 2,
       "version_minor": 0
      },
      "text/plain": [
       "  0%|          | 0/76 [00:00<?, ?it/s]"
      ]
     },
     "metadata": {},
     "output_type": "display_data"
    },
    {
     "name": "stdout",
     "output_type": "stream",
     "text": [
      "extracting citation's doi....\n"
     ]
    },
    {
     "data": {
      "application/vnd.jupyter.widget-view+json": {
       "model_id": "6e52dab8b7be447e9c08bfdc158d48ea",
       "version_major": 2,
       "version_minor": 0
      },
      "text/plain": [
       "  0%|          | 0/7 [00:00<?, ?it/s]"
      ]
     },
     "metadata": {},
     "output_type": "display_data"
    },
    {
     "name": "stdout",
     "output_type": "stream",
     "text": [
      "extracting citation's doi....\n"
     ]
    },
    {
     "data": {
      "application/vnd.jupyter.widget-view+json": {
       "model_id": "60369310804445328ab1687f3e6ca4c9",
       "version_major": 2,
       "version_minor": 0
      },
      "text/plain": [
       "  0%|          | 0/16 [00:00<?, ?it/s]"
      ]
     },
     "metadata": {},
     "output_type": "display_data"
    },
    {
     "name": "stdout",
     "output_type": "stream",
     "text": [
      "extracting cited_by doi....\n"
     ]
    },
    {
     "data": {
      "application/vnd.jupyter.widget-view+json": {
       "model_id": "673abc799b1c4afb994a6c2b3d829e51",
       "version_major": 2,
       "version_minor": 0
      },
      "text/plain": [
       "  0%|          | 0/6 [00:00<?, ?it/s]"
      ]
     },
     "metadata": {},
     "output_type": "display_data"
    },
    {
     "name": "stdout",
     "output_type": "stream",
     "text": [
      "extracting citation's doi....\n"
     ]
    },
    {
     "data": {
      "application/vnd.jupyter.widget-view+json": {
       "model_id": "889790334ad24c95927c7ffb3df1c3ad",
       "version_major": 2,
       "version_minor": 0
      },
      "text/plain": [
       "  0%|          | 0/48 [00:00<?, ?it/s]"
      ]
     },
     "metadata": {},
     "output_type": "display_data"
    },
    {
     "name": "stdout",
     "output_type": "stream",
     "text": [
      "extracting cited_by doi....\n"
     ]
    },
    {
     "data": {
      "application/vnd.jupyter.widget-view+json": {
       "model_id": "92dace5201df4cdda05272a272c254b0",
       "version_major": 2,
       "version_minor": 0
      },
      "text/plain": [
       "  0%|          | 0/23 [00:00<?, ?it/s]"
      ]
     },
     "metadata": {},
     "output_type": "display_data"
    },
    {
     "name": "stdout",
     "output_type": "stream",
     "text": [
      "extracting citation's doi....\n"
     ]
    },
    {
     "data": {
      "application/vnd.jupyter.widget-view+json": {
       "model_id": "8f6fff3b5b84464d87764420020f110c",
       "version_major": 2,
       "version_minor": 0
      },
      "text/plain": [
       "  0%|          | 0/34 [00:00<?, ?it/s]"
      ]
     },
     "metadata": {},
     "output_type": "display_data"
    },
    {
     "name": "stdout",
     "output_type": "stream",
     "text": [
      "extracting cited_by doi....\n"
     ]
    },
    {
     "data": {
      "application/vnd.jupyter.widget-view+json": {
       "model_id": "3f285ba4ba894111b9602e2f6ee74c90",
       "version_major": 2,
       "version_minor": 0
      },
      "text/plain": [
       "  0%|          | 0/1 [00:00<?, ?it/s]"
      ]
     },
     "metadata": {},
     "output_type": "display_data"
    },
    {
     "name": "stdout",
     "output_type": "stream",
     "text": [
      "extracting citation's doi....\n"
     ]
    },
    {
     "data": {
      "application/vnd.jupyter.widget-view+json": {
       "model_id": "82b03713d5bf46248f749f3be176eab9",
       "version_major": 2,
       "version_minor": 0
      },
      "text/plain": [
       "  0%|          | 0/12 [00:00<?, ?it/s]"
      ]
     },
     "metadata": {},
     "output_type": "display_data"
    },
    {
     "name": "stdout",
     "output_type": "stream",
     "text": [
      "extracting citation's doi....\n"
     ]
    },
    {
     "data": {
      "application/vnd.jupyter.widget-view+json": {
       "model_id": "49e5ad4e63db4bada16c73a223d4db9b",
       "version_major": 2,
       "version_minor": 0
      },
      "text/plain": [
       "  0%|          | 0/38 [00:00<?, ?it/s]"
      ]
     },
     "metadata": {},
     "output_type": "display_data"
    },
    {
     "name": "stdout",
     "output_type": "stream",
     "text": [
      "extracting cited_by doi....\n"
     ]
    },
    {
     "data": {
      "application/vnd.jupyter.widget-view+json": {
       "model_id": "a3149884b03146b5a547ba7deeed54b0",
       "version_major": 2,
       "version_minor": 0
      },
      "text/plain": [
       "  0%|          | 0/2 [00:00<?, ?it/s]"
      ]
     },
     "metadata": {},
     "output_type": "display_data"
    },
    {
     "name": "stdout",
     "output_type": "stream",
     "text": [
      "extracting citation's doi....\n"
     ]
    },
    {
     "data": {
      "application/vnd.jupyter.widget-view+json": {
       "model_id": "9d309aecfb74467e98f074f3cce04b6e",
       "version_major": 2,
       "version_minor": 0
      },
      "text/plain": [
       "  0%|          | 0/14 [00:00<?, ?it/s]"
      ]
     },
     "metadata": {},
     "output_type": "display_data"
    },
    {
     "name": "stdout",
     "output_type": "stream",
     "text": [
      "extracting citation's doi....\n"
     ]
    },
    {
     "data": {
      "application/vnd.jupyter.widget-view+json": {
       "model_id": "c4bf9a7efe90403fa920a81a6eaee192",
       "version_major": 2,
       "version_minor": 0
      },
      "text/plain": [
       "  0%|          | 0/33 [00:00<?, ?it/s]"
      ]
     },
     "metadata": {},
     "output_type": "display_data"
    },
    {
     "name": "stdout",
     "output_type": "stream",
     "text": [
      "extracting citation's doi....\n"
     ]
    },
    {
     "data": {
      "application/vnd.jupyter.widget-view+json": {
       "model_id": "457035a1e3d844f5b26b565e48620b3d",
       "version_major": 2,
       "version_minor": 0
      },
      "text/plain": [
       "  0%|          | 0/28 [00:00<?, ?it/s]"
      ]
     },
     "metadata": {},
     "output_type": "display_data"
    },
    {
     "name": "stdout",
     "output_type": "stream",
     "text": [
      "extracting cited_by doi....\n"
     ]
    },
    {
     "data": {
      "application/vnd.jupyter.widget-view+json": {
       "model_id": "aa394ecd958741b88bcd1df6d1d54ac0",
       "version_major": 2,
       "version_minor": 0
      },
      "text/plain": [
       "  0%|          | 0/1 [00:00<?, ?it/s]"
      ]
     },
     "metadata": {},
     "output_type": "display_data"
    },
    {
     "name": "stdout",
     "output_type": "stream",
     "text": [
      "extracting citation's doi....\n"
     ]
    },
    {
     "data": {
      "application/vnd.jupyter.widget-view+json": {
       "model_id": "4f45814d134a43df9a30a34c5090ff61",
       "version_major": 2,
       "version_minor": 0
      },
      "text/plain": [
       "  0%|          | 0/23 [00:00<?, ?it/s]"
      ]
     },
     "metadata": {},
     "output_type": "display_data"
    },
    {
     "name": "stdout",
     "output_type": "stream",
     "text": [
      "extracting citation's doi....\n"
     ]
    },
    {
     "data": {
      "application/vnd.jupyter.widget-view+json": {
       "model_id": "788f5e44c7c8432086a1c4b75f92d2db",
       "version_major": 2,
       "version_minor": 0
      },
      "text/plain": [
       "  0%|          | 0/44 [00:00<?, ?it/s]"
      ]
     },
     "metadata": {},
     "output_type": "display_data"
    },
    {
     "name": "stdout",
     "output_type": "stream",
     "text": [
      "extracting cited_by doi....\n"
     ]
    },
    {
     "data": {
      "application/vnd.jupyter.widget-view+json": {
       "model_id": "ab516a8e7fa940d39133d88c53e4764b",
       "version_major": 2,
       "version_minor": 0
      },
      "text/plain": [
       "  0%|          | 0/4 [00:00<?, ?it/s]"
      ]
     },
     "metadata": {},
     "output_type": "display_data"
    },
    {
     "name": "stdout",
     "output_type": "stream",
     "text": [
      "extracting citation's doi....\n"
     ]
    },
    {
     "data": {
      "application/vnd.jupyter.widget-view+json": {
       "model_id": "8c6cf96277c64666a81ce08000baf28c",
       "version_major": 2,
       "version_minor": 0
      },
      "text/plain": [
       "  0%|          | 0/26 [00:00<?, ?it/s]"
      ]
     },
     "metadata": {},
     "output_type": "display_data"
    },
    {
     "name": "stdout",
     "output_type": "stream",
     "text": [
      "extracting cited_by doi....\n"
     ]
    },
    {
     "data": {
      "application/vnd.jupyter.widget-view+json": {
       "model_id": "7fc01dd2ad504ea1adf0c446b683504b",
       "version_major": 2,
       "version_minor": 0
      },
      "text/plain": [
       "  0%|          | 0/20 [00:00<?, ?it/s]"
      ]
     },
     "metadata": {},
     "output_type": "display_data"
    },
    {
     "name": "stdout",
     "output_type": "stream",
     "text": [
      "extracting citation's doi....\n"
     ]
    },
    {
     "data": {
      "application/vnd.jupyter.widget-view+json": {
       "model_id": "93f421a2baff4bcfabbbae0b0c369f5e",
       "version_major": 2,
       "version_minor": 0
      },
      "text/plain": [
       "  0%|          | 0/6 [00:00<?, ?it/s]"
      ]
     },
     "metadata": {},
     "output_type": "display_data"
    },
    {
     "name": "stdout",
     "output_type": "stream",
     "text": [
      "extracting citation's doi....\n"
     ]
    },
    {
     "data": {
      "application/vnd.jupyter.widget-view+json": {
       "model_id": "dc1114b3f1424d568fb7773266362a64",
       "version_major": 2,
       "version_minor": 0
      },
      "text/plain": [
       "  0%|          | 0/10 [00:00<?, ?it/s]"
      ]
     },
     "metadata": {},
     "output_type": "display_data"
    },
    {
     "name": "stdout",
     "output_type": "stream",
     "text": [
      "extracting citation's doi....\n"
     ]
    },
    {
     "data": {
      "application/vnd.jupyter.widget-view+json": {
       "model_id": "8ff3593890e74d6f9ede8a797eef36be",
       "version_major": 2,
       "version_minor": 0
      },
      "text/plain": [
       "  0%|          | 0/51 [00:00<?, ?it/s]"
      ]
     },
     "metadata": {},
     "output_type": "display_data"
    },
    {
     "name": "stdout",
     "output_type": "stream",
     "text": [
      "extracting citation's doi....\n"
     ]
    },
    {
     "data": {
      "application/vnd.jupyter.widget-view+json": {
       "model_id": "aa89b88f38414a4381f5e3ef47bf8419",
       "version_major": 2,
       "version_minor": 0
      },
      "text/plain": [
       "  0%|          | 0/39 [00:00<?, ?it/s]"
      ]
     },
     "metadata": {},
     "output_type": "display_data"
    },
    {
     "name": "stdout",
     "output_type": "stream",
     "text": [
      "extracting cited_by doi....\n"
     ]
    },
    {
     "data": {
      "application/vnd.jupyter.widget-view+json": {
       "model_id": "1fd91d51052e43359fd6c1bbd3e03969",
       "version_major": 2,
       "version_minor": 0
      },
      "text/plain": [
       "  0%|          | 0/2 [00:00<?, ?it/s]"
      ]
     },
     "metadata": {},
     "output_type": "display_data"
    },
    {
     "name": "stdout",
     "output_type": "stream",
     "text": [
      "extracting citation's doi....\n"
     ]
    },
    {
     "data": {
      "application/vnd.jupyter.widget-view+json": {
       "model_id": "5a5024edd9504435b6bf4643c11dc483",
       "version_major": 2,
       "version_minor": 0
      },
      "text/plain": [
       "  0%|          | 0/37 [00:00<?, ?it/s]"
      ]
     },
     "metadata": {},
     "output_type": "display_data"
    },
    {
     "name": "stdout",
     "output_type": "stream",
     "text": [
      "extracting cited_by doi....\n"
     ]
    },
    {
     "data": {
      "application/vnd.jupyter.widget-view+json": {
       "model_id": "415fbe0321ad415b95bb5c15e2441c7a",
       "version_major": 2,
       "version_minor": 0
      },
      "text/plain": [
       "  0%|          | 0/10 [00:00<?, ?it/s]"
      ]
     },
     "metadata": {},
     "output_type": "display_data"
    },
    {
     "name": "stdout",
     "output_type": "stream",
     "text": [
      "extracting citation's doi....\n"
     ]
    },
    {
     "data": {
      "application/vnd.jupyter.widget-view+json": {
       "model_id": "61a4612291ae4f71a5d0b33ee0781ce6",
       "version_major": 2,
       "version_minor": 0
      },
      "text/plain": [
       "  0%|          | 0/8 [00:00<?, ?it/s]"
      ]
     },
     "metadata": {},
     "output_type": "display_data"
    },
    {
     "name": "stdout",
     "output_type": "stream",
     "text": [
      "extracting citation's doi....\n"
     ]
    },
    {
     "data": {
      "application/vnd.jupyter.widget-view+json": {
       "model_id": "129e670a95a242ea88e9d527e6af5f0a",
       "version_major": 2,
       "version_minor": 0
      },
      "text/plain": [
       "  0%|          | 0/7 [00:00<?, ?it/s]"
      ]
     },
     "metadata": {},
     "output_type": "display_data"
    },
    {
     "name": "stdout",
     "output_type": "stream",
     "text": [
      "extracting citation's doi....\n"
     ]
    },
    {
     "data": {
      "application/vnd.jupyter.widget-view+json": {
       "model_id": "c0dd175d79c149eabf3ee030f3bec2dc",
       "version_major": 2,
       "version_minor": 0
      },
      "text/plain": [
       "  0%|          | 0/14 [00:00<?, ?it/s]"
      ]
     },
     "metadata": {},
     "output_type": "display_data"
    },
    {
     "name": "stdout",
     "output_type": "stream",
     "text": [
      "extracting citation's doi....\n"
     ]
    },
    {
     "data": {
      "application/vnd.jupyter.widget-view+json": {
       "model_id": "ef55644975f44ce4b26eb19e313ca335",
       "version_major": 2,
       "version_minor": 0
      },
      "text/plain": [
       "  0%|          | 0/41 [00:00<?, ?it/s]"
      ]
     },
     "metadata": {},
     "output_type": "display_data"
    },
    {
     "name": "stdout",
     "output_type": "stream",
     "text": [
      "extracting citation's doi....\n"
     ]
    },
    {
     "data": {
      "application/vnd.jupyter.widget-view+json": {
       "model_id": "b00aef1b27c74304a2f7884f12f4e988",
       "version_major": 2,
       "version_minor": 0
      },
      "text/plain": [
       "  0%|          | 0/50 [00:00<?, ?it/s]"
      ]
     },
     "metadata": {},
     "output_type": "display_data"
    },
    {
     "name": "stdout",
     "output_type": "stream",
     "text": [
      "extracting citation's doi....\n"
     ]
    },
    {
     "data": {
      "application/vnd.jupyter.widget-view+json": {
       "model_id": "25f2e3b0cc3e45f89c3deba00ef130f0",
       "version_major": 2,
       "version_minor": 0
      },
      "text/plain": [
       "  0%|          | 0/51 [00:00<?, ?it/s]"
      ]
     },
     "metadata": {},
     "output_type": "display_data"
    }
   ],
   "source": [
    "from acm_api.acm import download_search_acm\n",
    "\n",
    "p, q, r, w = download_search_acm('generative+adversarial+networks+audio+and+video')"
   ]
  },
  {
   "cell_type": "code",
   "execution_count": 30,
   "id": "a91b34f3-485b-4ac6-9105-4b26cf9498ad",
   "metadata": {},
   "outputs": [],
   "source": [
    "%reload_ext autoreload\n",
    "%autoreload 2\n",
    "\n",
    "from tqdm import tqdm\n",
    "# import tqdm.notebook as tqdm\n",
    "import pandas as pd\n",
    "import numpy as np\n",
    "from acm_api.acm import download_search_acm\n",
    "import json\n",
    "import sqlite3\n",
    "from wp.bm25 import bm25_score\n",
    "from wp.bm25 import __spl_chars_removal__\n",
    "from wp.bm25 import __stopwords_removal__\n",
    "from wp.bm25 import __stemmer__\n",
    "from wp.bm25 import __stemmer__\n",
    "import re\n",
    "import nltk\n",
    "import pandas as pd\n",
    "from nltk.stem import PorterStemmer\n",
    "from rank_bm25 import *\n",
    "from nltk.tokenize import word_tokenize\n",
    "from gensim.parsing.preprocessing import STOPWORDS"
   ]
  },
  {
   "cell_type": "code",
   "execution_count": null,
   "id": "d0e28dc1-3ee6-4347-a028-ed36311b4683",
   "metadata": {},
   "outputs": [],
   "source": []
  },
  {
   "cell_type": "code",
   "execution_count": null,
   "id": "0f668191-2c30-4275-b02a-f2e1528c92f4",
   "metadata": {},
   "outputs": [],
   "source": []
  },
  {
   "cell_type": "code",
   "execution_count": null,
   "id": "c1ee5c2a-0a27-4200-8840-bbb083198948",
   "metadata": {},
   "outputs": [],
   "source": []
  },
  {
   "cell_type": "code",
   "execution_count": 15,
   "id": "bdcd98a5-4adc-4790-8253-f19f1410ebdf",
   "metadata": {},
   "outputs": [],
   "source": [
    "dois = w\n",
    "dois = [doi.replace('https://doi.org/','').strip() for doi in dois]"
   ]
  },
  {
   "cell_type": "code",
   "execution_count": 16,
   "id": "3ea2058e-8d29-4117-b226-ba88334a7faf",
   "metadata": {},
   "outputs": [],
   "source": [
    "def __searchDB__(doi):\n",
    "\t\t\"\"\"\n",
    "\t\tThis method is used to retrive the doi meta info\n",
    "\t\tfrom the db\n",
    "\n",
    "\t\tWe assume that the doi record is already in the\n",
    "\t\tdatabase\n",
    "\t\t\"\"\"\n",
    "\t\tcon = sqlite3.connect('data.db')\n",
    "\t\tcur = con.cursor()\n",
    "\t\tcursor = con.execute(\"SELECT * FROM PAPERS WHERE doi=?;\", (doi,))\n",
    "\t\tfetch_data = cursor.fetchone()\n",
    "\t\treturn json.loads(fetch_data[1])"
   ]
  },
  {
   "cell_type": "code",
   "execution_count": 17,
   "id": "289638b3-b4c6-493d-a934-ab4f4b46e816",
   "metadata": {},
   "outputs": [],
   "source": [
    "def __meta_2_doc__(meta):\n",
    "\t\t\"\"\"\n",
    "\t\tThis method is used to produce the document/string out\n",
    "\t\tof a meta data\n",
    "\t\t\"\"\"\n",
    "\t\tstr_ = meta['title'] + ' ' + meta['abstract']\n",
    "\t\treturn str_"
   ]
  },
  {
   "cell_type": "code",
   "execution_count": 25,
   "id": "d304eb47-e8b6-4357-b786-f7307243c2aa",
   "metadata": {},
   "outputs": [],
   "source": [
    "def __active__():\n",
    "\t\t\"\"\"\n",
    "\t\tThis method is used to return the active paper\n",
    "\t\tstring i.e., title + abstract\n",
    "\t\t\"\"\"\n",
    "\t\tdois = []\n",
    "\t\ttemp = None\n",
    "\n",
    "\t\twith open('doi/doi.txt', 'r') as f:\n",
    "\t\t\ttemp = f.readlines()\n",
    "\n",
    "\t\tfor line in temp:\n",
    "\t\t\tdois.append(line.strip())\n",
    "\n",
    "\t\tfull_str = ''\n",
    "\n",
    "\t\tfor doi in dois:\n",
    "\t\t\tfull_str += __meta_2_doc__(__searchDB__(doi)) + ' '\n",
    "\n",
    "\t\treturn full_str, dois"
   ]
  },
  {
   "cell_type": "code",
   "execution_count": 26,
   "id": "949e721f-ab8e-48aa-a2a0-38f29ac598ff",
   "metadata": {},
   "outputs": [],
   "source": [
    "scores = None\n",
    "docs = {}\n",
    "active_paper, active_dois = __active__()\n",
    "\n",
    "for doi in dois:\n",
    "    if doi not in active_dois:\n",
    "        docs[doi] = __meta_2_doc__(__searchDB__(doi))"
   ]
  },
  {
   "cell_type": "code",
   "execution_count": 31,
   "id": "637c5544-831e-4c95-be73-15bda6995bfc",
   "metadata": {},
   "outputs": [],
   "source": [
    "bm25_score(active_paper, docs)\n",
    "\n",
    "tokenized_query = __stemmer__(__stopwords_removal__(__spl_chars_removal__(active_paper)))\n",
    "tokenized_corpus = [__stemmer__(__stopwords_removal__(__spl_chars_removal__(docs[key]))) for key in docs.keys()]\n",
    "\n",
    "bm25 = BM25Okapi(tokenized_corpus)\n",
    "doc_scores = bm25.get_scores(tokenized_query)"
   ]
  },
  {
   "cell_type": "code",
   "execution_count": 32,
   "id": "6f5db334-cfee-4875-ae95-06f40df5698e",
   "metadata": {},
   "outputs": [
    {
     "data": {
      "text/plain": [
       "array([200.56393685, 412.48619439, 288.95991824, 260.31595421,\n",
       "       329.63647204, 139.24890489, 171.17197168, 197.9898985 ,\n",
       "       242.62350698, 204.21932851, 179.44782607, 229.43907648,\n",
       "       172.4948938 , 195.51988746, 311.04229898, 191.54485679,\n",
       "       168.00420887, 179.18374361, 249.53801554, 210.14971187,\n",
       "       121.11361363, 174.80108265, 171.6371653 , 241.57044036,\n",
       "        79.43013438, 273.21772436, 145.78915631, 226.09865461,\n",
       "       147.58496157, 207.41644971, 197.08315421, 128.56991652,\n",
       "       269.5275115 , 245.54870045, 240.76691869, 264.41555974,\n",
       "       319.78388346, 243.50514939, 206.85624692, 197.50168116,\n",
       "       193.58945904, 191.56329506, 269.69684696, 222.2547243 ,\n",
       "       303.64396441, 286.6377321 , 234.97374942])"
      ]
     },
     "execution_count": 32,
     "metadata": {},
     "output_type": "execute_result"
    }
   ],
   "source": [
    "\n",
    "doc_scores"
   ]
  },
  {
   "cell_type": "code",
   "execution_count": 33,
   "id": "2b88b648-68bd-431e-97b8-35078a8b8e85",
   "metadata": {},
   "outputs": [
    {
     "data": {
      "text/plain": [
       "['gener',\n",
       " 'adversari',\n",
       " 'network',\n",
       " 'comput',\n",
       " 'vision',\n",
       " 'a',\n",
       " 'survey',\n",
       " 'taxonomi',\n",
       " 'gener',\n",
       " 'adversari',\n",
       " 'network',\n",
       " 'gan',\n",
       " 'extens',\n",
       " 'studi',\n",
       " 'past',\n",
       " 'year',\n",
       " 'arguabl',\n",
       " 'signific',\n",
       " 'impact',\n",
       " 'area',\n",
       " 'vision',\n",
       " 'great',\n",
       " 'advanc',\n",
       " 'challeng',\n",
       " 'plausibl',\n",
       " 'imag',\n",
       " 'gener',\n",
       " 'imag',\n",
       " 'imag',\n",
       " 'translat',\n",
       " 'facial',\n",
       " 'attribut',\n",
       " 'manipul',\n",
       " 'similar',\n",
       " 'domain',\n",
       " 'despit',\n",
       " 'signific',\n",
       " 'success',\n",
       " 'achiev',\n",
       " 'date',\n",
       " 'appli',\n",
       " 'gan',\n",
       " 'real',\n",
       " 'world',\n",
       " 'problem',\n",
       " 'pose',\n",
       " 'signific',\n",
       " 'challeng',\n",
       " 'focu',\n",
       " 'these',\n",
       " 'follow',\n",
       " '1',\n",
       " 'gener',\n",
       " 'high',\n",
       " 'qualiti',\n",
       " 'imag',\n",
       " '2',\n",
       " 'divers',\n",
       " 'imag',\n",
       " 'gener',\n",
       " '3',\n",
       " 'stabil',\n",
       " 'train',\n",
       " 'focus',\n",
       " 'degre',\n",
       " 'popular',\n",
       " 'gan',\n",
       " 'technolog',\n",
       " 'progress',\n",
       " 'challeng',\n",
       " 'provid',\n",
       " 'detail',\n",
       " 'review',\n",
       " 'state',\n",
       " 'art',\n",
       " 'gan',\n",
       " 'relat',\n",
       " 'research',\n",
       " 'publish',\n",
       " 'scientif',\n",
       " 'literatur',\n",
       " 'we',\n",
       " 'structur',\n",
       " 'review',\n",
       " 'conveni',\n",
       " 'taxonomi',\n",
       " 'adopt',\n",
       " 'base',\n",
       " 'variat',\n",
       " 'gan',\n",
       " 'architectur',\n",
       " 'loss',\n",
       " 'function',\n",
       " 'while',\n",
       " 'review',\n",
       " 'gan',\n",
       " 'present',\n",
       " 'date',\n",
       " 'consid',\n",
       " 'statu',\n",
       " 'field',\n",
       " 'base',\n",
       " 'progress',\n",
       " 'address',\n",
       " 'practic',\n",
       " 'challeng',\n",
       " 'relev',\n",
       " 'vision',\n",
       " 'accordingli',\n",
       " 'review',\n",
       " 'critic',\n",
       " 'discuss',\n",
       " 'popular',\n",
       " 'architectur',\n",
       " 'variant',\n",
       " 'loss',\n",
       " 'variant',\n",
       " 'gan',\n",
       " 'tackl',\n",
       " 'challeng',\n",
       " 'our',\n",
       " 'object',\n",
       " 'provid',\n",
       " 'overview',\n",
       " 'critic',\n",
       " 'analysi',\n",
       " 'statu',\n",
       " 'gan',\n",
       " 'research',\n",
       " 'term',\n",
       " 'relev',\n",
       " 'progress',\n",
       " 'critic',\n",
       " 'vision',\n",
       " 'applic',\n",
       " 'requir',\n",
       " 'as',\n",
       " 'discuss',\n",
       " 'compel',\n",
       " 'applic',\n",
       " 'vision',\n",
       " 'gan',\n",
       " 'demonstr',\n",
       " 'consider',\n",
       " 'success',\n",
       " 'suggest',\n",
       " 'futur',\n",
       " 'research',\n",
       " 'direct',\n",
       " 'code',\n",
       " 'relat',\n",
       " 'gan',\n",
       " 'variant',\n",
       " 'studi',\n",
       " 'work',\n",
       " 'summar',\n",
       " 'http',\n",
       " 'github',\n",
       " 'com',\n",
       " 'sheqi',\n",
       " 'gan',\n",
       " 'review',\n",
       " 'gener',\n",
       " 'adversari',\n",
       " 'network',\n",
       " 'gan',\n",
       " 'challeng',\n",
       " 'solut',\n",
       " 'futur',\n",
       " 'direct',\n",
       " 'gener',\n",
       " 'adversari',\n",
       " 'network',\n",
       " 'gan',\n",
       " 'novel',\n",
       " 'class',\n",
       " 'deep',\n",
       " 'gener',\n",
       " 'model',\n",
       " 'recent',\n",
       " 'gain',\n",
       " 'signific',\n",
       " 'attent',\n",
       " 'gan',\n",
       " 'learn',\n",
       " 'complex',\n",
       " 'high',\n",
       " 'dimension',\n",
       " 'distribut',\n",
       " 'implicitli',\n",
       " 'imag',\n",
       " 'audio',\n",
       " 'data',\n",
       " 'howev',\n",
       " 'exist',\n",
       " 'major',\n",
       " 'challeng',\n",
       " 'train',\n",
       " 'gan',\n",
       " 'e',\n",
       " 'mode',\n",
       " 'collaps',\n",
       " 'non',\n",
       " 'converg',\n",
       " 'instabl',\n",
       " 'inappropri',\n",
       " 'design',\n",
       " 'network',\n",
       " 'architectr',\n",
       " 'use',\n",
       " 'object',\n",
       " 'function',\n",
       " 'select',\n",
       " 'optim',\n",
       " 'algorithm',\n",
       " 'recent',\n",
       " 'address',\n",
       " 'challeng',\n",
       " 'solut',\n",
       " 'better',\n",
       " 'design',\n",
       " 'optim',\n",
       " 'gan',\n",
       " 'investig',\n",
       " 'base',\n",
       " 'techniqu',\n",
       " 'engin',\n",
       " 'network',\n",
       " 'architectur',\n",
       " 'new',\n",
       " 'object',\n",
       " 'function',\n",
       " 'altern',\n",
       " 'optim',\n",
       " 'algorithm',\n",
       " 'to',\n",
       " 'best',\n",
       " 'knowledg',\n",
       " 'exist',\n",
       " 'survey',\n",
       " 'particularli',\n",
       " 'focus',\n",
       " 'broad',\n",
       " 'systemat',\n",
       " 'develop',\n",
       " 'solut',\n",
       " 'in',\n",
       " 'studi',\n",
       " 'perform',\n",
       " 'comprehens',\n",
       " 'survey',\n",
       " 'advanc',\n",
       " 'gan',\n",
       " 'design',\n",
       " 'optim',\n",
       " 'solut',\n",
       " 'propos',\n",
       " 'handl',\n",
       " 'gan',\n",
       " 'challeng',\n",
       " 'we',\n",
       " 'identifi',\n",
       " 'key',\n",
       " 'research',\n",
       " 'issu',\n",
       " 'design',\n",
       " 'optim',\n",
       " 'techniqu',\n",
       " 'propos',\n",
       " 'new',\n",
       " 'taxonomi',\n",
       " 'structur',\n",
       " 'solut',\n",
       " 'key',\n",
       " 'research',\n",
       " 'issu',\n",
       " 'in',\n",
       " 'accord',\n",
       " 'taxonomi',\n",
       " 'provid',\n",
       " 'detail',\n",
       " 'discuss',\n",
       " 'differ',\n",
       " 'gan',\n",
       " 'variant',\n",
       " 'propos',\n",
       " 'solut',\n",
       " 'relationship',\n",
       " 'final',\n",
       " 'base',\n",
       " 'insight',\n",
       " 'gain',\n",
       " 'present',\n",
       " 'promis',\n",
       " 'research',\n",
       " 'direct',\n",
       " 'rapidli',\n",
       " 'grow',\n",
       " 'field',\n",
       " 'gener',\n",
       " 'adversari',\n",
       " 'network',\n",
       " 'a',\n",
       " 'survey',\n",
       " 'toward',\n",
       " 'privat',\n",
       " 'secur',\n",
       " 'applic',\n",
       " 'gener',\n",
       " 'adversari',\n",
       " 'network',\n",
       " 'gan',\n",
       " 'promot',\n",
       " 'varieti',\n",
       " 'applic',\n",
       " 'vision',\n",
       " 'natur',\n",
       " 'languag',\n",
       " 'process',\n",
       " 'gener',\n",
       " 'model',\n",
       " 's',\n",
       " 'compel',\n",
       " 'abil',\n",
       " 'gener',\n",
       " 'realist',\n",
       " 'exampl',\n",
       " 'plausibl',\n",
       " 'drawn',\n",
       " 'exist',\n",
       " 'distribut',\n",
       " 'sampl',\n",
       " 'gan',\n",
       " 'provid',\n",
       " 'impress',\n",
       " 'perform',\n",
       " 'data',\n",
       " 'gener',\n",
       " 'base',\n",
       " 'task',\n",
       " 'stimul',\n",
       " 'fertil',\n",
       " 'privaci',\n",
       " 'secur',\n",
       " 'orient',\n",
       " 'research',\n",
       " 'game',\n",
       " 'theoret',\n",
       " 'optim',\n",
       " 'strategi',\n",
       " 'unfortun',\n",
       " 'comprehens',\n",
       " 'survey',\n",
       " 'gan',\n",
       " 'privaci',\n",
       " 'secur',\n",
       " 'motiv',\n",
       " 'survey',\n",
       " 'summar',\n",
       " 'systemat',\n",
       " 'the',\n",
       " 'exist',\n",
       " 'work',\n",
       " 'classifi',\n",
       " 'proper',\n",
       " 'categori',\n",
       " 'base',\n",
       " 'privaci',\n",
       " 'secur',\n",
       " 'function',\n",
       " 'survey',\n",
       " 'conduct',\n",
       " 'comprehens',\n",
       " 'analysi',\n",
       " 'advantag',\n",
       " 'drawback',\n",
       " 'consid',\n",
       " 'gan',\n",
       " 'privaci',\n",
       " 'secur',\n",
       " 'initi',\n",
       " 'stage',\n",
       " 'impos',\n",
       " 'uniqu',\n",
       " 'challeng',\n",
       " 'address',\n",
       " 'articl',\n",
       " 'shed',\n",
       " 'light',\n",
       " 'potenti',\n",
       " 'privaci',\n",
       " 'secur',\n",
       " 'applic',\n",
       " 'gan',\n",
       " 'elabor',\n",
       " 'futur',\n",
       " 'research',\n",
       " 'direct',\n",
       " 'how',\n",
       " 'gener',\n",
       " 'adversari',\n",
       " 'network',\n",
       " 'their',\n",
       " 'variant',\n",
       " 'work',\n",
       " 'an',\n",
       " 'overview',\n",
       " 'gener',\n",
       " 'adversari',\n",
       " 'network',\n",
       " 'gan',\n",
       " 'receiv',\n",
       " 'wide',\n",
       " 'attent',\n",
       " 'machin',\n",
       " 'learn',\n",
       " 'field',\n",
       " 'potenti',\n",
       " 'learn',\n",
       " 'high',\n",
       " 'dimension',\n",
       " 'complex',\n",
       " 'real',\n",
       " 'data',\n",
       " 'distribut',\n",
       " 'specif',\n",
       " 'reli',\n",
       " 'assumpt',\n",
       " 'distribut',\n",
       " 'gener',\n",
       " 'real',\n",
       " 'like',\n",
       " 'sampl',\n",
       " 'latent',\n",
       " 'space',\n",
       " 'simpl',\n",
       " 'manner',\n",
       " 'thi',\n",
       " 'power',\n",
       " 'properti',\n",
       " 'allow',\n",
       " 'gan',\n",
       " 'appli',\n",
       " 'applic',\n",
       " 'imag',\n",
       " 'synthesi',\n",
       " 'imag',\n",
       " 'attribut',\n",
       " 'edit',\n",
       " 'imag',\n",
       " 'translat',\n",
       " 'domain',\n",
       " 'adapt',\n",
       " 'academ',\n",
       " 'field',\n",
       " 'in',\n",
       " 'articl',\n",
       " 'discuss',\n",
       " 'detail',\n",
       " 'gan',\n",
       " 'reader',\n",
       " 'familiar',\n",
       " 'comprehend',\n",
       " 'gan',\n",
       " 'deepli',\n",
       " 'wish',\n",
       " 'view',\n",
       " 'gan',\n",
       " 'perspect',\n",
       " 'in',\n",
       " 'addit',\n",
       " 'explain',\n",
       " 'gan',\n",
       " 'oper',\n",
       " 'fundament',\n",
       " 'mean',\n",
       " 'object',\n",
       " 'function',\n",
       " 'suggest',\n",
       " 'recent',\n",
       " 'we',\n",
       " 'focu',\n",
       " 'gan',\n",
       " 'combin',\n",
       " 'autoencod',\n",
       " 'framework',\n",
       " 'final',\n",
       " 'enumer',\n",
       " 'gan',\n",
       " 'variant',\n",
       " 'appli',\n",
       " 'task',\n",
       " 'field',\n",
       " 'interest',\n",
       " 'exploit',\n",
       " 'gan',\n",
       " 'research',\n",
       " 'imag',\n",
       " 'denois',\n",
       " 'gener',\n",
       " 'adversari',\n",
       " 'network',\n",
       " 'detail',\n",
       " 'loss',\n",
       " 'imag',\n",
       " 'denois',\n",
       " 'challeng',\n",
       " 'task',\n",
       " 'aim',\n",
       " 'remov',\n",
       " 'addit',\n",
       " 'nois',\n",
       " 'preserv',\n",
       " 'use',\n",
       " 'inform',\n",
       " 'mani',\n",
       " 'exist',\n",
       " 'imag',\n",
       " 'denois',\n",
       " 'algorithm',\n",
       " 'focu',\n",
       " 'improv',\n",
       " 'typic',\n",
       " 'object',\n",
       " 'measur',\n",
       " 'peak',\n",
       " 'signal',\n",
       " 'nois',\n",
       " 'ratio',\n",
       " 'psnr',\n",
       " 'mean',\n",
       " 'squar',\n",
       " 'error',\n",
       " 'mse',\n",
       " 'loss',\n",
       " 'function',\n",
       " 'train',\n",
       " 'network',\n",
       " 'although',\n",
       " 'algorithm',\n",
       " 'effect',\n",
       " 'improv',\n",
       " 'psnr',\n",
       " 'benchmark',\n",
       " 'dataset',\n",
       " 'denois',\n",
       " 'imag',\n",
       " 'lose',\n",
       " 'import',\n",
       " 'detail',\n",
       " 'smooth',\n",
       " 'textur',\n",
       " 'rich',\n",
       " 'region',\n",
       " 'in',\n",
       " 'order',\n",
       " 'solv',\n",
       " 'problem',\n",
       " 'introduc',\n",
       " 'gener',\n",
       " 'adversari',\n",
       " 'network',\n",
       " 'gan',\n",
       " 'perceptu',\n",
       " 'loss',\n",
       " 'singl',\n",
       " 'imag',\n",
       " 'super',\n",
       " 'resolut',\n",
       " 'sisr',\n",
       " 'field',\n",
       " 'imag',\n",
       " 'denois',\n",
       " 'work',\n",
       " 'the',\n",
       " 'gan',\n",
       " 'perceptu',\n",
       " 'loss',\n",
       " 'help',\n",
       " 'network',\n",
       " 'better',\n",
       " 'focu',\n",
       " 'recov',\n",
       " 'detail',\n",
       " 'denois',\n",
       " 'to',\n",
       " 'understand',\n",
       " 'easili',\n",
       " 'use',\n",
       " 'term',\n",
       " 'detail',\n",
       " 'loss',\n",
       " 'repres',\n",
       " 'loss',\n",
       " 'includ',\n",
       " 'mse',\n",
       " 'perceptu',\n",
       " 'loss',\n",
       " 'besid',\n",
       " 'propos',\n",
       " 'new',\n",
       " 'convolut',\n",
       " 'neural',\n",
       " 'network',\n",
       " 'achiev',\n",
       " 'state',\n",
       " 'art',\n",
       " 'result',\n",
       " 'psnr',\n",
       " 'our',\n",
       " 'experiment',\n",
       " 'result',\n",
       " 'method',\n",
       " 'outperform',\n",
       " 'current',\n",
       " 'state',\n",
       " 'art',\n",
       " 'method',\n",
       " 'preserv',\n",
       " 'detail',\n",
       " 'denois',\n",
       " 'compar',\n",
       " 'current',\n",
       " 'state',\n",
       " 'art',\n",
       " 'method',\n",
       " 'denois',\n",
       " 'imag',\n",
       " 'method',\n",
       " 'clearer',\n",
       " 'sharper',\n",
       " 'realist',\n",
       " 'detail',\n",
       " 'video',\n",
       " 'gener',\n",
       " 'adversari',\n",
       " 'network',\n",
       " 'a',\n",
       " 'review',\n",
       " 'with',\n",
       " 'increas',\n",
       " 'content',\n",
       " 'creation',\n",
       " 'field',\n",
       " 'multipl',\n",
       " 'sector',\n",
       " 'media',\n",
       " 'educ',\n",
       " 'entertain',\n",
       " 'increas',\n",
       " 'trend',\n",
       " 'paper',\n",
       " 'use',\n",
       " 'ai',\n",
       " 'algorithm',\n",
       " 'gener',\n",
       " 'content',\n",
       " 'imag',\n",
       " 'video',\n",
       " 'audio',\n",
       " 'text',\n",
       " 'gener',\n",
       " 'adversari',\n",
       " 'network',\n",
       " 'gan',\n",
       " 'promis',\n",
       " 'model',\n",
       " 'synthes',\n",
       " 'data',\n",
       " 'sampl',\n",
       " 'similar',\n",
       " 'real',\n",
       " 'data',\n",
       " 'sampl',\n",
       " 'while',\n",
       " 'variat',\n",
       " 'gan',\n",
       " 'model',\n",
       " 'gener',\n",
       " 'cover',\n",
       " 'extent',\n",
       " 'survey',\n",
       " 'paper',\n",
       " 'best',\n",
       " 'knowledg',\n",
       " 'paper',\n",
       " 'review',\n",
       " 'state',\n",
       " 'art',\n",
       " 'video',\n",
       " 'gan',\n",
       " 'model',\n",
       " 'thi',\n",
       " 'paper',\n",
       " 'categor',\n",
       " 'gan',\n",
       " 'review',\n",
       " 'paper',\n",
       " 'gener',\n",
       " 'gan',\n",
       " 'review',\n",
       " 'paper',\n",
       " 'imag',\n",
       " 'gan',\n",
       " 'review',\n",
       " 'paper',\n",
       " 'special',\n",
       " 'field',\n",
       " 'gan',\n",
       " 'review',\n",
       " 'paper',\n",
       " 'anomali',\n",
       " 'detect',\n",
       " 'medic',\n",
       " 'imag',\n",
       " 'cybersecur',\n",
       " 'the',\n",
       " 'paper',\n",
       " 'summar',\n",
       " 'main',\n",
       " 'improv',\n",
       " 'gan',\n",
       " 'necessarili',\n",
       " 'appli',\n",
       " 'video',\n",
       " 'domain',\n",
       " 'run',\n",
       " 'adopt',\n",
       " 'multipl',\n",
       " 'video',\n",
       " 'gan',\n",
       " 'variat',\n",
       " 'then',\n",
       " 'comprehens',\n",
       " 'review',\n",
       " 'video',\n",
       " 'gan',\n",
       " 'model',\n",
       " 'provid',\n",
       " 'main',\n",
       " 'divis',\n",
       " 'base',\n",
       " 'exist',\n",
       " 'condit',\n",
       " 'the',\n",
       " 'condit',\n",
       " 'model',\n",
       " 'classifi',\n",
       " 'accord',\n",
       " 'provid',\n",
       " 'condit',\n",
       " 'audio',\n",
       " 'text',\n",
       " 'video',\n",
       " 'imag',\n",
       " 'the',\n",
       " 'paper',\n",
       " 'conclud',\n",
       " 'main',\n",
       " 'challeng',\n",
       " 'limit',\n",
       " 'current',\n",
       " 'video',\n",
       " 'gan',\n",
       " 'model']"
      ]
     },
     "execution_count": 33,
     "metadata": {},
     "output_type": "execute_result"
    }
   ],
   "source": [
    "tokenized_query[:50]"
   ]
  },
  {
   "cell_type": "code",
   "execution_count": null,
   "id": "0f3051bf-2ba5-4175-a9fa-e993d989d876",
   "metadata": {},
   "outputs": [],
   "source": []
  },
  {
   "cell_type": "code",
   "execution_count": null,
   "id": "1092dff0-30a0-4459-a1a2-f9b23595c8d9",
   "metadata": {},
   "outputs": [],
   "source": []
  },
  {
   "cell_type": "code",
   "execution_count": null,
   "id": "9b42e6b9-bfe8-408d-bacf-a6e36acd95b8",
   "metadata": {},
   "outputs": [],
   "source": []
  },
  {
   "cell_type": "code",
   "execution_count": null,
   "id": "ad3b6d76-e045-46e9-8d68-68b8a837e217",
   "metadata": {},
   "outputs": [],
   "source": []
  },
  {
   "cell_type": "code",
   "execution_count": null,
   "id": "74ade434-dacc-4b02-a7f8-9618f057efca",
   "metadata": {},
   "outputs": [],
   "source": []
  },
  {
   "cell_type": "code",
   "execution_count": null,
   "id": "827b127d-8fa5-484c-8ce1-6cb2c697d7b6",
   "metadata": {},
   "outputs": [],
   "source": []
  },
  {
   "cell_type": "code",
   "execution_count": null,
   "id": "a393d9a9-eaed-44f1-aeb5-cddc95ce9f1f",
   "metadata": {},
   "outputs": [],
   "source": []
  },
  {
   "cell_type": "code",
   "execution_count": null,
   "id": "89997af5-78af-43c3-b87c-a0e7de2604bb",
   "metadata": {},
   "outputs": [],
   "source": []
  }
 ],
 "metadata": {
  "kernelspec": {
   "display_name": "Python 3 (ipykernel)",
   "language": "python",
   "name": "python3"
  },
  "language_info": {
   "codemirror_mode": {
    "name": "ipython",
    "version": 3
   },
   "file_extension": ".py",
   "mimetype": "text/x-python",
   "name": "python",
   "nbconvert_exporter": "python",
   "pygments_lexer": "ipython3",
   "version": "3.7.3"
  }
 },
 "nbformat": 4,
 "nbformat_minor": 5
}
