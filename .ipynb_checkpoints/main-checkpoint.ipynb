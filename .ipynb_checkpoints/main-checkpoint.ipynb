{
 "cells": [
  {
   "cell_type": "code",
   "execution_count": 29,
   "id": "d484a890-963f-43c9-b71f-bbc0c053f80e",
   "metadata": {},
   "outputs": [],
   "source": [
    "%reload_ext autoreload\n",
    "%autoreload 2\n",
    "\n",
    "import sqlite3\n",
    "import numpy as np\n",
    "import pandas as pd\n",
    "from tqdm.notebook import tqdm\n",
    "from utils.dummy import dummy_data\n",
    "from utils.dummy import dummy_doi\n",
    "from utils.dummy import get_dummy_info\n",
    "from utils.utils import get_citation_doi\n",
    "from utils.utils import get_paper_citation_pairs\n",
    "from utils.utils import get_cited_by_doi\n",
    "from utils.utils import get_fully_connected_network\n",
    "from acm_api.acm import acm_meta\n",
    "from evaluation.evaluate import Train_Test_Split_Plain\n",
    "import matplotlib.pyplot as plt\n",
    "from cf.cf import CF\n",
    "from cf.cf_unit import CFU\n",
    "from cf.cf_pr import CFUPR\n",
    "from cf.cf_full_hits import CFUH"
   ]
  },
  {
   "cell_type": "markdown",
   "id": "6dff21f2-d307-4844-9cca-86019027e973",
   "metadata": {},
   "source": [
    "<h2>Processing the input file with doi of papers</h2>"
   ]
  },
  {
   "cell_type": "code",
   "execution_count": 25,
   "id": "823117b6-e153-441a-8eb9-10baeb699470",
   "metadata": {},
   "outputs": [
    {
     "name": "stdout",
     "output_type": "stream",
     "text": [
      "processing doi....\n"
     ]
    },
    {
     "data": {
      "application/vnd.jupyter.widget-view+json": {
       "model_id": "3edb02f371b74dc28f310dfd0cf42d44",
       "version_major": 2,
       "version_minor": 0
      },
      "text/plain": [
       "  0%|          | 0/20 [00:00<?, ?it/s]"
      ]
     },
     "metadata": {},
     "output_type": "display_data"
    },
    {
     "name": "stdout",
     "output_type": "stream",
     "text": [
      "1\n",
      "extracting citation's doi....\n"
     ]
    },
    {
     "data": {
      "application/vnd.jupyter.widget-view+json": {
       "model_id": "359f94fe2c42406fa03e0494f5485afa",
       "version_major": 2,
       "version_minor": 0
      },
      "text/plain": [
       "  0%|          | 0/100 [00:00<?, ?it/s]"
      ]
     },
     "metadata": {},
     "output_type": "display_data"
    },
    {
     "name": "stdout",
     "output_type": "stream",
     "text": [
      "extracting cited_by doi....\n"
     ]
    },
    {
     "data": {
      "application/vnd.jupyter.widget-view+json": {
       "model_id": "bc13b35df3c1478aaa23f933d16d3f12",
       "version_major": 2,
       "version_minor": 0
      },
      "text/plain": [
       "  0%|          | 0/100 [00:00<?, ?it/s]"
      ]
     },
     "metadata": {},
     "output_type": "display_data"
    },
    {
     "name": "stdout",
     "output_type": "stream",
     "text": [
      "2\n",
      "extracting citation's doi....\n"
     ]
    },
    {
     "data": {
      "application/vnd.jupyter.widget-view+json": {
       "model_id": "55981434f79140c696e06b06c93b9f41",
       "version_major": 2,
       "version_minor": 0
      },
      "text/plain": [
       "  0%|          | 0/100 [00:00<?, ?it/s]"
      ]
     },
     "metadata": {},
     "output_type": "display_data"
    },
    {
     "name": "stdout",
     "output_type": "stream",
     "text": [
      "extracting cited_by doi....\n"
     ]
    },
    {
     "data": {
      "application/vnd.jupyter.widget-view+json": {
       "model_id": "28297c1b8298455e9d16aeaa2d26e501",
       "version_major": 2,
       "version_minor": 0
      },
      "text/plain": [
       "  0%|          | 0/100 [00:00<?, ?it/s]"
      ]
     },
     "metadata": {},
     "output_type": "display_data"
    },
    {
     "name": "stdout",
     "output_type": "stream",
     "text": [
      "3\n",
      "extracting citation's doi....\n"
     ]
    },
    {
     "data": {
      "application/vnd.jupyter.widget-view+json": {
       "model_id": "bde8757f738b402db8c725fd68c30a30",
       "version_major": 2,
       "version_minor": 0
      },
      "text/plain": [
       "  0%|          | 0/100 [00:00<?, ?it/s]"
      ]
     },
     "metadata": {},
     "output_type": "display_data"
    },
    {
     "name": "stdout",
     "output_type": "stream",
     "text": [
      "extracting cited_by doi....\n"
     ]
    },
    {
     "data": {
      "application/vnd.jupyter.widget-view+json": {
       "model_id": "09fe5ca5de0247f388af8c988a700283",
       "version_major": 2,
       "version_minor": 0
      },
      "text/plain": [
       "  0%|          | 0/100 [00:00<?, ?it/s]"
      ]
     },
     "metadata": {},
     "output_type": "display_data"
    },
    {
     "name": "stdout",
     "output_type": "stream",
     "text": [
      "4\n",
      "extracting citation's doi....\n"
     ]
    },
    {
     "data": {
      "application/vnd.jupyter.widget-view+json": {
       "model_id": "9805a6ece824460e96cc1054132eb306",
       "version_major": 2,
       "version_minor": 0
      },
      "text/plain": [
       "  0%|          | 0/100 [00:00<?, ?it/s]"
      ]
     },
     "metadata": {},
     "output_type": "display_data"
    },
    {
     "name": "stdout",
     "output_type": "stream",
     "text": [
      "extracting cited_by doi....\n"
     ]
    },
    {
     "data": {
      "application/vnd.jupyter.widget-view+json": {
       "model_id": "79bc24a4dbd047809e78e9b863b3ee05",
       "version_major": 2,
       "version_minor": 0
      },
      "text/plain": [
       "  0%|          | 0/100 [00:00<?, ?it/s]"
      ]
     },
     "metadata": {},
     "output_type": "display_data"
    },
    {
     "name": "stdout",
     "output_type": "stream",
     "text": [
      "5\n",
      "extracting citation's doi....\n"
     ]
    },
    {
     "data": {
      "application/vnd.jupyter.widget-view+json": {
       "model_id": "12268f4a565e436cb2cfd9914dba6882",
       "version_major": 2,
       "version_minor": 0
      },
      "text/plain": [
       "  0%|          | 0/100 [00:00<?, ?it/s]"
      ]
     },
     "metadata": {},
     "output_type": "display_data"
    },
    {
     "name": "stdout",
     "output_type": "stream",
     "text": [
      "extracting cited_by doi....\n"
     ]
    },
    {
     "data": {
      "application/vnd.jupyter.widget-view+json": {
       "model_id": "e044a80489974444b7dfc5c146472e7e",
       "version_major": 2,
       "version_minor": 0
      },
      "text/plain": [
       "  0%|          | 0/100 [00:00<?, ?it/s]"
      ]
     },
     "metadata": {},
     "output_type": "display_data"
    },
    {
     "name": "stdout",
     "output_type": "stream",
     "text": [
      "6\n",
      "extracting citation's doi....\n"
     ]
    },
    {
     "data": {
      "application/vnd.jupyter.widget-view+json": {
       "model_id": "36bef97f0db54d2ab3d80fc71293667c",
       "version_major": 2,
       "version_minor": 0
      },
      "text/plain": [
       "  0%|          | 0/100 [00:00<?, ?it/s]"
      ]
     },
     "metadata": {},
     "output_type": "display_data"
    },
    {
     "name": "stdout",
     "output_type": "stream",
     "text": [
      "extracting cited_by doi....\n"
     ]
    },
    {
     "data": {
      "application/vnd.jupyter.widget-view+json": {
       "model_id": "a7b95f5d153e4cb2bca377e8cf583ae7",
       "version_major": 2,
       "version_minor": 0
      },
      "text/plain": [
       "  0%|          | 0/100 [00:00<?, ?it/s]"
      ]
     },
     "metadata": {},
     "output_type": "display_data"
    },
    {
     "name": "stdout",
     "output_type": "stream",
     "text": [
      "7\n",
      "extracting citation's doi....\n"
     ]
    },
    {
     "data": {
      "application/vnd.jupyter.widget-view+json": {
       "model_id": "1abbc6a2a8bc4b5ba8d50427b6c3a7ef",
       "version_major": 2,
       "version_minor": 0
      },
      "text/plain": [
       "  0%|          | 0/100 [00:00<?, ?it/s]"
      ]
     },
     "metadata": {},
     "output_type": "display_data"
    },
    {
     "name": "stdout",
     "output_type": "stream",
     "text": [
      "extracting cited_by doi....\n"
     ]
    },
    {
     "data": {
      "application/vnd.jupyter.widget-view+json": {
       "model_id": "0e053c0a616c458d959bb68ae90e89d7",
       "version_major": 2,
       "version_minor": 0
      },
      "text/plain": [
       "  0%|          | 0/100 [00:00<?, ?it/s]"
      ]
     },
     "metadata": {},
     "output_type": "display_data"
    },
    {
     "name": "stdout",
     "output_type": "stream",
     "text": [
      "8\n",
      "extracting citation's doi....\n"
     ]
    },
    {
     "data": {
      "application/vnd.jupyter.widget-view+json": {
       "model_id": "6ec5e649f820418aa7e086b01ba59354",
       "version_major": 2,
       "version_minor": 0
      },
      "text/plain": [
       "  0%|          | 0/100 [00:00<?, ?it/s]"
      ]
     },
     "metadata": {},
     "output_type": "display_data"
    },
    {
     "name": "stdout",
     "output_type": "stream",
     "text": [
      "extracting cited_by doi....\n"
     ]
    },
    {
     "data": {
      "application/vnd.jupyter.widget-view+json": {
       "model_id": "8de857b6f70f4cb0af8cf8c28e36072d",
       "version_major": 2,
       "version_minor": 0
      },
      "text/plain": [
       "  0%|          | 0/100 [00:00<?, ?it/s]"
      ]
     },
     "metadata": {},
     "output_type": "display_data"
    },
    {
     "name": "stdout",
     "output_type": "stream",
     "text": [
      "9\n",
      "extracting citation's doi....\n"
     ]
    },
    {
     "data": {
      "application/vnd.jupyter.widget-view+json": {
       "model_id": "9e0fc3eee6034594b84a51d2fca6ecb8",
       "version_major": 2,
       "version_minor": 0
      },
      "text/plain": [
       "  0%|          | 0/100 [00:00<?, ?it/s]"
      ]
     },
     "metadata": {},
     "output_type": "display_data"
    },
    {
     "name": "stdout",
     "output_type": "stream",
     "text": [
      "extracting cited_by doi....\n"
     ]
    },
    {
     "data": {
      "application/vnd.jupyter.widget-view+json": {
       "model_id": "6c82a0e304594853abf90fa525ef8eec",
       "version_major": 2,
       "version_minor": 0
      },
      "text/plain": [
       "  0%|          | 0/100 [00:00<?, ?it/s]"
      ]
     },
     "metadata": {},
     "output_type": "display_data"
    },
    {
     "name": "stdout",
     "output_type": "stream",
     "text": [
      "10\n",
      "extracting citation's doi....\n"
     ]
    },
    {
     "data": {
      "application/vnd.jupyter.widget-view+json": {
       "model_id": "d2d08e0501314d00bcc0d496d5ce825d",
       "version_major": 2,
       "version_minor": 0
      },
      "text/plain": [
       "  0%|          | 0/100 [00:00<?, ?it/s]"
      ]
     },
     "metadata": {},
     "output_type": "display_data"
    },
    {
     "name": "stdout",
     "output_type": "stream",
     "text": [
      "extracting cited_by doi....\n"
     ]
    },
    {
     "data": {
      "application/vnd.jupyter.widget-view+json": {
       "model_id": "db12d6d6f59f40cfaeebfadd5561abb0",
       "version_major": 2,
       "version_minor": 0
      },
      "text/plain": [
       "  0%|          | 0/100 [00:00<?, ?it/s]"
      ]
     },
     "metadata": {},
     "output_type": "display_data"
    },
    {
     "name": "stdout",
     "output_type": "stream",
     "text": [
      "11\n",
      "extracting citation's doi....\n"
     ]
    },
    {
     "data": {
      "application/vnd.jupyter.widget-view+json": {
       "model_id": "7a9cce0724de4f7b9589f6795e72471a",
       "version_major": 2,
       "version_minor": 0
      },
      "text/plain": [
       "  0%|          | 0/100 [00:00<?, ?it/s]"
      ]
     },
     "metadata": {},
     "output_type": "display_data"
    },
    {
     "name": "stdout",
     "output_type": "stream",
     "text": [
      "extracting cited_by doi....\n"
     ]
    },
    {
     "data": {
      "application/vnd.jupyter.widget-view+json": {
       "model_id": "2298a1020a7f48608a57b9cb116c2bf2",
       "version_major": 2,
       "version_minor": 0
      },
      "text/plain": [
       "  0%|          | 0/100 [00:00<?, ?it/s]"
      ]
     },
     "metadata": {},
     "output_type": "display_data"
    },
    {
     "name": "stdout",
     "output_type": "stream",
     "text": [
      "12\n",
      "extracting citation's doi....\n"
     ]
    },
    {
     "data": {
      "application/vnd.jupyter.widget-view+json": {
       "model_id": "3a63161f776042b4bb05840ff311fe7c",
       "version_major": 2,
       "version_minor": 0
      },
      "text/plain": [
       "  0%|          | 0/100 [00:00<?, ?it/s]"
      ]
     },
     "metadata": {},
     "output_type": "display_data"
    },
    {
     "name": "stdout",
     "output_type": "stream",
     "text": [
      "extracting cited_by doi....\n"
     ]
    },
    {
     "data": {
      "application/vnd.jupyter.widget-view+json": {
       "model_id": "9302da10c18c4d46b13be19890a3e19a",
       "version_major": 2,
       "version_minor": 0
      },
      "text/plain": [
       "  0%|          | 0/100 [00:00<?, ?it/s]"
      ]
     },
     "metadata": {},
     "output_type": "display_data"
    },
    {
     "name": "stdout",
     "output_type": "stream",
     "text": [
      "13\n",
      "extracting citation's doi....\n"
     ]
    },
    {
     "data": {
      "application/vnd.jupyter.widget-view+json": {
       "model_id": "5801fbdb0d264fe1b3e296109bb4c1dd",
       "version_major": 2,
       "version_minor": 0
      },
      "text/plain": [
       "  0%|          | 0/100 [00:00<?, ?it/s]"
      ]
     },
     "metadata": {},
     "output_type": "display_data"
    },
    {
     "name": "stdout",
     "output_type": "stream",
     "text": [
      "extracting cited_by doi....\n"
     ]
    },
    {
     "data": {
      "application/vnd.jupyter.widget-view+json": {
       "model_id": "489c239474954d0a8294715263732251",
       "version_major": 2,
       "version_minor": 0
      },
      "text/plain": [
       "  0%|          | 0/100 [00:00<?, ?it/s]"
      ]
     },
     "metadata": {},
     "output_type": "display_data"
    },
    {
     "name": "stdout",
     "output_type": "stream",
     "text": [
      "14\n",
      "extracting citation's doi....\n"
     ]
    },
    {
     "data": {
      "application/vnd.jupyter.widget-view+json": {
       "model_id": "92a9c7575f79460290775ac8f9c14ba6",
       "version_major": 2,
       "version_minor": 0
      },
      "text/plain": [
       "  0%|          | 0/100 [00:00<?, ?it/s]"
      ]
     },
     "metadata": {},
     "output_type": "display_data"
    },
    {
     "name": "stdout",
     "output_type": "stream",
     "text": [
      "extracting cited_by doi....\n"
     ]
    },
    {
     "data": {
      "application/vnd.jupyter.widget-view+json": {
       "model_id": "61352a2306354b79a7dc55ea018af54d",
       "version_major": 2,
       "version_minor": 0
      },
      "text/plain": [
       "  0%|          | 0/100 [00:00<?, ?it/s]"
      ]
     },
     "metadata": {},
     "output_type": "display_data"
    },
    {
     "name": "stdout",
     "output_type": "stream",
     "text": [
      "15\n",
      "extracting citation's doi....\n"
     ]
    },
    {
     "data": {
      "application/vnd.jupyter.widget-view+json": {
       "model_id": "b00349060dc94338bfa948f20edeb417",
       "version_major": 2,
       "version_minor": 0
      },
      "text/plain": [
       "  0%|          | 0/100 [00:00<?, ?it/s]"
      ]
     },
     "metadata": {},
     "output_type": "display_data"
    },
    {
     "name": "stdout",
     "output_type": "stream",
     "text": [
      "extracting cited_by doi....\n"
     ]
    },
    {
     "data": {
      "application/vnd.jupyter.widget-view+json": {
       "model_id": "b177d0e89ae248b6bebce8e8e2f3fcae",
       "version_major": 2,
       "version_minor": 0
      },
      "text/plain": [
       "  0%|          | 0/100 [00:00<?, ?it/s]"
      ]
     },
     "metadata": {},
     "output_type": "display_data"
    },
    {
     "name": "stdout",
     "output_type": "stream",
     "text": [
      "16\n",
      "extracting citation's doi....\n"
     ]
    },
    {
     "data": {
      "application/vnd.jupyter.widget-view+json": {
       "model_id": "bc8c2dc13f264edda87f5ea8c0d158e8",
       "version_major": 2,
       "version_minor": 0
      },
      "text/plain": [
       "  0%|          | 0/100 [00:00<?, ?it/s]"
      ]
     },
     "metadata": {},
     "output_type": "display_data"
    },
    {
     "name": "stdout",
     "output_type": "stream",
     "text": [
      "extracting cited_by doi....\n"
     ]
    },
    {
     "data": {
      "application/vnd.jupyter.widget-view+json": {
       "model_id": "de2cedaf3c134993a5abc5783312d723",
       "version_major": 2,
       "version_minor": 0
      },
      "text/plain": [
       "  0%|          | 0/100 [00:00<?, ?it/s]"
      ]
     },
     "metadata": {},
     "output_type": "display_data"
    },
    {
     "name": "stdout",
     "output_type": "stream",
     "text": [
      "17\n",
      "extracting citation's doi....\n"
     ]
    },
    {
     "data": {
      "application/vnd.jupyter.widget-view+json": {
       "model_id": "1bcd81fab7fe48c2aee181d592da5e01",
       "version_major": 2,
       "version_minor": 0
      },
      "text/plain": [
       "  0%|          | 0/100 [00:00<?, ?it/s]"
      ]
     },
     "metadata": {},
     "output_type": "display_data"
    },
    {
     "name": "stdout",
     "output_type": "stream",
     "text": [
      "extracting cited_by doi....\n"
     ]
    },
    {
     "data": {
      "application/vnd.jupyter.widget-view+json": {
       "model_id": "68bee41cc84e4e369ac9a1e1c1f39c24",
       "version_major": 2,
       "version_minor": 0
      },
      "text/plain": [
       "  0%|          | 0/100 [00:00<?, ?it/s]"
      ]
     },
     "metadata": {},
     "output_type": "display_data"
    },
    {
     "name": "stdout",
     "output_type": "stream",
     "text": [
      "18\n",
      "extracting citation's doi....\n"
     ]
    },
    {
     "data": {
      "application/vnd.jupyter.widget-view+json": {
       "model_id": "e92cef597694403eb39adf39baf2e953",
       "version_major": 2,
       "version_minor": 0
      },
      "text/plain": [
       "  0%|          | 0/100 [00:00<?, ?it/s]"
      ]
     },
     "metadata": {},
     "output_type": "display_data"
    },
    {
     "name": "stdout",
     "output_type": "stream",
     "text": [
      "extracting cited_by doi....\n"
     ]
    },
    {
     "data": {
      "application/vnd.jupyter.widget-view+json": {
       "model_id": "09902f537c7d42b2b90ab9b8c4e94da4",
       "version_major": 2,
       "version_minor": 0
      },
      "text/plain": [
       "  0%|          | 0/100 [00:00<?, ?it/s]"
      ]
     },
     "metadata": {},
     "output_type": "display_data"
    },
    {
     "name": "stdout",
     "output_type": "stream",
     "text": [
      "19\n",
      "extracting citation's doi....\n"
     ]
    },
    {
     "data": {
      "application/vnd.jupyter.widget-view+json": {
       "model_id": "c575dc23039b4fd4814011666b3b0990",
       "version_major": 2,
       "version_minor": 0
      },
      "text/plain": [
       "  0%|          | 0/100 [00:00<?, ?it/s]"
      ]
     },
     "metadata": {},
     "output_type": "display_data"
    },
    {
     "name": "stdout",
     "output_type": "stream",
     "text": [
      "extracting cited_by doi....\n"
     ]
    },
    {
     "data": {
      "application/vnd.jupyter.widget-view+json": {
       "model_id": "9c144e7f66094ba5884d78f42706fcc5",
       "version_major": 2,
       "version_minor": 0
      },
      "text/plain": [
       "  0%|          | 0/100 [00:00<?, ?it/s]"
      ]
     },
     "metadata": {},
     "output_type": "display_data"
    },
    {
     "name": "stdout",
     "output_type": "stream",
     "text": [
      "20\n",
      "extracting citation's doi....\n"
     ]
    },
    {
     "data": {
      "application/vnd.jupyter.widget-view+json": {
       "model_id": "b56360f42c8542af9a5d7443bb39772d",
       "version_major": 2,
       "version_minor": 0
      },
      "text/plain": [
       "  0%|          | 0/100 [00:00<?, ?it/s]"
      ]
     },
     "metadata": {},
     "output_type": "display_data"
    },
    {
     "name": "stdout",
     "output_type": "stream",
     "text": [
      "extracting cited_by doi....\n"
     ]
    },
    {
     "data": {
      "application/vnd.jupyter.widget-view+json": {
       "model_id": "bc35af93e22b474e8b63c04b5b0b26e9",
       "version_major": 2,
       "version_minor": 0
      },
      "text/plain": [
       "  0%|          | 0/100 [00:00<?, ?it/s]"
      ]
     },
     "metadata": {},
     "output_type": "display_data"
    }
   ],
   "source": [
    "doi_list = []\n",
    "data = {}\n",
    "data_citedby = {}\n",
    "\n",
    "# reading the input file with doi of papers\n",
    "with open('doi/doi.txt', 'r') as doi_file:\n",
    "    lines = doi_file.readlines()\n",
    "    \n",
    "for line in lines:\n",
    "    doi_list.append(line.strip())\n",
    "    \n",
    "con = sqlite3.connect('fake.db')\n",
    "cur = con.cursor()\n",
    "\n",
    "is_table_exists = cur.execute(\n",
    "    \"\"\"\n",
    "    SELECT name FROM sqlite_master WHERE type='table'\n",
    "    AND name='PAPERS'; \"\"\").fetchall()\n",
    "\n",
    "if is_table_exists == []:\n",
    "    cur.execute(\"\"\" \n",
    "        CREATE TABLE PAPERS (doi TEXT, data TEXT);\n",
    "    \"\"\")\n",
    "    \n",
    "print('processing doi....')\n",
    "for doi in tqdm(doi_list):\n",
    "    print(doi)\n",
    "    cursor = con.execute(\"SELECT * FROM PAPERS WHERE doi=?;\", (doi,))\n",
    "    fetch_data = cursor.fetchone()\n",
    "    \n",
    "    if fetch_data is None:\n",
    "        temp = acm_meta(doi)\n",
    "        insert_statement = 'INSERT INTO PAPERS(doi, data) VALUES(?, ?)'\n",
    "        \n",
    "        con.execute(insert_statement, (doi, str(temp)))\n",
    "        data[doi] = get_citation_doi(temp)\n",
    "        \n",
    "    else:\n",
    "        data[doi] = get_citation_doi(fetch_data[1])\n",
    "        \n",
    "        for citedby_doi in get_cited_by_doi(fetch_data[1]):\n",
    "            if not data_citedby.get(citedby_doi, False):\n",
    "                data_citedby[citedby_doi] = [doi]\n",
    "            else:\n",
    "                # A paper can cite my papers in the query set\n",
    "                data_citedby[citedby_doi].append(doi)\n",
    "        \n",
    "con.commit()\n",
    "con.close()"
   ]
  },
  {
   "cell_type": "code",
   "execution_count": 26,
   "id": "4bcd1929-daf9-4bc5-a906-d4a9d28afcbc",
   "metadata": {},
   "outputs": [],
   "source": [
    "# Paper's doi and it's citations\n",
    "# data"
   ]
  },
  {
   "cell_type": "code",
   "execution_count": 27,
   "id": "5346f8d1-ab21-4ed9-a5e4-a8bf143efcea",
   "metadata": {},
   "outputs": [],
   "source": [
    "# data_citedby"
   ]
  },
  {
   "cell_type": "markdown",
   "id": "cd689ff6-3a60-4ffc-a4e1-aa4c1c2e0f74",
   "metadata": {},
   "source": [
    "<h2>Code for creating the rating matrix</h2>"
   ]
  },
  {
   "cell_type": "code",
   "execution_count": 30,
   "id": "7c68584b-510b-42cd-a500-19e0124b479f",
   "metadata": {},
   "outputs": [
    {
     "data": {
      "application/vnd.jupyter.widget-view+json": {
       "model_id": "ec6ceeae99fd4af98c85d8e5e764f010",
       "version_major": 2,
       "version_minor": 0
      },
      "text/plain": [
       "  0%|          | 0/300 [00:00<?, ?it/s]"
      ]
     },
     "metadata": {},
     "output_type": "display_data"
    },
    {
     "name": "stdout",
     "output_type": "stream",
     "text": [
      "234\n",
      "None\n"
     ]
    },
    {
     "ename": "TypeError",
     "evalue": "'NoneType' object is not iterable",
     "output_type": "error",
     "traceback": [
      "\u001b[0;31m---------------------------------------------------------------------------\u001b[0m",
      "\u001b[0;31mTypeError\u001b[0m                                 Traceback (most recent call last)",
      "\u001b[0;32m/var/folders/dz/4hcwbm2n55scqf6mswxrm3v40000gn/T/ipykernel_73617/712620774.py\u001b[0m in \u001b[0;36m<module>\u001b[0;34m\u001b[0m\n\u001b[1;32m     42\u001b[0m \u001b[0;31m# value is list of citations\u001b[0m\u001b[0;34m\u001b[0m\u001b[0;34m\u001b[0m\u001b[0;34m\u001b[0m\u001b[0m\n\u001b[1;32m     43\u001b[0m \u001b[0moverall_\u001b[0m \u001b[0;34m=\u001b[0m \u001b[0;34m{\u001b[0m\u001b[0;34m**\u001b[0m\u001b[0mdata_citedby\u001b[0m\u001b[0;34m,\u001b[0m \u001b[0;34m**\u001b[0m\u001b[0mdata\u001b[0m\u001b[0;34m}\u001b[0m\u001b[0;34m\u001b[0m\u001b[0;34m\u001b[0m\u001b[0m\n\u001b[0;32m---> 44\u001b[0;31m \u001b[0moverall\u001b[0m \u001b[0;34m=\u001b[0m \u001b[0mget_fully_connected_network\u001b[0m\u001b[0;34m(\u001b[0m\u001b[0moverall_\u001b[0m\u001b[0;34m,\u001b[0m \u001b[0mdata_citedby\u001b[0m\u001b[0;34m.\u001b[0m\u001b[0mkeys\u001b[0m\u001b[0;34m(\u001b[0m\u001b[0;34m)\u001b[0m\u001b[0;34m,\u001b[0m \u001b[0macm\u001b[0m\u001b[0;34m=\u001b[0m\u001b[0;32mFalse\u001b[0m\u001b[0;34m)\u001b[0m\u001b[0;34m\u001b[0m\u001b[0;34m\u001b[0m\u001b[0m\n\u001b[0m\u001b[1;32m     45\u001b[0m \u001b[0;32mfor\u001b[0m \u001b[0mi\u001b[0m \u001b[0;32min\u001b[0m \u001b[0mindex_with_citedby\u001b[0m\u001b[0;34m:\u001b[0m\u001b[0;34m\u001b[0m\u001b[0;34m\u001b[0m\u001b[0m\n\u001b[1;32m     46\u001b[0m     \u001b[0;32mfor\u001b[0m \u001b[0mj\u001b[0m \u001b[0;32min\u001b[0m \u001b[0mcitation_set_with_cited_by\u001b[0m\u001b[0;34m:\u001b[0m\u001b[0;34m\u001b[0m\u001b[0;34m\u001b[0m\u001b[0m\n",
      "\u001b[0;32m~/Desktop/Thesis/paper_recommender/utils/utils.py\u001b[0m in \u001b[0;36mget_fully_connected_network\u001b[0;34m(overall, cited_by_doi, acm)\u001b[0m\n\u001b[1;32m    110\u001b[0m                         \u001b[0mprint\u001b[0m\u001b[0;34m(\u001b[0m\u001b[0mpapers_doi_cite\u001b[0m\u001b[0;34m)\u001b[0m\u001b[0;34m\u001b[0m\u001b[0;34m\u001b[0m\u001b[0m\n\u001b[1;32m    111\u001b[0m \u001b[0;34m\u001b[0m\u001b[0m\n\u001b[0;32m--> 112\u001b[0;31m                 \u001b[0;32mfor\u001b[0m \u001b[0mpaper\u001b[0m \u001b[0;32min\u001b[0m \u001b[0mpapers_doi_cite\u001b[0m\u001b[0;34m:\u001b[0m\u001b[0;34m\u001b[0m\u001b[0;34m\u001b[0m\u001b[0m\n\u001b[0m\u001b[1;32m    113\u001b[0m                         \u001b[0;32mif\u001b[0m \u001b[0mpaper\u001b[0m \u001b[0;32min\u001b[0m \u001b[0mall_possible_papers\u001b[0m\u001b[0;34m:\u001b[0m\u001b[0;34m\u001b[0m\u001b[0;34m\u001b[0m\u001b[0m\n\u001b[1;32m    114\u001b[0m \u001b[0;34m\u001b[0m\u001b[0m\n",
      "\u001b[0;31mTypeError\u001b[0m: 'NoneType' object is not iterable"
     ]
    }
   ],
   "source": [
    "# Store the citation space\n",
    "citation_set = set()\n",
    "\n",
    "# Store the citation space including the cited_by space\n",
    "citation_set_with_cited_by = set()\n",
    "\n",
    "# Here we are capturing the all the citation for a given paper\n",
    "# Later we can use this to know the citation space\n",
    "for key in data.keys():\n",
    "    citation_set.update(data[key])\n",
    "    citation_set_with_cited_by.update(data[key])\n",
    "    \n",
    "# We also need to include the queryset itself because they are cited by other papers    \n",
    "citation_set_with_cited_by.update(data.keys())\n",
    "\n",
    "# Index of the data without the cited_by key\n",
    "index_ = data.keys()\n",
    "                                                   \n",
    "# Index of the data including the cited_by key\n",
    "index_with_citedby = set(data.keys())\n",
    "index_with_citedby.update(data_citedby.keys())\n",
    "index_with_citedby = list(index_with_citedby)\n",
    "\n",
    "# This dataframe does not include the cited_by data\n",
    "df = pd.DataFrame(np.zeros((len(index_), len(citation_set))), index=index_, columns=citation_set)\n",
    "\n",
    "# This dataframe includes the cited_by data\n",
    "df_with_cited_by = pd.DataFrame(np.zeros((len(index_with_citedby), len(citation_set_with_cited_by))), \\\n",
    "                                index=index_with_citedby, columns=citation_set_with_cited_by)\n",
    "\n",
    "for i in index_:\n",
    "    for j in citation_set:\n",
    "        if j in data[i]:\n",
    "            df.loc[i][j] = 1\n",
    "\n",
    "\n",
    "            \n",
    "# Here data_citedby is the key-value with key being the paper\n",
    "# that cites our query set and value is one of the paper in the\n",
    "# query set\n",
    "# Similary in data, the key is each paper in query set and\n",
    "# value is list of citations\n",
    "overall_ = {**data_citedby, **data}\n",
    "overall = get_fully_connected_network(overall_, data_citedby.keys(), acm=False)\n",
    "for i in index_with_citedby:\n",
    "    for j in citation_set_with_cited_by:\n",
    "        if j in overall[i]:\n",
    "            df_with_cited_by.loc[i][j] = 1\n",
    "\n",
    "df.to_csv('citation-web/matrix-way/citation-matrix.csv')\n",
    "df_with_cited_by.to_csv('citation-web/matrix-way/citation-full-matrix.csv')"
   ]
  },
  {
   "cell_type": "code",
   "execution_count": 31,
   "id": "cfc60607-cd21-43da-8314-ab533cc63307",
   "metadata": {},
   "outputs": [
    {
     "data": {
      "application/vnd.jupyter.widget-view+json": {
       "model_id": "01988b5bcf8a4c2d8ee987afc8902b83",
       "version_major": 2,
       "version_minor": 0
      },
      "text/plain": [
       "  0%|          | 0/300 [00:00<?, ?it/s]"
      ]
     },
     "metadata": {},
     "output_type": "display_data"
    },
    {
     "name": "stdout",
     "output_type": "stream",
     "text": [
      "234\n",
      "None\n"
     ]
    },
    {
     "ename": "TypeError",
     "evalue": "'NoneType' object is not iterable",
     "output_type": "error",
     "traceback": [
      "\u001b[0;31m---------------------------------------------------------------------------\u001b[0m",
      "\u001b[0;31mTypeError\u001b[0m                                 Traceback (most recent call last)",
      "\u001b[0;32m/var/folders/dz/4hcwbm2n55scqf6mswxrm3v40000gn/T/ipykernel_73617/2694672876.py\u001b[0m in \u001b[0;36m<module>\u001b[0;34m\u001b[0m\n\u001b[0;32m----> 1\u001b[0;31m \u001b[0mget_fully_connected_network\u001b[0m\u001b[0;34m(\u001b[0m\u001b[0moverall_\u001b[0m\u001b[0;34m,\u001b[0m \u001b[0mdata_citedby\u001b[0m\u001b[0;34m.\u001b[0m\u001b[0mkeys\u001b[0m\u001b[0;34m(\u001b[0m\u001b[0;34m)\u001b[0m\u001b[0;34m,\u001b[0m \u001b[0macm\u001b[0m\u001b[0;34m=\u001b[0m\u001b[0;32mFalse\u001b[0m\u001b[0;34m)\u001b[0m\u001b[0;34m\u001b[0m\u001b[0;34m\u001b[0m\u001b[0m\n\u001b[0m",
      "\u001b[0;32m~/Desktop/Thesis/paper_recommender/utils/utils.py\u001b[0m in \u001b[0;36mget_fully_connected_network\u001b[0;34m(overall, cited_by_doi, acm)\u001b[0m\n\u001b[1;32m    110\u001b[0m                         \u001b[0mprint\u001b[0m\u001b[0;34m(\u001b[0m\u001b[0mpapers_doi_cite\u001b[0m\u001b[0;34m)\u001b[0m\u001b[0;34m\u001b[0m\u001b[0;34m\u001b[0m\u001b[0m\n\u001b[1;32m    111\u001b[0m \u001b[0;34m\u001b[0m\u001b[0m\n\u001b[0;32m--> 112\u001b[0;31m                 \u001b[0;32mfor\u001b[0m \u001b[0mpaper\u001b[0m \u001b[0;32min\u001b[0m \u001b[0mpapers_doi_cite\u001b[0m\u001b[0;34m:\u001b[0m\u001b[0;34m\u001b[0m\u001b[0;34m\u001b[0m\u001b[0m\n\u001b[0m\u001b[1;32m    113\u001b[0m                         \u001b[0;32mif\u001b[0m \u001b[0mpaper\u001b[0m \u001b[0;32min\u001b[0m \u001b[0mall_possible_papers\u001b[0m\u001b[0;34m:\u001b[0m\u001b[0;34m\u001b[0m\u001b[0;34m\u001b[0m\u001b[0m\n\u001b[1;32m    114\u001b[0m \u001b[0;34m\u001b[0m\u001b[0m\n",
      "\u001b[0;31mTypeError\u001b[0m: 'NoneType' object is not iterable"
     ]
    }
   ],
   "source": [
    "get_fully_connected_network(overall_, data_citedby.keys(), acm=False)"
   ]
  },
  {
   "cell_type": "markdown",
   "id": "37494a71-56c4-4697-a349-4d8b151aaac0",
   "metadata": {},
   "source": [
    "<h2>Assign root nodes that can be used for cf full version</h2>"
   ]
  },
  {
   "cell_type": "code",
   "execution_count": 31,
   "id": "4e0173a3-1285-4ceb-b468-8035ac4fca18",
   "metadata": {},
   "outputs": [],
   "source": [
    "root_nodes = df.index.values"
   ]
  },
  {
   "cell_type": "markdown",
   "id": "494979c8-3cea-4afd-9cb6-130f1a24dfee",
   "metadata": {},
   "source": [
    "<h2>Creating the citation pair</h2>"
   ]
  },
  {
   "cell_type": "code",
   "execution_count": 32,
   "id": "a0090e86-30a9-453a-8e6a-7bbeea06ef31",
   "metadata": {},
   "outputs": [
    {
     "name": "stdout",
     "output_type": "stream",
     "text": [
      "writing citation pairs....\n"
     ]
    },
    {
     "data": {
      "application/vnd.jupyter.widget-view+json": {
       "model_id": "c1f18d270c3c41619e21cd4de2eacb2a",
       "version_major": 2,
       "version_minor": 0
      },
      "text/plain": [
       "  0%|          | 0/6 [00:00<?, ?it/s]"
      ]
     },
     "metadata": {},
     "output_type": "display_data"
    },
    {
     "name": "stdout",
     "output_type": "stream",
     "text": [
      "writing citation pairs....\n"
     ]
    },
    {
     "data": {
      "application/vnd.jupyter.widget-view+json": {
       "model_id": "dee2279682604bc8a95d79b6ebb09491",
       "version_major": 2,
       "version_minor": 0
      },
      "text/plain": [
       "  0%|          | 0/34 [00:00<?, ?it/s]"
      ]
     },
     "metadata": {},
     "output_type": "display_data"
    }
   ],
   "source": [
    "# This only includes the citation data\n",
    "citation_pair_path = get_paper_citation_pairs(df)\n",
    "\n",
    "# This also includes the cited_by data \n",
    "citation_pair_full_path = get_paper_citation_pairs(df_with_cited_by, out_file='citation-full-pairs.txt')"
   ]
  },
  {
   "cell_type": "markdown",
   "id": "c9b9f824-8d71-4190-9db5-33bbf37c7285",
   "metadata": {},
   "source": [
    "<h2>Below are the experiments</h2>"
   ]
  },
  {
   "cell_type": "code",
   "execution_count": 8,
   "id": "2c069b9a",
   "metadata": {},
   "outputs": [
    {
     "name": "stdout",
     "output_type": "stream",
     "text": [
      "The following doi's are ignored because of low reference :\n",
      "{'10.1145/3322645.3322656': 3}\n",
      "writing citation pairs....\n"
     ]
    },
    {
     "data": {
      "application/vnd.jupyter.widget-view+json": {
       "model_id": "a2ff0b8d44164c998ba3985a2969cc0a",
       "version_major": 2,
       "version_minor": 0
      },
      "text/plain": [
       "  0%|          | 0/5 [00:00<?, ?it/s]"
      ]
     },
     "metadata": {},
     "output_type": "display_data"
    },
    {
     "name": "stdout",
     "output_type": "stream",
     "text": [
      "removing the indexes with no citations....\n",
      "normalizing dataframe....\n"
     ]
    },
    {
     "name": "stderr",
     "output_type": "stream",
     "text": [
      "100%|██████████████████████████████████████████████████████████████████████████████████████████████████████████████████████████████████████████████████| 5/5 [00:00<00:00, 1551.84it/s]\n"
     ]
    },
    {
     "name": "stdout",
     "output_type": "stream",
     "text": [
      "creating similarity matrix....\n"
     ]
    },
    {
     "name": "stderr",
     "output_type": "stream",
     "text": [
      "100%|██████████████████████████████████████████████████████████████████████████████████████████████████████████████████████████████████████████████████| 85/85 [00:00<00:00, 98.19it/s]\n"
     ]
    },
    {
     "name": "stdout",
     "output_type": "stream",
     "text": [
      "computing recommendations for : 10.1145/3487891\n"
     ]
    },
    {
     "name": "stderr",
     "output_type": "stream",
     "text": [
      "100%|██████████████████████████████████████████████████████████████████████████████████████████████████████████████████████████████████████████████████| 8/8 [00:00<00:00, 1018.19it/s]\n"
     ]
    },
    {
     "name": "stdout",
     "output_type": "stream",
     "text": [
      "computing recommendations for : 10.1145/3301282\n"
     ]
    },
    {
     "name": "stderr",
     "output_type": "stream",
     "text": [
      "100%|█████████████████████████████████████████████████████████████████████████████████████████████████████████████████████████████████████████████████| 22/22 [00:00<00:00, 674.99it/s]\n"
     ]
    },
    {
     "name": "stdout",
     "output_type": "stream",
     "text": [
      "computing recommendations for : 10.1145/3439723\n"
     ]
    },
    {
     "name": "stderr",
     "output_type": "stream",
     "text": [
      "100%|████████████████████████████████████████████████████████████████████████████████████████████████████████████████████████████████████████████████| 27/27 [00:00<00:00, 1641.96it/s]"
     ]
    },
    {
     "name": "stdout",
     "output_type": "stream",
     "text": [
      "finishing evaluation....\n"
     ]
    },
    {
     "name": "stderr",
     "output_type": "stream",
     "text": [
      "\n"
     ]
    },
    {
     "data": {
      "application/vnd.jupyter.widget-view+json": {
       "model_id": "fd9cdb8081014aaa9c65a354f892a8e5",
       "version_major": 2,
       "version_minor": 0
      },
      "text/plain": [
       "  0%|          | 0/3 [00:00<?, ?it/s]"
      ]
     },
     "metadata": {},
     "output_type": "display_data"
    },
    {
     "data": {
      "text/plain": [
       "0.0"
      ]
     },
     "execution_count": 8,
     "metadata": {},
     "output_type": "execute_result"
    }
   ],
   "source": [
    "evaluate = Train_Test_Split_Plain(CFU, min_ref_limit=5, train_size=0.5)\n",
    "evaluate.fit(data)"
   ]
  },
  {
   "cell_type": "code",
   "execution_count": 9,
   "id": "f394d0bb-df27-464b-bb51-fef1e2948fc3",
   "metadata": {},
   "outputs": [
    {
     "name": "stdout",
     "output_type": "stream",
     "text": [
      "The following doi's are ignored because of low reference :\n",
      "{'10.1145/3322645.3322656': 3}\n",
      "writing citation pairs....\n"
     ]
    },
    {
     "data": {
      "application/vnd.jupyter.widget-view+json": {
       "model_id": "0d3597cc3c5a4e15ab10435892a0c683",
       "version_major": 2,
       "version_minor": 0
      },
      "text/plain": [
       "  0%|          | 0/5 [00:00<?, ?it/s]"
      ]
     },
     "metadata": {},
     "output_type": "display_data"
    },
    {
     "name": "stdout",
     "output_type": "stream",
     "text": [
      "Creating similarity matrix....\n"
     ]
    },
    {
     "name": "stderr",
     "output_type": "stream",
     "text": [
      "100%|██████████████████████████████████████████████████████████████████████████████████████████████████████████████████████████████████████████████████| 85/85 [00:00<00:00, 99.17it/s]\n"
     ]
    },
    {
     "name": "stdout",
     "output_type": "stream",
     "text": [
      "Computing recommendations for : 10.1145/3487891\n"
     ]
    },
    {
     "name": "stderr",
     "output_type": "stream",
     "text": [
      "100%|████████████████████████████████████████████████████████████████████████████████████████████████████████████████████████████████████████████████| 15/15 [00:00<00:00, 1102.95it/s]\n"
     ]
    },
    {
     "name": "stdout",
     "output_type": "stream",
     "text": [
      "Computing recommendations for : 10.1145/3301282\n"
     ]
    },
    {
     "name": "stderr",
     "output_type": "stream",
     "text": [
      "100%|█████████████████████████████████████████████████████████████████████████████████████████████████████████████████████████████████████████████████| 18/18 [00:00<00:00, 692.36it/s]\n"
     ]
    },
    {
     "name": "stdout",
     "output_type": "stream",
     "text": [
      "Computing recommendations for : 10.1145/3439723\n"
     ]
    },
    {
     "name": "stderr",
     "output_type": "stream",
     "text": [
      "100%|████████████████████████████████████████████████████████████████████████████████████████████████████████████████████████████████████████████████| 30/30 [00:00<00:00, 1700.67it/s]"
     ]
    },
    {
     "name": "stdout",
     "output_type": "stream",
     "text": [
      "finishing evaluation....\n"
     ]
    },
    {
     "name": "stderr",
     "output_type": "stream",
     "text": [
      "\n"
     ]
    },
    {
     "data": {
      "application/vnd.jupyter.widget-view+json": {
       "model_id": "da3749c20a80402096bd7b003de8887b",
       "version_major": 2,
       "version_minor": 0
      },
      "text/plain": [
       "  0%|          | 0/3 [00:00<?, ?it/s]"
      ]
     },
     "metadata": {},
     "output_type": "display_data"
    },
    {
     "data": {
      "text/plain": [
       "0.0"
      ]
     },
     "execution_count": 9,
     "metadata": {},
     "output_type": "execute_result"
    }
   ],
   "source": [
    "evaluate = Train_Test_Split_Plain(CF, min_ref_limit=5, train_size=0.5)\n",
    "evaluate.fit(data)"
   ]
  },
  {
   "cell_type": "code",
   "execution_count": 10,
   "id": "f61c2478-3be2-48ec-a7ed-1ffe347fa43f",
   "metadata": {},
   "outputs": [
    {
     "name": "stdout",
     "output_type": "stream",
     "text": [
      "The following doi's are ignored because of low reference :\n",
      "{'10.1145/3322645.3322656': 3}\n",
      "writing citation pairs....\n"
     ]
    },
    {
     "data": {
      "application/vnd.jupyter.widget-view+json": {
       "model_id": "5e02dfdacb724ce1b77c6bc775b8ea7b",
       "version_major": 2,
       "version_minor": 0
      },
      "text/plain": [
       "  0%|          | 0/5 [00:00<?, ?it/s]"
      ]
     },
     "metadata": {},
     "output_type": "display_data"
    },
    {
     "name": "stdout",
     "output_type": "stream",
     "text": [
      "removing the indexes with no citations....\n",
      "page rank normalization on dataframe....\n"
     ]
    },
    {
     "name": "stderr",
     "output_type": "stream",
     "text": [
      "100%|██████████████████████████████████████████████████████████████████████████████████████████████████████████████████████████████████████████████████| 5/5 [00:00<00:00, 3506.36it/s]\n"
     ]
    },
    {
     "name": "stdout",
     "output_type": "stream",
     "text": [
      "creating similarity matrix....\n"
     ]
    },
    {
     "name": "stderr",
     "output_type": "stream",
     "text": [
      "100%|██████████████████████████████████████████████████████████████████████████████████████████████████████████████████████████████████████████████████| 85/85 [00:00<00:00, 99.41it/s]\n"
     ]
    },
    {
     "name": "stdout",
     "output_type": "stream",
     "text": [
      "normalizing the similarity matrix....\n"
     ]
    },
    {
     "name": "stderr",
     "output_type": "stream",
     "text": [
      "100%|████████████████████████████████████████████████████████████████████████████████████████████████████████████████████████████████████████████████| 85/85 [00:00<00:00, 3854.89it/s]\n"
     ]
    },
    {
     "name": "stdout",
     "output_type": "stream",
     "text": [
      "Computing recommendations for : 10.1145/3487891\n"
     ]
    },
    {
     "name": "stderr",
     "output_type": "stream",
     "text": [
      "100%|████████████████████████████████████████████████████████████████████████████████████████████████████████████████████████████████████████████████| 18/18 [00:00<00:00, 1045.71it/s]\n"
     ]
    },
    {
     "name": "stdout",
     "output_type": "stream",
     "text": [
      "Computing recommendations for : 10.1145/3301282\n"
     ]
    },
    {
     "name": "stderr",
     "output_type": "stream",
     "text": [
      "100%|█████████████████████████████████████████████████████████████████████████████████████████████████████████████████████████████████████████████████| 21/21 [00:00<00:00, 696.50it/s]\n"
     ]
    },
    {
     "name": "stdout",
     "output_type": "stream",
     "text": [
      "Computing recommendations for : 10.1145/3439723\n"
     ]
    },
    {
     "name": "stderr",
     "output_type": "stream",
     "text": [
      "100%|████████████████████████████████████████████████████████████████████████████████████████████████████████████████████████████████████████████████| 25/25 [00:00<00:00, 1666.36it/s]"
     ]
    },
    {
     "name": "stdout",
     "output_type": "stream",
     "text": [
      "finishing evaluation....\n"
     ]
    },
    {
     "name": "stderr",
     "output_type": "stream",
     "text": [
      "\n"
     ]
    },
    {
     "data": {
      "application/vnd.jupyter.widget-view+json": {
       "model_id": "f778333609e141679d0b4c9d79ca3243",
       "version_major": 2,
       "version_minor": 0
      },
      "text/plain": [
       "  0%|          | 0/3 [00:00<?, ?it/s]"
      ]
     },
     "metadata": {},
     "output_type": "display_data"
    },
    {
     "data": {
      "text/plain": [
       "0.04575611988103409"
      ]
     },
     "execution_count": 10,
     "metadata": {},
     "output_type": "execute_result"
    }
   ],
   "source": [
    "evaluate = Train_Test_Split_Plain(CFUPR, min_ref_limit=5, train_size=0.5, normalize_similarity=True)\n",
    "evaluate.fit(data)"
   ]
  },
  {
   "cell_type": "code",
   "execution_count": 33,
   "id": "292008ec-7672-4c36-95c2-1d4dd97cc87a",
   "metadata": {},
   "outputs": [
    {
     "name": "stdout",
     "output_type": "stream",
     "text": [
      "The following doi's are ignored because of low reference :\n",
      "{'10.1002/ett.4145': 1,\n",
      " '10.1007/978-3-030-62460-6_43': 1,\n",
      " '10.1145/3322645.3322656': 3,\n",
      " '10.1145/3340531.3411884': 1,\n",
      " '10.1145/3415958.3433054': 1,\n",
      " '10.1145/3439723': 1,\n",
      " '10.1145/3448734.3450467': 2,\n",
      " '10.1145/3458025': 1,\n",
      " '10.1145/3458280': 1,\n",
      " '10.1145/3459992': 1,\n",
      " '10.1145/3463475': 1,\n",
      " '10.1145/3472290': 1,\n",
      " '10.1145/3491231': 2,\n",
      " '10.1145/3494520': 1,\n",
      " '10.1155/2020/1459107': 1,\n",
      " '10.1155/2021/1836014': 2,\n",
      " '10.1155/2021/3265934': 2,\n",
      " '10.1155/2021/3697536': 2,\n",
      " '10.1155/2021/4329219': 2,\n",
      " '10.1155/2021/4412294': 2,\n",
      " '10.1155/2021/4873574': 2,\n",
      " '10.1155/2021/5340116': 2,\n",
      " '10.1155/2021/7557361': 2,\n",
      " '10.1155/2021/7965093': 2,\n",
      " '10.1155/2021/8548981': 2,\n",
      " '10.1155/2021/8586016': 2,\n",
      " '10.1155/2021/8944618': 2,\n",
      " '10.1155/2021/9206440': 1,\n",
      " '10.1155/2021/9249387': 1,\n",
      " '10.1155/2021/9723379': 2,\n",
      " '10.1155/2022/9506418': 2}\n",
      "writing citation pairs....\n"
     ]
    },
    {
     "data": {
      "application/vnd.jupyter.widget-view+json": {
       "model_id": "4b79bab9b063468cbf0174395bf7bd23",
       "version_major": 2,
       "version_minor": 0
      },
      "text/plain": [
       "  0%|          | 0/3 [00:00<?, ?it/s]"
      ]
     },
     "metadata": {},
     "output_type": "display_data"
    },
    {
     "name": "stdout",
     "output_type": "stream",
     "text": [
      "removing the indexes with no citations....\n",
      "page rank normalization on dataframe....\n"
     ]
    },
    {
     "name": "stderr",
     "output_type": "stream",
     "text": [
      "100%|██████████████████████████████████████████████████████████████████████████████████████████████████████████████████████████████████████████████████| 3/3 [00:00<00:00, 3167.90it/s]\n"
     ]
    },
    {
     "name": "stdout",
     "output_type": "stream",
     "text": [
      "creating similarity matrix....\n"
     ]
    },
    {
     "name": "stderr",
     "output_type": "stream",
     "text": [
      "  0%|                                                                                                                                                           | 0/45 [00:00<?, ?it/s]/Users/sandeepchowdaryannabathuni/Desktop/Thesis/paper_recommender/cf/cf_full_hits.py:74: RuntimeWarning: invalid value encountered in double_scalars\n",
      "  similarity_mat.loc[col_i][col_j] = np.dot(self.df[col_i], self.df[col_j])/(np.linalg.norm(self.df[col_i]) * np.linalg.norm(self.df[col_j]))\n",
      "100%|█████████████████████████████████████████████████████████████████████████████████████████████████████████████████████████████████████████████████| 45/45 [00:00<00:00, 180.87it/s]\n"
     ]
    },
    {
     "name": "stdout",
     "output_type": "stream",
     "text": [
      "normalizing the similarity matrix....\n"
     ]
    },
    {
     "name": "stderr",
     "output_type": "stream",
     "text": [
      "100%|████████████████████████████████████████████████████████████████████████████████████████████████████████████████████████████████████████████████| 45/45 [00:00<00:00, 3833.68it/s]\n"
     ]
    },
    {
     "name": "stdout",
     "output_type": "stream",
     "text": [
      "Computing recommendations for : 10.1145/3301282\n"
     ]
    },
    {
     "name": "stderr",
     "output_type": "stream",
     "text": [
      "0it [00:00, ?it/s]\n"
     ]
    },
    {
     "name": "stdout",
     "output_type": "stream",
     "text": [
      "Computing recommendations for : 10.1145/3446374\n"
     ]
    },
    {
     "name": "stderr",
     "output_type": "stream",
     "text": [
      "0it [00:00, ?it/s]\n"
     ]
    },
    {
     "name": "stdout",
     "output_type": "stream",
     "text": [
      "finishing evaluation....\n"
     ]
    },
    {
     "data": {
      "application/vnd.jupyter.widget-view+json": {
       "model_id": "a81cce4f270d4f2bad4bdb0767b833a8",
       "version_major": 2,
       "version_minor": 0
      },
      "text/plain": [
       "  0%|          | 0/2 [00:00<?, ?it/s]"
      ]
     },
     "metadata": {},
     "output_type": "display_data"
    },
    {
     "data": {
      "text/plain": [
       "0.0"
      ]
     },
     "execution_count": 33,
     "metadata": {},
     "output_type": "execute_result"
    }
   ],
   "source": [
    "evaluate = Train_Test_Split_Plain(CFUH, min_ref_limit=5, train_size=0.5, normalize_similarity=True, root_node_indexes=root_nodes)\n",
    "overall = {**data, **data_citedby}\n",
    "evaluate.fit(overall)"
   ]
  },
  {
   "cell_type": "code",
   "execution_count": null,
   "id": "e3e0152f-c20b-4819-86bf-3c23a56d9856",
   "metadata": {},
   "outputs": [],
   "source": []
  },
  {
   "cell_type": "code",
   "execution_count": null,
   "id": "35f06ce7-6e81-4e6b-a820-863f404398ae",
   "metadata": {},
   "outputs": [],
   "source": []
  },
  {
   "cell_type": "code",
   "execution_count": null,
   "id": "de9bf066-1c86-4175-b362-1264b7a40c8d",
   "metadata": {},
   "outputs": [],
   "source": []
  },
  {
   "cell_type": "code",
   "execution_count": 12,
   "id": "4a82f6b5-cef3-4268-9b26-dadaa1b3dfba",
   "metadata": {},
   "outputs": [],
   "source": [
    "default_path='citation-web/'\n",
    "file_ = 'matrix-way/citation-matrix.csv'\n",
    "file_pair = 'pair-way/citation-pairs.txt'\n",
    "\n",
    "df = pd.read_csv(default_path + file_)\n",
    "index_col = df.columns[0]\n",
    "df.set_index(df[index_col], inplace=True)\n",
    "\n",
    "df.index = df.index.astype(str, copy = False)\n",
    "df.drop([index_col], axis=1, inplace=True)\n",
    "\n",
    "# clean\n",
    "indexes = df.index.values.copy()\n",
    "for index in indexes:\n",
    "    if not (1 in df.loc[index].values):\n",
    "        df.drop(index, inplace=True)\n",
    "\n",
    "from ranking.hits import Ranking\n",
    "\n",
    "file_name = default_path + file_pair\n",
    "default_temp_file_path  = \"temp/pair-way/temp-hits-base-node.txt\"\n",
    "\n",
    "root_nodes= set(df.index.values)\n",
    "potential_hub_and_auth_nodes = []"
   ]
  },
  {
   "cell_type": "code",
   "execution_count": 13,
   "id": "a28ed82a-350e-4918-a064-8639789b3654",
   "metadata": {},
   "outputs": [],
   "source": [
    "def __potential_hub_and_auth__():\n",
    "\t\t\"\"\"\n",
    "\t\tThis method is used to find all the pages that link to the \n",
    "\t\tnodes/papers in the root nodes. These are called potential hubs\n",
    "\t\t\"\"\"\n",
    "\t\tpotential_hub_and_auth_nodes = []\n",
    "\t\twith open(file_name, 'r') as f:\n",
    "\t\t\tfor line in f:\n",
    "\t\t\t\tfrom_, to_ = line.strip().replace('\\n', '').split(',')\n",
    "\n",
    "\t\t\t\tif to_ in root_nodes:\n",
    "\t\t\t\t\tpotential_hub_and_auth_nodes.append(from_)\n",
    "\t\t\t\telif from_ in root_nodes:\n",
    "\t\t\t\t\tpotential_hub_and_auth_nodes.append(to_)\n",
    "\n",
    "\t\treturn potential_hub_and_auth_nodes \n",
    "    "
   ]
  },
  {
   "cell_type": "code",
   "execution_count": null,
   "id": "c757247f-7117-4a57-8dd8-a08497b61578",
   "metadata": {},
   "outputs": [],
   "source": [
    "potential_hub_auth_nodes = set(__potential_hub_and_auth__()) - root_nodes"
   ]
  },
  {
   "cell_type": "code",
   "execution_count": null,
   "id": "89cf81ca-a9eb-4181-91bf-fecc5186e39d",
   "metadata": {},
   "outputs": [],
   "source": [
    "def __base__():\n",
    "\t\t\"\"\"\n",
    "\t\tThis method is used to create a base nodes for\n",
    "\t\ta given root nodes\n",
    "\n",
    "\t\tWhat is root nodes?\n",
    "\t\tThese are the most relevant nodes for a given user\n",
    "\t\tquery\n",
    "\n",
    "\t\tIn our case, these are the query list of papers\n",
    "\n",
    "\t\tTo form the base nodes, we find all the nodes or\n",
    "\t\tpapers that has out-going edges to the root nodes\n",
    "\t\tand relation between them.\n",
    "\t\t\"\"\"\n",
    "\t\trequired_nodes = set(root_nodes)\n",
    "\t\trequired_nodes.update(potential_hub_auth_nodes)\n",
    "\n",
    "\t\tbase_network = []\n",
    "\n",
    "\t\twith open(file_name) as f:\n",
    "\t\t\tfor line in f:\n",
    "\t\t\t\tfrom_, to_ = line.strip().replace('\\n', '').split(',')\n",
    "\n",
    "\t\t\t\tif (from_ in required_nodes) and (to_ in required_nodes):\n",
    "\t\t\t\t\tbase_network.append(line)\n",
    "\n",
    "\t\twith open(default_temp_file_path, 'w') as f:\n",
    "\t\t\tfor edge in base_network:\n",
    "\t\t\t\tf.write(edge)\n",
    "                \n",
    "__base__()"
   ]
  },
  {
   "cell_type": "code",
   "execution_count": 24,
   "id": "03d97003-403b-4bdf-9cc5-ccb48cdab26b",
   "metadata": {},
   "outputs": [],
   "source": [
    "class Node:\n",
    "\t\"\"\"\n",
    "\tThis class is used to create a dictionary of nodes\n",
    "\tEach node class has the following data\n",
    "\ta) vertex\n",
    "\tb) meta\n",
    "\tc) out_link\n",
    "\td) in_link\n",
    "\t\"\"\"\n",
    "\tdef __init__(self):\n",
    "\t\tself.vertex = None\n",
    "\t\tself.meta = None\n",
    "\t\tself.score = 1.0\n",
    "\t\tself.out_link = set()\n",
    "\t\tself.in_link = set()\n",
    "\n",
    "def __create__():\n",
    "\t\t\"\"\" \n",
    "\t\tThis method is used to create a graph and\n",
    "\t\treturn the dict with key as node name and\n",
    "\t\tvalue as the Node class\n",
    "\t\t\"\"\"\n",
    "\t\tnode_dict = {}\n",
    "\t\twith open(default_temp_file_path) as f:\n",
    "\t\t\tfor line in f:\n",
    "\t\t\t\tfrom_, to_ = line.replace('\\n', '').strip().split(',')\n",
    "\n",
    "\t\t\t\tif not node_dict.get(from_, False):\n",
    "\t\t\t\t\ttemp = Node()\n",
    "\t\t\t\t\ttemp.vertex = from_\n",
    "\t\t\t\t\tnode_dict[from_] = temp\n",
    "\n",
    "\n",
    "\t\t\t\tif not node_dict.get(to_, False):\n",
    "\t\t\t\t\ttemp = Node()\n",
    "\t\t\t\t\ttemp.vertex = to_\n",
    "\t\t\t\t\tnode_dict[to_] = temp\n",
    "\n",
    "\n",
    "\t\t\t\tfrom_node = node_dict[from_]\n",
    "\t\t\t\tto_node = node_dict[to_]\n",
    "\n",
    "\t\t\t\tfrom_node.out_link.add(to_)\n",
    "\t\t\t\tto_node.in_link.add(from_)\n",
    "\n",
    "\t\treturn node_dict\n",
    "    \n",
    "\n",
    "\n"
   ]
  },
  {
   "cell_type": "code",
   "execution_count": null,
   "id": "0801eff8-0c74-4765-a55f-1e904507314d",
   "metadata": {},
   "outputs": [],
   "source": []
  },
  {
   "cell_type": "code",
   "execution_count": 25,
   "id": "851ed2f9-b7ef-41af-8be7-0b829b666ee1",
   "metadata": {},
   "outputs": [],
   "source": [
    "data = __create__()"
   ]
  },
  {
   "cell_type": "code",
   "execution_count": null,
   "id": "1af88ebb-459e-4c88-8414-981fdfc998d0",
   "metadata": {},
   "outputs": [],
   "source": []
  },
  {
   "cell_type": "code",
   "execution_count": null,
   "id": "6beb350e-a532-4bfa-b101-b8cca3112cb9",
   "metadata": {},
   "outputs": [],
   "source": []
  },
  {
   "cell_type": "code",
   "execution_count": null,
   "id": "a327abe2-6990-481e-abbc-cc16c9acb5a1",
   "metadata": {},
   "outputs": [],
   "source": []
  },
  {
   "cell_type": "code",
   "execution_count": null,
   "id": "1c73a5a1-c165-4ace-bac9-576dcf9ae954",
   "metadata": {},
   "outputs": [],
   "source": []
  },
  {
   "cell_type": "code",
   "execution_count": 26,
   "id": "60a01f9e-2821-40f7-9e1d-81f592fa7670",
   "metadata": {},
   "outputs": [],
   "source": [
    "def __assign_auth_score__():\n",
    "\t\t\"\"\"\n",
    "\t\tThis method is used to assign the authorative score to\n",
    "\t\tall the nodes in the base network. Default we are assigning\n",
    "\t\tvalue 1 to all the nodes in the base network\n",
    "\t\t\"\"\"\n",
    "\t\ttemp_dict = {}\n",
    "\t\tfor key in data.keys():\n",
    "\t\t\ttemp_dict[key] = 1.0 \n",
    "\n",
    "\t\treturn temp_dict\n",
    "    \n",
    "\n",
    "\n",
    "auth_score = __assign_auth_score__()\n",
    "hub_score = __assign_auth_score__()"
   ]
  },
  {
   "cell_type": "code",
   "execution_count": 27,
   "id": "c4e2d691-b634-4cda-b740-4a7df24dd345",
   "metadata": {},
   "outputs": [
    {
     "data": {
      "text/plain": [
       "{'10.1145/3439723': 1.0,\n",
       " '10.1137/S0363012995293694': 1.0,\n",
       " '10.1609/aaai.v33i01.33018901': 1.0,\n",
       " '10.1145/3072959.3073659': 1.0,\n",
       " '10.1016/j.patcog.2012.06.021': 1.0,\n",
       " '10.1145/1531326.1531330': 1.0,\n",
       " '10.5555/2188385.2188410': 1.0,\n",
       " '10.1109/AVSS.2009.58': 1.0,\n",
       " '10.1109/CVPR.2014.487': 1.0,\n",
       " '10.1145/2601097.2601122': 1.0,\n",
       " '10.1023/A%3A1026543900054': 1.0,\n",
       " '10.1007/BF01584320': 1.0,\n",
       " '10.5555/3295222.3295327': 1.0,\n",
       " '10.1145/3301282': 1.0,\n",
       " '10.1145/3077136.3080842': 1.0,\n",
       " '10.5555/3294996.3295059': 1.0,\n",
       " '10.1145/3446374': 1.0,\n",
       " '10.1006/jcss.1997.1504': 1.0,\n",
       " '10.1145/3209978.3210184': 1.0,\n",
       " '10.1162/089976698300017746': 1.0,\n",
       " '10.1007/s11263-019-01265-2': 1.0,\n",
       " '10.1162/neco.2006.18.7.1527': 1.0,\n",
       " '10.1109/access.2019.2905015': 1.0,\n",
       " '10.1145/3459992': 1.0,\n",
       " '10.1145/3052973.3053009': 1.0,\n",
       " '10.1007/978-3-030-62008-0_16': 1.0,\n",
       " '10.5555/3157096.3157165': 1.0,\n",
       " '10.5555/3294771.3294810': 1.0,\n",
       " '10.1504/IJSN.2015.071829': 1.0,\n",
       " '10.1145/3374751': 1.0,\n",
       " '10.1007/11681878_14': 1.0,\n",
       " '10.1145/2810103.2813687': 1.0,\n",
       " '10.1145/3133956.3134012': 1.0,\n",
       " '10.1109/TIFS.2019.2891116': 1.0,\n",
       " '10.1145/2810103.2813677': 1.0,\n",
       " '10.1109/SECURWARE.2009.48': 1.0,\n",
       " '10.1162/089976600300015015': 1.0,\n",
       " '10.1145/3326467.3326474': 1.0,\n",
       " '10.1145/2976749.2978318': 1.0,\n",
       " '10.5555/2999134.2999257': 1.0,\n",
       " '10.14778/3231751.3231757': 1.0,\n",
       " '10.5555/108235.108253': 1.0,\n",
       " '10.1145/3340531.3411970': 1.0,\n",
       " '10.1109/ALLERTON.2019.8919758': 1.0,\n",
       " '10.1109/TCBB.2019.2907626': 1.0,\n",
       " '10.1109/TIFS.2020.2968188': 1.0,\n",
       " '10.1109/ICCRD.2010.71': 1.0,\n",
       " '10.5555/3305890.3305954': 1.0,\n",
       " '10.1145/3133956.3134077': 1.0,\n",
       " '10.1145/3243734.3243855': 1.0,\n",
       " '10.5555/3009657.3009736': 1.0,\n",
       " '10.1145/3366423.3380171': 1.0,\n",
       " '10.1145/3203217.3203241': 1.0,\n",
       " '10.1109/TPAMI.2010.77': 1.0,\n",
       " '10.1109/TKDE.2008.234': 1.0,\n",
       " '10.1109/TKDE.2009.191': 1.0,\n",
       " '10.5555/3305890.3305942': 1.0,\n",
       " '10.1109/34.3909': 1.0,\n",
       " '10.1162/neco.1997.9.8.1735': 1.0,\n",
       " '10.5555/3305381.3305573': 1.0,\n",
       " '10.1145/882262.882269': 1.0,\n",
       " '10.5555/3157382.3157477': 1.0,\n",
       " '10.5555/3157096.3157149': 1.0,\n",
       " '10.5555/3157096.3157340': 1.0,\n",
       " '10.5555/3157382.3157608': 1.0,\n",
       " '10.5555/3009657.3009806': 1.0,\n",
       " '10.5555/3157096.3157346': 1.0,\n",
       " '10.5555/3294771.3294843': 1.0,\n",
       " '10.5555/1620270.1620297': 1.0,\n",
       " '10.1109/TIP.2003.819861': 1.0,\n",
       " '10.5555/3157096.3157127': 1.0,\n",
       " '10.5555/2997046.2997095': 1.0,\n",
       " '10.5555/3294996.3295075': 1.0,\n",
       " '10.5555/3294771.3294981': 1.0,\n",
       " '10.5555/3157096.3157106': 1.0,\n",
       " '10.5555/3298483.3298649': 1.0,\n",
       " '10.5555/3045118.3045301': 1.0,\n",
       " '10.5555/3045118.3045319': 1.0,\n",
       " '10.5555/3294996.3295012': 1.0,\n",
       " '10.5555/2969033.2969125': 1.0,\n",
       " '10.5555/3305381.3305405': 1.0,\n",
       " '10.1145/3322645.3322656': 1.0,\n",
       " '10.1109/TIP.2017.2662206': 1.0,\n",
       " '10.5555/3045118.3045167': 1.0,\n",
       " '10.1145/3487891': 1.0,\n",
       " '10.5555/3295222.3295408': 1.0,\n",
       " '10.1109/ICCV.2005.28': 1.0,\n",
       " '10.1145/3126686.3126723': 1.0,\n",
       " '10.5555/3367243.3367316': 1.0,\n",
       " '10.1109/TPAMI.2013.248': 1.0,\n",
       " '10.1177/0278364913491297': 1.0,\n",
       " '10.1109/TMM.2015.2407694': 1.0,\n",
       " '10.1007/978-3-030-00928-1_60': 1.0,\n",
       " '10.1007/978-3-642-33712-3_38': 1.0,\n",
       " '10.1145/3123266.3127905': 1.0,\n",
       " '10.1609/aaai.v33i01.33019299': 1.0,\n",
       " '10.1145/3123266.3123309': 1.0,\n",
       " '10.1109/CVPR.2014.223': 1.0,\n",
       " '10.1007/978-3-030-58517-4_31': 1.0,\n",
       " '10.5555/2002472.2002497': 1.0,\n",
       " '10.5555/3042817.3043083': 1.0}"
      ]
     },
     "execution_count": 27,
     "metadata": {},
     "output_type": "execute_result"
    }
   ],
   "source": [
    "auth_score"
   ]
  },
  {
   "cell_type": "code",
   "execution_count": 28,
   "id": "a546f4f8-e911-42d5-9b04-e8b65470239d",
   "metadata": {},
   "outputs": [],
   "source": [
    "iterations = 500"
   ]
  },
  {
   "cell_type": "code",
   "execution_count": 29,
   "id": "e7d7cabd-f135-474d-b22e-cafeb55a599f",
   "metadata": {},
   "outputs": [],
   "source": [
    "def __calculate__():\n",
    "    global auth_score, hub_score\n",
    "    for _ in range(iterations):\n",
    "        temp_auth = {}\n",
    "        temp_hub = {}\n",
    "        total_auth = 0.0\n",
    "        total_hub = 0.0\n",
    "        for key in data.keys():\n",
    "            temp_val_auth = sum([hub_score[i] for i in data[key].in_link])\n",
    "            temp_val_hub = sum([auth_score[i] for i in data[key].out_link])\n",
    "            temp_auth[key] = temp_val_auth\n",
    "            temp_hub[key] = temp_val_hub\n",
    "            total_auth += temp_val_auth\n",
    "            total_hub += temp_val_hub\n",
    "        for key in data.keys():\n",
    "            if total_auth > 0:\n",
    "                temp_auth[key] = temp_auth[key]/total_auth\n",
    "            else: \n",
    "                temp_auth[key] = 0.0\n",
    "            \n",
    "            if total_hub > 0:\n",
    "                temp_hub[key] = temp_hub[key]/total_hub\n",
    "            else:\n",
    "                temp_hub[key] = 0.0\n",
    "        auth_score = temp_auth.copy()\n",
    "        hub_score = temp_hub.copy()"
   ]
  },
  {
   "cell_type": "code",
   "execution_count": 30,
   "id": "bb89f883-ce93-4573-aed0-bc67e66dd852",
   "metadata": {},
   "outputs": [
    {
     "data": {
      "text/plain": [
       "{'10.1145/3439723': 0.0,\n",
       " '10.1137/S0363012995293694': 0.0028248504815692617,\n",
       " '10.1609/aaai.v33i01.33018901': 0.0028248504815692617,\n",
       " '10.1145/3072959.3073659': 0.0028248504815692617,\n",
       " '10.1016/j.patcog.2012.06.021': 0.0028248504815692617,\n",
       " '10.1145/1531326.1531330': 0.0028248504815692617,\n",
       " '10.5555/2188385.2188410': 0.0028248504815692617,\n",
       " '10.1109/AVSS.2009.58': 0.0028248504815692617,\n",
       " '10.1109/CVPR.2014.487': 0.0028248504815692617,\n",
       " '10.1145/2601097.2601122': 0.0028248504815692617,\n",
       " '10.1023/A%3A1026543900054': 0.0029143745152338295,\n",
       " '10.1007/BF01584320': 0.0028248504815692617,\n",
       " '10.5555/3295222.3295327': 0.02887772065433994,\n",
       " '10.1145/3301282': 0.017166402223335965,\n",
       " '10.1145/3077136.3080842': 0.017166402223335965,\n",
       " '10.5555/3294996.3295059': 0.01453616891257324,\n",
       " '10.1145/3446374': 0.0,\n",
       " '10.1006/jcss.1997.1504': 8.95240336645674e-05,\n",
       " '10.1145/3209978.3210184': 8.95240336645674e-05,\n",
       " '10.1162/089976698300017746': 8.95240336645674e-05,\n",
       " '10.1007/s11263-019-01265-2': 8.95240336645674e-05,\n",
       " '10.1162/neco.2006.18.7.1527': 8.95240336645674e-05,\n",
       " '10.1109/access.2019.2905015': 8.95240336645674e-05,\n",
       " '10.1145/3459992': 0.0,\n",
       " '10.1145/3052973.3053009': 0.014341551741766703,\n",
       " '10.1007/978-3-030-62008-0_16': 0.014341551741766703,\n",
       " '10.5555/3157096.3157165': 0.031049401672031567,\n",
       " '10.5555/3294771.3294810': 0.014341551741766703,\n",
       " '10.1504/IJSN.2015.071829': 0.014341551741766703,\n",
       " '10.1145/3374751': 0.014341551741766703,\n",
       " '10.1007/11681878_14': 0.014341551741766703,\n",
       " '10.1145/2810103.2813687': 0.014341551741766703,\n",
       " '10.1145/3133956.3134012': 0.014341551741766703,\n",
       " '10.1109/TIFS.2019.2891116': 0.014341551741766703,\n",
       " '10.1145/2810103.2813677': 0.014341551741766703,\n",
       " '10.1109/SECURWARE.2009.48': 0.014341551741766703,\n",
       " '10.1162/089976600300015015': 0.014341551741766703,\n",
       " '10.1145/3326467.3326474': 0.014341551741766703,\n",
       " '10.1145/2976749.2978318': 0.014341551741766703,\n",
       " '10.5555/2999134.2999257': 0.02605287017277068,\n",
       " '10.14778/3231751.3231757': 0.014341551741766703,\n",
       " '10.5555/108235.108253': 0.014341551741766703,\n",
       " '10.1145/3340531.3411970': 0.014341551741766703,\n",
       " '10.1109/ALLERTON.2019.8919758': 0.014341551741766703,\n",
       " '10.1109/TCBB.2019.2907626': 0.014341551741766703,\n",
       " '10.1109/TIFS.2020.2968188': 0.014341551741766703,\n",
       " '10.1109/ICCRD.2010.71': 0.014341551741766703,\n",
       " '10.5555/3305890.3305954': 0.031049401672031567,\n",
       " '10.1145/3133956.3134077': 0.014341551741766703,\n",
       " '10.1145/3243734.3243855': 0.014341551741766703,\n",
       " '10.5555/3009657.3009736': 0.014341551741766703,\n",
       " '10.1145/3366423.3380171': 0.014341551741766703,\n",
       " '10.1145/3203217.3203241': 0.014341551741766703,\n",
       " '10.1109/TPAMI.2010.77': 0.014341551741766703,\n",
       " '10.1109/TKDE.2008.234': 0.014341551741766703,\n",
       " '10.1109/TKDE.2009.191': 0.011711318431003977,\n",
       " '10.5555/3305890.3305942': 0.011711318431003977,\n",
       " '10.1109/34.3909': 0.011711318431003977,\n",
       " '10.1162/neco.1997.9.8.1735': 0.011711318431003977,\n",
       " '10.5555/3305381.3305573': 0.011711318431003977,\n",
       " '10.1145/882262.882269': 0.011711318431003977,\n",
       " '10.5555/3157382.3157477': 0.011711318431003977,\n",
       " '10.5555/3157096.3157149': 0.011711318431003977,\n",
       " '10.5555/3157096.3157340': 0.016707849930264862,\n",
       " '10.5555/3157382.3157608': 0.011711318431003977,\n",
       " '10.5555/3009657.3009806': 0.011711318431003977,\n",
       " '10.5555/3157096.3157346': 0.016707849930264862,\n",
       " '10.5555/3294771.3294843': 0.011711318431003977,\n",
       " '10.5555/1620270.1620297': 0.011711318431003977,\n",
       " '10.1109/TIP.2003.819861': 0.011711318431003977,\n",
       " '10.5555/3157096.3157127': 0.011711318431003977,\n",
       " '10.5555/2997046.2997095': 0.011711318431003977,\n",
       " '10.5555/3294996.3295075': 0.011711318431003977,\n",
       " '10.5555/3294771.3294981': 0.011711318431003977,\n",
       " '10.5555/3157096.3157106': 0.011711318431003977,\n",
       " '10.5555/3298483.3298649': 0.011711318431003977,\n",
       " '10.5555/3045118.3045301': 0.011711318431003977,\n",
       " '10.5555/3045118.3045319': 0.011711318431003977,\n",
       " '10.5555/3294996.3295012': 0.011711318431003977,\n",
       " '10.5555/2969033.2969125': 0.01717777742197767,\n",
       " '10.5555/3305381.3305405': 0.011711318431003977,\n",
       " '10.1145/3322645.3322656': 0.0,\n",
       " '10.1109/TIP.2017.2662206': 0.0004699274917128074,\n",
       " '10.5555/3045118.3045167': 0.0004699274917128074,\n",
       " '10.1145/3487891': 0.0,\n",
       " '10.5555/3295222.3295408': 0.0049965314992608855,\n",
       " '10.1109/ICCV.2005.28': 0.0049965314992608855,\n",
       " '10.1145/3126686.3126723': 0.0049965314992608855,\n",
       " '10.5555/3367243.3367316': 0.0049965314992608855,\n",
       " '10.1109/TPAMI.2013.248': 0.0049965314992608855,\n",
       " '10.1177/0278364913491297': 0.0049965314992608855,\n",
       " '10.1109/TMM.2015.2407694': 0.0049965314992608855,\n",
       " '10.1007/978-3-030-00928-1_60': 0.0049965314992608855,\n",
       " '10.1007/978-3-642-33712-3_38': 0.0049965314992608855,\n",
       " '10.1145/3123266.3127905': 0.0049965314992608855,\n",
       " '10.1609/aaai.v33i01.33019299': 0.0049965314992608855,\n",
       " '10.1145/3123266.3123309': 0.0049965314992608855,\n",
       " '10.1109/CVPR.2014.223': 0.0049965314992608855,\n",
       " '10.1007/978-3-030-58517-4_31': 0.0049965314992608855,\n",
       " '10.5555/2002472.2002497': 0.0049965314992608855,\n",
       " '10.5555/3042817.3043083': 0.0049965314992608855}"
      ]
     },
     "execution_count": 30,
     "metadata": {},
     "output_type": "execute_result"
    }
   ],
   "source": [
    "def scores():\n",
    "\t\tscores = {}\n",
    "\t\t__calculate__()\n",
    "\n",
    "\t\tfor key in data.keys():\n",
    "\t\t\tscores[key] = auth_score[key]\n",
    "\n",
    "\t\treturn scores\n",
    "    \n",
    "scores()"
   ]
  },
  {
   "cell_type": "code",
   "execution_count": 31,
   "id": "e87d57db-0505-455f-8e97-9d529131401e",
   "metadata": {},
   "outputs": [
    {
     "data": {
      "text/plain": [
       "{'10.1145/3439723': 0.0,\n",
       " '10.1137/S0363012995293694': 0.0028248504815692617,\n",
       " '10.1609/aaai.v33i01.33018901': 0.0028248504815692617,\n",
       " '10.1145/3072959.3073659': 0.0028248504815692617,\n",
       " '10.1016/j.patcog.2012.06.021': 0.0028248504815692617,\n",
       " '10.1145/1531326.1531330': 0.0028248504815692617,\n",
       " '10.5555/2188385.2188410': 0.0028248504815692617,\n",
       " '10.1109/AVSS.2009.58': 0.0028248504815692617,\n",
       " '10.1109/CVPR.2014.487': 0.0028248504815692617,\n",
       " '10.1145/2601097.2601122': 0.0028248504815692617,\n",
       " '10.1023/A%3A1026543900054': 0.0029143745152338295,\n",
       " '10.1007/BF01584320': 0.0028248504815692617,\n",
       " '10.5555/3295222.3295327': 0.02887772065433994,\n",
       " '10.1145/3301282': 0.017166402223335965,\n",
       " '10.1145/3077136.3080842': 0.017166402223335965,\n",
       " '10.5555/3294996.3295059': 0.01453616891257324,\n",
       " '10.1145/3446374': 0.0,\n",
       " '10.1006/jcss.1997.1504': 8.95240336645674e-05,\n",
       " '10.1145/3209978.3210184': 8.95240336645674e-05,\n",
       " '10.1162/089976698300017746': 8.95240336645674e-05,\n",
       " '10.1007/s11263-019-01265-2': 8.95240336645674e-05,\n",
       " '10.1162/neco.2006.18.7.1527': 8.95240336645674e-05,\n",
       " '10.1109/access.2019.2905015': 8.95240336645674e-05,\n",
       " '10.1145/3459992': 0.0,\n",
       " '10.1145/3052973.3053009': 0.014341551741766703,\n",
       " '10.1007/978-3-030-62008-0_16': 0.014341551741766703,\n",
       " '10.5555/3157096.3157165': 0.031049401672031567,\n",
       " '10.5555/3294771.3294810': 0.014341551741766703,\n",
       " '10.1504/IJSN.2015.071829': 0.014341551741766703,\n",
       " '10.1145/3374751': 0.014341551741766703,\n",
       " '10.1007/11681878_14': 0.014341551741766703,\n",
       " '10.1145/2810103.2813687': 0.014341551741766703,\n",
       " '10.1145/3133956.3134012': 0.014341551741766703,\n",
       " '10.1109/TIFS.2019.2891116': 0.014341551741766703,\n",
       " '10.1145/2810103.2813677': 0.014341551741766703,\n",
       " '10.1109/SECURWARE.2009.48': 0.014341551741766703,\n",
       " '10.1162/089976600300015015': 0.014341551741766703,\n",
       " '10.1145/3326467.3326474': 0.014341551741766703,\n",
       " '10.1145/2976749.2978318': 0.014341551741766703,\n",
       " '10.5555/2999134.2999257': 0.02605287017277068,\n",
       " '10.14778/3231751.3231757': 0.014341551741766703,\n",
       " '10.5555/108235.108253': 0.014341551741766703,\n",
       " '10.1145/3340531.3411970': 0.014341551741766703,\n",
       " '10.1109/ALLERTON.2019.8919758': 0.014341551741766703,\n",
       " '10.1109/TCBB.2019.2907626': 0.014341551741766703,\n",
       " '10.1109/TIFS.2020.2968188': 0.014341551741766703,\n",
       " '10.1109/ICCRD.2010.71': 0.014341551741766703,\n",
       " '10.5555/3305890.3305954': 0.031049401672031567,\n",
       " '10.1145/3133956.3134077': 0.014341551741766703,\n",
       " '10.1145/3243734.3243855': 0.014341551741766703,\n",
       " '10.5555/3009657.3009736': 0.014341551741766703,\n",
       " '10.1145/3366423.3380171': 0.014341551741766703,\n",
       " '10.1145/3203217.3203241': 0.014341551741766703,\n",
       " '10.1109/TPAMI.2010.77': 0.014341551741766703,\n",
       " '10.1109/TKDE.2008.234': 0.014341551741766703,\n",
       " '10.1109/TKDE.2009.191': 0.011711318431003977,\n",
       " '10.5555/3305890.3305942': 0.011711318431003977,\n",
       " '10.1109/34.3909': 0.011711318431003977,\n",
       " '10.1162/neco.1997.9.8.1735': 0.011711318431003977,\n",
       " '10.5555/3305381.3305573': 0.011711318431003977,\n",
       " '10.1145/882262.882269': 0.011711318431003977,\n",
       " '10.5555/3157382.3157477': 0.011711318431003977,\n",
       " '10.5555/3157096.3157149': 0.011711318431003977,\n",
       " '10.5555/3157096.3157340': 0.016707849930264862,\n",
       " '10.5555/3157382.3157608': 0.011711318431003977,\n",
       " '10.5555/3009657.3009806': 0.011711318431003977,\n",
       " '10.5555/3157096.3157346': 0.016707849930264862,\n",
       " '10.5555/3294771.3294843': 0.011711318431003977,\n",
       " '10.5555/1620270.1620297': 0.011711318431003977,\n",
       " '10.1109/TIP.2003.819861': 0.011711318431003977,\n",
       " '10.5555/3157096.3157127': 0.011711318431003977,\n",
       " '10.5555/2997046.2997095': 0.011711318431003977,\n",
       " '10.5555/3294996.3295075': 0.011711318431003977,\n",
       " '10.5555/3294771.3294981': 0.011711318431003977,\n",
       " '10.5555/3157096.3157106': 0.011711318431003977,\n",
       " '10.5555/3298483.3298649': 0.011711318431003977,\n",
       " '10.5555/3045118.3045301': 0.011711318431003977,\n",
       " '10.5555/3045118.3045319': 0.011711318431003977,\n",
       " '10.5555/3294996.3295012': 0.011711318431003977,\n",
       " '10.5555/2969033.2969125': 0.01717777742197767,\n",
       " '10.5555/3305381.3305405': 0.011711318431003977,\n",
       " '10.1145/3322645.3322656': 0.0,\n",
       " '10.1109/TIP.2017.2662206': 0.0004699274917128074,\n",
       " '10.5555/3045118.3045167': 0.0004699274917128074,\n",
       " '10.1145/3487891': 0.0,\n",
       " '10.5555/3295222.3295408': 0.0049965314992608855,\n",
       " '10.1109/ICCV.2005.28': 0.0049965314992608855,\n",
       " '10.1145/3126686.3126723': 0.0049965314992608855,\n",
       " '10.5555/3367243.3367316': 0.0049965314992608855,\n",
       " '10.1109/TPAMI.2013.248': 0.0049965314992608855,\n",
       " '10.1177/0278364913491297': 0.0049965314992608855,\n",
       " '10.1109/TMM.2015.2407694': 0.0049965314992608855,\n",
       " '10.1007/978-3-030-00928-1_60': 0.0049965314992608855,\n",
       " '10.1007/978-3-642-33712-3_38': 0.0049965314992608855,\n",
       " '10.1145/3123266.3127905': 0.0049965314992608855,\n",
       " '10.1609/aaai.v33i01.33019299': 0.0049965314992608855,\n",
       " '10.1145/3123266.3123309': 0.0049965314992608855,\n",
       " '10.1109/CVPR.2014.223': 0.0049965314992608855,\n",
       " '10.1007/978-3-030-58517-4_31': 0.0049965314992608855,\n",
       " '10.5555/2002472.2002497': 0.0049965314992608855,\n",
       " '10.5555/3042817.3043083': 0.0049965314992608855}"
      ]
     },
     "execution_count": 31,
     "metadata": {},
     "output_type": "execute_result"
    }
   ],
   "source": [
    "def scores():\n",
    "\t\tscores = {}\n",
    "\t\t__calculate__()\n",
    "\n",
    "\t\tfor key in data.keys():\n",
    "\t\t\tscores[key] = auth_score[key]\n",
    "\n",
    "\t\treturn scores\n",
    "    \n",
    "scores()"
   ]
  },
  {
   "cell_type": "code",
   "execution_count": null,
   "id": "0349d70f-55b2-4ced-bf8d-460e2c3d3b21",
   "metadata": {},
   "outputs": [],
   "source": []
  },
  {
   "cell_type": "code",
   "execution_count": 12,
   "id": "612cd7cf-b5db-4610-bab4-a4aea80e61df",
   "metadata": {},
   "outputs": [],
   "source": [
    "dummy_data()"
   ]
  },
  {
   "cell_type": "code",
   "execution_count": null,
   "id": "e2ab211e-7017-454b-9d05-ac633641e91a",
   "metadata": {},
   "outputs": [],
   "source": []
  },
  {
   "cell_type": "code",
   "execution_count": null,
   "id": "ce6444de-d460-4f96-8fc8-a9cb9767da80",
   "metadata": {},
   "outputs": [],
   "source": []
  }
 ],
 "metadata": {
  "kernelspec": {
   "display_name": "Python 3 (ipykernel)",
   "language": "python",
   "name": "python3"
  },
  "language_info": {
   "codemirror_mode": {
    "name": "ipython",
    "version": 3
   },
   "file_extension": ".py",
   "mimetype": "text/x-python",
   "name": "python",
   "nbconvert_exporter": "python",
   "pygments_lexer": "ipython3",
   "version": "3.7.3"
  }
 },
 "nbformat": 4,
 "nbformat_minor": 5
}
