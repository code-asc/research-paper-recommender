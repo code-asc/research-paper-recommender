{
 "cells": [
  {
   "cell_type": "code",
   "execution_count": 1,
   "id": "d484a890-963f-43c9-b71f-bbc0c053f80e",
   "metadata": {},
   "outputs": [],
   "source": [
    "%reload_ext autoreload\n",
    "%autoreload 2\n",
    "\n",
    "import sqlite3\n",
    "import numpy as np\n",
    "import pandas as pd\n",
    "from tqdm.notebook import tqdm\n",
    "from utils.dummy import dummy_data\n",
    "from utils.dummy import dummy_doi\n",
    "from utils.dummy import get_dummy_info\n",
    "from utils.utils import get_citation_doi\n",
    "from utils.utils import get_paper_citation_pairs\n",
    "from utils.utils import get_cited_by_doi\n",
    "from utils.utils import get_fully_connected_network\n",
    "from acm_api.acm import acm_meta\n",
    "from evaluation.evaluate import Train_Test_Split_Plain\n",
    "import matplotlib.pyplot as plt\n",
    "from cf.cf import CF\n",
    "from cf.cf_unit import CFU\n",
    "from cf.cf_pr import CFUPR\n",
    "from cf.cf_full_hits import CFUH\n",
    "from sklearn.feature_extraction.text import TfidfVectorizer\n",
    "from sklearn.feature_extraction.text import CountVectorizer\n",
    "from nltk.tokenize import word_tokenize\n",
    "from nltk.stem import PorterStemmer\n",
    "from nltk.corpus import stopwords"
   ]
  },
  {
   "cell_type": "markdown",
   "id": "6dff21f2-d307-4844-9cca-86019027e973",
   "metadata": {},
   "source": [
    "<h2>Processing the input file with doi of papers</h2>"
   ]
  },
  {
   "cell_type": "code",
   "execution_count": 2,
   "id": "823117b6-e153-441a-8eb9-10baeb699470",
   "metadata": {},
   "outputs": [
    {
     "name": "stdout",
     "output_type": "stream",
     "text": [
      "processing doi....\n"
     ]
    },
    {
     "data": {
      "application/vnd.jupyter.widget-view+json": {
       "model_id": "078f5131d4684ccdac96b206cb1e7d0c",
       "version_major": 2,
       "version_minor": 0
      },
      "text/plain": [
       "  0%|          | 0/20 [00:00<?, ?it/s]"
      ]
     },
     "metadata": {},
     "output_type": "display_data"
    },
    {
     "name": "stdout",
     "output_type": "stream",
     "text": [
      "1\n",
      "extracting citation's doi....\n"
     ]
    },
    {
     "data": {
      "application/vnd.jupyter.widget-view+json": {
       "model_id": "c16f3e25e41044fea93989e9740f030d",
       "version_major": 2,
       "version_minor": 0
      },
      "text/plain": [
       "  0%|          | 0/100 [00:00<?, ?it/s]"
      ]
     },
     "metadata": {},
     "output_type": "display_data"
    },
    {
     "name": "stdout",
     "output_type": "stream",
     "text": [
      "extracting cited_by doi....\n"
     ]
    },
    {
     "data": {
      "application/vnd.jupyter.widget-view+json": {
       "model_id": "56253bed7f8a4cfe9ec92c51e1d819a1",
       "version_major": 2,
       "version_minor": 0
      },
      "text/plain": [
       "  0%|          | 0/50 [00:00<?, ?it/s]"
      ]
     },
     "metadata": {},
     "output_type": "display_data"
    },
    {
     "name": "stdout",
     "output_type": "stream",
     "text": [
      "2\n",
      "extracting citation's doi....\n"
     ]
    },
    {
     "data": {
      "application/vnd.jupyter.widget-view+json": {
       "model_id": "2a9aa42d52554d54ae2c2db547388d09",
       "version_major": 2,
       "version_minor": 0
      },
      "text/plain": [
       "  0%|          | 0/100 [00:00<?, ?it/s]"
      ]
     },
     "metadata": {},
     "output_type": "display_data"
    },
    {
     "name": "stdout",
     "output_type": "stream",
     "text": [
      "extracting cited_by doi....\n"
     ]
    },
    {
     "data": {
      "application/vnd.jupyter.widget-view+json": {
       "model_id": "df7228d0ff8849fc873e098cd5b11717",
       "version_major": 2,
       "version_minor": 0
      },
      "text/plain": [
       "  0%|          | 0/50 [00:00<?, ?it/s]"
      ]
     },
     "metadata": {},
     "output_type": "display_data"
    },
    {
     "name": "stdout",
     "output_type": "stream",
     "text": [
      "3\n",
      "extracting citation's doi....\n"
     ]
    },
    {
     "data": {
      "application/vnd.jupyter.widget-view+json": {
       "model_id": "7e0c8d27e24b4e64bb1550b9628bc2ab",
       "version_major": 2,
       "version_minor": 0
      },
      "text/plain": [
       "  0%|          | 0/100 [00:00<?, ?it/s]"
      ]
     },
     "metadata": {},
     "output_type": "display_data"
    },
    {
     "name": "stdout",
     "output_type": "stream",
     "text": [
      "extracting cited_by doi....\n"
     ]
    },
    {
     "data": {
      "application/vnd.jupyter.widget-view+json": {
       "model_id": "1abfa0333a5841e99643a583499175e1",
       "version_major": 2,
       "version_minor": 0
      },
      "text/plain": [
       "  0%|          | 0/50 [00:00<?, ?it/s]"
      ]
     },
     "metadata": {},
     "output_type": "display_data"
    },
    {
     "name": "stdout",
     "output_type": "stream",
     "text": [
      "4\n",
      "extracting citation's doi....\n"
     ]
    },
    {
     "data": {
      "application/vnd.jupyter.widget-view+json": {
       "model_id": "d57b55a3d6824571a55ae2c825461bf2",
       "version_major": 2,
       "version_minor": 0
      },
      "text/plain": [
       "  0%|          | 0/100 [00:00<?, ?it/s]"
      ]
     },
     "metadata": {},
     "output_type": "display_data"
    },
    {
     "name": "stdout",
     "output_type": "stream",
     "text": [
      "extracting cited_by doi....\n"
     ]
    },
    {
     "data": {
      "application/vnd.jupyter.widget-view+json": {
       "model_id": "9afcce10927a41cb8ecb7c9e0383cf0c",
       "version_major": 2,
       "version_minor": 0
      },
      "text/plain": [
       "  0%|          | 0/50 [00:00<?, ?it/s]"
      ]
     },
     "metadata": {},
     "output_type": "display_data"
    },
    {
     "name": "stdout",
     "output_type": "stream",
     "text": [
      "5\n",
      "extracting citation's doi....\n"
     ]
    },
    {
     "data": {
      "application/vnd.jupyter.widget-view+json": {
       "model_id": "6bf43ac814e84bedb46dc066b253217b",
       "version_major": 2,
       "version_minor": 0
      },
      "text/plain": [
       "  0%|          | 0/100 [00:00<?, ?it/s]"
      ]
     },
     "metadata": {},
     "output_type": "display_data"
    },
    {
     "name": "stdout",
     "output_type": "stream",
     "text": [
      "extracting cited_by doi....\n"
     ]
    },
    {
     "data": {
      "application/vnd.jupyter.widget-view+json": {
       "model_id": "b348aedfce974c33ae11fea039c06306",
       "version_major": 2,
       "version_minor": 0
      },
      "text/plain": [
       "  0%|          | 0/50 [00:00<?, ?it/s]"
      ]
     },
     "metadata": {},
     "output_type": "display_data"
    },
    {
     "name": "stdout",
     "output_type": "stream",
     "text": [
      "6\n",
      "extracting citation's doi....\n"
     ]
    },
    {
     "data": {
      "application/vnd.jupyter.widget-view+json": {
       "model_id": "68e59da32dac4d399103c18bb4cbc088",
       "version_major": 2,
       "version_minor": 0
      },
      "text/plain": [
       "  0%|          | 0/100 [00:00<?, ?it/s]"
      ]
     },
     "metadata": {},
     "output_type": "display_data"
    },
    {
     "name": "stdout",
     "output_type": "stream",
     "text": [
      "extracting cited_by doi....\n"
     ]
    },
    {
     "data": {
      "application/vnd.jupyter.widget-view+json": {
       "model_id": "fe33cf18b1084e538f9da8d7f5723214",
       "version_major": 2,
       "version_minor": 0
      },
      "text/plain": [
       "  0%|          | 0/50 [00:00<?, ?it/s]"
      ]
     },
     "metadata": {},
     "output_type": "display_data"
    },
    {
     "name": "stdout",
     "output_type": "stream",
     "text": [
      "7\n",
      "extracting citation's doi....\n"
     ]
    },
    {
     "data": {
      "application/vnd.jupyter.widget-view+json": {
       "model_id": "3052c231b024433aa12417fc16b673be",
       "version_major": 2,
       "version_minor": 0
      },
      "text/plain": [
       "  0%|          | 0/100 [00:00<?, ?it/s]"
      ]
     },
     "metadata": {},
     "output_type": "display_data"
    },
    {
     "name": "stdout",
     "output_type": "stream",
     "text": [
      "extracting cited_by doi....\n"
     ]
    },
    {
     "data": {
      "application/vnd.jupyter.widget-view+json": {
       "model_id": "4e344916ea8a469f858bd37afff0d159",
       "version_major": 2,
       "version_minor": 0
      },
      "text/plain": [
       "  0%|          | 0/50 [00:00<?, ?it/s]"
      ]
     },
     "metadata": {},
     "output_type": "display_data"
    },
    {
     "name": "stdout",
     "output_type": "stream",
     "text": [
      "8\n",
      "extracting citation's doi....\n"
     ]
    },
    {
     "data": {
      "application/vnd.jupyter.widget-view+json": {
       "model_id": "0925fa22cd9348088d4fdcf22db84f44",
       "version_major": 2,
       "version_minor": 0
      },
      "text/plain": [
       "  0%|          | 0/100 [00:00<?, ?it/s]"
      ]
     },
     "metadata": {},
     "output_type": "display_data"
    },
    {
     "name": "stdout",
     "output_type": "stream",
     "text": [
      "extracting cited_by doi....\n"
     ]
    },
    {
     "data": {
      "application/vnd.jupyter.widget-view+json": {
       "model_id": "5cbda4d745f2464b81131b92e2439e7d",
       "version_major": 2,
       "version_minor": 0
      },
      "text/plain": [
       "  0%|          | 0/50 [00:00<?, ?it/s]"
      ]
     },
     "metadata": {},
     "output_type": "display_data"
    },
    {
     "name": "stdout",
     "output_type": "stream",
     "text": [
      "9\n",
      "extracting citation's doi....\n"
     ]
    },
    {
     "data": {
      "application/vnd.jupyter.widget-view+json": {
       "model_id": "c5c671d0988f422aae41c6678a81df12",
       "version_major": 2,
       "version_minor": 0
      },
      "text/plain": [
       "  0%|          | 0/100 [00:00<?, ?it/s]"
      ]
     },
     "metadata": {},
     "output_type": "display_data"
    },
    {
     "name": "stdout",
     "output_type": "stream",
     "text": [
      "extracting cited_by doi....\n"
     ]
    },
    {
     "data": {
      "application/vnd.jupyter.widget-view+json": {
       "model_id": "38511deee95e42228ca2476b6285dd38",
       "version_major": 2,
       "version_minor": 0
      },
      "text/plain": [
       "  0%|          | 0/50 [00:00<?, ?it/s]"
      ]
     },
     "metadata": {},
     "output_type": "display_data"
    },
    {
     "name": "stdout",
     "output_type": "stream",
     "text": [
      "10\n",
      "extracting citation's doi....\n"
     ]
    },
    {
     "data": {
      "application/vnd.jupyter.widget-view+json": {
       "model_id": "c264090dbf1641cb9329dc348c2f3b91",
       "version_major": 2,
       "version_minor": 0
      },
      "text/plain": [
       "  0%|          | 0/100 [00:00<?, ?it/s]"
      ]
     },
     "metadata": {},
     "output_type": "display_data"
    },
    {
     "name": "stdout",
     "output_type": "stream",
     "text": [
      "extracting cited_by doi....\n"
     ]
    },
    {
     "data": {
      "application/vnd.jupyter.widget-view+json": {
       "model_id": "a825130ecb554d09ad1240e0f53ffe65",
       "version_major": 2,
       "version_minor": 0
      },
      "text/plain": [
       "  0%|          | 0/50 [00:00<?, ?it/s]"
      ]
     },
     "metadata": {},
     "output_type": "display_data"
    },
    {
     "name": "stdout",
     "output_type": "stream",
     "text": [
      "11\n",
      "extracting citation's doi....\n"
     ]
    },
    {
     "data": {
      "application/vnd.jupyter.widget-view+json": {
       "model_id": "8d80219e93b54200be498adcfe635414",
       "version_major": 2,
       "version_minor": 0
      },
      "text/plain": [
       "  0%|          | 0/100 [00:00<?, ?it/s]"
      ]
     },
     "metadata": {},
     "output_type": "display_data"
    },
    {
     "name": "stdout",
     "output_type": "stream",
     "text": [
      "extracting cited_by doi....\n"
     ]
    },
    {
     "data": {
      "application/vnd.jupyter.widget-view+json": {
       "model_id": "adf45c3c23174db59c0a14420de4c029",
       "version_major": 2,
       "version_minor": 0
      },
      "text/plain": [
       "  0%|          | 0/50 [00:00<?, ?it/s]"
      ]
     },
     "metadata": {},
     "output_type": "display_data"
    },
    {
     "name": "stdout",
     "output_type": "stream",
     "text": [
      "12\n",
      "extracting citation's doi....\n"
     ]
    },
    {
     "data": {
      "application/vnd.jupyter.widget-view+json": {
       "model_id": "b34d9eaf4c644719a0ee8e3f405d0080",
       "version_major": 2,
       "version_minor": 0
      },
      "text/plain": [
       "  0%|          | 0/100 [00:00<?, ?it/s]"
      ]
     },
     "metadata": {},
     "output_type": "display_data"
    },
    {
     "name": "stdout",
     "output_type": "stream",
     "text": [
      "extracting cited_by doi....\n"
     ]
    },
    {
     "data": {
      "application/vnd.jupyter.widget-view+json": {
       "model_id": "5e37e9301c2e46c283529e261d0295b9",
       "version_major": 2,
       "version_minor": 0
      },
      "text/plain": [
       "  0%|          | 0/50 [00:00<?, ?it/s]"
      ]
     },
     "metadata": {},
     "output_type": "display_data"
    },
    {
     "name": "stdout",
     "output_type": "stream",
     "text": [
      "13\n",
      "extracting citation's doi....\n"
     ]
    },
    {
     "data": {
      "application/vnd.jupyter.widget-view+json": {
       "model_id": "e61baa2ad5ca406692c7bfe8eee16712",
       "version_major": 2,
       "version_minor": 0
      },
      "text/plain": [
       "  0%|          | 0/100 [00:00<?, ?it/s]"
      ]
     },
     "metadata": {},
     "output_type": "display_data"
    },
    {
     "name": "stdout",
     "output_type": "stream",
     "text": [
      "extracting cited_by doi....\n"
     ]
    },
    {
     "data": {
      "application/vnd.jupyter.widget-view+json": {
       "model_id": "0fb2bb1f1ee749cb96e2315afcd17a00",
       "version_major": 2,
       "version_minor": 0
      },
      "text/plain": [
       "  0%|          | 0/50 [00:00<?, ?it/s]"
      ]
     },
     "metadata": {},
     "output_type": "display_data"
    },
    {
     "name": "stdout",
     "output_type": "stream",
     "text": [
      "14\n",
      "extracting citation's doi....\n"
     ]
    },
    {
     "data": {
      "application/vnd.jupyter.widget-view+json": {
       "model_id": "205cd2341e6e42a0a0c6ace163fae09d",
       "version_major": 2,
       "version_minor": 0
      },
      "text/plain": [
       "  0%|          | 0/100 [00:00<?, ?it/s]"
      ]
     },
     "metadata": {},
     "output_type": "display_data"
    },
    {
     "name": "stdout",
     "output_type": "stream",
     "text": [
      "extracting cited_by doi....\n"
     ]
    },
    {
     "data": {
      "application/vnd.jupyter.widget-view+json": {
       "model_id": "c5ec6175d45d46fe9006becf3bcdaa29",
       "version_major": 2,
       "version_minor": 0
      },
      "text/plain": [
       "  0%|          | 0/50 [00:00<?, ?it/s]"
      ]
     },
     "metadata": {},
     "output_type": "display_data"
    },
    {
     "name": "stdout",
     "output_type": "stream",
     "text": [
      "15\n",
      "extracting citation's doi....\n"
     ]
    },
    {
     "data": {
      "application/vnd.jupyter.widget-view+json": {
       "model_id": "b6837b4e47a54d96af8b434692fee53d",
       "version_major": 2,
       "version_minor": 0
      },
      "text/plain": [
       "  0%|          | 0/100 [00:00<?, ?it/s]"
      ]
     },
     "metadata": {},
     "output_type": "display_data"
    },
    {
     "name": "stdout",
     "output_type": "stream",
     "text": [
      "extracting cited_by doi....\n"
     ]
    },
    {
     "data": {
      "application/vnd.jupyter.widget-view+json": {
       "model_id": "ddb978f7dfa84aca987ff6f46bb441be",
       "version_major": 2,
       "version_minor": 0
      },
      "text/plain": [
       "  0%|          | 0/50 [00:00<?, ?it/s]"
      ]
     },
     "metadata": {},
     "output_type": "display_data"
    },
    {
     "name": "stdout",
     "output_type": "stream",
     "text": [
      "16\n",
      "extracting citation's doi....\n"
     ]
    },
    {
     "data": {
      "application/vnd.jupyter.widget-view+json": {
       "model_id": "dd359fbc416143d6898e37086d280a29",
       "version_major": 2,
       "version_minor": 0
      },
      "text/plain": [
       "  0%|          | 0/100 [00:00<?, ?it/s]"
      ]
     },
     "metadata": {},
     "output_type": "display_data"
    },
    {
     "name": "stdout",
     "output_type": "stream",
     "text": [
      "extracting cited_by doi....\n"
     ]
    },
    {
     "data": {
      "application/vnd.jupyter.widget-view+json": {
       "model_id": "4350bedf481d461d8f8ea39aeb7c1ca3",
       "version_major": 2,
       "version_minor": 0
      },
      "text/plain": [
       "  0%|          | 0/50 [00:00<?, ?it/s]"
      ]
     },
     "metadata": {},
     "output_type": "display_data"
    },
    {
     "name": "stdout",
     "output_type": "stream",
     "text": [
      "17\n",
      "extracting citation's doi....\n"
     ]
    },
    {
     "data": {
      "application/vnd.jupyter.widget-view+json": {
       "model_id": "25666a60d7a942f58898297228b8da55",
       "version_major": 2,
       "version_minor": 0
      },
      "text/plain": [
       "  0%|          | 0/100 [00:00<?, ?it/s]"
      ]
     },
     "metadata": {},
     "output_type": "display_data"
    },
    {
     "name": "stdout",
     "output_type": "stream",
     "text": [
      "extracting cited_by doi....\n"
     ]
    },
    {
     "data": {
      "application/vnd.jupyter.widget-view+json": {
       "model_id": "8c48cc46d15446c48ffaa0b994d5a431",
       "version_major": 2,
       "version_minor": 0
      },
      "text/plain": [
       "  0%|          | 0/50 [00:00<?, ?it/s]"
      ]
     },
     "metadata": {},
     "output_type": "display_data"
    },
    {
     "name": "stdout",
     "output_type": "stream",
     "text": [
      "18\n",
      "extracting citation's doi....\n"
     ]
    },
    {
     "data": {
      "application/vnd.jupyter.widget-view+json": {
       "model_id": "d0cc759a613548eab5b50ccde2e0324d",
       "version_major": 2,
       "version_minor": 0
      },
      "text/plain": [
       "  0%|          | 0/100 [00:00<?, ?it/s]"
      ]
     },
     "metadata": {},
     "output_type": "display_data"
    },
    {
     "name": "stdout",
     "output_type": "stream",
     "text": [
      "extracting cited_by doi....\n"
     ]
    },
    {
     "data": {
      "application/vnd.jupyter.widget-view+json": {
       "model_id": "1f953ca006774708882f8af16268db8f",
       "version_major": 2,
       "version_minor": 0
      },
      "text/plain": [
       "  0%|          | 0/50 [00:00<?, ?it/s]"
      ]
     },
     "metadata": {},
     "output_type": "display_data"
    },
    {
     "name": "stdout",
     "output_type": "stream",
     "text": [
      "19\n",
      "extracting citation's doi....\n"
     ]
    },
    {
     "data": {
      "application/vnd.jupyter.widget-view+json": {
       "model_id": "b09ebc20c0494f7f86cf450dd1804c3e",
       "version_major": 2,
       "version_minor": 0
      },
      "text/plain": [
       "  0%|          | 0/100 [00:00<?, ?it/s]"
      ]
     },
     "metadata": {},
     "output_type": "display_data"
    },
    {
     "name": "stdout",
     "output_type": "stream",
     "text": [
      "extracting cited_by doi....\n"
     ]
    },
    {
     "data": {
      "application/vnd.jupyter.widget-view+json": {
       "model_id": "6aa3df27510c4dddb3f20e2cbbad1a01",
       "version_major": 2,
       "version_minor": 0
      },
      "text/plain": [
       "  0%|          | 0/50 [00:00<?, ?it/s]"
      ]
     },
     "metadata": {},
     "output_type": "display_data"
    },
    {
     "name": "stdout",
     "output_type": "stream",
     "text": [
      "20\n",
      "extracting citation's doi....\n"
     ]
    },
    {
     "data": {
      "application/vnd.jupyter.widget-view+json": {
       "model_id": "333cb471cd924e45aeb5ee1c213990c3",
       "version_major": 2,
       "version_minor": 0
      },
      "text/plain": [
       "  0%|          | 0/100 [00:00<?, ?it/s]"
      ]
     },
     "metadata": {},
     "output_type": "display_data"
    },
    {
     "name": "stdout",
     "output_type": "stream",
     "text": [
      "extracting cited_by doi....\n"
     ]
    },
    {
     "data": {
      "application/vnd.jupyter.widget-view+json": {
       "model_id": "cb35202a821c4b4d9ebd4cb46e609a78",
       "version_major": 2,
       "version_minor": 0
      },
      "text/plain": [
       "  0%|          | 0/50 [00:00<?, ?it/s]"
      ]
     },
     "metadata": {},
     "output_type": "display_data"
    }
   ],
   "source": [
    "doi_list = []\n",
    "data = {}\n",
    "data_citedby = {}\n",
    "\n",
    "# reading the input file with doi of papers\n",
    "with open('doi/doi.txt', 'r') as doi_file:\n",
    "    lines = doi_file.readlines()\n",
    "    \n",
    "for line in lines:\n",
    "    doi_list.append(line.strip())\n",
    "    \n",
    "con = sqlite3.connect('fake.db')\n",
    "cur = con.cursor()\n",
    "\n",
    "is_table_exists = cur.execute(\n",
    "    \"\"\"\n",
    "    SELECT name FROM sqlite_master WHERE type='table'\n",
    "    AND name='PAPERS'; \"\"\").fetchall()\n",
    "\n",
    "if is_table_exists == []:\n",
    "    cur.execute(\"\"\" \n",
    "        CREATE TABLE PAPERS (doi TEXT, data TEXT);\n",
    "    \"\"\")\n",
    "    \n",
    "print('processing doi....')\n",
    "for doi in tqdm(doi_list):\n",
    "    print(doi)\n",
    "    cursor = con.execute(\"SELECT * FROM PAPERS WHERE doi=?;\", (doi,))\n",
    "    fetch_data = cursor.fetchone()\n",
    "    \n",
    "    if fetch_data is None:\n",
    "        temp = acm_meta(doi)\n",
    "        insert_statement = 'INSERT INTO PAPERS(doi, data) VALUES(?, ?)'\n",
    "        \n",
    "        con.execute(insert_statement, (doi, str(temp)))\n",
    "        data[doi] = get_citation_doi(temp)\n",
    "        \n",
    "    else:\n",
    "        data[doi] = get_citation_doi(fetch_data[1])\n",
    "        \n",
    "        for citedby_doi in get_cited_by_doi(fetch_data[1]):\n",
    "            if not data_citedby.get(citedby_doi, False):\n",
    "                data_citedby[citedby_doi] = [doi]\n",
    "            else:\n",
    "                # A paper can cite my papers in the query set\n",
    "                data_citedby[citedby_doi].append(doi)\n",
    "        \n",
    "con.commit()\n",
    "con.close()"
   ]
  },
  {
   "cell_type": "code",
   "execution_count": 3,
   "id": "4bcd1929-daf9-4bc5-a906-d4a9d28afcbc",
   "metadata": {},
   "outputs": [],
   "source": [
    "# Paper's doi and it's citations\n",
    "# data"
   ]
  },
  {
   "cell_type": "code",
   "execution_count": 4,
   "id": "5346f8d1-ab21-4ed9-a5e4-a8bf143efcea",
   "metadata": {},
   "outputs": [],
   "source": [
    "# data_citedby"
   ]
  },
  {
   "cell_type": "markdown",
   "id": "cd689ff6-3a60-4ffc-a4e1-aa4c1c2e0f74",
   "metadata": {},
   "source": [
    "<h2>Code for creating the rating matrix</h2>"
   ]
  },
  {
   "cell_type": "code",
   "execution_count": 5,
   "id": "7c68584b-510b-42cd-a500-19e0124b479f",
   "metadata": {},
   "outputs": [
    {
     "data": {
      "application/vnd.jupyter.widget-view+json": {
       "model_id": "e7b08076d4b74b328123b03175380914",
       "version_major": 2,
       "version_minor": 0
      },
      "text/plain": [
       "  0%|          | 0/220 [00:00<?, ?it/s]"
      ]
     },
     "metadata": {},
     "output_type": "display_data"
    }
   ],
   "source": [
    "# Store the citation space\n",
    "citation_set = set()\n",
    "\n",
    "# Store the citation space including the cited_by space\n",
    "citation_set_with_cited_by = set()\n",
    "\n",
    "# Here we are capturing the all the citation for a given paper\n",
    "# Later we can use this to know the citation space\n",
    "for key in data.keys():\n",
    "    citation_set.update(data[key])\n",
    "    citation_set_with_cited_by.update(data[key])\n",
    "    \n",
    "# We also need to include the queryset itself because they are cited by other papers    \n",
    "citation_set_with_cited_by.update(data.keys())\n",
    "\n",
    "# Index of the data without the cited_by key\n",
    "index_ = data.keys()\n",
    "                                                   \n",
    "# Index of the data including the cited_by key\n",
    "index_with_citedby = set(data.keys())\n",
    "index_with_citedby.update(data_citedby.keys())\n",
    "index_with_citedby = list(index_with_citedby)\n",
    "\n",
    "# This dataframe does not include the cited_by data\n",
    "df = pd.DataFrame(np.zeros((len(index_), len(citation_set))), index=index_, columns=citation_set)\n",
    "\n",
    "# This dataframe includes the cited_by data\n",
    "df_with_cited_by = pd.DataFrame(np.zeros((len(index_with_citedby), len(citation_set_with_cited_by))), \\\n",
    "                                index=index_with_citedby, columns=citation_set_with_cited_by)\n",
    "\n",
    "for i in index_:\n",
    "    for j in citation_set:\n",
    "        if j in data[i]:\n",
    "            df.loc[i][j] = 1\n",
    "\n",
    "\n",
    "            \n",
    "# Here data_citedby is the key-value with key being the paper\n",
    "# that cites our query set and value is one of the paper in the\n",
    "# query set\n",
    "# Similary in data, the key is each paper in query set and\n",
    "# value is list of citations\n",
    "overall_ = {**data_citedby, **data}\n",
    "overall = get_fully_connected_network(overall_, data_citedby.keys(), acm=False)\n",
    "for i in index_with_citedby:\n",
    "    for j in citation_set_with_cited_by:\n",
    "        if j in overall[i]:\n",
    "            df_with_cited_by.loc[i][j] = 1\n",
    "\n",
    "df.to_csv('citation-web/matrix-way/citation-matrix.csv')\n",
    "df_with_cited_by.to_csv('citation-web/matrix-way/citation-full-matrix.csv')"
   ]
  },
  {
   "cell_type": "markdown",
   "id": "37494a71-56c4-4697-a349-4d8b151aaac0",
   "metadata": {},
   "source": [
    "<h2>Assign root nodes that can be used for cf full version</h2>"
   ]
  },
  {
   "cell_type": "code",
   "execution_count": 6,
   "id": "4e0173a3-1285-4ceb-b468-8035ac4fca18",
   "metadata": {},
   "outputs": [],
   "source": [
    "root_nodes = df.index.values"
   ]
  },
  {
   "cell_type": "markdown",
   "id": "494979c8-3cea-4afd-9cb6-130f1a24dfee",
   "metadata": {},
   "source": [
    "<h2>Creating the citation pair</h2>"
   ]
  },
  {
   "cell_type": "code",
   "execution_count": 7,
   "id": "a0090e86-30a9-453a-8e6a-7bbeea06ef31",
   "metadata": {},
   "outputs": [
    {
     "name": "stdout",
     "output_type": "stream",
     "text": [
      "writing citation pairs....\n"
     ]
    },
    {
     "data": {
      "application/vnd.jupyter.widget-view+json": {
       "model_id": "cfaad1ee1d824c108dfae0e7962d8e7b",
       "version_major": 2,
       "version_minor": 0
      },
      "text/plain": [
       "  0%|          | 0/20 [00:00<?, ?it/s]"
      ]
     },
     "metadata": {},
     "output_type": "display_data"
    },
    {
     "name": "stdout",
     "output_type": "stream",
     "text": [
      "writing citation pairs....\n"
     ]
    },
    {
     "data": {
      "application/vnd.jupyter.widget-view+json": {
       "model_id": "20f77cd461a048838792795f2a979a20",
       "version_major": 2,
       "version_minor": 0
      },
      "text/plain": [
       "  0%|          | 0/220 [00:00<?, ?it/s]"
      ]
     },
     "metadata": {},
     "output_type": "display_data"
    }
   ],
   "source": [
    "# This only includes the citation data\n",
    "citation_pair_path = get_paper_citation_pairs(df)\n",
    "\n",
    "# This also includes the cited_by data \n",
    "citation_pair_full_path = get_paper_citation_pairs(df_with_cited_by, out_file='citation-full-pairs.txt')"
   ]
  },
  {
   "cell_type": "markdown",
   "id": "c9b9f824-8d71-4190-9db5-33bbf37c7285",
   "metadata": {},
   "source": [
    "<h2>Below are the experiments</h2>"
   ]
  },
  {
   "cell_type": "code",
   "execution_count": 8,
   "id": "2c069b9a",
   "metadata": {},
   "outputs": [
    {
     "name": "stdout",
     "output_type": "stream",
     "text": [
      "The following doi's are ignored because of low reference :\n",
      "{}\n",
      "writing citation pairs....\n"
     ]
    },
    {
     "data": {
      "application/vnd.jupyter.widget-view+json": {
       "model_id": "e8320d7032e9483d98edfc518625bca9",
       "version_major": 2,
       "version_minor": 0
      },
      "text/plain": [
       "  0%|          | 0/20 [00:00<?, ?it/s]"
      ]
     },
     "metadata": {},
     "output_type": "display_data"
    },
    {
     "name": "stdout",
     "output_type": "stream",
     "text": [
      "removing the indexes with no citations....\n",
      "normalizing dataframe....\n"
     ]
    },
    {
     "name": "stderr",
     "output_type": "stream",
     "text": [
      "100%|█████████████████████████████████████████| 20/20 [00:00<00:00, 2838.50it/s]\n"
     ]
    },
    {
     "name": "stdout",
     "output_type": "stream",
     "text": [
      "creating similarity matrix....\n"
     ]
    },
    {
     "name": "stderr",
     "output_type": "stream",
     "text": [
      "100%|█████████████████████████████████████████| 109/109 [00:01<00:00, 77.66it/s]\n"
     ]
    },
    {
     "name": "stdout",
     "output_type": "stream",
     "text": [
      "computing recommendations for : 9\n"
     ]
    },
    {
     "name": "stderr",
     "output_type": "stream",
     "text": [
      "0it [00:00, ?it/s]\n"
     ]
    },
    {
     "name": "stdout",
     "output_type": "stream",
     "text": [
      "computing recommendations for : 2\n"
     ]
    },
    {
     "name": "stderr",
     "output_type": "stream",
     "text": [
      "0it [00:00, ?it/s]\n"
     ]
    },
    {
     "name": "stdout",
     "output_type": "stream",
     "text": [
      "computing recommendations for : 3\n"
     ]
    },
    {
     "name": "stderr",
     "output_type": "stream",
     "text": [
      "0it [00:00, ?it/s]\n"
     ]
    },
    {
     "name": "stdout",
     "output_type": "stream",
     "text": [
      "computing recommendations for : 20\n"
     ]
    },
    {
     "name": "stderr",
     "output_type": "stream",
     "text": [
      "0it [00:00, ?it/s]\n"
     ]
    },
    {
     "name": "stdout",
     "output_type": "stream",
     "text": [
      "computing recommendations for : 11\n"
     ]
    },
    {
     "name": "stderr",
     "output_type": "stream",
     "text": [
      "0it [00:00, ?it/s]\n"
     ]
    },
    {
     "name": "stdout",
     "output_type": "stream",
     "text": [
      "computing recommendations for : 5\n"
     ]
    },
    {
     "name": "stderr",
     "output_type": "stream",
     "text": [
      "0it [00:00, ?it/s]\n"
     ]
    },
    {
     "name": "stdout",
     "output_type": "stream",
     "text": [
      "computing recommendations for : 13\n"
     ]
    },
    {
     "name": "stderr",
     "output_type": "stream",
     "text": [
      "0it [00:00, ?it/s]\n"
     ]
    },
    {
     "name": "stdout",
     "output_type": "stream",
     "text": [
      "computing recommendations for : 4\n"
     ]
    },
    {
     "name": "stderr",
     "output_type": "stream",
     "text": [
      "0it [00:00, ?it/s]"
     ]
    },
    {
     "name": "stdout",
     "output_type": "stream",
     "text": [
      "computing recommendations for : 16"
     ]
    },
    {
     "name": "stderr",
     "output_type": "stream",
     "text": [
      "\n"
     ]
    },
    {
     "name": "stdout",
     "output_type": "stream",
     "text": [
      "\n"
     ]
    },
    {
     "name": "stderr",
     "output_type": "stream",
     "text": [
      "0it [00:00, ?it/s]\n"
     ]
    },
    {
     "name": "stdout",
     "output_type": "stream",
     "text": [
      "computing recommendations for : 1\n"
     ]
    },
    {
     "name": "stderr",
     "output_type": "stream",
     "text": [
      "0it [00:00, ?it/s]\n"
     ]
    },
    {
     "name": "stdout",
     "output_type": "stream",
     "text": [
      "finishing evaluation....\n"
     ]
    },
    {
     "data": {
      "application/vnd.jupyter.widget-view+json": {
       "model_id": "8758ee1121d54bcbace2cc903bfb80bf",
       "version_major": 2,
       "version_minor": 0
      },
      "text/plain": [
       "  0%|          | 0/10 [00:00<?, ?it/s]"
      ]
     },
     "metadata": {},
     "output_type": "display_data"
    },
    {
     "data": {
      "text/plain": [
       "0.0"
      ]
     },
     "execution_count": 8,
     "metadata": {},
     "output_type": "execute_result"
    }
   ],
   "source": [
    "evaluate = Train_Test_Split_Plain(CFU, min_ref_limit=5, train_size=0.5)\n",
    "evaluate.fit(data)"
   ]
  },
  {
   "cell_type": "code",
   "execution_count": 9,
   "id": "f394d0bb-df27-464b-bb51-fef1e2948fc3",
   "metadata": {},
   "outputs": [
    {
     "name": "stdout",
     "output_type": "stream",
     "text": [
      "The following doi's are ignored because of low reference :\n",
      "{}\n",
      "writing citation pairs....\n"
     ]
    },
    {
     "data": {
      "application/vnd.jupyter.widget-view+json": {
       "model_id": "7f928f641a1441bc95e9295205c45e22",
       "version_major": 2,
       "version_minor": 0
      },
      "text/plain": [
       "  0%|          | 0/20 [00:00<?, ?it/s]"
      ]
     },
     "metadata": {},
     "output_type": "display_data"
    },
    {
     "name": "stdout",
     "output_type": "stream",
     "text": [
      "Creating similarity matrix....\n"
     ]
    },
    {
     "name": "stderr",
     "output_type": "stream",
     "text": [
      "100%|█████████████████████████████████████████| 109/109 [00:01<00:00, 77.58it/s]\n"
     ]
    },
    {
     "name": "stdout",
     "output_type": "stream",
     "text": [
      "Computing recommendations for : 9\n"
     ]
    },
    {
     "name": "stderr",
     "output_type": "stream",
     "text": [
      "0it [00:00, ?it/s]\n"
     ]
    },
    {
     "name": "stdout",
     "output_type": "stream",
     "text": [
      "Computing recommendations for : 2\n"
     ]
    },
    {
     "name": "stderr",
     "output_type": "stream",
     "text": [
      "0it [00:00, ?it/s]\n"
     ]
    },
    {
     "name": "stdout",
     "output_type": "stream",
     "text": [
      "Computing recommendations for : 3\n"
     ]
    },
    {
     "name": "stderr",
     "output_type": "stream",
     "text": [
      "0it [00:00, ?it/s]\n"
     ]
    },
    {
     "name": "stdout",
     "output_type": "stream",
     "text": [
      "Computing recommendations for : 20\n"
     ]
    },
    {
     "name": "stderr",
     "output_type": "stream",
     "text": [
      "0it [00:00, ?it/s]\n"
     ]
    },
    {
     "name": "stdout",
     "output_type": "stream",
     "text": [
      "Computing recommendations for : 11\n"
     ]
    },
    {
     "name": "stderr",
     "output_type": "stream",
     "text": [
      "0it [00:00, ?it/s]\n"
     ]
    },
    {
     "name": "stdout",
     "output_type": "stream",
     "text": [
      "Computing recommendations for : 5\n"
     ]
    },
    {
     "name": "stderr",
     "output_type": "stream",
     "text": [
      "0it [00:00, ?it/s]\n"
     ]
    },
    {
     "name": "stdout",
     "output_type": "stream",
     "text": [
      "Computing recommendations for : 13\n"
     ]
    },
    {
     "name": "stderr",
     "output_type": "stream",
     "text": [
      "0it [00:00, ?it/s]\n"
     ]
    },
    {
     "name": "stdout",
     "output_type": "stream",
     "text": [
      "Computing recommendations for : 4\n"
     ]
    },
    {
     "name": "stderr",
     "output_type": "stream",
     "text": [
      "0it [00:00, ?it/s]\n"
     ]
    },
    {
     "name": "stdout",
     "output_type": "stream",
     "text": [
      "Computing recommendations for : 16\n"
     ]
    },
    {
     "name": "stderr",
     "output_type": "stream",
     "text": [
      "0it [00:00, ?it/s]\n"
     ]
    },
    {
     "name": "stdout",
     "output_type": "stream",
     "text": [
      "Computing recommendations for : 1\n"
     ]
    },
    {
     "name": "stderr",
     "output_type": "stream",
     "text": [
      "0it [00:00, ?it/s]\n"
     ]
    },
    {
     "name": "stdout",
     "output_type": "stream",
     "text": [
      "finishing evaluation....\n"
     ]
    },
    {
     "data": {
      "application/vnd.jupyter.widget-view+json": {
       "model_id": "f05f0b4c85544afc81585226e43f5896",
       "version_major": 2,
       "version_minor": 0
      },
      "text/plain": [
       "  0%|          | 0/10 [00:00<?, ?it/s]"
      ]
     },
     "metadata": {},
     "output_type": "display_data"
    },
    {
     "data": {
      "text/plain": [
       "0.0"
      ]
     },
     "execution_count": 9,
     "metadata": {},
     "output_type": "execute_result"
    }
   ],
   "source": [
    "evaluate = Train_Test_Split_Plain(CF, min_ref_limit=5, train_size=0.5)\n",
    "evaluate.fit(data)"
   ]
  },
  {
   "cell_type": "code",
   "execution_count": 10,
   "id": "f61c2478-3be2-48ec-a7ed-1ffe347fa43f",
   "metadata": {},
   "outputs": [
    {
     "name": "stdout",
     "output_type": "stream",
     "text": [
      "The following doi's are ignored because of low reference :\n",
      "{}\n",
      "writing citation pairs....\n"
     ]
    },
    {
     "data": {
      "application/vnd.jupyter.widget-view+json": {
       "model_id": "f09e2985ba9e4db3b7fe313a0ba17593",
       "version_major": 2,
       "version_minor": 0
      },
      "text/plain": [
       "  0%|          | 0/20 [00:00<?, ?it/s]"
      ]
     },
     "metadata": {},
     "output_type": "display_data"
    },
    {
     "name": "stdout",
     "output_type": "stream",
     "text": [
      "removing the indexes with no citations....\n",
      "page rank normalization on dataframe....\n"
     ]
    },
    {
     "name": "stderr",
     "output_type": "stream",
     "text": [
      "100%|█████████████████████████████████████████| 20/20 [00:00<00:00, 5485.62it/s]\n"
     ]
    },
    {
     "name": "stdout",
     "output_type": "stream",
     "text": [
      "creating similarity matrix....\n"
     ]
    },
    {
     "name": "stderr",
     "output_type": "stream",
     "text": [
      "100%|█████████████████████████████████████████| 109/109 [00:01<00:00, 77.57it/s]\n"
     ]
    },
    {
     "name": "stdout",
     "output_type": "stream",
     "text": [
      "normalizing the similarity matrix....\n"
     ]
    },
    {
     "name": "stderr",
     "output_type": "stream",
     "text": [
      "100%|███████████████████████████████████████| 109/109 [00:00<00:00, 4218.57it/s]\n"
     ]
    },
    {
     "name": "stdout",
     "output_type": "stream",
     "text": [
      "Computing recommendations for : 9\n"
     ]
    },
    {
     "name": "stderr",
     "output_type": "stream",
     "text": [
      "0it [00:00, ?it/s]\n"
     ]
    },
    {
     "name": "stdout",
     "output_type": "stream",
     "text": [
      "Computing recommendations for : 2\n"
     ]
    },
    {
     "name": "stderr",
     "output_type": "stream",
     "text": [
      "100%|████████████████████████████████████████████| 2/2 [00:00<00:00, 181.85it/s]\n"
     ]
    },
    {
     "name": "stdout",
     "output_type": "stream",
     "text": [
      "Computing recommendations for : 3\n"
     ]
    },
    {
     "name": "stderr",
     "output_type": "stream",
     "text": [
      "100%|████████████████████████████████████████████| 2/2 [00:00<00:00, 181.58it/s]\n"
     ]
    },
    {
     "name": "stdout",
     "output_type": "stream",
     "text": [
      "Computing recommendations for : 20\n"
     ]
    },
    {
     "name": "stderr",
     "output_type": "stream",
     "text": [
      "100%|████████████████████████████████████████████| 1/1 [00:00<00:00, 182.74it/s]\n"
     ]
    },
    {
     "name": "stdout",
     "output_type": "stream",
     "text": [
      "Computing recommendations for : 11\n"
     ]
    },
    {
     "name": "stderr",
     "output_type": "stream",
     "text": [
      "0it [00:00, ?it/s]\n"
     ]
    },
    {
     "name": "stdout",
     "output_type": "stream",
     "text": [
      "Computing recommendations for : 5\n"
     ]
    },
    {
     "name": "stderr",
     "output_type": "stream",
     "text": [
      "0it [00:00, ?it/s]\n"
     ]
    },
    {
     "name": "stdout",
     "output_type": "stream",
     "text": [
      "Computing recommendations for : 13\n"
     ]
    },
    {
     "name": "stderr",
     "output_type": "stream",
     "text": [
      "100%|████████████████████████████████████████████| 3/3 [00:00<00:00, 179.40it/s]\n"
     ]
    },
    {
     "name": "stdout",
     "output_type": "stream",
     "text": [
      "Computing recommendations for : 4\n"
     ]
    },
    {
     "name": "stderr",
     "output_type": "stream",
     "text": [
      "0it [00:00, ?it/s]\n"
     ]
    },
    {
     "name": "stdout",
     "output_type": "stream",
     "text": [
      "Computing recommendations for : 16\n"
     ]
    },
    {
     "name": "stderr",
     "output_type": "stream",
     "text": [
      "100%|████████████████████████████████████████████| 2/2 [00:00<00:00, 180.36it/s]\n"
     ]
    },
    {
     "name": "stdout",
     "output_type": "stream",
     "text": [
      "Computing recommendations for : 1\n"
     ]
    },
    {
     "name": "stderr",
     "output_type": "stream",
     "text": [
      "100%|████████████████████████████████████████████| 2/2 [00:00<00:00, 179.87it/s]"
     ]
    },
    {
     "name": "stdout",
     "output_type": "stream",
     "text": [
      "finishing evaluation....\n"
     ]
    },
    {
     "name": "stderr",
     "output_type": "stream",
     "text": [
      "\n"
     ]
    },
    {
     "data": {
      "application/vnd.jupyter.widget-view+json": {
       "model_id": "42466c8ba83f4d83bba7c744c7f50bb4",
       "version_major": 2,
       "version_minor": 0
      },
      "text/plain": [
       "  0%|          | 0/10 [00:00<?, ?it/s]"
      ]
     },
     "metadata": {},
     "output_type": "display_data"
    },
    {
     "data": {
      "text/plain": [
       "0.2995631807125634"
      ]
     },
     "execution_count": 10,
     "metadata": {},
     "output_type": "execute_result"
    }
   ],
   "source": [
    "evaluate = Train_Test_Split_Plain(CFUPR, min_ref_limit=5, train_size=0.5, normalize_similarity=True)\n",
    "evaluate.fit(data)"
   ]
  },
  {
   "cell_type": "code",
   "execution_count": 14,
   "id": "292008ec-7672-4c36-95c2-1d4dd97cc87a",
   "metadata": {},
   "outputs": [
    {
     "name": "stdout",
     "output_type": "stream",
     "text": [
      "The following doi's are ignored because of low reference :\n",
      "{'204': 4,\n",
      " '205': 3,\n",
      " '208': 3,\n",
      " '212': 3,\n",
      " '223': 4,\n",
      " '228': 4,\n",
      " '238': 4,\n",
      " '242': 4,\n",
      " '265': 3,\n",
      " '266': 4,\n",
      " '277': 4,\n",
      " '279': 4,\n",
      " '290': 4}\n",
      "writing citation pairs....\n"
     ]
    },
    {
     "data": {
      "application/vnd.jupyter.widget-view+json": {
       "model_id": "5923dacf99cb4905865babea8a1b7f60",
       "version_major": 2,
       "version_minor": 0
      },
      "text/plain": [
       "  0%|          | 0/207 [00:00<?, ?it/s]"
      ]
     },
     "metadata": {},
     "output_type": "display_data"
    },
    {
     "name": "stdout",
     "output_type": "stream",
     "text": [
      "removing the indexes with no citations....\n",
      "Deleting :  298\n",
      "Deleting :  289\n",
      "Deleting :  218\n",
      "Deleting :  262\n",
      "Deleting :  256\n",
      "Deleting :  284\n",
      "Deleting :  255\n",
      "Deleting :  280\n",
      "Deleting :  251\n",
      "Deleting :  231\n",
      "page rank normalization on dataframe....\n"
     ]
    },
    {
     "name": "stderr",
     "output_type": "stream",
     "text": [
      "100%|███████████████████████████████████████| 197/197 [00:00<00:00, 5548.69it/s]\n"
     ]
    },
    {
     "name": "stdout",
     "output_type": "stream",
     "text": [
      "creating similarity matrix....\n"
     ]
    },
    {
     "name": "stderr",
     "output_type": "stream",
     "text": [
      "100%|█████████████████████████████████████████| 120/120 [00:01<00:00, 67.58it/s]\n"
     ]
    },
    {
     "name": "stdout",
     "output_type": "stream",
     "text": [
      "normalizing the similarity matrix....\n"
     ]
    },
    {
     "name": "stderr",
     "output_type": "stream",
     "text": [
      "100%|███████████████████████████████████████| 120/120 [00:00<00:00, 4026.69it/s]\n"
     ]
    },
    {
     "name": "stdout",
     "output_type": "stream",
     "text": [
      "['1' '2' '3' '4' '5' '6' '7' '8' '9' '10' '11' '12' '13' '14' '15' '16'\n",
      " '17' '18' '19' '20' '432' '488' '486' '484' '419' '438' '454' '418' '410'\n",
      " '490' '477' '423' '412' '442' '406' '460' '447' '437' '449' '482' '499'\n",
      " '448' '408' '453' '497' '461' '434' '491' '498' '480' '471' '422' '407'\n",
      " '439' '405' '462' '445' '466' '436' '473' '409' '451' '468' '430' '431'\n",
      " '464' '470' '400' '426' '416' '493' '203' '200' '202' '495' '443' '248'\n",
      " '209' '297' '226' '245' '414' '234' '269' '479' '273' '210' '270' '452'\n",
      " '283' '217' '403' '465' '292' '278' '230' '249' '216' '220' '429' '207'\n",
      " '219' '233' '411' '250' '469' '232' '474' '281' '254' '287' '247' '263'\n",
      " '417' '288' '299' '296' '475' '494' '458' '275' '222' '404' '476' '467'\n",
      " '463' '291' '496' '450' '295' '487' '440' '481' '261' '294' '472' '267'\n",
      " '227' '415' '206' '241' '489' '224' '214' '282' '243' '244' '215' '235'\n",
      " '246' '274' '253' '402' '229' '433' '420' '435' '268' '264' '259' '444'\n",
      " '272' '258' '237' '485' '211' '285' '401' '201' '257' '455' '457' '252'\n",
      " '446' '483' '276' '240' '428' '456' '221' '421' '424' '239' '293' '225'\n",
      " '271' '441' '425' '478' '413' '213' '260' '427' '236' '459' '286' '492']\n"
     ]
    },
    {
     "name": "stderr",
     "output_type": "stream",
     "text": [
      "100%|██████████████████████████████████████████| 12/12 [00:00<00:00, 182.83it/s]\n"
     ]
    },
    {
     "name": "stdout",
     "output_type": "stream",
     "text": [
      "['1' '2' '3' '4' '5' '6' '7' '8' '9' '10' '11' '12' '13' '14' '15' '16'\n",
      " '17' '18' '19' '20' '432' '488' '486' '484' '419' '438' '454' '418' '410'\n",
      " '490' '477' '423' '412' '442' '406' '460' '447' '437' '449' '482' '499'\n",
      " '448' '408' '453' '497' '461' '434' '491' '498' '480' '471' '422' '407'\n",
      " '439' '405' '462' '445' '466' '436' '473' '409' '451' '468' '430' '431'\n",
      " '464' '470' '400' '426' '416' '493' '203' '200' '202' '495' '443' '248'\n",
      " '209' '297' '226' '245' '414' '234' '269' '479' '273' '210' '270' '452'\n",
      " '283' '217' '403' '465' '292' '278' '230' '249' '216' '220' '429' '207'\n",
      " '219' '233' '411' '250' '469' '232' '474' '281' '254' '287' '247' '263'\n",
      " '417' '288' '299' '296' '475' '494' '458' '275' '222' '404' '476' '467'\n",
      " '463' '291' '496' '450' '295' '487' '440' '481' '261' '294' '472' '267'\n",
      " '227' '415' '206' '241' '489' '224' '214' '282' '243' '244' '215' '235'\n",
      " '246' '274' '253' '402' '229' '433' '420' '435' '268' '264' '259' '444'\n",
      " '272' '258' '237' '485' '211' '285' '401' '201' '257' '455' '457' '252'\n",
      " '446' '483' '276' '240' '428' '456' '221' '421' '424' '239' '293' '225'\n",
      " '271' '441' '425' '478' '413' '213' '260' '427' '236' '459' '286' '492']\n"
     ]
    },
    {
     "name": "stderr",
     "output_type": "stream",
     "text": [
      "100%|█████████████████████████████████████████| 20/20 [00:00<00:00, 4052.86it/s]\n"
     ]
    },
    {
     "name": "stdout",
     "output_type": "stream",
     "text": [
      "['1' '2' '3' '4' '5' '6' '7' '8' '9' '10' '11' '12' '13' '14' '15' '16'\n",
      " '17' '18' '19' '20' '432' '488' '486' '484' '419' '438' '454' '418' '410'\n",
      " '490' '477' '423' '412' '442' '406' '460' '447' '437' '449' '482' '499'\n",
      " '448' '408' '453' '497' '461' '434' '491' '498' '480' '471' '422' '407'\n",
      " '439' '405' '462' '445' '466' '436' '473' '409' '451' '468' '430' '431'\n",
      " '464' '470' '400' '426' '416' '493' '203' '200' '202' '495' '443' '248'\n",
      " '209' '297' '226' '245' '414' '234' '269' '479' '273' '210' '270' '452'\n",
      " '283' '217' '403' '465' '292' '278' '230' '249' '216' '220' '429' '207'\n",
      " '219' '233' '411' '250' '469' '232' '474' '281' '254' '287' '247' '263'\n",
      " '417' '288' '299' '296' '475' '494' '458' '275' '222' '404' '476' '467'\n",
      " '463' '291' '496' '450' '295' '487' '440' '481' '261' '294' '472' '267'\n",
      " '227' '415' '206' '241' '489' '224' '214' '282' '243' '244' '215' '235'\n",
      " '246' '274' '253' '402' '229' '433' '420' '435' '268' '264' '259' '444'\n",
      " '272' '258' '237' '485' '211' '285' '401' '201' '257' '455' '457' '252'\n",
      " '446' '483' '276' '240' '428' '456' '221' '421' '424' '239' '293' '225'\n",
      " '271' '441' '425' '478' '413' '213' '260' '427' '236' '459' '286' '492']\n"
     ]
    },
    {
     "name": "stderr",
     "output_type": "stream",
     "text": [
      "100%|█████████████████████████████████████████| 20/20 [00:00<00:00, 5596.14it/s]\n"
     ]
    },
    {
     "name": "stdout",
     "output_type": "stream",
     "text": [
      "['1' '2' '3' '4' '5' '6' '7' '8' '9' '10' '11' '12' '13' '14' '15' '16'\n",
      " '17' '18' '19' '20' '432' '488' '486' '484' '419' '438' '454' '418' '410'\n",
      " '490' '477' '423' '412' '442' '406' '460' '447' '437' '449' '482' '499'\n",
      " '448' '408' '453' '497' '461' '434' '491' '498' '480' '471' '422' '407'\n",
      " '439' '405' '462' '445' '466' '436' '473' '409' '451' '468' '430' '431'\n",
      " '464' '470' '400' '426' '416' '493' '203' '200' '202' '495' '443' '248'\n",
      " '209' '297' '226' '245' '414' '234' '269' '479' '273' '210' '270' '452'\n",
      " '283' '217' '403' '465' '292' '278' '230' '249' '216' '220' '429' '207'\n",
      " '219' '233' '411' '250' '469' '232' '474' '281' '254' '287' '247' '263'\n",
      " '417' '288' '299' '296' '475' '494' '458' '275' '222' '404' '476' '467'\n",
      " '463' '291' '496' '450' '295' '487' '440' '481' '261' '294' '472' '267'\n",
      " '227' '415' '206' '241' '489' '224' '214' '282' '243' '244' '215' '235'\n",
      " '246' '274' '253' '402' '229' '433' '420' '435' '268' '264' '259' '444'\n",
      " '272' '258' '237' '485' '211' '285' '401' '201' '257' '455' '457' '252'\n",
      " '446' '483' '276' '240' '428' '456' '221' '421' '424' '239' '293' '225'\n",
      " '271' '441' '425' '478' '413' '213' '260' '427' '236' '459' '286' '492']\n"
     ]
    },
    {
     "name": "stderr",
     "output_type": "stream",
     "text": [
      "0it [00:00, ?it/s]\n"
     ]
    },
    {
     "name": "stdout",
     "output_type": "stream",
     "text": [
      "['1' '2' '3' '4' '5' '6' '7' '8' '9' '10' '11' '12' '13' '14' '15' '16'\n",
      " '17' '18' '19' '20' '432' '488' '486' '484' '419' '438' '454' '418' '410'\n",
      " '490' '477' '423' '412' '442' '406' '460' '447' '437' '449' '482' '499'\n",
      " '448' '408' '453' '497' '461' '434' '491' '498' '480' '471' '422' '407'\n",
      " '439' '405' '462' '445' '466' '436' '473' '409' '451' '468' '430' '431'\n",
      " '464' '470' '400' '426' '416' '493' '203' '200' '202' '495' '443' '248'\n",
      " '209' '297' '226' '245' '414' '234' '269' '479' '273' '210' '270' '452'\n",
      " '283' '217' '403' '465' '292' '278' '230' '249' '216' '220' '429' '207'\n",
      " '219' '233' '411' '250' '469' '232' '474' '281' '254' '287' '247' '263'\n",
      " '417' '288' '299' '296' '475' '494' '458' '275' '222' '404' '476' '467'\n",
      " '463' '291' '496' '450' '295' '487' '440' '481' '261' '294' '472' '267'\n",
      " '227' '415' '206' '241' '489' '224' '214' '282' '243' '244' '215' '235'\n",
      " '246' '274' '253' '402' '229' '433' '420' '435' '268' '264' '259' '444'\n",
      " '272' '258' '237' '485' '211' '285' '401' '201' '257' '455' '457' '252'\n",
      " '446' '483' '276' '240' '428' '456' '221' '421' '424' '239' '293' '225'\n",
      " '271' '441' '425' '478' '413' '213' '260' '427' '236' '459' '286' '492']\n"
     ]
    },
    {
     "name": "stderr",
     "output_type": "stream",
     "text": [
      "0it [00:00, ?it/s]\n"
     ]
    },
    {
     "name": "stdout",
     "output_type": "stream",
     "text": [
      "['1' '2' '3' '4' '5' '6' '7' '8' '9' '10' '11' '12' '13' '14' '15' '16'\n",
      " '17' '18' '19' '20' '432' '488' '486' '484' '419' '438' '454' '418' '410'\n",
      " '490' '477' '423' '412' '442' '406' '460' '447' '437' '449' '482' '499'\n",
      " '448' '408' '453' '497' '461' '434' '491' '498' '480' '471' '422' '407'\n",
      " '439' '405' '462' '445' '466' '436' '473' '409' '451' '468' '430' '431'\n",
      " '464' '470' '400' '426' '416' '493' '203' '200' '202' '495' '443' '248'\n",
      " '209' '297' '226' '245' '414' '234' '269' '479' '273' '210' '270' '452'\n",
      " '283' '217' '403' '465' '292' '278' '230' '249' '216' '220' '429' '207'\n",
      " '219' '233' '411' '250' '469' '232' '474' '281' '254' '287' '247' '263'\n",
      " '417' '288' '299' '296' '475' '494' '458' '275' '222' '404' '476' '467'\n",
      " '463' '291' '496' '450' '295' '487' '440' '481' '261' '294' '472' '267'\n",
      " '227' '415' '206' '241' '489' '224' '214' '282' '243' '244' '215' '235'\n",
      " '246' '274' '253' '402' '229' '433' '420' '435' '268' '264' '259' '444'\n",
      " '272' '258' '237' '485' '211' '285' '401' '201' '257' '455' '457' '252'\n",
      " '446' '483' '276' '240' '428' '456' '221' '421' '424' '239' '293' '225'\n",
      " '271' '441' '425' '478' '413' '213' '260' '427' '236' '459' '286' '492']\n"
     ]
    },
    {
     "name": "stderr",
     "output_type": "stream",
     "text": [
      "100%|█████████████████████████████████████████| 20/20 [00:00<00:00, 4997.38it/s]\n"
     ]
    },
    {
     "name": "stdout",
     "output_type": "stream",
     "text": [
      "['1' '2' '3' '4' '5' '6' '7' '8' '9' '10' '11' '12' '13' '14' '15' '16'\n",
      " '17' '18' '19' '20' '432' '488' '486' '484' '419' '438' '454' '418' '410'\n",
      " '490' '477' '423' '412' '442' '406' '460' '447' '437' '449' '482' '499'\n",
      " '448' '408' '453' '497' '461' '434' '491' '498' '480' '471' '422' '407'\n",
      " '439' '405' '462' '445' '466' '436' '473' '409' '451' '468' '430' '431'\n",
      " '464' '470' '400' '426' '416' '493' '203' '200' '202' '495' '443' '248'\n",
      " '209' '297' '226' '245' '414' '234' '269' '479' '273' '210' '270' '452'\n",
      " '283' '217' '403' '465' '292' '278' '230' '249' '216' '220' '429' '207'\n",
      " '219' '233' '411' '250' '469' '232' '474' '281' '254' '287' '247' '263'\n",
      " '417' '288' '299' '296' '475' '494' '458' '275' '222' '404' '476' '467'\n",
      " '463' '291' '496' '450' '295' '487' '440' '481' '261' '294' '472' '267'\n",
      " '227' '415' '206' '241' '489' '224' '214' '282' '243' '244' '215' '235'\n",
      " '246' '274' '253' '402' '229' '433' '420' '435' '268' '264' '259' '444'\n",
      " '272' '258' '237' '485' '211' '285' '401' '201' '257' '455' '457' '252'\n",
      " '446' '483' '276' '240' '428' '456' '221' '421' '424' '239' '293' '225'\n",
      " '271' '441' '425' '478' '413' '213' '260' '427' '236' '459' '286' '492']\n"
     ]
    },
    {
     "name": "stderr",
     "output_type": "stream",
     "text": [
      "100%|█████████████████████████████████████████| 20/20 [00:00<00:00, 2972.68it/s]\n"
     ]
    },
    {
     "name": "stdout",
     "output_type": "stream",
     "text": [
      "['1' '2' '3' '4' '5' '6' '7' '8' '9' '10' '11' '12' '13' '14' '15' '16'\n",
      " '17' '18' '19' '20' '432' '488' '486' '484' '419' '438' '454' '418' '410'\n",
      " '490' '477' '423' '412' '442' '406' '460' '447' '437' '449' '482' '499'\n",
      " '448' '408' '453' '497' '461' '434' '491' '498' '480' '471' '422' '407'\n",
      " '439' '405' '462' '445' '466' '436' '473' '409' '451' '468' '430' '431'\n",
      " '464' '470' '400' '426' '416' '493' '203' '200' '202' '495' '443' '248'\n",
      " '209' '297' '226' '245' '414' '234' '269' '479' '273' '210' '270' '452'\n",
      " '283' '217' '403' '465' '292' '278' '230' '249' '216' '220' '429' '207'\n",
      " '219' '233' '411' '250' '469' '232' '474' '281' '254' '287' '247' '263'\n",
      " '417' '288' '299' '296' '475' '494' '458' '275' '222' '404' '476' '467'\n",
      " '463' '291' '496' '450' '295' '487' '440' '481' '261' '294' '472' '267'\n",
      " '227' '415' '206' '241' '489' '224' '214' '282' '243' '244' '215' '235'\n",
      " '246' '274' '253' '402' '229' '433' '420' '435' '268' '264' '259' '444'\n",
      " '272' '258' '237' '485' '211' '285' '401' '201' '257' '455' '457' '252'\n",
      " '446' '483' '276' '240' '428' '456' '221' '421' '424' '239' '293' '225'\n",
      " '271' '441' '425' '478' '413' '213' '260' '427' '236' '459' '286' '492']\n"
     ]
    },
    {
     "name": "stderr",
     "output_type": "stream",
     "text": [
      "0it [00:00, ?it/s]\n"
     ]
    },
    {
     "name": "stdout",
     "output_type": "stream",
     "text": [
      "['1' '2' '3' '4' '5' '6' '7' '8' '9' '10' '11' '12' '13' '14' '15' '16'\n",
      " '17' '18' '19' '20' '432' '488' '486' '484' '419' '438' '454' '418' '410'\n",
      " '490' '477' '423' '412' '442' '406' '460' '447' '437' '449' '482' '499'\n",
      " '448' '408' '453' '497' '461' '434' '491' '498' '480' '471' '422' '407'\n",
      " '439' '405' '462' '445' '466' '436' '473' '409' '451' '468' '430' '431'\n",
      " '464' '470' '400' '426' '416' '493' '203' '200' '202' '495' '443' '248'\n",
      " '209' '297' '226' '245' '414' '234' '269' '479' '273' '210' '270' '452'\n",
      " '283' '217' '403' '465' '292' '278' '230' '249' '216' '220' '429' '207'\n",
      " '219' '233' '411' '250' '469' '232' '474' '281' '254' '287' '247' '263'\n",
      " '417' '288' '299' '296' '475' '494' '458' '275' '222' '404' '476' '467'\n",
      " '463' '291' '496' '450' '295' '487' '440' '481' '261' '294' '472' '267'\n",
      " '227' '415' '206' '241' '489' '224' '214' '282' '243' '244' '215' '235'\n",
      " '246' '274' '253' '402' '229' '433' '420' '435' '268' '264' '259' '444'\n",
      " '272' '258' '237' '485' '211' '285' '401' '201' '257' '455' '457' '252'\n",
      " '446' '483' '276' '240' '428' '456' '221' '421' '424' '239' '293' '225'\n",
      " '271' '441' '425' '478' '413' '213' '260' '427' '236' '459' '286' '492']\n"
     ]
    },
    {
     "name": "stderr",
     "output_type": "stream",
     "text": [
      "100%|██████████████████████████████████████████| 12/12 [00:00<00:00, 177.90it/s]\n"
     ]
    },
    {
     "name": "stdout",
     "output_type": "stream",
     "text": [
      "['1' '2' '3' '4' '5' '6' '7' '8' '9' '10' '11' '12' '13' '14' '15' '16'\n",
      " '17' '18' '19' '20' '432' '488' '486' '484' '419' '438' '454' '418' '410'\n",
      " '490' '477' '423' '412' '442' '406' '460' '447' '437' '449' '482' '499'\n",
      " '448' '408' '453' '497' '461' '434' '491' '498' '480' '471' '422' '407'\n",
      " '439' '405' '462' '445' '466' '436' '473' '409' '451' '468' '430' '431'\n",
      " '464' '470' '400' '426' '416' '493' '203' '200' '202' '495' '443' '248'\n",
      " '209' '297' '226' '245' '414' '234' '269' '479' '273' '210' '270' '452'\n",
      " '283' '217' '403' '465' '292' '278' '230' '249' '216' '220' '429' '207'\n",
      " '219' '233' '411' '250' '469' '232' '474' '281' '254' '287' '247' '263'\n",
      " '417' '288' '299' '296' '475' '494' '458' '275' '222' '404' '476' '467'\n",
      " '463' '291' '496' '450' '295' '487' '440' '481' '261' '294' '472' '267'\n",
      " '227' '415' '206' '241' '489' '224' '214' '282' '243' '244' '215' '235'\n",
      " '246' '274' '253' '402' '229' '433' '420' '435' '268' '264' '259' '444'\n",
      " '272' '258' '237' '485' '211' '285' '401' '201' '257' '455' '457' '252'\n",
      " '446' '483' '276' '240' '428' '456' '221' '421' '424' '239' '293' '225'\n",
      " '271' '441' '425' '478' '413' '213' '260' '427' '236' '459' '286' '492']\n"
     ]
    },
    {
     "name": "stderr",
     "output_type": "stream",
     "text": [
      "0it [00:00, ?it/s]\n"
     ]
    },
    {
     "name": "stdout",
     "output_type": "stream",
     "text": [
      "['1' '2' '3' '4' '5' '6' '7' '8' '9' '10' '11' '12' '13' '14' '15' '16'\n",
      " '17' '18' '19' '20' '432' '488' '486' '484' '419' '438' '454' '418' '410'\n",
      " '490' '477' '423' '412' '442' '406' '460' '447' '437' '449' '482' '499'\n",
      " '448' '408' '453' '497' '461' '434' '491' '498' '480' '471' '422' '407'\n",
      " '439' '405' '462' '445' '466' '436' '473' '409' '451' '468' '430' '431'\n",
      " '464' '470' '400' '426' '416' '493' '203' '200' '202' '495' '443' '248'\n",
      " '209' '297' '226' '245' '414' '234' '269' '479' '273' '210' '270' '452'\n",
      " '283' '217' '403' '465' '292' '278' '230' '249' '216' '220' '429' '207'\n",
      " '219' '233' '411' '250' '469' '232' '474' '281' '254' '287' '247' '263'\n",
      " '417' '288' '299' '296' '475' '494' '458' '275' '222' '404' '476' '467'\n",
      " '463' '291' '496' '450' '295' '487' '440' '481' '261' '294' '472' '267'\n",
      " '227' '415' '206' '241' '489' '224' '214' '282' '243' '244' '215' '235'\n",
      " '246' '274' '253' '402' '229' '433' '420' '435' '268' '264' '259' '444'\n",
      " '272' '258' '237' '485' '211' '285' '401' '201' '257' '455' '457' '252'\n",
      " '446' '483' '276' '240' '428' '456' '221' '421' '424' '239' '293' '225'\n",
      " '271' '441' '425' '478' '413' '213' '260' '427' '236' '459' '286' '492']\n"
     ]
    },
    {
     "name": "stderr",
     "output_type": "stream",
     "text": [
      "0it [00:00, ?it/s]\n"
     ]
    },
    {
     "name": "stdout",
     "output_type": "stream",
     "text": [
      "['1' '2' '3' '4' '5' '6' '7' '8' '9' '10' '11' '12' '13' '14' '15' '16'\n",
      " '17' '18' '19' '20' '432' '488' '486' '484' '419' '438' '454' '418' '410'\n",
      " '490' '477' '423' '412' '442' '406' '460' '447' '437' '449' '482' '499'\n",
      " '448' '408' '453' '497' '461' '434' '491' '498' '480' '471' '422' '407'\n",
      " '439' '405' '462' '445' '466' '436' '473' '409' '451' '468' '430' '431'\n",
      " '464' '470' '400' '426' '416' '493' '203' '200' '202' '495' '443' '248'\n",
      " '209' '297' '226' '245' '414' '234' '269' '479' '273' '210' '270' '452'\n",
      " '283' '217' '403' '465' '292' '278' '230' '249' '216' '220' '429' '207'\n",
      " '219' '233' '411' '250' '469' '232' '474' '281' '254' '287' '247' '263'\n",
      " '417' '288' '299' '296' '475' '494' '458' '275' '222' '404' '476' '467'\n",
      " '463' '291' '496' '450' '295' '487' '440' '481' '261' '294' '472' '267'\n",
      " '227' '415' '206' '241' '489' '224' '214' '282' '243' '244' '215' '235'\n",
      " '246' '274' '253' '402' '229' '433' '420' '435' '268' '264' '259' '444'\n",
      " '272' '258' '237' '485' '211' '285' '401' '201' '257' '455' '457' '252'\n",
      " '446' '483' '276' '240' '428' '456' '221' '421' '424' '239' '293' '225'\n",
      " '271' '441' '425' '478' '413' '213' '260' '427' '236' '459' '286' '492']\n"
     ]
    },
    {
     "name": "stderr",
     "output_type": "stream",
     "text": [
      "100%|█████████████████████████████████████████| 19/19 [00:00<00:00, 7683.36it/s]\n"
     ]
    },
    {
     "name": "stdout",
     "output_type": "stream",
     "text": [
      "['1' '2' '3' '4' '5' '6' '7' '8' '9' '10' '11' '12' '13' '14' '15' '16'\n",
      " '17' '18' '19' '20' '432' '488' '486' '484' '419' '438' '454' '418' '410'\n",
      " '490' '477' '423' '412' '442' '406' '460' '447' '437' '449' '482' '499'\n",
      " '448' '408' '453' '497' '461' '434' '491' '498' '480' '471' '422' '407'\n",
      " '439' '405' '462' '445' '466' '436' '473' '409' '451' '468' '430' '431'\n",
      " '464' '470' '400' '426' '416' '493' '203' '200' '202' '495' '443' '248'\n",
      " '209' '297' '226' '245' '414' '234' '269' '479' '273' '210' '270' '452'\n",
      " '283' '217' '403' '465' '292' '278' '230' '249' '216' '220' '429' '207'\n",
      " '219' '233' '411' '250' '469' '232' '474' '281' '254' '287' '247' '263'\n",
      " '417' '288' '299' '296' '475' '494' '458' '275' '222' '404' '476' '467'\n",
      " '463' '291' '496' '450' '295' '487' '440' '481' '261' '294' '472' '267'\n",
      " '227' '415' '206' '241' '489' '224' '214' '282' '243' '244' '215' '235'\n",
      " '246' '274' '253' '402' '229' '433' '420' '435' '268' '264' '259' '444'\n",
      " '272' '258' '237' '485' '211' '285' '401' '201' '257' '455' '457' '252'\n",
      " '446' '483' '276' '240' '428' '456' '221' '421' '424' '239' '293' '225'\n",
      " '271' '441' '425' '478' '413' '213' '260' '427' '236' '459' '286' '492']\n"
     ]
    },
    {
     "name": "stderr",
     "output_type": "stream",
     "text": [
      "0it [00:00, ?it/s]\n"
     ]
    },
    {
     "name": "stdout",
     "output_type": "stream",
     "text": [
      "['1' '2' '3' '4' '5' '6' '7' '8' '9' '10' '11' '12' '13' '14' '15' '16'\n",
      " '17' '18' '19' '20' '432' '488' '486' '484' '419' '438' '454' '418' '410'\n",
      " '490' '477' '423' '412' '442' '406' '460' '447' '437' '449' '482' '499'\n",
      " '448' '408' '453' '497' '461' '434' '491' '498' '480' '471' '422' '407'\n",
      " '439' '405' '462' '445' '466' '436' '473' '409' '451' '468' '430' '431'\n",
      " '464' '470' '400' '426' '416' '493' '203' '200' '202' '495' '443' '248'\n",
      " '209' '297' '226' '245' '414' '234' '269' '479' '273' '210' '270' '452'\n",
      " '283' '217' '403' '465' '292' '278' '230' '249' '216' '220' '429' '207'\n",
      " '219' '233' '411' '250' '469' '232' '474' '281' '254' '287' '247' '263'\n",
      " '417' '288' '299' '296' '475' '494' '458' '275' '222' '404' '476' '467'\n",
      " '463' '291' '496' '450' '295' '487' '440' '481' '261' '294' '472' '267'\n",
      " '227' '415' '206' '241' '489' '224' '214' '282' '243' '244' '215' '235'\n",
      " '246' '274' '253' '402' '229' '433' '420' '435' '268' '264' '259' '444'\n",
      " '272' '258' '237' '485' '211' '285' '401' '201' '257' '455' '457' '252'\n",
      " '446' '483' '276' '240' '428' '456' '221' '421' '424' '239' '293' '225'\n",
      " '271' '441' '425' '478' '413' '213' '260' '427' '236' '459' '286' '492']\n"
     ]
    },
    {
     "name": "stderr",
     "output_type": "stream",
     "text": [
      "0it [00:00, ?it/s]\n"
     ]
    },
    {
     "name": "stdout",
     "output_type": "stream",
     "text": [
      "['1' '2' '3' '4' '5' '6' '7' '8' '9' '10' '11' '12' '13' '14' '15' '16'\n",
      " '17' '18' '19' '20' '432' '488' '486' '484' '419' '438' '454' '418' '410'\n",
      " '490' '477' '423' '412' '442' '406' '460' '447' '437' '449' '482' '499'\n",
      " '448' '408' '453' '497' '461' '434' '491' '498' '480' '471' '422' '407'\n",
      " '439' '405' '462' '445' '466' '436' '473' '409' '451' '468' '430' '431'\n",
      " '464' '470' '400' '426' '416' '493' '203' '200' '202' '495' '443' '248'\n",
      " '209' '297' '226' '245' '414' '234' '269' '479' '273' '210' '270' '452'\n",
      " '283' '217' '403' '465' '292' '278' '230' '249' '216' '220' '429' '207'\n",
      " '219' '233' '411' '250' '469' '232' '474' '281' '254' '287' '247' '263'\n",
      " '417' '288' '299' '296' '475' '494' '458' '275' '222' '404' '476' '467'\n",
      " '463' '291' '496' '450' '295' '487' '440' '481' '261' '294' '472' '267'\n",
      " '227' '415' '206' '241' '489' '224' '214' '282' '243' '244' '215' '235'\n",
      " '246' '274' '253' '402' '229' '433' '420' '435' '268' '264' '259' '444'\n",
      " '272' '258' '237' '485' '211' '285' '401' '201' '257' '455' '457' '252'\n",
      " '446' '483' '276' '240' '428' '456' '221' '421' '424' '239' '293' '225'\n",
      " '271' '441' '425' '478' '413' '213' '260' '427' '236' '459' '286' '492']\n"
     ]
    },
    {
     "name": "stderr",
     "output_type": "stream",
     "text": [
      "0it [00:00, ?it/s]\n"
     ]
    },
    {
     "name": "stdout",
     "output_type": "stream",
     "text": [
      "['1' '2' '3' '4' '5' '6' '7' '8' '9' '10' '11' '12' '13' '14' '15' '16'\n",
      " '17' '18' '19' '20' '432' '488' '486' '484' '419' '438' '454' '418' '410'\n",
      " '490' '477' '423' '412' '442' '406' '460' '447' '437' '449' '482' '499'\n",
      " '448' '408' '453' '497' '461' '434' '491' '498' '480' '471' '422' '407'\n",
      " '439' '405' '462' '445' '466' '436' '473' '409' '451' '468' '430' '431'\n",
      " '464' '470' '400' '426' '416' '493' '203' '200' '202' '495' '443' '248'\n",
      " '209' '297' '226' '245' '414' '234' '269' '479' '273' '210' '270' '452'\n",
      " '283' '217' '403' '465' '292' '278' '230' '249' '216' '220' '429' '207'\n",
      " '219' '233' '411' '250' '469' '232' '474' '281' '254' '287' '247' '263'\n",
      " '417' '288' '299' '296' '475' '494' '458' '275' '222' '404' '476' '467'\n",
      " '463' '291' '496' '450' '295' '487' '440' '481' '261' '294' '472' '267'\n",
      " '227' '415' '206' '241' '489' '224' '214' '282' '243' '244' '215' '235'\n",
      " '246' '274' '253' '402' '229' '433' '420' '435' '268' '264' '259' '444'\n",
      " '272' '258' '237' '485' '211' '285' '401' '201' '257' '455' '457' '252'\n",
      " '446' '483' '276' '240' '428' '456' '221' '421' '424' '239' '293' '225'\n",
      " '271' '441' '425' '478' '413' '213' '260' '427' '236' '459' '286' '492']\n"
     ]
    },
    {
     "name": "stderr",
     "output_type": "stream",
     "text": [
      "100%|██████████████████████████████████████████| 12/12 [00:00<00:00, 182.79it/s]\n"
     ]
    },
    {
     "name": "stdout",
     "output_type": "stream",
     "text": [
      "['1' '2' '3' '4' '5' '6' '7' '8' '9' '10' '11' '12' '13' '14' '15' '16'\n",
      " '17' '18' '19' '20' '432' '488' '486' '484' '419' '438' '454' '418' '410'\n",
      " '490' '477' '423' '412' '442' '406' '460' '447' '437' '449' '482' '499'\n",
      " '448' '408' '453' '497' '461' '434' '491' '498' '480' '471' '422' '407'\n",
      " '439' '405' '462' '445' '466' '436' '473' '409' '451' '468' '430' '431'\n",
      " '464' '470' '400' '426' '416' '493' '203' '200' '202' '495' '443' '248'\n",
      " '209' '297' '226' '245' '414' '234' '269' '479' '273' '210' '270' '452'\n",
      " '283' '217' '403' '465' '292' '278' '230' '249' '216' '220' '429' '207'\n",
      " '219' '233' '411' '250' '469' '232' '474' '281' '254' '287' '247' '263'\n",
      " '417' '288' '299' '296' '475' '494' '458' '275' '222' '404' '476' '467'\n",
      " '463' '291' '496' '450' '295' '487' '440' '481' '261' '294' '472' '267'\n",
      " '227' '415' '206' '241' '489' '224' '214' '282' '243' '244' '215' '235'\n",
      " '246' '274' '253' '402' '229' '433' '420' '435' '268' '264' '259' '444'\n",
      " '272' '258' '237' '485' '211' '285' '401' '201' '257' '455' '457' '252'\n",
      " '446' '483' '276' '240' '428' '456' '221' '421' '424' '239' '293' '225'\n",
      " '271' '441' '425' '478' '413' '213' '260' '427' '236' '459' '286' '492']\n"
     ]
    },
    {
     "name": "stderr",
     "output_type": "stream",
     "text": [
      "0it [00:00, ?it/s]\n"
     ]
    },
    {
     "name": "stdout",
     "output_type": "stream",
     "text": [
      "['1' '2' '3' '4' '5' '6' '7' '8' '9' '10' '11' '12' '13' '14' '15' '16'\n",
      " '17' '18' '19' '20' '432' '488' '486' '484' '419' '438' '454' '418' '410'\n",
      " '490' '477' '423' '412' '442' '406' '460' '447' '437' '449' '482' '499'\n",
      " '448' '408' '453' '497' '461' '434' '491' '498' '480' '471' '422' '407'\n",
      " '439' '405' '462' '445' '466' '436' '473' '409' '451' '468' '430' '431'\n",
      " '464' '470' '400' '426' '416' '493' '203' '200' '202' '495' '443' '248'\n",
      " '209' '297' '226' '245' '414' '234' '269' '479' '273' '210' '270' '452'\n",
      " '283' '217' '403' '465' '292' '278' '230' '249' '216' '220' '429' '207'\n",
      " '219' '233' '411' '250' '469' '232' '474' '281' '254' '287' '247' '263'\n",
      " '417' '288' '299' '296' '475' '494' '458' '275' '222' '404' '476' '467'\n",
      " '463' '291' '496' '450' '295' '487' '440' '481' '261' '294' '472' '267'\n",
      " '227' '415' '206' '241' '489' '224' '214' '282' '243' '244' '215' '235'\n",
      " '246' '274' '253' '402' '229' '433' '420' '435' '268' '264' '259' '444'\n",
      " '272' '258' '237' '485' '211' '285' '401' '201' '257' '455' '457' '252'\n",
      " '446' '483' '276' '240' '428' '456' '221' '421' '424' '239' '293' '225'\n",
      " '271' '441' '425' '478' '413' '213' '260' '427' '236' '459' '286' '492']\n"
     ]
    },
    {
     "name": "stderr",
     "output_type": "stream",
     "text": [
      "0it [00:00, ?it/s]\n"
     ]
    },
    {
     "name": "stdout",
     "output_type": "stream",
     "text": [
      "['1' '2' '3' '4' '5' '6' '7' '8' '9' '10' '11' '12' '13' '14' '15' '16'\n",
      " '17' '18' '19' '20' '432' '488' '486' '484' '419' '438' '454' '418' '410'\n",
      " '490' '477' '423' '412' '442' '406' '460' '447' '437' '449' '482' '499'\n",
      " '448' '408' '453' '497' '461' '434' '491' '498' '480' '471' '422' '407'\n",
      " '439' '405' '462' '445' '466' '436' '473' '409' '451' '468' '430' '431'\n",
      " '464' '470' '400' '426' '416' '493' '203' '200' '202' '495' '443' '248'\n",
      " '209' '297' '226' '245' '414' '234' '269' '479' '273' '210' '270' '452'\n",
      " '283' '217' '403' '465' '292' '278' '230' '249' '216' '220' '429' '207'\n",
      " '219' '233' '411' '250' '469' '232' '474' '281' '254' '287' '247' '263'\n",
      " '417' '288' '299' '296' '475' '494' '458' '275' '222' '404' '476' '467'\n",
      " '463' '291' '496' '450' '295' '487' '440' '481' '261' '294' '472' '267'\n",
      " '227' '415' '206' '241' '489' '224' '214' '282' '243' '244' '215' '235'\n",
      " '246' '274' '253' '402' '229' '433' '420' '435' '268' '264' '259' '444'\n",
      " '272' '258' '237' '485' '211' '285' '401' '201' '257' '455' '457' '252'\n",
      " '446' '483' '276' '240' '428' '456' '221' '421' '424' '239' '293' '225'\n",
      " '271' '441' '425' '478' '413' '213' '260' '427' '236' '459' '286' '492']\n"
     ]
    },
    {
     "name": "stderr",
     "output_type": "stream",
     "text": [
      "100%|█████████████████████████████████████████| 19/19 [00:00<00:00, 8253.94it/s]\n"
     ]
    },
    {
     "name": "stdout",
     "output_type": "stream",
     "text": [
      "['1' '2' '3' '4' '5' '6' '7' '8' '9' '10' '11' '12' '13' '14' '15' '16'\n",
      " '17' '18' '19' '20' '432' '488' '486' '484' '419' '438' '454' '418' '410'\n",
      " '490' '477' '423' '412' '442' '406' '460' '447' '437' '449' '482' '499'\n",
      " '448' '408' '453' '497' '461' '434' '491' '498' '480' '471' '422' '407'\n",
      " '439' '405' '462' '445' '466' '436' '473' '409' '451' '468' '430' '431'\n",
      " '464' '470' '400' '426' '416' '493' '203' '200' '202' '495' '443' '248'\n",
      " '209' '297' '226' '245' '414' '234' '269' '479' '273' '210' '270' '452'\n",
      " '283' '217' '403' '465' '292' '278' '230' '249' '216' '220' '429' '207'\n",
      " '219' '233' '411' '250' '469' '232' '474' '281' '254' '287' '247' '263'\n",
      " '417' '288' '299' '296' '475' '494' '458' '275' '222' '404' '476' '467'\n",
      " '463' '291' '496' '450' '295' '487' '440' '481' '261' '294' '472' '267'\n",
      " '227' '415' '206' '241' '489' '224' '214' '282' '243' '244' '215' '235'\n",
      " '246' '274' '253' '402' '229' '433' '420' '435' '268' '264' '259' '444'\n",
      " '272' '258' '237' '485' '211' '285' '401' '201' '257' '455' '457' '252'\n",
      " '446' '483' '276' '240' '428' '456' '221' '421' '424' '239' '293' '225'\n",
      " '271' '441' '425' '478' '413' '213' '260' '427' '236' '459' '286' '492']\n"
     ]
    },
    {
     "name": "stderr",
     "output_type": "stream",
     "text": [
      "0it [00:00, ?it/s]\n"
     ]
    },
    {
     "name": "stdout",
     "output_type": "stream",
     "text": [
      "['1' '2' '3' '4' '5' '6' '7' '8' '9' '10' '11' '12' '13' '14' '15' '16'\n",
      " '17' '18' '19' '20' '432' '488' '486' '484' '419' '438' '454' '418' '410'\n",
      " '490' '477' '423' '412' '442' '406' '460' '447' '437' '449' '482' '499'\n",
      " '448' '408' '453' '497' '461' '434' '491' '498' '480' '471' '422' '407'\n",
      " '439' '405' '462' '445' '466' '436' '473' '409' '451' '468' '430' '431'\n",
      " '464' '470' '400' '426' '416' '493' '203' '200' '202' '495' '443' '248'\n",
      " '209' '297' '226' '245' '414' '234' '269' '479' '273' '210' '270' '452'\n",
      " '283' '217' '403' '465' '292' '278' '230' '249' '216' '220' '429' '207'\n",
      " '219' '233' '411' '250' '469' '232' '474' '281' '254' '287' '247' '263'\n",
      " '417' '288' '299' '296' '475' '494' '458' '275' '222' '404' '476' '467'\n",
      " '463' '291' '496' '450' '295' '487' '440' '481' '261' '294' '472' '267'\n",
      " '227' '415' '206' '241' '489' '224' '214' '282' '243' '244' '215' '235'\n",
      " '246' '274' '253' '402' '229' '433' '420' '435' '268' '264' '259' '444'\n",
      " '272' '258' '237' '485' '211' '285' '401' '201' '257' '455' '457' '252'\n",
      " '446' '483' '276' '240' '428' '456' '221' '421' '424' '239' '293' '225'\n",
      " '271' '441' '425' '478' '413' '213' '260' '427' '236' '459' '286' '492']\n"
     ]
    },
    {
     "name": "stderr",
     "output_type": "stream",
     "text": [
      "0it [00:00, ?it/s]\n"
     ]
    },
    {
     "name": "stdout",
     "output_type": "stream",
     "text": [
      "['1' '2' '3' '4' '5' '6' '7' '8' '9' '10' '11' '12' '13' '14' '15' '16'\n",
      " '17' '18' '19' '20' '432' '488' '486' '484' '419' '438' '454' '418' '410'\n",
      " '490' '477' '423' '412' '442' '406' '460' '447' '437' '449' '482' '499'\n",
      " '448' '408' '453' '497' '461' '434' '491' '498' '480' '471' '422' '407'\n",
      " '439' '405' '462' '445' '466' '436' '473' '409' '451' '468' '430' '431'\n",
      " '464' '470' '400' '426' '416' '493' '203' '200' '202' '495' '443' '248'\n",
      " '209' '297' '226' '245' '414' '234' '269' '479' '273' '210' '270' '452'\n",
      " '283' '217' '403' '465' '292' '278' '230' '249' '216' '220' '429' '207'\n",
      " '219' '233' '411' '250' '469' '232' '474' '281' '254' '287' '247' '263'\n",
      " '417' '288' '299' '296' '475' '494' '458' '275' '222' '404' '476' '467'\n",
      " '463' '291' '496' '450' '295' '487' '440' '481' '261' '294' '472' '267'\n",
      " '227' '415' '206' '241' '489' '224' '214' '282' '243' '244' '215' '235'\n",
      " '246' '274' '253' '402' '229' '433' '420' '435' '268' '264' '259' '444'\n",
      " '272' '258' '237' '485' '211' '285' '401' '201' '257' '455' '457' '252'\n",
      " '446' '483' '276' '240' '428' '456' '221' '421' '424' '239' '293' '225'\n",
      " '271' '441' '425' '478' '413' '213' '260' '427' '236' '459' '286' '492']\n"
     ]
    },
    {
     "name": "stderr",
     "output_type": "stream",
     "text": [
      "0it [00:00, ?it/s]\n"
     ]
    },
    {
     "name": "stdout",
     "output_type": "stream",
     "text": [
      "['1' '2' '3' '4' '5' '6' '7' '8' '9' '10' '11' '12' '13' '14' '15' '16'\n",
      " '17' '18' '19' '20' '432' '488' '486' '484' '419' '438' '454' '418' '410'\n",
      " '490' '477' '423' '412' '442' '406' '460' '447' '437' '449' '482' '499'\n",
      " '448' '408' '453' '497' '461' '434' '491' '498' '480' '471' '422' '407'\n",
      " '439' '405' '462' '445' '466' '436' '473' '409' '451' '468' '430' '431'\n",
      " '464' '470' '400' '426' '416' '493' '203' '200' '202' '495' '443' '248'\n",
      " '209' '297' '226' '245' '414' '234' '269' '479' '273' '210' '270' '452'\n",
      " '283' '217' '403' '465' '292' '278' '230' '249' '216' '220' '429' '207'\n",
      " '219' '233' '411' '250' '469' '232' '474' '281' '254' '287' '247' '263'\n",
      " '417' '288' '299' '296' '475' '494' '458' '275' '222' '404' '476' '467'\n",
      " '463' '291' '496' '450' '295' '487' '440' '481' '261' '294' '472' '267'\n",
      " '227' '415' '206' '241' '489' '224' '214' '282' '243' '244' '215' '235'\n",
      " '246' '274' '253' '402' '229' '433' '420' '435' '268' '264' '259' '444'\n",
      " '272' '258' '237' '485' '211' '285' '401' '201' '257' '455' '457' '252'\n",
      " '446' '483' '276' '240' '428' '456' '221' '421' '424' '239' '293' '225'\n",
      " '271' '441' '425' '478' '413' '213' '260' '427' '236' '459' '286' '492']\n"
     ]
    },
    {
     "name": "stderr",
     "output_type": "stream",
     "text": [
      "0it [00:00, ?it/s]\n"
     ]
    },
    {
     "name": "stdout",
     "output_type": "stream",
     "text": [
      "['1' '2' '3' '4' '5' '6' '7' '8' '9' '10' '11' '12' '13' '14' '15' '16'\n",
      " '17' '18' '19' '20' '432' '488' '486' '484' '419' '438' '454' '418' '410'\n",
      " '490' '477' '423' '412' '442' '406' '460' '447' '437' '449' '482' '499'\n",
      " '448' '408' '453' '497' '461' '434' '491' '498' '480' '471' '422' '407'\n",
      " '439' '405' '462' '445' '466' '436' '473' '409' '451' '468' '430' '431'\n",
      " '464' '470' '400' '426' '416' '493' '203' '200' '202' '495' '443' '248'\n",
      " '209' '297' '226' '245' '414' '234' '269' '479' '273' '210' '270' '452'\n",
      " '283' '217' '403' '465' '292' '278' '230' '249' '216' '220' '429' '207'\n",
      " '219' '233' '411' '250' '469' '232' '474' '281' '254' '287' '247' '263'\n",
      " '417' '288' '299' '296' '475' '494' '458' '275' '222' '404' '476' '467'\n",
      " '463' '291' '496' '450' '295' '487' '440' '481' '261' '294' '472' '267'\n",
      " '227' '415' '206' '241' '489' '224' '214' '282' '243' '244' '215' '235'\n",
      " '246' '274' '253' '402' '229' '433' '420' '435' '268' '264' '259' '444'\n",
      " '272' '258' '237' '485' '211' '285' '401' '201' '257' '455' '457' '252'\n",
      " '446' '483' '276' '240' '428' '456' '221' '421' '424' '239' '293' '225'\n",
      " '271' '441' '425' '478' '413' '213' '260' '427' '236' '459' '286' '492']\n"
     ]
    },
    {
     "name": "stderr",
     "output_type": "stream",
     "text": [
      "0it [00:00, ?it/s]\n"
     ]
    },
    {
     "name": "stdout",
     "output_type": "stream",
     "text": [
      "['1' '2' '3' '4' '5' '6' '7' '8' '9' '10' '11' '12' '13' '14' '15' '16'\n",
      " '17' '18' '19' '20' '432' '488' '486' '484' '419' '438' '454' '418' '410'\n",
      " '490' '477' '423' '412' '442' '406' '460' '447' '437' '449' '482' '499'\n",
      " '448' '408' '453' '497' '461' '434' '491' '498' '480' '471' '422' '407'\n",
      " '439' '405' '462' '445' '466' '436' '473' '409' '451' '468' '430' '431'\n",
      " '464' '470' '400' '426' '416' '493' '203' '200' '202' '495' '443' '248'\n",
      " '209' '297' '226' '245' '414' '234' '269' '479' '273' '210' '270' '452'\n",
      " '283' '217' '403' '465' '292' '278' '230' '249' '216' '220' '429' '207'\n",
      " '219' '233' '411' '250' '469' '232' '474' '281' '254' '287' '247' '263'\n",
      " '417' '288' '299' '296' '475' '494' '458' '275' '222' '404' '476' '467'\n",
      " '463' '291' '496' '450' '295' '487' '440' '481' '261' '294' '472' '267'\n",
      " '227' '415' '206' '241' '489' '224' '214' '282' '243' '244' '215' '235'\n",
      " '246' '274' '253' '402' '229' '433' '420' '435' '268' '264' '259' '444'\n",
      " '272' '258' '237' '485' '211' '285' '401' '201' '257' '455' '457' '252'\n",
      " '446' '483' '276' '240' '428' '456' '221' '421' '424' '239' '293' '225'\n",
      " '271' '441' '425' '478' '413' '213' '260' '427' '236' '459' '286' '492']\n"
     ]
    },
    {
     "name": "stderr",
     "output_type": "stream",
     "text": [
      "100%|█████████████████████████████████████████| 21/21 [00:00<00:00, 3439.30it/s]\n"
     ]
    },
    {
     "name": "stdout",
     "output_type": "stream",
     "text": [
      "['1' '2' '3' '4' '5' '6' '7' '8' '9' '10' '11' '12' '13' '14' '15' '16'\n",
      " '17' '18' '19' '20' '432' '488' '486' '484' '419' '438' '454' '418' '410'\n",
      " '490' '477' '423' '412' '442' '406' '460' '447' '437' '449' '482' '499'\n",
      " '448' '408' '453' '497' '461' '434' '491' '498' '480' '471' '422' '407'\n",
      " '439' '405' '462' '445' '466' '436' '473' '409' '451' '468' '430' '431'\n",
      " '464' '470' '400' '426' '416' '493' '203' '200' '202' '495' '443' '248'\n",
      " '209' '297' '226' '245' '414' '234' '269' '479' '273' '210' '270' '452'\n",
      " '283' '217' '403' '465' '292' '278' '230' '249' '216' '220' '429' '207'\n",
      " '219' '233' '411' '250' '469' '232' '474' '281' '254' '287' '247' '263'\n",
      " '417' '288' '299' '296' '475' '494' '458' '275' '222' '404' '476' '467'\n",
      " '463' '291' '496' '450' '295' '487' '440' '481' '261' '294' '472' '267'\n",
      " '227' '415' '206' '241' '489' '224' '214' '282' '243' '244' '215' '235'\n",
      " '246' '274' '253' '402' '229' '433' '420' '435' '268' '264' '259' '444'\n",
      " '272' '258' '237' '485' '211' '285' '401' '201' '257' '455' '457' '252'\n",
      " '446' '483' '276' '240' '428' '456' '221' '421' '424' '239' '293' '225'\n",
      " '271' '441' '425' '478' '413' '213' '260' '427' '236' '459' '286' '492']\n"
     ]
    },
    {
     "name": "stderr",
     "output_type": "stream",
     "text": [
      "0it [00:00, ?it/s]\n"
     ]
    },
    {
     "name": "stdout",
     "output_type": "stream",
     "text": [
      "['1' '2' '3' '4' '5' '6' '7' '8' '9' '10' '11' '12' '13' '14' '15' '16'\n",
      " '17' '18' '19' '20' '432' '488' '486' '484' '419' '438' '454' '418' '410'\n",
      " '490' '477' '423' '412' '442' '406' '460' '447' '437' '449' '482' '499'\n",
      " '448' '408' '453' '497' '461' '434' '491' '498' '480' '471' '422' '407'\n",
      " '439' '405' '462' '445' '466' '436' '473' '409' '451' '468' '430' '431'\n",
      " '464' '470' '400' '426' '416' '493' '203' '200' '202' '495' '443' '248'\n",
      " '209' '297' '226' '245' '414' '234' '269' '479' '273' '210' '270' '452'\n",
      " '283' '217' '403' '465' '292' '278' '230' '249' '216' '220' '429' '207'\n",
      " '219' '233' '411' '250' '469' '232' '474' '281' '254' '287' '247' '263'\n",
      " '417' '288' '299' '296' '475' '494' '458' '275' '222' '404' '476' '467'\n",
      " '463' '291' '496' '450' '295' '487' '440' '481' '261' '294' '472' '267'\n",
      " '227' '415' '206' '241' '489' '224' '214' '282' '243' '244' '215' '235'\n",
      " '246' '274' '253' '402' '229' '433' '420' '435' '268' '264' '259' '444'\n",
      " '272' '258' '237' '485' '211' '285' '401' '201' '257' '455' '457' '252'\n",
      " '446' '483' '276' '240' '428' '456' '221' '421' '424' '239' '293' '225'\n",
      " '271' '441' '425' '478' '413' '213' '260' '427' '236' '459' '286' '492']\n"
     ]
    },
    {
     "name": "stderr",
     "output_type": "stream",
     "text": [
      "100%|█████████████████████████████████████████| 20/20 [00:00<00:00, 3301.43it/s]\n"
     ]
    },
    {
     "name": "stdout",
     "output_type": "stream",
     "text": [
      "['1' '2' '3' '4' '5' '6' '7' '8' '9' '10' '11' '12' '13' '14' '15' '16'\n",
      " '17' '18' '19' '20' '432' '488' '486' '484' '419' '438' '454' '418' '410'\n",
      " '490' '477' '423' '412' '442' '406' '460' '447' '437' '449' '482' '499'\n",
      " '448' '408' '453' '497' '461' '434' '491' '498' '480' '471' '422' '407'\n",
      " '439' '405' '462' '445' '466' '436' '473' '409' '451' '468' '430' '431'\n",
      " '464' '470' '400' '426' '416' '493' '203' '200' '202' '495' '443' '248'\n",
      " '209' '297' '226' '245' '414' '234' '269' '479' '273' '210' '270' '452'\n",
      " '283' '217' '403' '465' '292' '278' '230' '249' '216' '220' '429' '207'\n",
      " '219' '233' '411' '250' '469' '232' '474' '281' '254' '287' '247' '263'\n",
      " '417' '288' '299' '296' '475' '494' '458' '275' '222' '404' '476' '467'\n",
      " '463' '291' '496' '450' '295' '487' '440' '481' '261' '294' '472' '267'\n",
      " '227' '415' '206' '241' '489' '224' '214' '282' '243' '244' '215' '235'\n",
      " '246' '274' '253' '402' '229' '433' '420' '435' '268' '264' '259' '444'\n",
      " '272' '258' '237' '485' '211' '285' '401' '201' '257' '455' '457' '252'\n",
      " '446' '483' '276' '240' '428' '456' '221' '421' '424' '239' '293' '225'\n",
      " '271' '441' '425' '478' '413' '213' '260' '427' '236' '459' '286' '492']\n"
     ]
    },
    {
     "name": "stderr",
     "output_type": "stream",
     "text": [
      "0it [00:00, ?it/s]\n"
     ]
    },
    {
     "name": "stdout",
     "output_type": "stream",
     "text": [
      "['1' '2' '3' '4' '5' '6' '7' '8' '9' '10' '11' '12' '13' '14' '15' '16'\n",
      " '17' '18' '19' '20' '432' '488' '486' '484' '419' '438' '454' '418' '410'\n",
      " '490' '477' '423' '412' '442' '406' '460' '447' '437' '449' '482' '499'\n",
      " '448' '408' '453' '497' '461' '434' '491' '498' '480' '471' '422' '407'\n",
      " '439' '405' '462' '445' '466' '436' '473' '409' '451' '468' '430' '431'\n",
      " '464' '470' '400' '426' '416' '493' '203' '200' '202' '495' '443' '248'\n",
      " '209' '297' '226' '245' '414' '234' '269' '479' '273' '210' '270' '452'\n",
      " '283' '217' '403' '465' '292' '278' '230' '249' '216' '220' '429' '207'\n",
      " '219' '233' '411' '250' '469' '232' '474' '281' '254' '287' '247' '263'\n",
      " '417' '288' '299' '296' '475' '494' '458' '275' '222' '404' '476' '467'\n",
      " '463' '291' '496' '450' '295' '487' '440' '481' '261' '294' '472' '267'\n",
      " '227' '415' '206' '241' '489' '224' '214' '282' '243' '244' '215' '235'\n",
      " '246' '274' '253' '402' '229' '433' '420' '435' '268' '264' '259' '444'\n",
      " '272' '258' '237' '485' '211' '285' '401' '201' '257' '455' '457' '252'\n",
      " '446' '483' '276' '240' '428' '456' '221' '421' '424' '239' '293' '225'\n",
      " '271' '441' '425' '478' '413' '213' '260' '427' '236' '459' '286' '492']\n"
     ]
    },
    {
     "name": "stderr",
     "output_type": "stream",
     "text": [
      "0it [00:00, ?it/s]\n"
     ]
    },
    {
     "name": "stdout",
     "output_type": "stream",
     "text": [
      "['1' '2' '3' '4' '5' '6' '7' '8' '9' '10' '11' '12' '13' '14' '15' '16'\n",
      " '17' '18' '19' '20' '432' '488' '486' '484' '419' '438' '454' '418' '410'\n",
      " '490' '477' '423' '412' '442' '406' '460' '447' '437' '449' '482' '499'\n",
      " '448' '408' '453' '497' '461' '434' '491' '498' '480' '471' '422' '407'\n",
      " '439' '405' '462' '445' '466' '436' '473' '409' '451' '468' '430' '431'\n",
      " '464' '470' '400' '426' '416' '493' '203' '200' '202' '495' '443' '248'\n",
      " '209' '297' '226' '245' '414' '234' '269' '479' '273' '210' '270' '452'\n",
      " '283' '217' '403' '465' '292' '278' '230' '249' '216' '220' '429' '207'\n",
      " '219' '233' '411' '250' '469' '232' '474' '281' '254' '287' '247' '263'\n",
      " '417' '288' '299' '296' '475' '494' '458' '275' '222' '404' '476' '467'\n",
      " '463' '291' '496' '450' '295' '487' '440' '481' '261' '294' '472' '267'\n",
      " '227' '415' '206' '241' '489' '224' '214' '282' '243' '244' '215' '235'\n",
      " '246' '274' '253' '402' '229' '433' '420' '435' '268' '264' '259' '444'\n",
      " '272' '258' '237' '485' '211' '285' '401' '201' '257' '455' '457' '252'\n",
      " '446' '483' '276' '240' '428' '456' '221' '421' '424' '239' '293' '225'\n",
      " '271' '441' '425' '478' '413' '213' '260' '427' '236' '459' '286' '492']\n"
     ]
    },
    {
     "name": "stderr",
     "output_type": "stream",
     "text": [
      "100%|█████████████████████████████████████████| 22/22 [00:00<00:00, 5220.93it/s]\n"
     ]
    },
    {
     "name": "stdout",
     "output_type": "stream",
     "text": [
      "['1' '2' '3' '4' '5' '6' '7' '8' '9' '10' '11' '12' '13' '14' '15' '16'\n",
      " '17' '18' '19' '20' '432' '488' '486' '484' '419' '438' '454' '418' '410'\n",
      " '490' '477' '423' '412' '442' '406' '460' '447' '437' '449' '482' '499'\n",
      " '448' '408' '453' '497' '461' '434' '491' '498' '480' '471' '422' '407'\n",
      " '439' '405' '462' '445' '466' '436' '473' '409' '451' '468' '430' '431'\n",
      " '464' '470' '400' '426' '416' '493' '203' '200' '202' '495' '443' '248'\n",
      " '209' '297' '226' '245' '414' '234' '269' '479' '273' '210' '270' '452'\n",
      " '283' '217' '403' '465' '292' '278' '230' '249' '216' '220' '429' '207'\n",
      " '219' '233' '411' '250' '469' '232' '474' '281' '254' '287' '247' '263'\n",
      " '417' '288' '299' '296' '475' '494' '458' '275' '222' '404' '476' '467'\n",
      " '463' '291' '496' '450' '295' '487' '440' '481' '261' '294' '472' '267'\n",
      " '227' '415' '206' '241' '489' '224' '214' '282' '243' '244' '215' '235'\n",
      " '246' '274' '253' '402' '229' '433' '420' '435' '268' '264' '259' '444'\n",
      " '272' '258' '237' '485' '211' '285' '401' '201' '257' '455' '457' '252'\n",
      " '446' '483' '276' '240' '428' '456' '221' '421' '424' '239' '293' '225'\n",
      " '271' '441' '425' '478' '413' '213' '260' '427' '236' '459' '286' '492']\n"
     ]
    },
    {
     "name": "stderr",
     "output_type": "stream",
     "text": [
      "100%|█████████████████████████████████████████| 19/19 [00:00<00:00, 8050.49it/s]\n"
     ]
    },
    {
     "name": "stdout",
     "output_type": "stream",
     "text": [
      "['1' '2' '3' '4' '5' '6' '7' '8' '9' '10' '11' '12' '13' '14' '15' '16'\n",
      " '17' '18' '19' '20' '432' '488' '486' '484' '419' '438' '454' '418' '410'\n",
      " '490' '477' '423' '412' '442' '406' '460' '447' '437' '449' '482' '499'\n",
      " '448' '408' '453' '497' '461' '434' '491' '498' '480' '471' '422' '407'\n",
      " '439' '405' '462' '445' '466' '436' '473' '409' '451' '468' '430' '431'\n",
      " '464' '470' '400' '426' '416' '493' '203' '200' '202' '495' '443' '248'\n",
      " '209' '297' '226' '245' '414' '234' '269' '479' '273' '210' '270' '452'\n",
      " '283' '217' '403' '465' '292' '278' '230' '249' '216' '220' '429' '207'\n",
      " '219' '233' '411' '250' '469' '232' '474' '281' '254' '287' '247' '263'\n",
      " '417' '288' '299' '296' '475' '494' '458' '275' '222' '404' '476' '467'\n",
      " '463' '291' '496' '450' '295' '487' '440' '481' '261' '294' '472' '267'\n",
      " '227' '415' '206' '241' '489' '224' '214' '282' '243' '244' '215' '235'\n",
      " '246' '274' '253' '402' '229' '433' '420' '435' '268' '264' '259' '444'\n",
      " '272' '258' '237' '485' '211' '285' '401' '201' '257' '455' '457' '252'\n",
      " '446' '483' '276' '240' '428' '456' '221' '421' '424' '239' '293' '225'\n",
      " '271' '441' '425' '478' '413' '213' '260' '427' '236' '459' '286' '492']\n"
     ]
    },
    {
     "name": "stderr",
     "output_type": "stream",
     "text": [
      "0it [00:00, ?it/s]\n"
     ]
    },
    {
     "name": "stdout",
     "output_type": "stream",
     "text": [
      "['1' '2' '3' '4' '5' '6' '7' '8' '9' '10' '11' '12' '13' '14' '15' '16'\n",
      " '17' '18' '19' '20' '432' '488' '486' '484' '419' '438' '454' '418' '410'\n",
      " '490' '477' '423' '412' '442' '406' '460' '447' '437' '449' '482' '499'\n",
      " '448' '408' '453' '497' '461' '434' '491' '498' '480' '471' '422' '407'\n",
      " '439' '405' '462' '445' '466' '436' '473' '409' '451' '468' '430' '431'\n",
      " '464' '470' '400' '426' '416' '493' '203' '200' '202' '495' '443' '248'\n",
      " '209' '297' '226' '245' '414' '234' '269' '479' '273' '210' '270' '452'\n",
      " '283' '217' '403' '465' '292' '278' '230' '249' '216' '220' '429' '207'\n",
      " '219' '233' '411' '250' '469' '232' '474' '281' '254' '287' '247' '263'\n",
      " '417' '288' '299' '296' '475' '494' '458' '275' '222' '404' '476' '467'\n",
      " '463' '291' '496' '450' '295' '487' '440' '481' '261' '294' '472' '267'\n",
      " '227' '415' '206' '241' '489' '224' '214' '282' '243' '244' '215' '235'\n",
      " '246' '274' '253' '402' '229' '433' '420' '435' '268' '264' '259' '444'\n",
      " '272' '258' '237' '485' '211' '285' '401' '201' '257' '455' '457' '252'\n",
      " '446' '483' '276' '240' '428' '456' '221' '421' '424' '239' '293' '225'\n",
      " '271' '441' '425' '478' '413' '213' '260' '427' '236' '459' '286' '492']\n"
     ]
    },
    {
     "name": "stderr",
     "output_type": "stream",
     "text": [
      "100%|█████████████████████████████████████████| 19/19 [00:00<00:00, 7524.48it/s]\n"
     ]
    },
    {
     "name": "stdout",
     "output_type": "stream",
     "text": [
      "['1' '2' '3' '4' '5' '6' '7' '8' '9' '10' '11' '12' '13' '14' '15' '16'\n",
      " '17' '18' '19' '20' '432' '488' '486' '484' '419' '438' '454' '418' '410'\n",
      " '490' '477' '423' '412' '442' '406' '460' '447' '437' '449' '482' '499'\n",
      " '448' '408' '453' '497' '461' '434' '491' '498' '480' '471' '422' '407'\n",
      " '439' '405' '462' '445' '466' '436' '473' '409' '451' '468' '430' '431'\n",
      " '464' '470' '400' '426' '416' '493' '203' '200' '202' '495' '443' '248'\n",
      " '209' '297' '226' '245' '414' '234' '269' '479' '273' '210' '270' '452'\n",
      " '283' '217' '403' '465' '292' '278' '230' '249' '216' '220' '429' '207'\n",
      " '219' '233' '411' '250' '469' '232' '474' '281' '254' '287' '247' '263'\n",
      " '417' '288' '299' '296' '475' '494' '458' '275' '222' '404' '476' '467'\n",
      " '463' '291' '496' '450' '295' '487' '440' '481' '261' '294' '472' '267'\n",
      " '227' '415' '206' '241' '489' '224' '214' '282' '243' '244' '215' '235'\n",
      " '246' '274' '253' '402' '229' '433' '420' '435' '268' '264' '259' '444'\n",
      " '272' '258' '237' '485' '211' '285' '401' '201' '257' '455' '457' '252'\n",
      " '446' '483' '276' '240' '428' '456' '221' '421' '424' '239' '293' '225'\n",
      " '271' '441' '425' '478' '413' '213' '260' '427' '236' '459' '286' '492']\n"
     ]
    },
    {
     "name": "stderr",
     "output_type": "stream",
     "text": [
      "0it [00:00, ?it/s]\n"
     ]
    },
    {
     "name": "stdout",
     "output_type": "stream",
     "text": [
      "['1' '2' '3' '4' '5' '6' '7' '8' '9' '10' '11' '12' '13' '14' '15' '16'\n",
      " '17' '18' '19' '20' '432' '488' '486' '484' '419' '438' '454' '418' '410'\n",
      " '490' '477' '423' '412' '442' '406' '460' '447' '437' '449' '482' '499'\n",
      " '448' '408' '453' '497' '461' '434' '491' '498' '480' '471' '422' '407'\n",
      " '439' '405' '462' '445' '466' '436' '473' '409' '451' '468' '430' '431'\n",
      " '464' '470' '400' '426' '416' '493' '203' '200' '202' '495' '443' '248'\n",
      " '209' '297' '226' '245' '414' '234' '269' '479' '273' '210' '270' '452'\n",
      " '283' '217' '403' '465' '292' '278' '230' '249' '216' '220' '429' '207'\n",
      " '219' '233' '411' '250' '469' '232' '474' '281' '254' '287' '247' '263'\n",
      " '417' '288' '299' '296' '475' '494' '458' '275' '222' '404' '476' '467'\n",
      " '463' '291' '496' '450' '295' '487' '440' '481' '261' '294' '472' '267'\n",
      " '227' '415' '206' '241' '489' '224' '214' '282' '243' '244' '215' '235'\n",
      " '246' '274' '253' '402' '229' '433' '420' '435' '268' '264' '259' '444'\n",
      " '272' '258' '237' '485' '211' '285' '401' '201' '257' '455' '457' '252'\n",
      " '446' '483' '276' '240' '428' '456' '221' '421' '424' '239' '293' '225'\n",
      " '271' '441' '425' '478' '413' '213' '260' '427' '236' '459' '286' '492']\n"
     ]
    },
    {
     "name": "stderr",
     "output_type": "stream",
     "text": [
      "100%|█████████████████████████████████████████| 19/19 [00:00<00:00, 7398.05it/s]\n"
     ]
    },
    {
     "name": "stdout",
     "output_type": "stream",
     "text": [
      "['1' '2' '3' '4' '5' '6' '7' '8' '9' '10' '11' '12' '13' '14' '15' '16'\n",
      " '17' '18' '19' '20' '432' '488' '486' '484' '419' '438' '454' '418' '410'\n",
      " '490' '477' '423' '412' '442' '406' '460' '447' '437' '449' '482' '499'\n",
      " '448' '408' '453' '497' '461' '434' '491' '498' '480' '471' '422' '407'\n",
      " '439' '405' '462' '445' '466' '436' '473' '409' '451' '468' '430' '431'\n",
      " '464' '470' '400' '426' '416' '493' '203' '200' '202' '495' '443' '248'\n",
      " '209' '297' '226' '245' '414' '234' '269' '479' '273' '210' '270' '452'\n",
      " '283' '217' '403' '465' '292' '278' '230' '249' '216' '220' '429' '207'\n",
      " '219' '233' '411' '250' '469' '232' '474' '281' '254' '287' '247' '263'\n",
      " '417' '288' '299' '296' '475' '494' '458' '275' '222' '404' '476' '467'\n",
      " '463' '291' '496' '450' '295' '487' '440' '481' '261' '294' '472' '267'\n",
      " '227' '415' '206' '241' '489' '224' '214' '282' '243' '244' '215' '235'\n",
      " '246' '274' '253' '402' '229' '433' '420' '435' '268' '264' '259' '444'\n",
      " '272' '258' '237' '485' '211' '285' '401' '201' '257' '455' '457' '252'\n",
      " '446' '483' '276' '240' '428' '456' '221' '421' '424' '239' '293' '225'\n",
      " '271' '441' '425' '478' '413' '213' '260' '427' '236' '459' '286' '492']\n"
     ]
    },
    {
     "name": "stderr",
     "output_type": "stream",
     "text": [
      "0it [00:00, ?it/s]\n"
     ]
    },
    {
     "name": "stdout",
     "output_type": "stream",
     "text": [
      "['1' '2' '3' '4' '5' '6' '7' '8' '9' '10' '11' '12' '13' '14' '15' '16'\n",
      " '17' '18' '19' '20' '432' '488' '486' '484' '419' '438' '454' '418' '410'\n",
      " '490' '477' '423' '412' '442' '406' '460' '447' '437' '449' '482' '499'\n",
      " '448' '408' '453' '497' '461' '434' '491' '498' '480' '471' '422' '407'\n",
      " '439' '405' '462' '445' '466' '436' '473' '409' '451' '468' '430' '431'\n",
      " '464' '470' '400' '426' '416' '493' '203' '200' '202' '495' '443' '248'\n",
      " '209' '297' '226' '245' '414' '234' '269' '479' '273' '210' '270' '452'\n",
      " '283' '217' '403' '465' '292' '278' '230' '249' '216' '220' '429' '207'\n",
      " '219' '233' '411' '250' '469' '232' '474' '281' '254' '287' '247' '263'\n",
      " '417' '288' '299' '296' '475' '494' '458' '275' '222' '404' '476' '467'\n",
      " '463' '291' '496' '450' '295' '487' '440' '481' '261' '294' '472' '267'\n",
      " '227' '415' '206' '241' '489' '224' '214' '282' '243' '244' '215' '235'\n",
      " '246' '274' '253' '402' '229' '433' '420' '435' '268' '264' '259' '444'\n",
      " '272' '258' '237' '485' '211' '285' '401' '201' '257' '455' '457' '252'\n",
      " '446' '483' '276' '240' '428' '456' '221' '421' '424' '239' '293' '225'\n",
      " '271' '441' '425' '478' '413' '213' '260' '427' '236' '459' '286' '492']\n"
     ]
    },
    {
     "name": "stderr",
     "output_type": "stream",
     "text": [
      "100%|██████████████████████████████████████████| 14/14 [00:00<00:00, 181.92it/s]\n"
     ]
    },
    {
     "name": "stdout",
     "output_type": "stream",
     "text": [
      "['1' '2' '3' '4' '5' '6' '7' '8' '9' '10' '11' '12' '13' '14' '15' '16'\n",
      " '17' '18' '19' '20' '432' '488' '486' '484' '419' '438' '454' '418' '410'\n",
      " '490' '477' '423' '412' '442' '406' '460' '447' '437' '449' '482' '499'\n",
      " '448' '408' '453' '497' '461' '434' '491' '498' '480' '471' '422' '407'\n",
      " '439' '405' '462' '445' '466' '436' '473' '409' '451' '468' '430' '431'\n",
      " '464' '470' '400' '426' '416' '493' '203' '200' '202' '495' '443' '248'\n",
      " '209' '297' '226' '245' '414' '234' '269' '479' '273' '210' '270' '452'\n",
      " '283' '217' '403' '465' '292' '278' '230' '249' '216' '220' '429' '207'\n",
      " '219' '233' '411' '250' '469' '232' '474' '281' '254' '287' '247' '263'\n",
      " '417' '288' '299' '296' '475' '494' '458' '275' '222' '404' '476' '467'\n",
      " '463' '291' '496' '450' '295' '487' '440' '481' '261' '294' '472' '267'\n",
      " '227' '415' '206' '241' '489' '224' '214' '282' '243' '244' '215' '235'\n",
      " '246' '274' '253' '402' '229' '433' '420' '435' '268' '264' '259' '444'\n",
      " '272' '258' '237' '485' '211' '285' '401' '201' '257' '455' '457' '252'\n",
      " '446' '483' '276' '240' '428' '456' '221' '421' '424' '239' '293' '225'\n",
      " '271' '441' '425' '478' '413' '213' '260' '427' '236' '459' '286' '492']\n"
     ]
    },
    {
     "name": "stderr",
     "output_type": "stream",
     "text": [
      "0it [00:00, ?it/s]\n"
     ]
    },
    {
     "name": "stdout",
     "output_type": "stream",
     "text": [
      "['1' '2' '3' '4' '5' '6' '7' '8' '9' '10' '11' '12' '13' '14' '15' '16'\n",
      " '17' '18' '19' '20' '432' '488' '486' '484' '419' '438' '454' '418' '410'\n",
      " '490' '477' '423' '412' '442' '406' '460' '447' '437' '449' '482' '499'\n",
      " '448' '408' '453' '497' '461' '434' '491' '498' '480' '471' '422' '407'\n",
      " '439' '405' '462' '445' '466' '436' '473' '409' '451' '468' '430' '431'\n",
      " '464' '470' '400' '426' '416' '493' '203' '200' '202' '495' '443' '248'\n",
      " '209' '297' '226' '245' '414' '234' '269' '479' '273' '210' '270' '452'\n",
      " '283' '217' '403' '465' '292' '278' '230' '249' '216' '220' '429' '207'\n",
      " '219' '233' '411' '250' '469' '232' '474' '281' '254' '287' '247' '263'\n",
      " '417' '288' '299' '296' '475' '494' '458' '275' '222' '404' '476' '467'\n",
      " '463' '291' '496' '450' '295' '487' '440' '481' '261' '294' '472' '267'\n",
      " '227' '415' '206' '241' '489' '224' '214' '282' '243' '244' '215' '235'\n",
      " '246' '274' '253' '402' '229' '433' '420' '435' '268' '264' '259' '444'\n",
      " '272' '258' '237' '485' '211' '285' '401' '201' '257' '455' '457' '252'\n",
      " '446' '483' '276' '240' '428' '456' '221' '421' '424' '239' '293' '225'\n",
      " '271' '441' '425' '478' '413' '213' '260' '427' '236' '459' '286' '492']\n"
     ]
    },
    {
     "name": "stderr",
     "output_type": "stream",
     "text": [
      "0it [00:00, ?it/s]\n"
     ]
    },
    {
     "name": "stdout",
     "output_type": "stream",
     "text": [
      "['1' '2' '3' '4' '5' '6' '7' '8' '9' '10' '11' '12' '13' '14' '15' '16'\n",
      " '17' '18' '19' '20' '432' '488' '486' '484' '419' '438' '454' '418' '410'\n",
      " '490' '477' '423' '412' '442' '406' '460' '447' '437' '449' '482' '499'\n",
      " '448' '408' '453' '497' '461' '434' '491' '498' '480' '471' '422' '407'\n",
      " '439' '405' '462' '445' '466' '436' '473' '409' '451' '468' '430' '431'\n",
      " '464' '470' '400' '426' '416' '493' '203' '200' '202' '495' '443' '248'\n",
      " '209' '297' '226' '245' '414' '234' '269' '479' '273' '210' '270' '452'\n",
      " '283' '217' '403' '465' '292' '278' '230' '249' '216' '220' '429' '207'\n",
      " '219' '233' '411' '250' '469' '232' '474' '281' '254' '287' '247' '263'\n",
      " '417' '288' '299' '296' '475' '494' '458' '275' '222' '404' '476' '467'\n",
      " '463' '291' '496' '450' '295' '487' '440' '481' '261' '294' '472' '267'\n",
      " '227' '415' '206' '241' '489' '224' '214' '282' '243' '244' '215' '235'\n",
      " '246' '274' '253' '402' '229' '433' '420' '435' '268' '264' '259' '444'\n",
      " '272' '258' '237' '485' '211' '285' '401' '201' '257' '455' '457' '252'\n",
      " '446' '483' '276' '240' '428' '456' '221' '421' '424' '239' '293' '225'\n",
      " '271' '441' '425' '478' '413' '213' '260' '427' '236' '459' '286' '492']\n"
     ]
    },
    {
     "name": "stderr",
     "output_type": "stream",
     "text": [
      "100%|█████████████████████████████████████████| 20/20 [00:00<00:00, 5119.06it/s]\n"
     ]
    },
    {
     "name": "stdout",
     "output_type": "stream",
     "text": [
      "['1' '2' '3' '4' '5' '6' '7' '8' '9' '10' '11' '12' '13' '14' '15' '16'\n",
      " '17' '18' '19' '20' '432' '488' '486' '484' '419' '438' '454' '418' '410'\n",
      " '490' '477' '423' '412' '442' '406' '460' '447' '437' '449' '482' '499'\n",
      " '448' '408' '453' '497' '461' '434' '491' '498' '480' '471' '422' '407'\n",
      " '439' '405' '462' '445' '466' '436' '473' '409' '451' '468' '430' '431'\n",
      " '464' '470' '400' '426' '416' '493' '203' '200' '202' '495' '443' '248'\n",
      " '209' '297' '226' '245' '414' '234' '269' '479' '273' '210' '270' '452'\n",
      " '283' '217' '403' '465' '292' '278' '230' '249' '216' '220' '429' '207'\n",
      " '219' '233' '411' '250' '469' '232' '474' '281' '254' '287' '247' '263'\n",
      " '417' '288' '299' '296' '475' '494' '458' '275' '222' '404' '476' '467'\n",
      " '463' '291' '496' '450' '295' '487' '440' '481' '261' '294' '472' '267'\n",
      " '227' '415' '206' '241' '489' '224' '214' '282' '243' '244' '215' '235'\n",
      " '246' '274' '253' '402' '229' '433' '420' '435' '268' '264' '259' '444'\n",
      " '272' '258' '237' '485' '211' '285' '401' '201' '257' '455' '457' '252'\n",
      " '446' '483' '276' '240' '428' '456' '221' '421' '424' '239' '293' '225'\n",
      " '271' '441' '425' '478' '413' '213' '260' '427' '236' '459' '286' '492']\n"
     ]
    },
    {
     "name": "stderr",
     "output_type": "stream",
     "text": [
      "0it [00:00, ?it/s]\n"
     ]
    },
    {
     "name": "stdout",
     "output_type": "stream",
     "text": [
      "['1' '2' '3' '4' '5' '6' '7' '8' '9' '10' '11' '12' '13' '14' '15' '16'\n",
      " '17' '18' '19' '20' '432' '488' '486' '484' '419' '438' '454' '418' '410'\n",
      " '490' '477' '423' '412' '442' '406' '460' '447' '437' '449' '482' '499'\n",
      " '448' '408' '453' '497' '461' '434' '491' '498' '480' '471' '422' '407'\n",
      " '439' '405' '462' '445' '466' '436' '473' '409' '451' '468' '430' '431'\n",
      " '464' '470' '400' '426' '416' '493' '203' '200' '202' '495' '443' '248'\n",
      " '209' '297' '226' '245' '414' '234' '269' '479' '273' '210' '270' '452'\n",
      " '283' '217' '403' '465' '292' '278' '230' '249' '216' '220' '429' '207'\n",
      " '219' '233' '411' '250' '469' '232' '474' '281' '254' '287' '247' '263'\n",
      " '417' '288' '299' '296' '475' '494' '458' '275' '222' '404' '476' '467'\n",
      " '463' '291' '496' '450' '295' '487' '440' '481' '261' '294' '472' '267'\n",
      " '227' '415' '206' '241' '489' '224' '214' '282' '243' '244' '215' '235'\n",
      " '246' '274' '253' '402' '229' '433' '420' '435' '268' '264' '259' '444'\n",
      " '272' '258' '237' '485' '211' '285' '401' '201' '257' '455' '457' '252'\n",
      " '446' '483' '276' '240' '428' '456' '221' '421' '424' '239' '293' '225'\n",
      " '271' '441' '425' '478' '413' '213' '260' '427' '236' '459' '286' '492']\n"
     ]
    },
    {
     "name": "stderr",
     "output_type": "stream",
     "text": [
      "100%|█████████████████████████████████████████| 20/20 [00:00<00:00, 4935.93it/s]\n"
     ]
    },
    {
     "name": "stdout",
     "output_type": "stream",
     "text": [
      "['1' '2' '3' '4' '5' '6' '7' '8' '9' '10' '11' '12' '13' '14' '15' '16'\n",
      " '17' '18' '19' '20' '432' '488' '486' '484' '419' '438' '454' '418' '410'\n",
      " '490' '477' '423' '412' '442' '406' '460' '447' '437' '449' '482' '499'\n",
      " '448' '408' '453' '497' '461' '434' '491' '498' '480' '471' '422' '407'\n",
      " '439' '405' '462' '445' '466' '436' '473' '409' '451' '468' '430' '431'\n",
      " '464' '470' '400' '426' '416' '493' '203' '200' '202' '495' '443' '248'\n",
      " '209' '297' '226' '245' '414' '234' '269' '479' '273' '210' '270' '452'\n",
      " '283' '217' '403' '465' '292' '278' '230' '249' '216' '220' '429' '207'\n",
      " '219' '233' '411' '250' '469' '232' '474' '281' '254' '287' '247' '263'\n",
      " '417' '288' '299' '296' '475' '494' '458' '275' '222' '404' '476' '467'\n",
      " '463' '291' '496' '450' '295' '487' '440' '481' '261' '294' '472' '267'\n",
      " '227' '415' '206' '241' '489' '224' '214' '282' '243' '244' '215' '235'\n",
      " '246' '274' '253' '402' '229' '433' '420' '435' '268' '264' '259' '444'\n",
      " '272' '258' '237' '485' '211' '285' '401' '201' '257' '455' '457' '252'\n",
      " '446' '483' '276' '240' '428' '456' '221' '421' '424' '239' '293' '225'\n",
      " '271' '441' '425' '478' '413' '213' '260' '427' '236' '459' '286' '492']\n"
     ]
    },
    {
     "name": "stderr",
     "output_type": "stream",
     "text": [
      "100%|█████████████████████████████████████████| 20/20 [00:00<00:00, 3977.72it/s]\n"
     ]
    },
    {
     "name": "stdout",
     "output_type": "stream",
     "text": [
      "['1' '2' '3' '4' '5' '6' '7' '8' '9' '10' '11' '12' '13' '14' '15' '16'\n",
      " '17' '18' '19' '20' '432' '488' '486' '484' '419' '438' '454' '418' '410'\n",
      " '490' '477' '423' '412' '442' '406' '460' '447' '437' '449' '482' '499'\n",
      " '448' '408' '453' '497' '461' '434' '491' '498' '480' '471' '422' '407'\n",
      " '439' '405' '462' '445' '466' '436' '473' '409' '451' '468' '430' '431'\n",
      " '464' '470' '400' '426' '416' '493' '203' '200' '202' '495' '443' '248'\n",
      " '209' '297' '226' '245' '414' '234' '269' '479' '273' '210' '270' '452'\n",
      " '283' '217' '403' '465' '292' '278' '230' '249' '216' '220' '429' '207'\n",
      " '219' '233' '411' '250' '469' '232' '474' '281' '254' '287' '247' '263'\n",
      " '417' '288' '299' '296' '475' '494' '458' '275' '222' '404' '476' '467'\n",
      " '463' '291' '496' '450' '295' '487' '440' '481' '261' '294' '472' '267'\n",
      " '227' '415' '206' '241' '489' '224' '214' '282' '243' '244' '215' '235'\n",
      " '246' '274' '253' '402' '229' '433' '420' '435' '268' '264' '259' '444'\n",
      " '272' '258' '237' '485' '211' '285' '401' '201' '257' '455' '457' '252'\n",
      " '446' '483' '276' '240' '428' '456' '221' '421' '424' '239' '293' '225'\n",
      " '271' '441' '425' '478' '413' '213' '260' '427' '236' '459' '286' '492']\n"
     ]
    },
    {
     "name": "stderr",
     "output_type": "stream",
     "text": [
      "100%|█████████████████████████████████████████| 23/23 [00:00<00:00, 5350.47it/s]\n"
     ]
    },
    {
     "name": "stdout",
     "output_type": "stream",
     "text": [
      "['1' '2' '3' '4' '5' '6' '7' '8' '9' '10' '11' '12' '13' '14' '15' '16'\n",
      " '17' '18' '19' '20' '432' '488' '486' '484' '419' '438' '454' '418' '410'\n",
      " '490' '477' '423' '412' '442' '406' '460' '447' '437' '449' '482' '499'\n",
      " '448' '408' '453' '497' '461' '434' '491' '498' '480' '471' '422' '407'\n",
      " '439' '405' '462' '445' '466' '436' '473' '409' '451' '468' '430' '431'\n",
      " '464' '470' '400' '426' '416' '493' '203' '200' '202' '495' '443' '248'\n",
      " '209' '297' '226' '245' '414' '234' '269' '479' '273' '210' '270' '452'\n",
      " '283' '217' '403' '465' '292' '278' '230' '249' '216' '220' '429' '207'\n",
      " '219' '233' '411' '250' '469' '232' '474' '281' '254' '287' '247' '263'\n",
      " '417' '288' '299' '296' '475' '494' '458' '275' '222' '404' '476' '467'\n",
      " '463' '291' '496' '450' '295' '487' '440' '481' '261' '294' '472' '267'\n",
      " '227' '415' '206' '241' '489' '224' '214' '282' '243' '244' '215' '235'\n",
      " '246' '274' '253' '402' '229' '433' '420' '435' '268' '264' '259' '444'\n",
      " '272' '258' '237' '485' '211' '285' '401' '201' '257' '455' '457' '252'\n",
      " '446' '483' '276' '240' '428' '456' '221' '421' '424' '239' '293' '225'\n",
      " '271' '441' '425' '478' '413' '213' '260' '427' '236' '459' '286' '492']\n"
     ]
    },
    {
     "name": "stderr",
     "output_type": "stream",
     "text": [
      "0it [00:00, ?it/s]\n"
     ]
    },
    {
     "name": "stdout",
     "output_type": "stream",
     "text": [
      "['1' '2' '3' '4' '5' '6' '7' '8' '9' '10' '11' '12' '13' '14' '15' '16'\n",
      " '17' '18' '19' '20' '432' '488' '486' '484' '419' '438' '454' '418' '410'\n",
      " '490' '477' '423' '412' '442' '406' '460' '447' '437' '449' '482' '499'\n",
      " '448' '408' '453' '497' '461' '434' '491' '498' '480' '471' '422' '407'\n",
      " '439' '405' '462' '445' '466' '436' '473' '409' '451' '468' '430' '431'\n",
      " '464' '470' '400' '426' '416' '493' '203' '200' '202' '495' '443' '248'\n",
      " '209' '297' '226' '245' '414' '234' '269' '479' '273' '210' '270' '452'\n",
      " '283' '217' '403' '465' '292' '278' '230' '249' '216' '220' '429' '207'\n",
      " '219' '233' '411' '250' '469' '232' '474' '281' '254' '287' '247' '263'\n",
      " '417' '288' '299' '296' '475' '494' '458' '275' '222' '404' '476' '467'\n",
      " '463' '291' '496' '450' '295' '487' '440' '481' '261' '294' '472' '267'\n",
      " '227' '415' '206' '241' '489' '224' '214' '282' '243' '244' '215' '235'\n",
      " '246' '274' '253' '402' '229' '433' '420' '435' '268' '264' '259' '444'\n",
      " '272' '258' '237' '485' '211' '285' '401' '201' '257' '455' '457' '252'\n",
      " '446' '483' '276' '240' '428' '456' '221' '421' '424' '239' '293' '225'\n",
      " '271' '441' '425' '478' '413' '213' '260' '427' '236' '459' '286' '492']\n"
     ]
    },
    {
     "name": "stderr",
     "output_type": "stream",
     "text": [
      "0it [00:00, ?it/s]\n"
     ]
    },
    {
     "name": "stdout",
     "output_type": "stream",
     "text": [
      "['1' '2' '3' '4' '5' '6' '7' '8' '9' '10' '11' '12' '13' '14' '15' '16'\n",
      " '17' '18' '19' '20' '432' '488' '486' '484' '419' '438' '454' '418' '410'\n",
      " '490' '477' '423' '412' '442' '406' '460' '447' '437' '449' '482' '499'\n",
      " '448' '408' '453' '497' '461' '434' '491' '498' '480' '471' '422' '407'\n",
      " '439' '405' '462' '445' '466' '436' '473' '409' '451' '468' '430' '431'\n",
      " '464' '470' '400' '426' '416' '493' '203' '200' '202' '495' '443' '248'\n",
      " '209' '297' '226' '245' '414' '234' '269' '479' '273' '210' '270' '452'\n",
      " '283' '217' '403' '465' '292' '278' '230' '249' '216' '220' '429' '207'\n",
      " '219' '233' '411' '250' '469' '232' '474' '281' '254' '287' '247' '263'\n",
      " '417' '288' '299' '296' '475' '494' '458' '275' '222' '404' '476' '467'\n",
      " '463' '291' '496' '450' '295' '487' '440' '481' '261' '294' '472' '267'\n",
      " '227' '415' '206' '241' '489' '224' '214' '282' '243' '244' '215' '235'\n",
      " '246' '274' '253' '402' '229' '433' '420' '435' '268' '264' '259' '444'\n",
      " '272' '258' '237' '485' '211' '285' '401' '201' '257' '455' '457' '252'\n",
      " '446' '483' '276' '240' '428' '456' '221' '421' '424' '239' '293' '225'\n",
      " '271' '441' '425' '478' '413' '213' '260' '427' '236' '459' '286' '492']\n"
     ]
    },
    {
     "name": "stderr",
     "output_type": "stream",
     "text": [
      "0it [00:00, ?it/s]\n"
     ]
    },
    {
     "name": "stdout",
     "output_type": "stream",
     "text": [
      "['1' '2' '3' '4' '5' '6' '7' '8' '9' '10' '11' '12' '13' '14' '15' '16'\n",
      " '17' '18' '19' '20' '432' '488' '486' '484' '419' '438' '454' '418' '410'\n",
      " '490' '477' '423' '412' '442' '406' '460' '447' '437' '449' '482' '499'\n",
      " '448' '408' '453' '497' '461' '434' '491' '498' '480' '471' '422' '407'\n",
      " '439' '405' '462' '445' '466' '436' '473' '409' '451' '468' '430' '431'\n",
      " '464' '470' '400' '426' '416' '493' '203' '200' '202' '495' '443' '248'\n",
      " '209' '297' '226' '245' '414' '234' '269' '479' '273' '210' '270' '452'\n",
      " '283' '217' '403' '465' '292' '278' '230' '249' '216' '220' '429' '207'\n",
      " '219' '233' '411' '250' '469' '232' '474' '281' '254' '287' '247' '263'\n",
      " '417' '288' '299' '296' '475' '494' '458' '275' '222' '404' '476' '467'\n",
      " '463' '291' '496' '450' '295' '487' '440' '481' '261' '294' '472' '267'\n",
      " '227' '415' '206' '241' '489' '224' '214' '282' '243' '244' '215' '235'\n",
      " '246' '274' '253' '402' '229' '433' '420' '435' '268' '264' '259' '444'\n",
      " '272' '258' '237' '485' '211' '285' '401' '201' '257' '455' '457' '252'\n",
      " '446' '483' '276' '240' '428' '456' '221' '421' '424' '239' '293' '225'\n",
      " '271' '441' '425' '478' '413' '213' '260' '427' '236' '459' '286' '492']\n"
     ]
    },
    {
     "name": "stderr",
     "output_type": "stream",
     "text": [
      "100%|██████████████████████████████████████████| 13/13 [00:00<00:00, 181.55it/s]\n"
     ]
    },
    {
     "name": "stdout",
     "output_type": "stream",
     "text": [
      "['1' '2' '3' '4' '5' '6' '7' '8' '9' '10' '11' '12' '13' '14' '15' '16'\n",
      " '17' '18' '19' '20' '432' '488' '486' '484' '419' '438' '454' '418' '410'\n",
      " '490' '477' '423' '412' '442' '406' '460' '447' '437' '449' '482' '499'\n",
      " '448' '408' '453' '497' '461' '434' '491' '498' '480' '471' '422' '407'\n",
      " '439' '405' '462' '445' '466' '436' '473' '409' '451' '468' '430' '431'\n",
      " '464' '470' '400' '426' '416' '493' '203' '200' '202' '495' '443' '248'\n",
      " '209' '297' '226' '245' '414' '234' '269' '479' '273' '210' '270' '452'\n",
      " '283' '217' '403' '465' '292' '278' '230' '249' '216' '220' '429' '207'\n",
      " '219' '233' '411' '250' '469' '232' '474' '281' '254' '287' '247' '263'\n",
      " '417' '288' '299' '296' '475' '494' '458' '275' '222' '404' '476' '467'\n",
      " '463' '291' '496' '450' '295' '487' '440' '481' '261' '294' '472' '267'\n",
      " '227' '415' '206' '241' '489' '224' '214' '282' '243' '244' '215' '235'\n",
      " '246' '274' '253' '402' '229' '433' '420' '435' '268' '264' '259' '444'\n",
      " '272' '258' '237' '485' '211' '285' '401' '201' '257' '455' '457' '252'\n",
      " '446' '483' '276' '240' '428' '456' '221' '421' '424' '239' '293' '225'\n",
      " '271' '441' '425' '478' '413' '213' '260' '427' '236' '459' '286' '492']\n"
     ]
    },
    {
     "name": "stderr",
     "output_type": "stream",
     "text": [
      "100%|█████████████████████████████████████████| 19/19 [00:00<00:00, 8792.12it/s]\n"
     ]
    },
    {
     "name": "stdout",
     "output_type": "stream",
     "text": [
      "['1' '2' '3' '4' '5' '6' '7' '8' '9' '10' '11' '12' '13' '14' '15' '16'\n",
      " '17' '18' '19' '20' '432' '488' '486' '484' '419' '438' '454' '418' '410'\n",
      " '490' '477' '423' '412' '442' '406' '460' '447' '437' '449' '482' '499'\n",
      " '448' '408' '453' '497' '461' '434' '491' '498' '480' '471' '422' '407'\n",
      " '439' '405' '462' '445' '466' '436' '473' '409' '451' '468' '430' '431'\n",
      " '464' '470' '400' '426' '416' '493' '203' '200' '202' '495' '443' '248'\n",
      " '209' '297' '226' '245' '414' '234' '269' '479' '273' '210' '270' '452'\n",
      " '283' '217' '403' '465' '292' '278' '230' '249' '216' '220' '429' '207'\n",
      " '219' '233' '411' '250' '469' '232' '474' '281' '254' '287' '247' '263'\n",
      " '417' '288' '299' '296' '475' '494' '458' '275' '222' '404' '476' '467'\n",
      " '463' '291' '496' '450' '295' '487' '440' '481' '261' '294' '472' '267'\n",
      " '227' '415' '206' '241' '489' '224' '214' '282' '243' '244' '215' '235'\n",
      " '246' '274' '253' '402' '229' '433' '420' '435' '268' '264' '259' '444'\n",
      " '272' '258' '237' '485' '211' '285' '401' '201' '257' '455' '457' '252'\n",
      " '446' '483' '276' '240' '428' '456' '221' '421' '424' '239' '293' '225'\n",
      " '271' '441' '425' '478' '413' '213' '260' '427' '236' '459' '286' '492']\n"
     ]
    },
    {
     "name": "stderr",
     "output_type": "stream",
     "text": [
      "100%|█████████████████████████████████████████| 19/19 [00:00<00:00, 4013.49it/s]\n"
     ]
    },
    {
     "name": "stdout",
     "output_type": "stream",
     "text": [
      "['1' '2' '3' '4' '5' '6' '7' '8' '9' '10' '11' '12' '13' '14' '15' '16'\n",
      " '17' '18' '19' '20' '432' '488' '486' '484' '419' '438' '454' '418' '410'\n",
      " '490' '477' '423' '412' '442' '406' '460' '447' '437' '449' '482' '499'\n",
      " '448' '408' '453' '497' '461' '434' '491' '498' '480' '471' '422' '407'\n",
      " '439' '405' '462' '445' '466' '436' '473' '409' '451' '468' '430' '431'\n",
      " '464' '470' '400' '426' '416' '493' '203' '200' '202' '495' '443' '248'\n",
      " '209' '297' '226' '245' '414' '234' '269' '479' '273' '210' '270' '452'\n",
      " '283' '217' '403' '465' '292' '278' '230' '249' '216' '220' '429' '207'\n",
      " '219' '233' '411' '250' '469' '232' '474' '281' '254' '287' '247' '263'\n",
      " '417' '288' '299' '296' '475' '494' '458' '275' '222' '404' '476' '467'\n",
      " '463' '291' '496' '450' '295' '487' '440' '481' '261' '294' '472' '267'\n",
      " '227' '415' '206' '241' '489' '224' '214' '282' '243' '244' '215' '235'\n",
      " '246' '274' '253' '402' '229' '433' '420' '435' '268' '264' '259' '444'\n",
      " '272' '258' '237' '485' '211' '285' '401' '201' '257' '455' '457' '252'\n",
      " '446' '483' '276' '240' '428' '456' '221' '421' '424' '239' '293' '225'\n",
      " '271' '441' '425' '478' '413' '213' '260' '427' '236' '459' '286' '492']\n"
     ]
    },
    {
     "name": "stderr",
     "output_type": "stream",
     "text": [
      "0it [00:00, ?it/s]\n"
     ]
    },
    {
     "name": "stdout",
     "output_type": "stream",
     "text": [
      "['1' '2' '3' '4' '5' '6' '7' '8' '9' '10' '11' '12' '13' '14' '15' '16'\n",
      " '17' '18' '19' '20' '432' '488' '486' '484' '419' '438' '454' '418' '410'\n",
      " '490' '477' '423' '412' '442' '406' '460' '447' '437' '449' '482' '499'\n",
      " '448' '408' '453' '497' '461' '434' '491' '498' '480' '471' '422' '407'\n",
      " '439' '405' '462' '445' '466' '436' '473' '409' '451' '468' '430' '431'\n",
      " '464' '470' '400' '426' '416' '493' '203' '200' '202' '495' '443' '248'\n",
      " '209' '297' '226' '245' '414' '234' '269' '479' '273' '210' '270' '452'\n",
      " '283' '217' '403' '465' '292' '278' '230' '249' '216' '220' '429' '207'\n",
      " '219' '233' '411' '250' '469' '232' '474' '281' '254' '287' '247' '263'\n",
      " '417' '288' '299' '296' '475' '494' '458' '275' '222' '404' '476' '467'\n",
      " '463' '291' '496' '450' '295' '487' '440' '481' '261' '294' '472' '267'\n",
      " '227' '415' '206' '241' '489' '224' '214' '282' '243' '244' '215' '235'\n",
      " '246' '274' '253' '402' '229' '433' '420' '435' '268' '264' '259' '444'\n",
      " '272' '258' '237' '485' '211' '285' '401' '201' '257' '455' '457' '252'\n",
      " '446' '483' '276' '240' '428' '456' '221' '421' '424' '239' '293' '225'\n",
      " '271' '441' '425' '478' '413' '213' '260' '427' '236' '459' '286' '492']\n"
     ]
    },
    {
     "name": "stderr",
     "output_type": "stream",
     "text": [
      "100%|█████████████████████████████████████████| 19/19 [00:00<00:00, 7052.99it/s]\n"
     ]
    },
    {
     "name": "stdout",
     "output_type": "stream",
     "text": [
      "['1' '2' '3' '4' '5' '6' '7' '8' '9' '10' '11' '12' '13' '14' '15' '16'\n",
      " '17' '18' '19' '20' '432' '488' '486' '484' '419' '438' '454' '418' '410'\n",
      " '490' '477' '423' '412' '442' '406' '460' '447' '437' '449' '482' '499'\n",
      " '448' '408' '453' '497' '461' '434' '491' '498' '480' '471' '422' '407'\n",
      " '439' '405' '462' '445' '466' '436' '473' '409' '451' '468' '430' '431'\n",
      " '464' '470' '400' '426' '416' '493' '203' '200' '202' '495' '443' '248'\n",
      " '209' '297' '226' '245' '414' '234' '269' '479' '273' '210' '270' '452'\n",
      " '283' '217' '403' '465' '292' '278' '230' '249' '216' '220' '429' '207'\n",
      " '219' '233' '411' '250' '469' '232' '474' '281' '254' '287' '247' '263'\n",
      " '417' '288' '299' '296' '475' '494' '458' '275' '222' '404' '476' '467'\n",
      " '463' '291' '496' '450' '295' '487' '440' '481' '261' '294' '472' '267'\n",
      " '227' '415' '206' '241' '489' '224' '214' '282' '243' '244' '215' '235'\n",
      " '246' '274' '253' '402' '229' '433' '420' '435' '268' '264' '259' '444'\n",
      " '272' '258' '237' '485' '211' '285' '401' '201' '257' '455' '457' '252'\n",
      " '446' '483' '276' '240' '428' '456' '221' '421' '424' '239' '293' '225'\n",
      " '271' '441' '425' '478' '413' '213' '260' '427' '236' '459' '286' '492']\n"
     ]
    },
    {
     "name": "stderr",
     "output_type": "stream",
     "text": [
      "100%|█████████████████████████████████████████| 20/20 [00:00<00:00, 3602.12it/s]\n"
     ]
    },
    {
     "name": "stdout",
     "output_type": "stream",
     "text": [
      "['1' '2' '3' '4' '5' '6' '7' '8' '9' '10' '11' '12' '13' '14' '15' '16'\n",
      " '17' '18' '19' '20' '432' '488' '486' '484' '419' '438' '454' '418' '410'\n",
      " '490' '477' '423' '412' '442' '406' '460' '447' '437' '449' '482' '499'\n",
      " '448' '408' '453' '497' '461' '434' '491' '498' '480' '471' '422' '407'\n",
      " '439' '405' '462' '445' '466' '436' '473' '409' '451' '468' '430' '431'\n",
      " '464' '470' '400' '426' '416' '493' '203' '200' '202' '495' '443' '248'\n",
      " '209' '297' '226' '245' '414' '234' '269' '479' '273' '210' '270' '452'\n",
      " '283' '217' '403' '465' '292' '278' '230' '249' '216' '220' '429' '207'\n",
      " '219' '233' '411' '250' '469' '232' '474' '281' '254' '287' '247' '263'\n",
      " '417' '288' '299' '296' '475' '494' '458' '275' '222' '404' '476' '467'\n",
      " '463' '291' '496' '450' '295' '487' '440' '481' '261' '294' '472' '267'\n",
      " '227' '415' '206' '241' '489' '224' '214' '282' '243' '244' '215' '235'\n",
      " '246' '274' '253' '402' '229' '433' '420' '435' '268' '264' '259' '444'\n",
      " '272' '258' '237' '485' '211' '285' '401' '201' '257' '455' '457' '252'\n",
      " '446' '483' '276' '240' '428' '456' '221' '421' '424' '239' '293' '225'\n",
      " '271' '441' '425' '478' '413' '213' '260' '427' '236' '459' '286' '492']\n"
     ]
    },
    {
     "name": "stderr",
     "output_type": "stream",
     "text": [
      "0it [00:00, ?it/s]\n"
     ]
    },
    {
     "name": "stdout",
     "output_type": "stream",
     "text": [
      "['1' '2' '3' '4' '5' '6' '7' '8' '9' '10' '11' '12' '13' '14' '15' '16'\n",
      " '17' '18' '19' '20' '432' '488' '486' '484' '419' '438' '454' '418' '410'\n",
      " '490' '477' '423' '412' '442' '406' '460' '447' '437' '449' '482' '499'\n",
      " '448' '408' '453' '497' '461' '434' '491' '498' '480' '471' '422' '407'\n",
      " '439' '405' '462' '445' '466' '436' '473' '409' '451' '468' '430' '431'\n",
      " '464' '470' '400' '426' '416' '493' '203' '200' '202' '495' '443' '248'\n",
      " '209' '297' '226' '245' '414' '234' '269' '479' '273' '210' '270' '452'\n",
      " '283' '217' '403' '465' '292' '278' '230' '249' '216' '220' '429' '207'\n",
      " '219' '233' '411' '250' '469' '232' '474' '281' '254' '287' '247' '263'\n",
      " '417' '288' '299' '296' '475' '494' '458' '275' '222' '404' '476' '467'\n",
      " '463' '291' '496' '450' '295' '487' '440' '481' '261' '294' '472' '267'\n",
      " '227' '415' '206' '241' '489' '224' '214' '282' '243' '244' '215' '235'\n",
      " '246' '274' '253' '402' '229' '433' '420' '435' '268' '264' '259' '444'\n",
      " '272' '258' '237' '485' '211' '285' '401' '201' '257' '455' '457' '252'\n",
      " '446' '483' '276' '240' '428' '456' '221' '421' '424' '239' '293' '225'\n",
      " '271' '441' '425' '478' '413' '213' '260' '427' '236' '459' '286' '492']\n"
     ]
    },
    {
     "name": "stderr",
     "output_type": "stream",
     "text": [
      "100%|██████████████████████████████████████████| 12/12 [00:00<00:00, 182.42it/s]\n"
     ]
    },
    {
     "name": "stdout",
     "output_type": "stream",
     "text": [
      "['1' '2' '3' '4' '5' '6' '7' '8' '9' '10' '11' '12' '13' '14' '15' '16'\n",
      " '17' '18' '19' '20' '432' '488' '486' '484' '419' '438' '454' '418' '410'\n",
      " '490' '477' '423' '412' '442' '406' '460' '447' '437' '449' '482' '499'\n",
      " '448' '408' '453' '497' '461' '434' '491' '498' '480' '471' '422' '407'\n",
      " '439' '405' '462' '445' '466' '436' '473' '409' '451' '468' '430' '431'\n",
      " '464' '470' '400' '426' '416' '493' '203' '200' '202' '495' '443' '248'\n",
      " '209' '297' '226' '245' '414' '234' '269' '479' '273' '210' '270' '452'\n",
      " '283' '217' '403' '465' '292' '278' '230' '249' '216' '220' '429' '207'\n",
      " '219' '233' '411' '250' '469' '232' '474' '281' '254' '287' '247' '263'\n",
      " '417' '288' '299' '296' '475' '494' '458' '275' '222' '404' '476' '467'\n",
      " '463' '291' '496' '450' '295' '487' '440' '481' '261' '294' '472' '267'\n",
      " '227' '415' '206' '241' '489' '224' '214' '282' '243' '244' '215' '235'\n",
      " '246' '274' '253' '402' '229' '433' '420' '435' '268' '264' '259' '444'\n",
      " '272' '258' '237' '485' '211' '285' '401' '201' '257' '455' '457' '252'\n",
      " '446' '483' '276' '240' '428' '456' '221' '421' '424' '239' '293' '225'\n",
      " '271' '441' '425' '478' '413' '213' '260' '427' '236' '459' '286' '492']\n"
     ]
    },
    {
     "name": "stderr",
     "output_type": "stream",
     "text": [
      "0it [00:00, ?it/s]\n"
     ]
    },
    {
     "name": "stdout",
     "output_type": "stream",
     "text": [
      "['1' '2' '3' '4' '5' '6' '7' '8' '9' '10' '11' '12' '13' '14' '15' '16'\n",
      " '17' '18' '19' '20' '432' '488' '486' '484' '419' '438' '454' '418' '410'\n",
      " '490' '477' '423' '412' '442' '406' '460' '447' '437' '449' '482' '499'\n",
      " '448' '408' '453' '497' '461' '434' '491' '498' '480' '471' '422' '407'\n",
      " '439' '405' '462' '445' '466' '436' '473' '409' '451' '468' '430' '431'\n",
      " '464' '470' '400' '426' '416' '493' '203' '200' '202' '495' '443' '248'\n",
      " '209' '297' '226' '245' '414' '234' '269' '479' '273' '210' '270' '452'\n",
      " '283' '217' '403' '465' '292' '278' '230' '249' '216' '220' '429' '207'\n",
      " '219' '233' '411' '250' '469' '232' '474' '281' '254' '287' '247' '263'\n",
      " '417' '288' '299' '296' '475' '494' '458' '275' '222' '404' '476' '467'\n",
      " '463' '291' '496' '450' '295' '487' '440' '481' '261' '294' '472' '267'\n",
      " '227' '415' '206' '241' '489' '224' '214' '282' '243' '244' '215' '235'\n",
      " '246' '274' '253' '402' '229' '433' '420' '435' '268' '264' '259' '444'\n",
      " '272' '258' '237' '485' '211' '285' '401' '201' '257' '455' '457' '252'\n",
      " '446' '483' '276' '240' '428' '456' '221' '421' '424' '239' '293' '225'\n",
      " '271' '441' '425' '478' '413' '213' '260' '427' '236' '459' '286' '492']\n"
     ]
    },
    {
     "name": "stderr",
     "output_type": "stream",
     "text": [
      "100%|█████████████████████████████████████████| 21/21 [00:00<00:00, 2784.80it/s]\n"
     ]
    },
    {
     "name": "stdout",
     "output_type": "stream",
     "text": [
      "['1' '2' '3' '4' '5' '6' '7' '8' '9' '10' '11' '12' '13' '14' '15' '16'\n",
      " '17' '18' '19' '20' '432' '488' '486' '484' '419' '438' '454' '418' '410'\n",
      " '490' '477' '423' '412' '442' '406' '460' '447' '437' '449' '482' '499'\n",
      " '448' '408' '453' '497' '461' '434' '491' '498' '480' '471' '422' '407'\n",
      " '439' '405' '462' '445' '466' '436' '473' '409' '451' '468' '430' '431'\n",
      " '464' '470' '400' '426' '416' '493' '203' '200' '202' '495' '443' '248'\n",
      " '209' '297' '226' '245' '414' '234' '269' '479' '273' '210' '270' '452'\n",
      " '283' '217' '403' '465' '292' '278' '230' '249' '216' '220' '429' '207'\n",
      " '219' '233' '411' '250' '469' '232' '474' '281' '254' '287' '247' '263'\n",
      " '417' '288' '299' '296' '475' '494' '458' '275' '222' '404' '476' '467'\n",
      " '463' '291' '496' '450' '295' '487' '440' '481' '261' '294' '472' '267'\n",
      " '227' '415' '206' '241' '489' '224' '214' '282' '243' '244' '215' '235'\n",
      " '246' '274' '253' '402' '229' '433' '420' '435' '268' '264' '259' '444'\n",
      " '272' '258' '237' '485' '211' '285' '401' '201' '257' '455' '457' '252'\n",
      " '446' '483' '276' '240' '428' '456' '221' '421' '424' '239' '293' '225'\n",
      " '271' '441' '425' '478' '413' '213' '260' '427' '236' '459' '286' '492']\n"
     ]
    },
    {
     "name": "stderr",
     "output_type": "stream",
     "text": [
      "100%|█████████████████████████████████████████| 20/20 [00:00<00:00, 3772.87it/s]\n"
     ]
    },
    {
     "name": "stdout",
     "output_type": "stream",
     "text": [
      "['1' '2' '3' '4' '5' '6' '7' '8' '9' '10' '11' '12' '13' '14' '15' '16'\n",
      " '17' '18' '19' '20' '432' '488' '486' '484' '419' '438' '454' '418' '410'\n",
      " '490' '477' '423' '412' '442' '406' '460' '447' '437' '449' '482' '499'\n",
      " '448' '408' '453' '497' '461' '434' '491' '498' '480' '471' '422' '407'\n",
      " '439' '405' '462' '445' '466' '436' '473' '409' '451' '468' '430' '431'\n",
      " '464' '470' '400' '426' '416' '493' '203' '200' '202' '495' '443' '248'\n",
      " '209' '297' '226' '245' '414' '234' '269' '479' '273' '210' '270' '452'\n",
      " '283' '217' '403' '465' '292' '278' '230' '249' '216' '220' '429' '207'\n",
      " '219' '233' '411' '250' '469' '232' '474' '281' '254' '287' '247' '263'\n",
      " '417' '288' '299' '296' '475' '494' '458' '275' '222' '404' '476' '467'\n",
      " '463' '291' '496' '450' '295' '487' '440' '481' '261' '294' '472' '267'\n",
      " '227' '415' '206' '241' '489' '224' '214' '282' '243' '244' '215' '235'\n",
      " '246' '274' '253' '402' '229' '433' '420' '435' '268' '264' '259' '444'\n",
      " '272' '258' '237' '485' '211' '285' '401' '201' '257' '455' '457' '252'\n",
      " '446' '483' '276' '240' '428' '456' '221' '421' '424' '239' '293' '225'\n",
      " '271' '441' '425' '478' '413' '213' '260' '427' '236' '459' '286' '492']\n"
     ]
    },
    {
     "name": "stderr",
     "output_type": "stream",
     "text": [
      "0it [00:00, ?it/s]\n"
     ]
    },
    {
     "name": "stdout",
     "output_type": "stream",
     "text": [
      "['1' '2' '3' '4' '5' '6' '7' '8' '9' '10' '11' '12' '13' '14' '15' '16'\n",
      " '17' '18' '19' '20' '432' '488' '486' '484' '419' '438' '454' '418' '410'\n",
      " '490' '477' '423' '412' '442' '406' '460' '447' '437' '449' '482' '499'\n",
      " '448' '408' '453' '497' '461' '434' '491' '498' '480' '471' '422' '407'\n",
      " '439' '405' '462' '445' '466' '436' '473' '409' '451' '468' '430' '431'\n",
      " '464' '470' '400' '426' '416' '493' '203' '200' '202' '495' '443' '248'\n",
      " '209' '297' '226' '245' '414' '234' '269' '479' '273' '210' '270' '452'\n",
      " '283' '217' '403' '465' '292' '278' '230' '249' '216' '220' '429' '207'\n",
      " '219' '233' '411' '250' '469' '232' '474' '281' '254' '287' '247' '263'\n",
      " '417' '288' '299' '296' '475' '494' '458' '275' '222' '404' '476' '467'\n",
      " '463' '291' '496' '450' '295' '487' '440' '481' '261' '294' '472' '267'\n",
      " '227' '415' '206' '241' '489' '224' '214' '282' '243' '244' '215' '235'\n",
      " '246' '274' '253' '402' '229' '433' '420' '435' '268' '264' '259' '444'\n",
      " '272' '258' '237' '485' '211' '285' '401' '201' '257' '455' '457' '252'\n",
      " '446' '483' '276' '240' '428' '456' '221' '421' '424' '239' '293' '225'\n",
      " '271' '441' '425' '478' '413' '213' '260' '427' '236' '459' '286' '492']\n"
     ]
    },
    {
     "name": "stderr",
     "output_type": "stream",
     "text": [
      "0it [00:00, ?it/s]\n"
     ]
    },
    {
     "name": "stdout",
     "output_type": "stream",
     "text": [
      "['1' '2' '3' '4' '5' '6' '7' '8' '9' '10' '11' '12' '13' '14' '15' '16'\n",
      " '17' '18' '19' '20' '432' '488' '486' '484' '419' '438' '454' '418' '410'\n",
      " '490' '477' '423' '412' '442' '406' '460' '447' '437' '449' '482' '499'\n",
      " '448' '408' '453' '497' '461' '434' '491' '498' '480' '471' '422' '407'\n",
      " '439' '405' '462' '445' '466' '436' '473' '409' '451' '468' '430' '431'\n",
      " '464' '470' '400' '426' '416' '493' '203' '200' '202' '495' '443' '248'\n",
      " '209' '297' '226' '245' '414' '234' '269' '479' '273' '210' '270' '452'\n",
      " '283' '217' '403' '465' '292' '278' '230' '249' '216' '220' '429' '207'\n",
      " '219' '233' '411' '250' '469' '232' '474' '281' '254' '287' '247' '263'\n",
      " '417' '288' '299' '296' '475' '494' '458' '275' '222' '404' '476' '467'\n",
      " '463' '291' '496' '450' '295' '487' '440' '481' '261' '294' '472' '267'\n",
      " '227' '415' '206' '241' '489' '224' '214' '282' '243' '244' '215' '235'\n",
      " '246' '274' '253' '402' '229' '433' '420' '435' '268' '264' '259' '444'\n",
      " '272' '258' '237' '485' '211' '285' '401' '201' '257' '455' '457' '252'\n",
      " '446' '483' '276' '240' '428' '456' '221' '421' '424' '239' '293' '225'\n",
      " '271' '441' '425' '478' '413' '213' '260' '427' '236' '459' '286' '492']\n"
     ]
    },
    {
     "name": "stderr",
     "output_type": "stream",
     "text": [
      "0it [00:00, ?it/s]\n"
     ]
    },
    {
     "name": "stdout",
     "output_type": "stream",
     "text": [
      "['1' '2' '3' '4' '5' '6' '7' '8' '9' '10' '11' '12' '13' '14' '15' '16'\n",
      " '17' '18' '19' '20' '432' '488' '486' '484' '419' '438' '454' '418' '410'\n",
      " '490' '477' '423' '412' '442' '406' '460' '447' '437' '449' '482' '499'\n",
      " '448' '408' '453' '497' '461' '434' '491' '498' '480' '471' '422' '407'\n",
      " '439' '405' '462' '445' '466' '436' '473' '409' '451' '468' '430' '431'\n",
      " '464' '470' '400' '426' '416' '493' '203' '200' '202' '495' '443' '248'\n",
      " '209' '297' '226' '245' '414' '234' '269' '479' '273' '210' '270' '452'\n",
      " '283' '217' '403' '465' '292' '278' '230' '249' '216' '220' '429' '207'\n",
      " '219' '233' '411' '250' '469' '232' '474' '281' '254' '287' '247' '263'\n",
      " '417' '288' '299' '296' '475' '494' '458' '275' '222' '404' '476' '467'\n",
      " '463' '291' '496' '450' '295' '487' '440' '481' '261' '294' '472' '267'\n",
      " '227' '415' '206' '241' '489' '224' '214' '282' '243' '244' '215' '235'\n",
      " '246' '274' '253' '402' '229' '433' '420' '435' '268' '264' '259' '444'\n",
      " '272' '258' '237' '485' '211' '285' '401' '201' '257' '455' '457' '252'\n",
      " '446' '483' '276' '240' '428' '456' '221' '421' '424' '239' '293' '225'\n",
      " '271' '441' '425' '478' '413' '213' '260' '427' '236' '459' '286' '492']\n"
     ]
    },
    {
     "name": "stderr",
     "output_type": "stream",
     "text": [
      "100%|█████████████████████████████████████████| 19/19 [00:00<00:00, 8221.58it/s]\n"
     ]
    },
    {
     "name": "stdout",
     "output_type": "stream",
     "text": [
      "['1' '2' '3' '4' '5' '6' '7' '8' '9' '10' '11' '12' '13' '14' '15' '16'\n",
      " '17' '18' '19' '20' '432' '488' '486' '484' '419' '438' '454' '418' '410'\n",
      " '490' '477' '423' '412' '442' '406' '460' '447' '437' '449' '482' '499'\n",
      " '448' '408' '453' '497' '461' '434' '491' '498' '480' '471' '422' '407'\n",
      " '439' '405' '462' '445' '466' '436' '473' '409' '451' '468' '430' '431'\n",
      " '464' '470' '400' '426' '416' '493' '203' '200' '202' '495' '443' '248'\n",
      " '209' '297' '226' '245' '414' '234' '269' '479' '273' '210' '270' '452'\n",
      " '283' '217' '403' '465' '292' '278' '230' '249' '216' '220' '429' '207'\n",
      " '219' '233' '411' '250' '469' '232' '474' '281' '254' '287' '247' '263'\n",
      " '417' '288' '299' '296' '475' '494' '458' '275' '222' '404' '476' '467'\n",
      " '463' '291' '496' '450' '295' '487' '440' '481' '261' '294' '472' '267'\n",
      " '227' '415' '206' '241' '489' '224' '214' '282' '243' '244' '215' '235'\n",
      " '246' '274' '253' '402' '229' '433' '420' '435' '268' '264' '259' '444'\n",
      " '272' '258' '237' '485' '211' '285' '401' '201' '257' '455' '457' '252'\n",
      " '446' '483' '276' '240' '428' '456' '221' '421' '424' '239' '293' '225'\n",
      " '271' '441' '425' '478' '413' '213' '260' '427' '236' '459' '286' '492']\n"
     ]
    },
    {
     "name": "stderr",
     "output_type": "stream",
     "text": [
      "0it [00:00, ?it/s]\n"
     ]
    },
    {
     "name": "stdout",
     "output_type": "stream",
     "text": [
      "['1' '2' '3' '4' '5' '6' '7' '8' '9' '10' '11' '12' '13' '14' '15' '16'\n",
      " '17' '18' '19' '20' '432' '488' '486' '484' '419' '438' '454' '418' '410'\n",
      " '490' '477' '423' '412' '442' '406' '460' '447' '437' '449' '482' '499'\n",
      " '448' '408' '453' '497' '461' '434' '491' '498' '480' '471' '422' '407'\n",
      " '439' '405' '462' '445' '466' '436' '473' '409' '451' '468' '430' '431'\n",
      " '464' '470' '400' '426' '416' '493' '203' '200' '202' '495' '443' '248'\n",
      " '209' '297' '226' '245' '414' '234' '269' '479' '273' '210' '270' '452'\n",
      " '283' '217' '403' '465' '292' '278' '230' '249' '216' '220' '429' '207'\n",
      " '219' '233' '411' '250' '469' '232' '474' '281' '254' '287' '247' '263'\n",
      " '417' '288' '299' '296' '475' '494' '458' '275' '222' '404' '476' '467'\n",
      " '463' '291' '496' '450' '295' '487' '440' '481' '261' '294' '472' '267'\n",
      " '227' '415' '206' '241' '489' '224' '214' '282' '243' '244' '215' '235'\n",
      " '246' '274' '253' '402' '229' '433' '420' '435' '268' '264' '259' '444'\n",
      " '272' '258' '237' '485' '211' '285' '401' '201' '257' '455' '457' '252'\n",
      " '446' '483' '276' '240' '428' '456' '221' '421' '424' '239' '293' '225'\n",
      " '271' '441' '425' '478' '413' '213' '260' '427' '236' '459' '286' '492']\n"
     ]
    },
    {
     "name": "stderr",
     "output_type": "stream",
     "text": [
      "0it [00:00, ?it/s]\n"
     ]
    },
    {
     "name": "stdout",
     "output_type": "stream",
     "text": [
      "['1' '2' '3' '4' '5' '6' '7' '8' '9' '10' '11' '12' '13' '14' '15' '16'\n",
      " '17' '18' '19' '20' '432' '488' '486' '484' '419' '438' '454' '418' '410'\n",
      " '490' '477' '423' '412' '442' '406' '460' '447' '437' '449' '482' '499'\n",
      " '448' '408' '453' '497' '461' '434' '491' '498' '480' '471' '422' '407'\n",
      " '439' '405' '462' '445' '466' '436' '473' '409' '451' '468' '430' '431'\n",
      " '464' '470' '400' '426' '416' '493' '203' '200' '202' '495' '443' '248'\n",
      " '209' '297' '226' '245' '414' '234' '269' '479' '273' '210' '270' '452'\n",
      " '283' '217' '403' '465' '292' '278' '230' '249' '216' '220' '429' '207'\n",
      " '219' '233' '411' '250' '469' '232' '474' '281' '254' '287' '247' '263'\n",
      " '417' '288' '299' '296' '475' '494' '458' '275' '222' '404' '476' '467'\n",
      " '463' '291' '496' '450' '295' '487' '440' '481' '261' '294' '472' '267'\n",
      " '227' '415' '206' '241' '489' '224' '214' '282' '243' '244' '215' '235'\n",
      " '246' '274' '253' '402' '229' '433' '420' '435' '268' '264' '259' '444'\n",
      " '272' '258' '237' '485' '211' '285' '401' '201' '257' '455' '457' '252'\n",
      " '446' '483' '276' '240' '428' '456' '221' '421' '424' '239' '293' '225'\n",
      " '271' '441' '425' '478' '413' '213' '260' '427' '236' '459' '286' '492']\n"
     ]
    },
    {
     "name": "stderr",
     "output_type": "stream",
     "text": [
      "100%|█████████████████████████████████████████| 19/19 [00:00<00:00, 7230.25it/s]\n"
     ]
    },
    {
     "name": "stdout",
     "output_type": "stream",
     "text": [
      "['1' '2' '3' '4' '5' '6' '7' '8' '9' '10' '11' '12' '13' '14' '15' '16'\n",
      " '17' '18' '19' '20' '432' '488' '486' '484' '419' '438' '454' '418' '410'\n",
      " '490' '477' '423' '412' '442' '406' '460' '447' '437' '449' '482' '499'\n",
      " '448' '408' '453' '497' '461' '434' '491' '498' '480' '471' '422' '407'\n",
      " '439' '405' '462' '445' '466' '436' '473' '409' '451' '468' '430' '431'\n",
      " '464' '470' '400' '426' '416' '493' '203' '200' '202' '495' '443' '248'\n",
      " '209' '297' '226' '245' '414' '234' '269' '479' '273' '210' '270' '452'\n",
      " '283' '217' '403' '465' '292' '278' '230' '249' '216' '220' '429' '207'\n",
      " '219' '233' '411' '250' '469' '232' '474' '281' '254' '287' '247' '263'\n",
      " '417' '288' '299' '296' '475' '494' '458' '275' '222' '404' '476' '467'\n",
      " '463' '291' '496' '450' '295' '487' '440' '481' '261' '294' '472' '267'\n",
      " '227' '415' '206' '241' '489' '224' '214' '282' '243' '244' '215' '235'\n",
      " '246' '274' '253' '402' '229' '433' '420' '435' '268' '264' '259' '444'\n",
      " '272' '258' '237' '485' '211' '285' '401' '201' '257' '455' '457' '252'\n",
      " '446' '483' '276' '240' '428' '456' '221' '421' '424' '239' '293' '225'\n",
      " '271' '441' '425' '478' '413' '213' '260' '427' '236' '459' '286' '492']\n"
     ]
    },
    {
     "name": "stderr",
     "output_type": "stream",
     "text": [
      "0it [00:00, ?it/s]\n"
     ]
    },
    {
     "name": "stdout",
     "output_type": "stream",
     "text": [
      "['1' '2' '3' '4' '5' '6' '7' '8' '9' '10' '11' '12' '13' '14' '15' '16'\n",
      " '17' '18' '19' '20' '432' '488' '486' '484' '419' '438' '454' '418' '410'\n",
      " '490' '477' '423' '412' '442' '406' '460' '447' '437' '449' '482' '499'\n",
      " '448' '408' '453' '497' '461' '434' '491' '498' '480' '471' '422' '407'\n",
      " '439' '405' '462' '445' '466' '436' '473' '409' '451' '468' '430' '431'\n",
      " '464' '470' '400' '426' '416' '493' '203' '200' '202' '495' '443' '248'\n",
      " '209' '297' '226' '245' '414' '234' '269' '479' '273' '210' '270' '452'\n",
      " '283' '217' '403' '465' '292' '278' '230' '249' '216' '220' '429' '207'\n",
      " '219' '233' '411' '250' '469' '232' '474' '281' '254' '287' '247' '263'\n",
      " '417' '288' '299' '296' '475' '494' '458' '275' '222' '404' '476' '467'\n",
      " '463' '291' '496' '450' '295' '487' '440' '481' '261' '294' '472' '267'\n",
      " '227' '415' '206' '241' '489' '224' '214' '282' '243' '244' '215' '235'\n",
      " '246' '274' '253' '402' '229' '433' '420' '435' '268' '264' '259' '444'\n",
      " '272' '258' '237' '485' '211' '285' '401' '201' '257' '455' '457' '252'\n",
      " '446' '483' '276' '240' '428' '456' '221' '421' '424' '239' '293' '225'\n",
      " '271' '441' '425' '478' '413' '213' '260' '427' '236' '459' '286' '492']\n"
     ]
    },
    {
     "name": "stderr",
     "output_type": "stream",
     "text": [
      "100%|█████████████████████████████████████████| 18/18 [00:00<00:00, 1887.81it/s]\n"
     ]
    },
    {
     "name": "stdout",
     "output_type": "stream",
     "text": [
      "['1' '2' '3' '4' '5' '6' '7' '8' '9' '10' '11' '12' '13' '14' '15' '16'\n",
      " '17' '18' '19' '20' '432' '488' '486' '484' '419' '438' '454' '418' '410'\n",
      " '490' '477' '423' '412' '442' '406' '460' '447' '437' '449' '482' '499'\n",
      " '448' '408' '453' '497' '461' '434' '491' '498' '480' '471' '422' '407'\n",
      " '439' '405' '462' '445' '466' '436' '473' '409' '451' '468' '430' '431'\n",
      " '464' '470' '400' '426' '416' '493' '203' '200' '202' '495' '443' '248'\n",
      " '209' '297' '226' '245' '414' '234' '269' '479' '273' '210' '270' '452'\n",
      " '283' '217' '403' '465' '292' '278' '230' '249' '216' '220' '429' '207'\n",
      " '219' '233' '411' '250' '469' '232' '474' '281' '254' '287' '247' '263'\n",
      " '417' '288' '299' '296' '475' '494' '458' '275' '222' '404' '476' '467'\n",
      " '463' '291' '496' '450' '295' '487' '440' '481' '261' '294' '472' '267'\n",
      " '227' '415' '206' '241' '489' '224' '214' '282' '243' '244' '215' '235'\n",
      " '246' '274' '253' '402' '229' '433' '420' '435' '268' '264' '259' '444'\n",
      " '272' '258' '237' '485' '211' '285' '401' '201' '257' '455' '457' '252'\n",
      " '446' '483' '276' '240' '428' '456' '221' '421' '424' '239' '293' '225'\n",
      " '271' '441' '425' '478' '413' '213' '260' '427' '236' '459' '286' '492']\n"
     ]
    },
    {
     "name": "stderr",
     "output_type": "stream",
     "text": [
      "100%|██████████████████████████████████████████| 11/11 [00:00<00:00, 182.42it/s]\n"
     ]
    },
    {
     "name": "stdout",
     "output_type": "stream",
     "text": [
      "['1' '2' '3' '4' '5' '6' '7' '8' '9' '10' '11' '12' '13' '14' '15' '16'\n",
      " '17' '18' '19' '20' '432' '488' '486' '484' '419' '438' '454' '418' '410'\n",
      " '490' '477' '423' '412' '442' '406' '460' '447' '437' '449' '482' '499'\n",
      " '448' '408' '453' '497' '461' '434' '491' '498' '480' '471' '422' '407'\n",
      " '439' '405' '462' '445' '466' '436' '473' '409' '451' '468' '430' '431'\n",
      " '464' '470' '400' '426' '416' '493' '203' '200' '202' '495' '443' '248'\n",
      " '209' '297' '226' '245' '414' '234' '269' '479' '273' '210' '270' '452'\n",
      " '283' '217' '403' '465' '292' '278' '230' '249' '216' '220' '429' '207'\n",
      " '219' '233' '411' '250' '469' '232' '474' '281' '254' '287' '247' '263'\n",
      " '417' '288' '299' '296' '475' '494' '458' '275' '222' '404' '476' '467'\n",
      " '463' '291' '496' '450' '295' '487' '440' '481' '261' '294' '472' '267'\n",
      " '227' '415' '206' '241' '489' '224' '214' '282' '243' '244' '215' '235'\n",
      " '246' '274' '253' '402' '229' '433' '420' '435' '268' '264' '259' '444'\n",
      " '272' '258' '237' '485' '211' '285' '401' '201' '257' '455' '457' '252'\n",
      " '446' '483' '276' '240' '428' '456' '221' '421' '424' '239' '293' '225'\n",
      " '271' '441' '425' '478' '413' '213' '260' '427' '236' '459' '286' '492']\n"
     ]
    },
    {
     "name": "stderr",
     "output_type": "stream",
     "text": [
      "0it [00:00, ?it/s]\n"
     ]
    },
    {
     "name": "stdout",
     "output_type": "stream",
     "text": [
      "['1' '2' '3' '4' '5' '6' '7' '8' '9' '10' '11' '12' '13' '14' '15' '16'\n",
      " '17' '18' '19' '20' '432' '488' '486' '484' '419' '438' '454' '418' '410'\n",
      " '490' '477' '423' '412' '442' '406' '460' '447' '437' '449' '482' '499'\n",
      " '448' '408' '453' '497' '461' '434' '491' '498' '480' '471' '422' '407'\n",
      " '439' '405' '462' '445' '466' '436' '473' '409' '451' '468' '430' '431'\n",
      " '464' '470' '400' '426' '416' '493' '203' '200' '202' '495' '443' '248'\n",
      " '209' '297' '226' '245' '414' '234' '269' '479' '273' '210' '270' '452'\n",
      " '283' '217' '403' '465' '292' '278' '230' '249' '216' '220' '429' '207'\n",
      " '219' '233' '411' '250' '469' '232' '474' '281' '254' '287' '247' '263'\n",
      " '417' '288' '299' '296' '475' '494' '458' '275' '222' '404' '476' '467'\n",
      " '463' '291' '496' '450' '295' '487' '440' '481' '261' '294' '472' '267'\n",
      " '227' '415' '206' '241' '489' '224' '214' '282' '243' '244' '215' '235'\n",
      " '246' '274' '253' '402' '229' '433' '420' '435' '268' '264' '259' '444'\n",
      " '272' '258' '237' '485' '211' '285' '401' '201' '257' '455' '457' '252'\n",
      " '446' '483' '276' '240' '428' '456' '221' '421' '424' '239' '293' '225'\n",
      " '271' '441' '425' '478' '413' '213' '260' '427' '236' '459' '286' '492']\n"
     ]
    },
    {
     "name": "stderr",
     "output_type": "stream",
     "text": [
      "0it [00:00, ?it/s]\n"
     ]
    },
    {
     "name": "stdout",
     "output_type": "stream",
     "text": [
      "['1' '2' '3' '4' '5' '6' '7' '8' '9' '10' '11' '12' '13' '14' '15' '16'\n",
      " '17' '18' '19' '20' '432' '488' '486' '484' '419' '438' '454' '418' '410'\n",
      " '490' '477' '423' '412' '442' '406' '460' '447' '437' '449' '482' '499'\n",
      " '448' '408' '453' '497' '461' '434' '491' '498' '480' '471' '422' '407'\n",
      " '439' '405' '462' '445' '466' '436' '473' '409' '451' '468' '430' '431'\n",
      " '464' '470' '400' '426' '416' '493' '203' '200' '202' '495' '443' '248'\n",
      " '209' '297' '226' '245' '414' '234' '269' '479' '273' '210' '270' '452'\n",
      " '283' '217' '403' '465' '292' '278' '230' '249' '216' '220' '429' '207'\n",
      " '219' '233' '411' '250' '469' '232' '474' '281' '254' '287' '247' '263'\n",
      " '417' '288' '299' '296' '475' '494' '458' '275' '222' '404' '476' '467'\n",
      " '463' '291' '496' '450' '295' '487' '440' '481' '261' '294' '472' '267'\n",
      " '227' '415' '206' '241' '489' '224' '214' '282' '243' '244' '215' '235'\n",
      " '246' '274' '253' '402' '229' '433' '420' '435' '268' '264' '259' '444'\n",
      " '272' '258' '237' '485' '211' '285' '401' '201' '257' '455' '457' '252'\n",
      " '446' '483' '276' '240' '428' '456' '221' '421' '424' '239' '293' '225'\n",
      " '271' '441' '425' '478' '413' '213' '260' '427' '236' '459' '286' '492']\n"
     ]
    },
    {
     "name": "stderr",
     "output_type": "stream",
     "text": [
      "100%|█████████████████████████████████████████| 19/19 [00:00<00:00, 7639.90it/s]\n"
     ]
    },
    {
     "name": "stdout",
     "output_type": "stream",
     "text": [
      "['1' '2' '3' '4' '5' '6' '7' '8' '9' '10' '11' '12' '13' '14' '15' '16'\n",
      " '17' '18' '19' '20' '432' '488' '486' '484' '419' '438' '454' '418' '410'\n",
      " '490' '477' '423' '412' '442' '406' '460' '447' '437' '449' '482' '499'\n",
      " '448' '408' '453' '497' '461' '434' '491' '498' '480' '471' '422' '407'\n",
      " '439' '405' '462' '445' '466' '436' '473' '409' '451' '468' '430' '431'\n",
      " '464' '470' '400' '426' '416' '493' '203' '200' '202' '495' '443' '248'\n",
      " '209' '297' '226' '245' '414' '234' '269' '479' '273' '210' '270' '452'\n",
      " '283' '217' '403' '465' '292' '278' '230' '249' '216' '220' '429' '207'\n",
      " '219' '233' '411' '250' '469' '232' '474' '281' '254' '287' '247' '263'\n",
      " '417' '288' '299' '296' '475' '494' '458' '275' '222' '404' '476' '467'\n",
      " '463' '291' '496' '450' '295' '487' '440' '481' '261' '294' '472' '267'\n",
      " '227' '415' '206' '241' '489' '224' '214' '282' '243' '244' '215' '235'\n",
      " '246' '274' '253' '402' '229' '433' '420' '435' '268' '264' '259' '444'\n",
      " '272' '258' '237' '485' '211' '285' '401' '201' '257' '455' '457' '252'\n",
      " '446' '483' '276' '240' '428' '456' '221' '421' '424' '239' '293' '225'\n",
      " '271' '441' '425' '478' '413' '213' '260' '427' '236' '459' '286' '492']\n"
     ]
    },
    {
     "name": "stderr",
     "output_type": "stream",
     "text": [
      "0it [00:00, ?it/s]\n"
     ]
    },
    {
     "name": "stdout",
     "output_type": "stream",
     "text": [
      "['1' '2' '3' '4' '5' '6' '7' '8' '9' '10' '11' '12' '13' '14' '15' '16'\n",
      " '17' '18' '19' '20' '432' '488' '486' '484' '419' '438' '454' '418' '410'\n",
      " '490' '477' '423' '412' '442' '406' '460' '447' '437' '449' '482' '499'\n",
      " '448' '408' '453' '497' '461' '434' '491' '498' '480' '471' '422' '407'\n",
      " '439' '405' '462' '445' '466' '436' '473' '409' '451' '468' '430' '431'\n",
      " '464' '470' '400' '426' '416' '493' '203' '200' '202' '495' '443' '248'\n",
      " '209' '297' '226' '245' '414' '234' '269' '479' '273' '210' '270' '452'\n",
      " '283' '217' '403' '465' '292' '278' '230' '249' '216' '220' '429' '207'\n",
      " '219' '233' '411' '250' '469' '232' '474' '281' '254' '287' '247' '263'\n",
      " '417' '288' '299' '296' '475' '494' '458' '275' '222' '404' '476' '467'\n",
      " '463' '291' '496' '450' '295' '487' '440' '481' '261' '294' '472' '267'\n",
      " '227' '415' '206' '241' '489' '224' '214' '282' '243' '244' '215' '235'\n",
      " '246' '274' '253' '402' '229' '433' '420' '435' '268' '264' '259' '444'\n",
      " '272' '258' '237' '485' '211' '285' '401' '201' '257' '455' '457' '252'\n",
      " '446' '483' '276' '240' '428' '456' '221' '421' '424' '239' '293' '225'\n",
      " '271' '441' '425' '478' '413' '213' '260' '427' '236' '459' '286' '492']\n"
     ]
    },
    {
     "name": "stderr",
     "output_type": "stream",
     "text": [
      "0it [00:00, ?it/s]\n"
     ]
    },
    {
     "name": "stdout",
     "output_type": "stream",
     "text": [
      "['1' '2' '3' '4' '5' '6' '7' '8' '9' '10' '11' '12' '13' '14' '15' '16'\n",
      " '17' '18' '19' '20' '432' '488' '486' '484' '419' '438' '454' '418' '410'\n",
      " '490' '477' '423' '412' '442' '406' '460' '447' '437' '449' '482' '499'\n",
      " '448' '408' '453' '497' '461' '434' '491' '498' '480' '471' '422' '407'\n",
      " '439' '405' '462' '445' '466' '436' '473' '409' '451' '468' '430' '431'\n",
      " '464' '470' '400' '426' '416' '493' '203' '200' '202' '495' '443' '248'\n",
      " '209' '297' '226' '245' '414' '234' '269' '479' '273' '210' '270' '452'\n",
      " '283' '217' '403' '465' '292' '278' '230' '249' '216' '220' '429' '207'\n",
      " '219' '233' '411' '250' '469' '232' '474' '281' '254' '287' '247' '263'\n",
      " '417' '288' '299' '296' '475' '494' '458' '275' '222' '404' '476' '467'\n",
      " '463' '291' '496' '450' '295' '487' '440' '481' '261' '294' '472' '267'\n",
      " '227' '415' '206' '241' '489' '224' '214' '282' '243' '244' '215' '235'\n",
      " '246' '274' '253' '402' '229' '433' '420' '435' '268' '264' '259' '444'\n",
      " '272' '258' '237' '485' '211' '285' '401' '201' '257' '455' '457' '252'\n",
      " '446' '483' '276' '240' '428' '456' '221' '421' '424' '239' '293' '225'\n",
      " '271' '441' '425' '478' '413' '213' '260' '427' '236' '459' '286' '492']\n"
     ]
    },
    {
     "name": "stderr",
     "output_type": "stream",
     "text": [
      "0it [00:00, ?it/s]\n"
     ]
    },
    {
     "name": "stdout",
     "output_type": "stream",
     "text": [
      "['1' '2' '3' '4' '5' '6' '7' '8' '9' '10' '11' '12' '13' '14' '15' '16'\n",
      " '17' '18' '19' '20' '432' '488' '486' '484' '419' '438' '454' '418' '410'\n",
      " '490' '477' '423' '412' '442' '406' '460' '447' '437' '449' '482' '499'\n",
      " '448' '408' '453' '497' '461' '434' '491' '498' '480' '471' '422' '407'\n",
      " '439' '405' '462' '445' '466' '436' '473' '409' '451' '468' '430' '431'\n",
      " '464' '470' '400' '426' '416' '493' '203' '200' '202' '495' '443' '248'\n",
      " '209' '297' '226' '245' '414' '234' '269' '479' '273' '210' '270' '452'\n",
      " '283' '217' '403' '465' '292' '278' '230' '249' '216' '220' '429' '207'\n",
      " '219' '233' '411' '250' '469' '232' '474' '281' '254' '287' '247' '263'\n",
      " '417' '288' '299' '296' '475' '494' '458' '275' '222' '404' '476' '467'\n",
      " '463' '291' '496' '450' '295' '487' '440' '481' '261' '294' '472' '267'\n",
      " '227' '415' '206' '241' '489' '224' '214' '282' '243' '244' '215' '235'\n",
      " '246' '274' '253' '402' '229' '433' '420' '435' '268' '264' '259' '444'\n",
      " '272' '258' '237' '485' '211' '285' '401' '201' '257' '455' '457' '252'\n",
      " '446' '483' '276' '240' '428' '456' '221' '421' '424' '239' '293' '225'\n",
      " '271' '441' '425' '478' '413' '213' '260' '427' '236' '459' '286' '492']\n"
     ]
    },
    {
     "name": "stderr",
     "output_type": "stream",
     "text": [
      "100%|█████████████████████████████████████████| 20/20 [00:00<00:00, 2781.65it/s]\n"
     ]
    },
    {
     "name": "stdout",
     "output_type": "stream",
     "text": [
      "['1' '2' '3' '4' '5' '6' '7' '8' '9' '10' '11' '12' '13' '14' '15' '16'\n",
      " '17' '18' '19' '20' '432' '488' '486' '484' '419' '438' '454' '418' '410'\n",
      " '490' '477' '423' '412' '442' '406' '460' '447' '437' '449' '482' '499'\n",
      " '448' '408' '453' '497' '461' '434' '491' '498' '480' '471' '422' '407'\n",
      " '439' '405' '462' '445' '466' '436' '473' '409' '451' '468' '430' '431'\n",
      " '464' '470' '400' '426' '416' '493' '203' '200' '202' '495' '443' '248'\n",
      " '209' '297' '226' '245' '414' '234' '269' '479' '273' '210' '270' '452'\n",
      " '283' '217' '403' '465' '292' '278' '230' '249' '216' '220' '429' '207'\n",
      " '219' '233' '411' '250' '469' '232' '474' '281' '254' '287' '247' '263'\n",
      " '417' '288' '299' '296' '475' '494' '458' '275' '222' '404' '476' '467'\n",
      " '463' '291' '496' '450' '295' '487' '440' '481' '261' '294' '472' '267'\n",
      " '227' '415' '206' '241' '489' '224' '214' '282' '243' '244' '215' '235'\n",
      " '246' '274' '253' '402' '229' '433' '420' '435' '268' '264' '259' '444'\n",
      " '272' '258' '237' '485' '211' '285' '401' '201' '257' '455' '457' '252'\n",
      " '446' '483' '276' '240' '428' '456' '221' '421' '424' '239' '293' '225'\n",
      " '271' '441' '425' '478' '413' '213' '260' '427' '236' '459' '286' '492']\n"
     ]
    },
    {
     "name": "stderr",
     "output_type": "stream",
     "text": [
      "100%|█████████████████████████████████████████| 19/19 [00:00<00:00, 8535.97it/s]\n"
     ]
    },
    {
     "name": "stdout",
     "output_type": "stream",
     "text": [
      "['1' '2' '3' '4' '5' '6' '7' '8' '9' '10' '11' '12' '13' '14' '15' '16'\n",
      " '17' '18' '19' '20' '432' '488' '486' '484' '419' '438' '454' '418' '410'\n",
      " '490' '477' '423' '412' '442' '406' '460' '447' '437' '449' '482' '499'\n",
      " '448' '408' '453' '497' '461' '434' '491' '498' '480' '471' '422' '407'\n",
      " '439' '405' '462' '445' '466' '436' '473' '409' '451' '468' '430' '431'\n",
      " '464' '470' '400' '426' '416' '493' '203' '200' '202' '495' '443' '248'\n",
      " '209' '297' '226' '245' '414' '234' '269' '479' '273' '210' '270' '452'\n",
      " '283' '217' '403' '465' '292' '278' '230' '249' '216' '220' '429' '207'\n",
      " '219' '233' '411' '250' '469' '232' '474' '281' '254' '287' '247' '263'\n",
      " '417' '288' '299' '296' '475' '494' '458' '275' '222' '404' '476' '467'\n",
      " '463' '291' '496' '450' '295' '487' '440' '481' '261' '294' '472' '267'\n",
      " '227' '415' '206' '241' '489' '224' '214' '282' '243' '244' '215' '235'\n",
      " '246' '274' '253' '402' '229' '433' '420' '435' '268' '264' '259' '444'\n",
      " '272' '258' '237' '485' '211' '285' '401' '201' '257' '455' '457' '252'\n",
      " '446' '483' '276' '240' '428' '456' '221' '421' '424' '239' '293' '225'\n",
      " '271' '441' '425' '478' '413' '213' '260' '427' '236' '459' '286' '492']\n"
     ]
    },
    {
     "name": "stderr",
     "output_type": "stream",
     "text": [
      "0it [00:00, ?it/s]\n"
     ]
    },
    {
     "name": "stdout",
     "output_type": "stream",
     "text": [
      "['1' '2' '3' '4' '5' '6' '7' '8' '9' '10' '11' '12' '13' '14' '15' '16'\n",
      " '17' '18' '19' '20' '432' '488' '486' '484' '419' '438' '454' '418' '410'\n",
      " '490' '477' '423' '412' '442' '406' '460' '447' '437' '449' '482' '499'\n",
      " '448' '408' '453' '497' '461' '434' '491' '498' '480' '471' '422' '407'\n",
      " '439' '405' '462' '445' '466' '436' '473' '409' '451' '468' '430' '431'\n",
      " '464' '470' '400' '426' '416' '493' '203' '200' '202' '495' '443' '248'\n",
      " '209' '297' '226' '245' '414' '234' '269' '479' '273' '210' '270' '452'\n",
      " '283' '217' '403' '465' '292' '278' '230' '249' '216' '220' '429' '207'\n",
      " '219' '233' '411' '250' '469' '232' '474' '281' '254' '287' '247' '263'\n",
      " '417' '288' '299' '296' '475' '494' '458' '275' '222' '404' '476' '467'\n",
      " '463' '291' '496' '450' '295' '487' '440' '481' '261' '294' '472' '267'\n",
      " '227' '415' '206' '241' '489' '224' '214' '282' '243' '244' '215' '235'\n",
      " '246' '274' '253' '402' '229' '433' '420' '435' '268' '264' '259' '444'\n",
      " '272' '258' '237' '485' '211' '285' '401' '201' '257' '455' '457' '252'\n",
      " '446' '483' '276' '240' '428' '456' '221' '421' '424' '239' '293' '225'\n",
      " '271' '441' '425' '478' '413' '213' '260' '427' '236' '459' '286' '492']\n"
     ]
    },
    {
     "name": "stderr",
     "output_type": "stream",
     "text": [
      "100%|██████████████████████████████████████████| 15/15 [00:00<00:00, 185.35it/s]\n"
     ]
    },
    {
     "name": "stdout",
     "output_type": "stream",
     "text": [
      "['1' '2' '3' '4' '5' '6' '7' '8' '9' '10' '11' '12' '13' '14' '15' '16'\n",
      " '17' '18' '19' '20' '432' '488' '486' '484' '419' '438' '454' '418' '410'\n",
      " '490' '477' '423' '412' '442' '406' '460' '447' '437' '449' '482' '499'\n",
      " '448' '408' '453' '497' '461' '434' '491' '498' '480' '471' '422' '407'\n",
      " '439' '405' '462' '445' '466' '436' '473' '409' '451' '468' '430' '431'\n",
      " '464' '470' '400' '426' '416' '493' '203' '200' '202' '495' '443' '248'\n",
      " '209' '297' '226' '245' '414' '234' '269' '479' '273' '210' '270' '452'\n",
      " '283' '217' '403' '465' '292' '278' '230' '249' '216' '220' '429' '207'\n",
      " '219' '233' '411' '250' '469' '232' '474' '281' '254' '287' '247' '263'\n",
      " '417' '288' '299' '296' '475' '494' '458' '275' '222' '404' '476' '467'\n",
      " '463' '291' '496' '450' '295' '487' '440' '481' '261' '294' '472' '267'\n",
      " '227' '415' '206' '241' '489' '224' '214' '282' '243' '244' '215' '235'\n",
      " '246' '274' '253' '402' '229' '433' '420' '435' '268' '264' '259' '444'\n",
      " '272' '258' '237' '485' '211' '285' '401' '201' '257' '455' '457' '252'\n",
      " '446' '483' '276' '240' '428' '456' '221' '421' '424' '239' '293' '225'\n",
      " '271' '441' '425' '478' '413' '213' '260' '427' '236' '459' '286' '492']\n"
     ]
    },
    {
     "name": "stderr",
     "output_type": "stream",
     "text": [
      "0it [00:00, ?it/s]\n"
     ]
    },
    {
     "name": "stdout",
     "output_type": "stream",
     "text": [
      "['1' '2' '3' '4' '5' '6' '7' '8' '9' '10' '11' '12' '13' '14' '15' '16'\n",
      " '17' '18' '19' '20' '432' '488' '486' '484' '419' '438' '454' '418' '410'\n",
      " '490' '477' '423' '412' '442' '406' '460' '447' '437' '449' '482' '499'\n",
      " '448' '408' '453' '497' '461' '434' '491' '498' '480' '471' '422' '407'\n",
      " '439' '405' '462' '445' '466' '436' '473' '409' '451' '468' '430' '431'\n",
      " '464' '470' '400' '426' '416' '493' '203' '200' '202' '495' '443' '248'\n",
      " '209' '297' '226' '245' '414' '234' '269' '479' '273' '210' '270' '452'\n",
      " '283' '217' '403' '465' '292' '278' '230' '249' '216' '220' '429' '207'\n",
      " '219' '233' '411' '250' '469' '232' '474' '281' '254' '287' '247' '263'\n",
      " '417' '288' '299' '296' '475' '494' '458' '275' '222' '404' '476' '467'\n",
      " '463' '291' '496' '450' '295' '487' '440' '481' '261' '294' '472' '267'\n",
      " '227' '415' '206' '241' '489' '224' '214' '282' '243' '244' '215' '235'\n",
      " '246' '274' '253' '402' '229' '433' '420' '435' '268' '264' '259' '444'\n",
      " '272' '258' '237' '485' '211' '285' '401' '201' '257' '455' '457' '252'\n",
      " '446' '483' '276' '240' '428' '456' '221' '421' '424' '239' '293' '225'\n",
      " '271' '441' '425' '478' '413' '213' '260' '427' '236' '459' '286' '492']\n"
     ]
    },
    {
     "name": "stderr",
     "output_type": "stream",
     "text": [
      "100%|██████████████████████████████████████████| 12/12 [00:00<00:00, 185.39it/s]\n"
     ]
    },
    {
     "name": "stdout",
     "output_type": "stream",
     "text": [
      "['1' '2' '3' '4' '5' '6' '7' '8' '9' '10' '11' '12' '13' '14' '15' '16'\n",
      " '17' '18' '19' '20' '432' '488' '486' '484' '419' '438' '454' '418' '410'\n",
      " '490' '477' '423' '412' '442' '406' '460' '447' '437' '449' '482' '499'\n",
      " '448' '408' '453' '497' '461' '434' '491' '498' '480' '471' '422' '407'\n",
      " '439' '405' '462' '445' '466' '436' '473' '409' '451' '468' '430' '431'\n",
      " '464' '470' '400' '426' '416' '493' '203' '200' '202' '495' '443' '248'\n",
      " '209' '297' '226' '245' '414' '234' '269' '479' '273' '210' '270' '452'\n",
      " '283' '217' '403' '465' '292' '278' '230' '249' '216' '220' '429' '207'\n",
      " '219' '233' '411' '250' '469' '232' '474' '281' '254' '287' '247' '263'\n",
      " '417' '288' '299' '296' '475' '494' '458' '275' '222' '404' '476' '467'\n",
      " '463' '291' '496' '450' '295' '487' '440' '481' '261' '294' '472' '267'\n",
      " '227' '415' '206' '241' '489' '224' '214' '282' '243' '244' '215' '235'\n",
      " '246' '274' '253' '402' '229' '433' '420' '435' '268' '264' '259' '444'\n",
      " '272' '258' '237' '485' '211' '285' '401' '201' '257' '455' '457' '252'\n",
      " '446' '483' '276' '240' '428' '456' '221' '421' '424' '239' '293' '225'\n",
      " '271' '441' '425' '478' '413' '213' '260' '427' '236' '459' '286' '492']\n"
     ]
    },
    {
     "name": "stderr",
     "output_type": "stream",
     "text": [
      "0it [00:00, ?it/s]\n"
     ]
    },
    {
     "name": "stdout",
     "output_type": "stream",
     "text": [
      "['1' '2' '3' '4' '5' '6' '7' '8' '9' '10' '11' '12' '13' '14' '15' '16'\n",
      " '17' '18' '19' '20' '432' '488' '486' '484' '419' '438' '454' '418' '410'\n",
      " '490' '477' '423' '412' '442' '406' '460' '447' '437' '449' '482' '499'\n",
      " '448' '408' '453' '497' '461' '434' '491' '498' '480' '471' '422' '407'\n",
      " '439' '405' '462' '445' '466' '436' '473' '409' '451' '468' '430' '431'\n",
      " '464' '470' '400' '426' '416' '493' '203' '200' '202' '495' '443' '248'\n",
      " '209' '297' '226' '245' '414' '234' '269' '479' '273' '210' '270' '452'\n",
      " '283' '217' '403' '465' '292' '278' '230' '249' '216' '220' '429' '207'\n",
      " '219' '233' '411' '250' '469' '232' '474' '281' '254' '287' '247' '263'\n",
      " '417' '288' '299' '296' '475' '494' '458' '275' '222' '404' '476' '467'\n",
      " '463' '291' '496' '450' '295' '487' '440' '481' '261' '294' '472' '267'\n",
      " '227' '415' '206' '241' '489' '224' '214' '282' '243' '244' '215' '235'\n",
      " '246' '274' '253' '402' '229' '433' '420' '435' '268' '264' '259' '444'\n",
      " '272' '258' '237' '485' '211' '285' '401' '201' '257' '455' '457' '252'\n",
      " '446' '483' '276' '240' '428' '456' '221' '421' '424' '239' '293' '225'\n",
      " '271' '441' '425' '478' '413' '213' '260' '427' '236' '459' '286' '492']\n"
     ]
    },
    {
     "name": "stderr",
     "output_type": "stream",
     "text": [
      "0it [00:00, ?it/s]\n"
     ]
    },
    {
     "name": "stdout",
     "output_type": "stream",
     "text": [
      "['1' '2' '3' '4' '5' '6' '7' '8' '9' '10' '11' '12' '13' '14' '15' '16'\n",
      " '17' '18' '19' '20' '432' '488' '486' '484' '419' '438' '454' '418' '410'\n",
      " '490' '477' '423' '412' '442' '406' '460' '447' '437' '449' '482' '499'\n",
      " '448' '408' '453' '497' '461' '434' '491' '498' '480' '471' '422' '407'\n",
      " '439' '405' '462' '445' '466' '436' '473' '409' '451' '468' '430' '431'\n",
      " '464' '470' '400' '426' '416' '493' '203' '200' '202' '495' '443' '248'\n",
      " '209' '297' '226' '245' '414' '234' '269' '479' '273' '210' '270' '452'\n",
      " '283' '217' '403' '465' '292' '278' '230' '249' '216' '220' '429' '207'\n",
      " '219' '233' '411' '250' '469' '232' '474' '281' '254' '287' '247' '263'\n",
      " '417' '288' '299' '296' '475' '494' '458' '275' '222' '404' '476' '467'\n",
      " '463' '291' '496' '450' '295' '487' '440' '481' '261' '294' '472' '267'\n",
      " '227' '415' '206' '241' '489' '224' '214' '282' '243' '244' '215' '235'\n",
      " '246' '274' '253' '402' '229' '433' '420' '435' '268' '264' '259' '444'\n",
      " '272' '258' '237' '485' '211' '285' '401' '201' '257' '455' '457' '252'\n",
      " '446' '483' '276' '240' '428' '456' '221' '421' '424' '239' '293' '225'\n",
      " '271' '441' '425' '478' '413' '213' '260' '427' '236' '459' '286' '492']\n"
     ]
    },
    {
     "name": "stderr",
     "output_type": "stream",
     "text": [
      "0it [00:00, ?it/s]\n"
     ]
    },
    {
     "name": "stdout",
     "output_type": "stream",
     "text": [
      "['1' '2' '3' '4' '5' '6' '7' '8' '9' '10' '11' '12' '13' '14' '15' '16'\n",
      " '17' '18' '19' '20' '432' '488' '486' '484' '419' '438' '454' '418' '410'\n",
      " '490' '477' '423' '412' '442' '406' '460' '447' '437' '449' '482' '499'\n",
      " '448' '408' '453' '497' '461' '434' '491' '498' '480' '471' '422' '407'\n",
      " '439' '405' '462' '445' '466' '436' '473' '409' '451' '468' '430' '431'\n",
      " '464' '470' '400' '426' '416' '493' '203' '200' '202' '495' '443' '248'\n",
      " '209' '297' '226' '245' '414' '234' '269' '479' '273' '210' '270' '452'\n",
      " '283' '217' '403' '465' '292' '278' '230' '249' '216' '220' '429' '207'\n",
      " '219' '233' '411' '250' '469' '232' '474' '281' '254' '287' '247' '263'\n",
      " '417' '288' '299' '296' '475' '494' '458' '275' '222' '404' '476' '467'\n",
      " '463' '291' '496' '450' '295' '487' '440' '481' '261' '294' '472' '267'\n",
      " '227' '415' '206' '241' '489' '224' '214' '282' '243' '244' '215' '235'\n",
      " '246' '274' '253' '402' '229' '433' '420' '435' '268' '264' '259' '444'\n",
      " '272' '258' '237' '485' '211' '285' '401' '201' '257' '455' '457' '252'\n",
      " '446' '483' '276' '240' '428' '456' '221' '421' '424' '239' '293' '225'\n",
      " '271' '441' '425' '478' '413' '213' '260' '427' '236' '459' '286' '492']\n"
     ]
    },
    {
     "name": "stderr",
     "output_type": "stream",
     "text": [
      "100%|█████████████████████████████████████████| 20/20 [00:00<00:00, 4494.54it/s]\n"
     ]
    },
    {
     "name": "stdout",
     "output_type": "stream",
     "text": [
      "['1' '2' '3' '4' '5' '6' '7' '8' '9' '10' '11' '12' '13' '14' '15' '16'\n",
      " '17' '18' '19' '20' '432' '488' '486' '484' '419' '438' '454' '418' '410'\n",
      " '490' '477' '423' '412' '442' '406' '460' '447' '437' '449' '482' '499'\n",
      " '448' '408' '453' '497' '461' '434' '491' '498' '480' '471' '422' '407'\n",
      " '439' '405' '462' '445' '466' '436' '473' '409' '451' '468' '430' '431'\n",
      " '464' '470' '400' '426' '416' '493' '203' '200' '202' '495' '443' '248'\n",
      " '209' '297' '226' '245' '414' '234' '269' '479' '273' '210' '270' '452'\n",
      " '283' '217' '403' '465' '292' '278' '230' '249' '216' '220' '429' '207'\n",
      " '219' '233' '411' '250' '469' '232' '474' '281' '254' '287' '247' '263'\n",
      " '417' '288' '299' '296' '475' '494' '458' '275' '222' '404' '476' '467'\n",
      " '463' '291' '496' '450' '295' '487' '440' '481' '261' '294' '472' '267'\n",
      " '227' '415' '206' '241' '489' '224' '214' '282' '243' '244' '215' '235'\n",
      " '246' '274' '253' '402' '229' '433' '420' '435' '268' '264' '259' '444'\n",
      " '272' '258' '237' '485' '211' '285' '401' '201' '257' '455' '457' '252'\n",
      " '446' '483' '276' '240' '428' '456' '221' '421' '424' '239' '293' '225'\n",
      " '271' '441' '425' '478' '413' '213' '260' '427' '236' '459' '286' '492']\n"
     ]
    },
    {
     "name": "stderr",
     "output_type": "stream",
     "text": [
      "0it [00:00, ?it/s]\n"
     ]
    },
    {
     "name": "stdout",
     "output_type": "stream",
     "text": [
      "['1' '2' '3' '4' '5' '6' '7' '8' '9' '10' '11' '12' '13' '14' '15' '16'\n",
      " '17' '18' '19' '20' '432' '488' '486' '484' '419' '438' '454' '418' '410'\n",
      " '490' '477' '423' '412' '442' '406' '460' '447' '437' '449' '482' '499'\n",
      " '448' '408' '453' '497' '461' '434' '491' '498' '480' '471' '422' '407'\n",
      " '439' '405' '462' '445' '466' '436' '473' '409' '451' '468' '430' '431'\n",
      " '464' '470' '400' '426' '416' '493' '203' '200' '202' '495' '443' '248'\n",
      " '209' '297' '226' '245' '414' '234' '269' '479' '273' '210' '270' '452'\n",
      " '283' '217' '403' '465' '292' '278' '230' '249' '216' '220' '429' '207'\n",
      " '219' '233' '411' '250' '469' '232' '474' '281' '254' '287' '247' '263'\n",
      " '417' '288' '299' '296' '475' '494' '458' '275' '222' '404' '476' '467'\n",
      " '463' '291' '496' '450' '295' '487' '440' '481' '261' '294' '472' '267'\n",
      " '227' '415' '206' '241' '489' '224' '214' '282' '243' '244' '215' '235'\n",
      " '246' '274' '253' '402' '229' '433' '420' '435' '268' '264' '259' '444'\n",
      " '272' '258' '237' '485' '211' '285' '401' '201' '257' '455' '457' '252'\n",
      " '446' '483' '276' '240' '428' '456' '221' '421' '424' '239' '293' '225'\n",
      " '271' '441' '425' '478' '413' '213' '260' '427' '236' '459' '286' '492']\n"
     ]
    },
    {
     "name": "stderr",
     "output_type": "stream",
     "text": [
      "0it [00:00, ?it/s]\n"
     ]
    },
    {
     "name": "stdout",
     "output_type": "stream",
     "text": [
      "['1' '2' '3' '4' '5' '6' '7' '8' '9' '10' '11' '12' '13' '14' '15' '16'\n",
      " '17' '18' '19' '20' '432' '488' '486' '484' '419' '438' '454' '418' '410'\n",
      " '490' '477' '423' '412' '442' '406' '460' '447' '437' '449' '482' '499'\n",
      " '448' '408' '453' '497' '461' '434' '491' '498' '480' '471' '422' '407'\n",
      " '439' '405' '462' '445' '466' '436' '473' '409' '451' '468' '430' '431'\n",
      " '464' '470' '400' '426' '416' '493' '203' '200' '202' '495' '443' '248'\n",
      " '209' '297' '226' '245' '414' '234' '269' '479' '273' '210' '270' '452'\n",
      " '283' '217' '403' '465' '292' '278' '230' '249' '216' '220' '429' '207'\n",
      " '219' '233' '411' '250' '469' '232' '474' '281' '254' '287' '247' '263'\n",
      " '417' '288' '299' '296' '475' '494' '458' '275' '222' '404' '476' '467'\n",
      " '463' '291' '496' '450' '295' '487' '440' '481' '261' '294' '472' '267'\n",
      " '227' '415' '206' '241' '489' '224' '214' '282' '243' '244' '215' '235'\n",
      " '246' '274' '253' '402' '229' '433' '420' '435' '268' '264' '259' '444'\n",
      " '272' '258' '237' '485' '211' '285' '401' '201' '257' '455' '457' '252'\n",
      " '446' '483' '276' '240' '428' '456' '221' '421' '424' '239' '293' '225'\n",
      " '271' '441' '425' '478' '413' '213' '260' '427' '236' '459' '286' '492']\n"
     ]
    },
    {
     "name": "stderr",
     "output_type": "stream",
     "text": [
      "0it [00:00, ?it/s]\n"
     ]
    },
    {
     "name": "stdout",
     "output_type": "stream",
     "text": [
      "['1' '2' '3' '4' '5' '6' '7' '8' '9' '10' '11' '12' '13' '14' '15' '16'\n",
      " '17' '18' '19' '20' '432' '488' '486' '484' '419' '438' '454' '418' '410'\n",
      " '490' '477' '423' '412' '442' '406' '460' '447' '437' '449' '482' '499'\n",
      " '448' '408' '453' '497' '461' '434' '491' '498' '480' '471' '422' '407'\n",
      " '439' '405' '462' '445' '466' '436' '473' '409' '451' '468' '430' '431'\n",
      " '464' '470' '400' '426' '416' '493' '203' '200' '202' '495' '443' '248'\n",
      " '209' '297' '226' '245' '414' '234' '269' '479' '273' '210' '270' '452'\n",
      " '283' '217' '403' '465' '292' '278' '230' '249' '216' '220' '429' '207'\n",
      " '219' '233' '411' '250' '469' '232' '474' '281' '254' '287' '247' '263'\n",
      " '417' '288' '299' '296' '475' '494' '458' '275' '222' '404' '476' '467'\n",
      " '463' '291' '496' '450' '295' '487' '440' '481' '261' '294' '472' '267'\n",
      " '227' '415' '206' '241' '489' '224' '214' '282' '243' '244' '215' '235'\n",
      " '246' '274' '253' '402' '229' '433' '420' '435' '268' '264' '259' '444'\n",
      " '272' '258' '237' '485' '211' '285' '401' '201' '257' '455' '457' '252'\n",
      " '446' '483' '276' '240' '428' '456' '221' '421' '424' '239' '293' '225'\n",
      " '271' '441' '425' '478' '413' '213' '260' '427' '236' '459' '286' '492']\n"
     ]
    },
    {
     "name": "stderr",
     "output_type": "stream",
     "text": [
      "100%|██████████████████████████████████████████| 12/12 [00:00<00:00, 189.05it/s]\n"
     ]
    },
    {
     "name": "stdout",
     "output_type": "stream",
     "text": [
      "['1' '2' '3' '4' '5' '6' '7' '8' '9' '10' '11' '12' '13' '14' '15' '16'\n",
      " '17' '18' '19' '20' '432' '488' '486' '484' '419' '438' '454' '418' '410'\n",
      " '490' '477' '423' '412' '442' '406' '460' '447' '437' '449' '482' '499'\n",
      " '448' '408' '453' '497' '461' '434' '491' '498' '480' '471' '422' '407'\n",
      " '439' '405' '462' '445' '466' '436' '473' '409' '451' '468' '430' '431'\n",
      " '464' '470' '400' '426' '416' '493' '203' '200' '202' '495' '443' '248'\n",
      " '209' '297' '226' '245' '414' '234' '269' '479' '273' '210' '270' '452'\n",
      " '283' '217' '403' '465' '292' '278' '230' '249' '216' '220' '429' '207'\n",
      " '219' '233' '411' '250' '469' '232' '474' '281' '254' '287' '247' '263'\n",
      " '417' '288' '299' '296' '475' '494' '458' '275' '222' '404' '476' '467'\n",
      " '463' '291' '496' '450' '295' '487' '440' '481' '261' '294' '472' '267'\n",
      " '227' '415' '206' '241' '489' '224' '214' '282' '243' '244' '215' '235'\n",
      " '246' '274' '253' '402' '229' '433' '420' '435' '268' '264' '259' '444'\n",
      " '272' '258' '237' '485' '211' '285' '401' '201' '257' '455' '457' '252'\n",
      " '446' '483' '276' '240' '428' '456' '221' '421' '424' '239' '293' '225'\n",
      " '271' '441' '425' '478' '413' '213' '260' '427' '236' '459' '286' '492']\n"
     ]
    },
    {
     "name": "stderr",
     "output_type": "stream",
     "text": [
      "0it [00:00, ?it/s]\n"
     ]
    },
    {
     "name": "stdout",
     "output_type": "stream",
     "text": [
      "['1' '2' '3' '4' '5' '6' '7' '8' '9' '10' '11' '12' '13' '14' '15' '16'\n",
      " '17' '18' '19' '20' '432' '488' '486' '484' '419' '438' '454' '418' '410'\n",
      " '490' '477' '423' '412' '442' '406' '460' '447' '437' '449' '482' '499'\n",
      " '448' '408' '453' '497' '461' '434' '491' '498' '480' '471' '422' '407'\n",
      " '439' '405' '462' '445' '466' '436' '473' '409' '451' '468' '430' '431'\n",
      " '464' '470' '400' '426' '416' '493' '203' '200' '202' '495' '443' '248'\n",
      " '209' '297' '226' '245' '414' '234' '269' '479' '273' '210' '270' '452'\n",
      " '283' '217' '403' '465' '292' '278' '230' '249' '216' '220' '429' '207'\n",
      " '219' '233' '411' '250' '469' '232' '474' '281' '254' '287' '247' '263'\n",
      " '417' '288' '299' '296' '475' '494' '458' '275' '222' '404' '476' '467'\n",
      " '463' '291' '496' '450' '295' '487' '440' '481' '261' '294' '472' '267'\n",
      " '227' '415' '206' '241' '489' '224' '214' '282' '243' '244' '215' '235'\n",
      " '246' '274' '253' '402' '229' '433' '420' '435' '268' '264' '259' '444'\n",
      " '272' '258' '237' '485' '211' '285' '401' '201' '257' '455' '457' '252'\n",
      " '446' '483' '276' '240' '428' '456' '221' '421' '424' '239' '293' '225'\n",
      " '271' '441' '425' '478' '413' '213' '260' '427' '236' '459' '286' '492']\n"
     ]
    },
    {
     "name": "stderr",
     "output_type": "stream",
     "text": [
      "0it [00:00, ?it/s]\n"
     ]
    },
    {
     "name": "stdout",
     "output_type": "stream",
     "text": [
      "['1' '2' '3' '4' '5' '6' '7' '8' '9' '10' '11' '12' '13' '14' '15' '16'\n",
      " '17' '18' '19' '20' '432' '488' '486' '484' '419' '438' '454' '418' '410'\n",
      " '490' '477' '423' '412' '442' '406' '460' '447' '437' '449' '482' '499'\n",
      " '448' '408' '453' '497' '461' '434' '491' '498' '480' '471' '422' '407'\n",
      " '439' '405' '462' '445' '466' '436' '473' '409' '451' '468' '430' '431'\n",
      " '464' '470' '400' '426' '416' '493' '203' '200' '202' '495' '443' '248'\n",
      " '209' '297' '226' '245' '414' '234' '269' '479' '273' '210' '270' '452'\n",
      " '283' '217' '403' '465' '292' '278' '230' '249' '216' '220' '429' '207'\n",
      " '219' '233' '411' '250' '469' '232' '474' '281' '254' '287' '247' '263'\n",
      " '417' '288' '299' '296' '475' '494' '458' '275' '222' '404' '476' '467'\n",
      " '463' '291' '496' '450' '295' '487' '440' '481' '261' '294' '472' '267'\n",
      " '227' '415' '206' '241' '489' '224' '214' '282' '243' '244' '215' '235'\n",
      " '246' '274' '253' '402' '229' '433' '420' '435' '268' '264' '259' '444'\n",
      " '272' '258' '237' '485' '211' '285' '401' '201' '257' '455' '457' '252'\n",
      " '446' '483' '276' '240' '428' '456' '221' '421' '424' '239' '293' '225'\n",
      " '271' '441' '425' '478' '413' '213' '260' '427' '236' '459' '286' '492']\n"
     ]
    },
    {
     "name": "stderr",
     "output_type": "stream",
     "text": [
      "0it [00:00, ?it/s]\n"
     ]
    },
    {
     "name": "stdout",
     "output_type": "stream",
     "text": [
      "['1' '2' '3' '4' '5' '6' '7' '8' '9' '10' '11' '12' '13' '14' '15' '16'\n",
      " '17' '18' '19' '20' '432' '488' '486' '484' '419' '438' '454' '418' '410'\n",
      " '490' '477' '423' '412' '442' '406' '460' '447' '437' '449' '482' '499'\n",
      " '448' '408' '453' '497' '461' '434' '491' '498' '480' '471' '422' '407'\n",
      " '439' '405' '462' '445' '466' '436' '473' '409' '451' '468' '430' '431'\n",
      " '464' '470' '400' '426' '416' '493' '203' '200' '202' '495' '443' '248'\n",
      " '209' '297' '226' '245' '414' '234' '269' '479' '273' '210' '270' '452'\n",
      " '283' '217' '403' '465' '292' '278' '230' '249' '216' '220' '429' '207'\n",
      " '219' '233' '411' '250' '469' '232' '474' '281' '254' '287' '247' '263'\n",
      " '417' '288' '299' '296' '475' '494' '458' '275' '222' '404' '476' '467'\n",
      " '463' '291' '496' '450' '295' '487' '440' '481' '261' '294' '472' '267'\n",
      " '227' '415' '206' '241' '489' '224' '214' '282' '243' '244' '215' '235'\n",
      " '246' '274' '253' '402' '229' '433' '420' '435' '268' '264' '259' '444'\n",
      " '272' '258' '237' '485' '211' '285' '401' '201' '257' '455' '457' '252'\n",
      " '446' '483' '276' '240' '428' '456' '221' '421' '424' '239' '293' '225'\n",
      " '271' '441' '425' '478' '413' '213' '260' '427' '236' '459' '286' '492']\n"
     ]
    },
    {
     "name": "stderr",
     "output_type": "stream",
     "text": [
      "0it [00:00, ?it/s]\n"
     ]
    },
    {
     "name": "stdout",
     "output_type": "stream",
     "text": [
      "['1' '2' '3' '4' '5' '6' '7' '8' '9' '10' '11' '12' '13' '14' '15' '16'\n",
      " '17' '18' '19' '20' '432' '488' '486' '484' '419' '438' '454' '418' '410'\n",
      " '490' '477' '423' '412' '442' '406' '460' '447' '437' '449' '482' '499'\n",
      " '448' '408' '453' '497' '461' '434' '491' '498' '480' '471' '422' '407'\n",
      " '439' '405' '462' '445' '466' '436' '473' '409' '451' '468' '430' '431'\n",
      " '464' '470' '400' '426' '416' '493' '203' '200' '202' '495' '443' '248'\n",
      " '209' '297' '226' '245' '414' '234' '269' '479' '273' '210' '270' '452'\n",
      " '283' '217' '403' '465' '292' '278' '230' '249' '216' '220' '429' '207'\n",
      " '219' '233' '411' '250' '469' '232' '474' '281' '254' '287' '247' '263'\n",
      " '417' '288' '299' '296' '475' '494' '458' '275' '222' '404' '476' '467'\n",
      " '463' '291' '496' '450' '295' '487' '440' '481' '261' '294' '472' '267'\n",
      " '227' '415' '206' '241' '489' '224' '214' '282' '243' '244' '215' '235'\n",
      " '246' '274' '253' '402' '229' '433' '420' '435' '268' '264' '259' '444'\n",
      " '272' '258' '237' '485' '211' '285' '401' '201' '257' '455' '457' '252'\n",
      " '446' '483' '276' '240' '428' '456' '221' '421' '424' '239' '293' '225'\n",
      " '271' '441' '425' '478' '413' '213' '260' '427' '236' '459' '286' '492']\n"
     ]
    },
    {
     "name": "stderr",
     "output_type": "stream",
     "text": [
      "100%|█████████████████████████████████████████| 20/20 [00:00<00:00, 5108.46it/s]\n"
     ]
    },
    {
     "name": "stdout",
     "output_type": "stream",
     "text": [
      "['1' '2' '3' '4' '5' '6' '7' '8' '9' '10' '11' '12' '13' '14' '15' '16'\n",
      " '17' '18' '19' '20' '432' '488' '486' '484' '419' '438' '454' '418' '410'\n",
      " '490' '477' '423' '412' '442' '406' '460' '447' '437' '449' '482' '499'\n",
      " '448' '408' '453' '497' '461' '434' '491' '498' '480' '471' '422' '407'\n",
      " '439' '405' '462' '445' '466' '436' '473' '409' '451' '468' '430' '431'\n",
      " '464' '470' '400' '426' '416' '493' '203' '200' '202' '495' '443' '248'\n",
      " '209' '297' '226' '245' '414' '234' '269' '479' '273' '210' '270' '452'\n",
      " '283' '217' '403' '465' '292' '278' '230' '249' '216' '220' '429' '207'\n",
      " '219' '233' '411' '250' '469' '232' '474' '281' '254' '287' '247' '263'\n",
      " '417' '288' '299' '296' '475' '494' '458' '275' '222' '404' '476' '467'\n",
      " '463' '291' '496' '450' '295' '487' '440' '481' '261' '294' '472' '267'\n",
      " '227' '415' '206' '241' '489' '224' '214' '282' '243' '244' '215' '235'\n",
      " '246' '274' '253' '402' '229' '433' '420' '435' '268' '264' '259' '444'\n",
      " '272' '258' '237' '485' '211' '285' '401' '201' '257' '455' '457' '252'\n",
      " '446' '483' '276' '240' '428' '456' '221' '421' '424' '239' '293' '225'\n",
      " '271' '441' '425' '478' '413' '213' '260' '427' '236' '459' '286' '492']\n"
     ]
    },
    {
     "name": "stderr",
     "output_type": "stream",
     "text": [
      "100%|██████████████████████████████████████████| 13/13 [00:00<00:00, 189.18it/s]"
     ]
    },
    {
     "name": "stdout",
     "output_type": "stream",
     "text": [
      "finishing evaluation....\n"
     ]
    },
    {
     "name": "stderr",
     "output_type": "stream",
     "text": [
      "\n"
     ]
    },
    {
     "data": {
      "application/vnd.jupyter.widget-view+json": {
       "model_id": "9dd9ef3e37a641f784149ca5b5ab736a",
       "version_major": 2,
       "version_minor": 0
      },
      "text/plain": [
       "  0%|          | 0/94 [00:00<?, ?it/s]"
      ]
     },
     "metadata": {},
     "output_type": "display_data"
    },
    {
     "data": {
      "text/plain": [
       "0.21366380205976676"
      ]
     },
     "execution_count": 14,
     "metadata": {},
     "output_type": "execute_result"
    }
   ],
   "source": [
    "evaluate = Train_Test_Split_Plain(CFUH, min_ref_limit=5, train_size=0.5, normalize_similarity=True, root_node_indexes=root_nodes)\n",
    "overall = {**data, **data_citedby}\n",
    "evaluate.fit(overall)"
   ]
  },
  {
   "cell_type": "code",
   "execution_count": 4,
   "id": "904d77e7-7046-4532-b522-c6816a71c159",
   "metadata": {},
   "outputs": [],
   "source": [
    "def __tfidf_obj__(sentence_dict):\n",
    "\t\"\"\"\n",
    "\tThis method is used to generate the objects of countvectorizer\n",
    "\tand tfidfvectorizer\n",
    "\t\"\"\"\n",
    "\tcountvectorizer = CountVectorizer(analyzer='word', stop_words='english')\n",
    "\ttfidfvectorizer = TfidfVectorizer(analyzer='word',stop_words='english')\n",
    "\n",
    "\t# convert th documents into a matrix\n",
    "\tcountvectorizer.fit(sentence_dict.values())\n",
    "\ttfidfvectorizer.fit(sentence_dict.values())\n",
    "\n",
    "\treturn countvectorizer, tfidfvectorizer\n",
    "\n",
    "\n",
    "def __tfidf__(sentence_dict):\n",
    "\t\"\"\"\n",
    "\tThis method is used to process the dictonary of\n",
    "\tsentence into a tf and idf format dataframe\n",
    "\t\"\"\"\n",
    "\tcountvectorizer, tfidfvectorizer = __tfidf_obj__(sentence_dict)\n",
    "\n",
    "\t# transform with the dataset\n",
    "\tcount_wm = countvectorizer.transform(sentence_dict.values())\n",
    "\ttfidf_wm = tfidfvectorizer.transform(sentence_dict.values())\n",
    "\n",
    "\t# retrieve the terms found in the corpora\n",
    "\t# if we take same parameters on both Classes(CountVectorizer and TfidfVectorizer) , \n",
    "\t# it will give same output of get_feature_names() methods)\n",
    "\tcount_tokens = countvectorizer.get_feature_names()\n",
    "\ttfidf_tokens = tfidfvectorizer.get_feature_names()\n",
    "\n",
    "\tdf_countvect = pd.DataFrame(data=count_wm.toarray(),\n",
    "\t\t\t\t\tindex=sentence_dict.keys(), columns = count_tokens)\n",
    "\n",
    "\tdf_tfidfvect = pd.DataFrame(data=tfidf_wm.toarray(),\n",
    "\t\t\t\t\tindex=sentence_dict.keys(), columns = tfidf_tokens)\n",
    "\n",
    "\treturn df_countvect, df_tfidfvect"
   ]
  },
  {
   "cell_type": "code",
   "execution_count": 15,
   "id": "620dff0c-b1ec-48db-9cf4-296a5d3dcf2f",
   "metadata": {},
   "outputs": [],
   "source": [
    "documents = {\n",
    "   \n",
    "    'doc2' : \"more mathematical concept inside how is it working than other vectorizer algorithm. Because i think it is very important for tuning performance on NLP projects\",\n",
    "    'doc3' : \"This is very common algorithm to transform text into a meaningful representation of numbers which is used to fit machine algorithm for prediction. Let’s take sample example and explore two different spicy sparse matrix before go into deep explanation . It gives overall view what i am trying to explain below\"\n",
    "}\n",
    "\n"
   ]
  },
  {
   "cell_type": "code",
   "execution_count": 13,
   "id": "9fd55a96-1ff2-4b9f-b5c4-08a4f46ed6ad",
   "metadata": {},
   "outputs": [],
   "source": [
    "def __tfidf_obj__(sentence_dict):\n",
    "\t\"\"\"\n",
    "\tThis method is used to generate the objects of countvectorizer\n",
    "\tand tfidfvectorizer\n",
    "\t\"\"\"\n",
    "\tcountvectorizer = CountVectorizer(analyzer='word', stop_words='english')\n",
    "\ttfidfvectorizer = TfidfVectorizer(analyzer='word',stop_words='english')\n",
    "\n",
    "\t# convert th documents into a matrix\n",
    "\tcountvectorizer.fit(sentence_dict.values())\n",
    "\ttfidfvectorizer.fit(sentence_dict.values())\n",
    "\n",
    "\treturn countvectorizer, tfidfvectorizer\n",
    "\n",
    "\n",
    "def __tfidf__(sentence_dict):\n",
    "\t\"\"\"\n",
    "\tThis method is used to process the dictonary of\n",
    "\tsentence into a tf and idf format dataframe\n",
    "\t\"\"\"\n",
    "\tcountvectorizer, tfidfvectorizer = __tfidf_obj__(sentence_dict)\n",
    "\n",
    "\t# transform with the dataset\n",
    "\tcount_wm = countvectorizer.transform(sentence_dict.values())\n",
    "\ttfidf_wm = tfidfvectorizer.transform(sentence_dict.values())\n",
    "\n",
    "\t# retrieve the terms found in the corpora\n",
    "\t# if we take same parameters on both Classes(CountVectorizer and TfidfVectorizer) , \n",
    "\t# it will give same output of get_feature_names() methods)\n",
    "\tcount_tokens = countvectorizer.get_feature_names()\n",
    "\ttfidf_tokens = tfidfvectorizer.get_feature_names()\n",
    "\n",
    "\tdf_countvect = pd.DataFrame(data=count_wm.toarray(),\n",
    "\t\t\t\t\tindex=sentence_dict.keys(), columns = count_tokens)\n",
    "\n",
    "\tdf_tfidfvect = pd.DataFrame(data=tfidf_wm.toarray(),\n",
    "\t\t\t\t\tindex=sentence_dict.keys(), columns = tfidf_tokens)\n",
    "\n",
    "\treturn df_countvect, df_tfidfvect\n",
    "\n",
    "countvectorizer, tfidfvectorizer = __tfidf_obj__({'doc1' : documents['doc1']})"
   ]
  },
  {
   "cell_type": "code",
   "execution_count": 16,
   "id": "1bcb88ce-da8f-4443-994f-6a8205871961",
   "metadata": {},
   "outputs": [
    {
     "data": {
      "text/plain": [
       "<2x16 sparse matrix of type '<class 'numpy.int64'>'\n",
       "\twith 0 stored elements in Compressed Sparse Row format>"
      ]
     },
     "execution_count": 16,
     "metadata": {},
     "output_type": "execute_result"
    }
   ],
   "source": [
    "countvectorizer.transform(documents)"
   ]
  },
  {
   "cell_type": "code",
   "execution_count": 19,
   "id": "ba0fd1e3-5755-4b5b-b9f9-d52300f0924f",
   "metadata": {},
   "outputs": [
    {
     "data": {
      "text/plain": [
       "array([[0, 0, 0, 0, 0, 0, 0, 0, 0, 0, 0, 0, 0, 0, 0, 0],\n",
       "       [0, 0, 0, 0, 0, 0, 0, 0, 0, 0, 0, 0, 0, 0, 0, 0]])"
      ]
     },
     "execution_count": 19,
     "metadata": {},
     "output_type": "execute_result"
    }
   ],
   "source": [
    "countvectorizer.transform(documents).toarray()"
   ]
  },
  {
   "cell_type": "code",
   "execution_count": 20,
   "id": "8a68563c-86f1-43bd-aed5-d8a558167edd",
   "metadata": {},
   "outputs": [],
   "source": [
    "temp = pd.DataFrame([[1,1,2,3], [2,3,3,4], [2,3,4,2], [2,2,3,2]],index=['doc1', 'doc2', 'doc3', 'doc4'], columns=['a','b','c','d'])"
   ]
  },
  {
   "cell_type": "code",
   "execution_count": 26,
   "id": "cb44559d-131f-46ea-87d3-815fff9996ce",
   "metadata": {},
   "outputs": [
    {
     "data": {
      "text/plain": [
       "7"
      ]
     },
     "execution_count": 26,
     "metadata": {},
     "output_type": "execute_result"
    }
   ],
   "source": [
    "temp.sum(axis=0)['a']"
   ]
  },
  {
   "cell_type": "code",
   "execution_count": null,
   "id": "cc469fd2-75cd-4c74-ba69-5a314424b0b2",
   "metadata": {},
   "outputs": [],
   "source": []
  },
  {
   "cell_type": "code",
   "execution_count": null,
   "id": "77e212d7-1b89-46a6-ad3e-5dbc3c50cfe1",
   "metadata": {},
   "outputs": [],
   "source": []
  },
  {
   "cell_type": "code",
   "execution_count": null,
   "id": "6cf8b67f-2f43-4733-8f47-99225e11f0c7",
   "metadata": {},
   "outputs": [],
   "source": []
  },
  {
   "cell_type": "code",
   "execution_count": 23,
   "id": "effd7b7b-4427-4deb-b242-d753cbf26326",
   "metadata": {},
   "outputs": [
    {
     "data": {
      "text/html": [
       "<div>\n",
       "<style scoped>\n",
       "    .dataframe tbody tr th:only-of-type {\n",
       "        vertical-align: middle;\n",
       "    }\n",
       "\n",
       "    .dataframe tbody tr th {\n",
       "        vertical-align: top;\n",
       "    }\n",
       "\n",
       "    .dataframe thead th {\n",
       "        text-align: right;\n",
       "    }\n",
       "</style>\n",
       "<table border=\"1\" class=\"dataframe\">\n",
       "  <thead>\n",
       "    <tr style=\"text-align: right;\">\n",
       "      <th></th>\n",
       "      <th>a</th>\n",
       "      <th>b</th>\n",
       "      <th>c</th>\n",
       "      <th>d</th>\n",
       "    </tr>\n",
       "  </thead>\n",
       "  <tbody>\n",
       "    <tr>\n",
       "      <th>doc1</th>\n",
       "      <td>1</td>\n",
       "      <td>1</td>\n",
       "      <td>2</td>\n",
       "      <td>3</td>\n",
       "    </tr>\n",
       "    <tr>\n",
       "      <th>doc2</th>\n",
       "      <td>2</td>\n",
       "      <td>3</td>\n",
       "      <td>3</td>\n",
       "      <td>4</td>\n",
       "    </tr>\n",
       "    <tr>\n",
       "      <th>doc3</th>\n",
       "      <td>2</td>\n",
       "      <td>3</td>\n",
       "      <td>4</td>\n",
       "      <td>2</td>\n",
       "    </tr>\n",
       "    <tr>\n",
       "      <th>doc4</th>\n",
       "      <td>2</td>\n",
       "      <td>2</td>\n",
       "      <td>3</td>\n",
       "      <td>2</td>\n",
       "    </tr>\n",
       "  </tbody>\n",
       "</table>\n",
       "</div>"
      ],
      "text/plain": [
       "      a  b  c  d\n",
       "doc1  1  1  2  3\n",
       "doc2  2  3  3  4\n",
       "doc3  2  3  4  2\n",
       "doc4  2  2  3  2"
      ]
     },
     "execution_count": 23,
     "metadata": {},
     "output_type": "execute_result"
    }
   ],
   "source": [
    "temp"
   ]
  },
  {
   "cell_type": "code",
   "execution_count": null,
   "id": "bc1843d1-97bf-4d9d-ab4c-085d6438ada2",
   "metadata": {},
   "outputs": [],
   "source": []
  },
  {
   "cell_type": "code",
   "execution_count": null,
   "id": "7a773479-971e-43e0-a53c-5d5f1b09d6a7",
   "metadata": {},
   "outputs": [],
   "source": []
  },
  {
   "cell_type": "code",
   "execution_count": null,
   "id": "14788f36-591d-4e85-9619-66f7bfb476fd",
   "metadata": {},
   "outputs": [],
   "source": []
  }
 ],
 "metadata": {
  "kernelspec": {
   "display_name": "Python 3 (ipykernel)",
   "language": "python",
   "name": "python3"
  },
  "language_info": {
   "codemirror_mode": {
    "name": "ipython",
    "version": 3
   },
   "file_extension": ".py",
   "mimetype": "text/x-python",
   "name": "python",
   "nbconvert_exporter": "python",
   "pygments_lexer": "ipython3",
   "version": "3.7.3"
  }
 },
 "nbformat": 4,
 "nbformat_minor": 5
}
