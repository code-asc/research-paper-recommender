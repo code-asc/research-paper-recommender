{
 "cells": [
  {
   "cell_type": "code",
   "execution_count": 63,
   "id": "d484a890-963f-43c9-b71f-bbc0c053f80e",
   "metadata": {},
   "outputs": [
    {
     "name": "stdout",
     "output_type": "stream",
     "text": [
      "The autoreload extension is already loaded. To reload it, use:\n",
      "  %reload_ext autoreload\n"
     ]
    }
   ],
   "source": [
    "%load_ext autoreload\n",
    "%autoreload 2\n",
    "\n",
    "import sqlite3\n",
    "import numpy as np\n",
    "import pandas as pd\n",
    "from tqdm.notebook import tqdm\n",
    "from utils.dummy import dummy_data\n",
    "from utils.dummy import dummy_doi\n",
    "from utils.utils import get_citation_doi\n",
    "from utils.utils import get_paper_citation_pairs\n",
    "from utils.utils import get_cited_by_doi\n",
    "from acm_api.acm import acm_meta\n",
    "from evaluation.evaluate import Train_Test_Split_Plain\n",
    "import matplotlib.pyplot as plt\n",
    "from cf.cf import CF\n",
    "from cf.cf_unit import CFU\n",
    "from cf.cf_pr import CFUPR\n",
    "from cf.cf_hits import CFUH"
   ]
  },
  {
   "cell_type": "markdown",
   "id": "6dff21f2-d307-4844-9cca-86019027e973",
   "metadata": {},
   "source": [
    "<h2>Processing the input file with doi of papers</h2>"
   ]
  },
  {
   "cell_type": "code",
   "execution_count": 64,
   "id": "823117b6-e153-441a-8eb9-10baeb699470",
   "metadata": {},
   "outputs": [
    {
     "name": "stdout",
     "output_type": "stream",
     "text": [
      "processing doi....\n"
     ]
    },
    {
     "data": {
      "application/vnd.jupyter.widget-view+json": {
       "model_id": "120cb5d45cf14225aa671d26e925c8d9",
       "version_major": 2,
       "version_minor": 0
      },
      "text/plain": [
       "  0%|          | 0/7 [00:00<?, ?it/s]"
      ]
     },
     "metadata": {},
     "output_type": "display_data"
    },
    {
     "name": "stdout",
     "output_type": "stream",
     "text": [
      "10.1145/3439723\n",
      "extracting citation's doi....\n"
     ]
    },
    {
     "data": {
      "application/vnd.jupyter.widget-view+json": {
       "model_id": "6762150621084f3f909f968325faff3e",
       "version_major": 2,
       "version_minor": 0
      },
      "text/plain": [
       "  0%|          | 0/155 [00:00<?, ?it/s]"
      ]
     },
     "metadata": {},
     "output_type": "display_data"
    },
    {
     "name": "stdout",
     "output_type": "stream",
     "text": [
      "extracting cited_by doi....\n"
     ]
    },
    {
     "data": {
      "application/vnd.jupyter.widget-view+json": {
       "model_id": "32b0f65b90514cdc9a05c91952985ba9",
       "version_major": 2,
       "version_minor": 0
      },
      "text/plain": [
       "  0%|          | 0/31 [00:00<?, ?it/s]"
      ]
     },
     "metadata": {},
     "output_type": "display_data"
    },
    {
     "name": "stdout",
     "output_type": "stream",
     "text": [
      "10.1145/3446374\n",
      "extracting citation's doi....\n"
     ]
    },
    {
     "data": {
      "application/vnd.jupyter.widget-view+json": {
       "model_id": "08ba8ccbd9864d278ccb5777ca3d6e4e",
       "version_major": 2,
       "version_minor": 0
      },
      "text/plain": [
       "  0%|          | 0/172 [00:00<?, ?it/s]"
      ]
     },
     "metadata": {},
     "output_type": "display_data"
    },
    {
     "name": "stdout",
     "output_type": "stream",
     "text": [
      "extracting cited_by doi....\n"
     ]
    },
    {
     "data": {
      "application/vnd.jupyter.widget-view+json": {
       "model_id": "f01eb24de029403fba0226e04ed8451e",
       "version_major": 2,
       "version_minor": 0
      },
      "text/plain": [
       "  0%|          | 0/3 [00:00<?, ?it/s]"
      ]
     },
     "metadata": {},
     "output_type": "display_data"
    },
    {
     "name": "stdout",
     "output_type": "stream",
     "text": [
      "10.1145/3459992\n",
      "extracting citation's doi....\n"
     ]
    },
    {
     "data": {
      "application/vnd.jupyter.widget-view+json": {
       "model_id": "61e35447cf434a62855f31016bac6a4f",
       "version_major": 2,
       "version_minor": 0
      },
      "text/plain": [
       "  0%|          | 0/162 [00:00<?, ?it/s]"
      ]
     },
     "metadata": {},
     "output_type": "display_data"
    },
    {
     "name": "stdout",
     "output_type": "stream",
     "text": [
      "extracting cited_by doi....\n"
     ]
    },
    {
     "data": {
      "application/vnd.jupyter.widget-view+json": {
       "model_id": "074f751d2ff44e499ad32118c75605f4",
       "version_major": 2,
       "version_minor": 0
      },
      "text/plain": [
       "  0%|          | 0/17 [00:00<?, ?it/s]"
      ]
     },
     "metadata": {},
     "output_type": "display_data"
    },
    {
     "name": "stdout",
     "output_type": "stream",
     "text": [
      "10.1145/3459992\n",
      "extracting citation's doi....\n"
     ]
    },
    {
     "data": {
      "application/vnd.jupyter.widget-view+json": {
       "model_id": "ecabc7e3b77d471d888f1b5a4c6f0d02",
       "version_major": 2,
       "version_minor": 0
      },
      "text/plain": [
       "  0%|          | 0/162 [00:00<?, ?it/s]"
      ]
     },
     "metadata": {},
     "output_type": "display_data"
    },
    {
     "name": "stdout",
     "output_type": "stream",
     "text": [
      "extracting cited_by doi....\n"
     ]
    },
    {
     "data": {
      "application/vnd.jupyter.widget-view+json": {
       "model_id": "c5b80ea0662b4ad183ac9751a171c3f5",
       "version_major": 2,
       "version_minor": 0
      },
      "text/plain": [
       "  0%|          | 0/17 [00:00<?, ?it/s]"
      ]
     },
     "metadata": {},
     "output_type": "display_data"
    },
    {
     "name": "stdout",
     "output_type": "stream",
     "text": [
      "10.1145/3301282\n",
      "extracting citation's doi....\n"
     ]
    },
    {
     "data": {
      "application/vnd.jupyter.widget-view+json": {
       "model_id": "342b43fec7c4409c90397aed238efcf2",
       "version_major": 2,
       "version_minor": 0
      },
      "text/plain": [
       "  0%|          | 0/146 [00:00<?, ?it/s]"
      ]
     },
     "metadata": {},
     "output_type": "display_data"
    },
    {
     "name": "stdout",
     "output_type": "stream",
     "text": [
      "extracting cited_by doi....\n"
     ]
    },
    {
     "data": {
      "application/vnd.jupyter.widget-view+json": {
       "model_id": "97c0d420577748b68d6ac9849fd88817",
       "version_major": 2,
       "version_minor": 0
      },
      "text/plain": [
       "  0%|          | 0/89 [00:00<?, ?it/s]"
      ]
     },
     "metadata": {},
     "output_type": "display_data"
    },
    {
     "name": "stdout",
     "output_type": "stream",
     "text": [
      "10.1145/3322645.3322656\n",
      "extracting citation's doi....\n"
     ]
    },
    {
     "data": {
      "application/vnd.jupyter.widget-view+json": {
       "model_id": "3eb2c32834314aa193b2f0913d42ed41",
       "version_major": 2,
       "version_minor": 0
      },
      "text/plain": [
       "  0%|          | 0/18 [00:00<?, ?it/s]"
      ]
     },
     "metadata": {},
     "output_type": "display_data"
    },
    {
     "name": "stdout",
     "output_type": "stream",
     "text": [
      "extracting cited_by doi....\n"
     ]
    },
    {
     "data": {
      "application/vnd.jupyter.widget-view+json": {
       "model_id": "08355f2e8e394824888434de9b532e42",
       "version_major": 2,
       "version_minor": 0
      },
      "text/plain": [
       "  0%|          | 0/4 [00:00<?, ?it/s]"
      ]
     },
     "metadata": {},
     "output_type": "display_data"
    },
    {
     "name": "stdout",
     "output_type": "stream",
     "text": [
      "10.1145/3487891\n",
      "extracting citation's doi....\n"
     ]
    },
    {
     "data": {
      "application/vnd.jupyter.widget-view+json": {
       "model_id": "60c5f38f9e8d43cb97edbe22d5ffe536",
       "version_major": 2,
       "version_minor": 0
      },
      "text/plain": [
       "  0%|          | 0/136 [00:00<?, ?it/s]"
      ]
     },
     "metadata": {},
     "output_type": "display_data"
    }
   ],
   "source": [
    "doi_list = []\n",
    "data = {}\n",
    "data_citedby = {}\n",
    "\n",
    "# reading the input file with doi of papers\n",
    "with open('doi/doi.txt', 'r') as doi_file:\n",
    "    lines = doi_file.readlines()\n",
    "    \n",
    "for line in lines:\n",
    "    doi_list.append(line.strip())\n",
    "    \n",
    "con = sqlite3.connect('data.db')\n",
    "cur = con.cursor()\n",
    "\n",
    "is_table_exists = cur.execute(\n",
    "    \"\"\"\n",
    "    SELECT name FROM sqlite_master WHERE type='table'\n",
    "    AND name='PAPERS'; \"\"\").fetchall()\n",
    "\n",
    "if is_table_exists == []:\n",
    "    cur.execute(\"\"\" \n",
    "        CREATE TABLE PAPERS (doi TEXT, data TEXT);\n",
    "    \"\"\")\n",
    "    \n",
    "print('processing doi....')\n",
    "for doi in tqdm(doi_list):\n",
    "    print(doi)\n",
    "    cursor = con.execute(\"SELECT * FROM PAPERS WHERE doi=?;\", (doi,))\n",
    "    fetch_data = cursor.fetchone()\n",
    "    \n",
    "    if fetch_data is None:\n",
    "        temp = acm_meta(doi)\n",
    "        insert_statement = 'INSERT INTO PAPERS(doi, data) VALUES(?, ?)'\n",
    "        \n",
    "        con.execute(insert_statement, (doi, str(temp)))\n",
    "        data[doi] = get_citation_doi(temp)\n",
    "        \n",
    "    else:\n",
    "        data[doi] = get_citation_doi(fetch_data[1])\n",
    "        data_citedby[doi] = get_cited_by_doi(fetch_data[1])\n",
    "con.commit()\n",
    "con.close()"
   ]
  },
  {
   "cell_type": "code",
   "execution_count": 65,
   "id": "4bcd1929-daf9-4bc5-a906-d4a9d28afcbc",
   "metadata": {},
   "outputs": [
    {
     "data": {
      "text/plain": [
       "{'10.1145/3439723': ['10.1145/3472290',\n",
       "  '10.1155/2021/9249387',\n",
       "  '10.1155/2021/9206440',\n",
       "  '10.1145/3448734.3450467',\n",
       "  '10.1145/3458280'],\n",
       " '10.1145/3446374': ['10.1145/3458025'],\n",
       " '10.1145/3459992': ['10.1145/3491231',\n",
       "  '10.1155/2022/9506418',\n",
       "  '10.1155/2021/7557361',\n",
       "  '10.1155/2021/4873574',\n",
       "  '10.1155/2021/3697536',\n",
       "  '10.1155/2021/4329219',\n",
       "  '10.1155/2021/8944618',\n",
       "  '10.1155/2021/7965093',\n",
       "  '10.1155/2021/4412294',\n",
       "  '10.1155/2021/8548981',\n",
       "  '10.1155/2021/1836014',\n",
       "  '10.1155/2021/8586016',\n",
       "  '10.1155/2021/9723379',\n",
       "  '10.1155/2021/3265934',\n",
       "  '10.1155/2021/5340116'],\n",
       " '10.1145/3301282': ['10.1145/3494520',\n",
       "  '10.1145/3439723',\n",
       "  '10.1145/3463475',\n",
       "  '10.1145/3448734.3450467',\n",
       "  '10.1145/3459992',\n",
       "  '10.1002/ett.4145',\n",
       "  '10.1145/3340531.3411884',\n",
       "  '10.1007/978-3-030-62460-6_43',\n",
       "  '10.1145/3415958.3433054',\n",
       "  '10.1155/2020/1459107'],\n",
       " '10.1145/3322645.3322656': [],\n",
       " '10.1145/3487891': []}"
      ]
     },
     "execution_count": 65,
     "metadata": {},
     "output_type": "execute_result"
    }
   ],
   "source": [
    "# Paper's doi and it's citations\n",
    "# data\n",
    "data_citedby"
   ]
  },
  {
   "cell_type": "markdown",
   "id": "cd689ff6-3a60-4ffc-a4e1-aa4c1c2e0f74",
   "metadata": {},
   "source": [
    "<h2>Code for creating the rating matrix</h2>"
   ]
  },
  {
   "cell_type": "code",
   "execution_count": 41,
   "id": "7c68584b-510b-42cd-a500-19e0124b479f",
   "metadata": {},
   "outputs": [],
   "source": [
    "# Store the citation space\n",
    "citation_set = set()\n",
    "\n",
    "# Store the citation space including the cited_by space\n",
    "citation_set_with_cited_by = set()\n",
    "\n",
    "# Here we are capturing the all the citation for a given paper\n",
    "# Later we can use this to know the citation space\n",
    "for key in data.keys():\n",
    "    citation_set.update(data[key])\n",
    "    citation_set_with_cited_by.update(data[key)\n",
    "                                           \n",
    "# Here we are appeding                                           \n",
    "for key in data_citedby.keys():\n",
    "    citation_set_with_cited_by.update(data_citedby[key)\n",
    "\n",
    "index_ = data.keys()\n",
    "\n",
    "# This dataframe does not include the cited_by data\n",
    "df = pd.DataFrame(np.zeros((len(index_), len(citation_set))), index=index_, columns=citation_set)\n",
    "\n",
    "# This dataframe include the cited_by data\n",
    "df = pd.DataFrame(np.zeros((len(index_), len(citation_set))), index=index_, columns=citation_set)\n",
    "\n",
    "for i in index_:\n",
    "    for j in citation_set:\n",
    "        if j in data[i]:\n",
    "            df.loc[i][j] = 1\n",
    "\n",
    "df.to_csv('citation-web/matrix-way/citation-matrix.csv')"
   ]
  },
  {
   "cell_type": "markdown",
   "id": "494979c8-3cea-4afd-9cb6-130f1a24dfee",
   "metadata": {},
   "source": [
    "<h2>Creating the citation pair</h2>"
   ]
  },
  {
   "cell_type": "code",
   "execution_count": 42,
   "id": "a0090e86-30a9-453a-8e6a-7bbeea06ef31",
   "metadata": {},
   "outputs": [
    {
     "name": "stdout",
     "output_type": "stream",
     "text": [
      "writing citation pairs....\n"
     ]
    },
    {
     "data": {
      "application/vnd.jupyter.widget-view+json": {
       "model_id": "aa24b82333a543eea4c5a1b4ea52bd76",
       "version_major": 2,
       "version_minor": 0
      },
      "text/plain": [
       "  0%|          | 0/6 [00:00<?, ?it/s]"
      ]
     },
     "metadata": {},
     "output_type": "display_data"
    }
   ],
   "source": [
    "citation_pair_path = get_paper_citation_pairs(df)"
   ]
  },
  {
   "cell_type": "code",
   "execution_count": 43,
   "id": "5b921ec1-1b7b-4479-86b2-b383bf8fc7ff",
   "metadata": {},
   "outputs": [],
   "source": [
    "########################################\n",
    "\t# Experiment 1\n",
    "\t# Plain CF\n",
    "\t\n",
    "\t\n",
    "\t########################################\n",
    "\n",
    "\n",
    "\t########################################\n",
    "\t# Experiment 1\n",
    "\t# Plain CF\n",
    "\t\n",
    "\t# TO DO\n",
    "\t########################################"
   ]
  },
  {
   "cell_type": "code",
   "execution_count": 44,
   "id": "2c069b9a",
   "metadata": {},
   "outputs": [
    {
     "name": "stdout",
     "output_type": "stream",
     "text": [
      "The following doi's are ignored because of low reference :\n",
      "{'10.1145/3322645.3322656': 3}\n",
      "writing citation pairs....\n"
     ]
    },
    {
     "data": {
      "application/vnd.jupyter.widget-view+json": {
       "model_id": "abb2807d442a44c4b40d14af25465217",
       "version_major": 2,
       "version_minor": 0
      },
      "text/plain": [
       "  0%|          | 0/5 [00:00<?, ?it/s]"
      ]
     },
     "metadata": {},
     "output_type": "display_data"
    },
    {
     "name": "stdout",
     "output_type": "stream",
     "text": [
      "removing the indexes with no citations....\n",
      "normalizing dataframe....\n"
     ]
    },
    {
     "name": "stderr",
     "output_type": "stream",
     "text": [
      "100%|██████████████████████████████████████████████████████████████████████████████████████████████████| 5/5 [00:00<00:00, 2779.53it/s]\n"
     ]
    },
    {
     "name": "stdout",
     "output_type": "stream",
     "text": [
      "creating similarity matrix....\n"
     ]
    },
    {
     "name": "stderr",
     "output_type": "stream",
     "text": [
      "100%|█████████████████████████████████████████████████████████████████████████████████████████████████| 85/85 [00:00<00:00, 100.15it/s]\n"
     ]
    },
    {
     "name": "stdout",
     "output_type": "stream",
     "text": [
      "computing recommendations for : 10.1145/3487891\n"
     ]
    },
    {
     "name": "stderr",
     "output_type": "stream",
     "text": [
      "100%|██████████████████████████████████████████████████████████████████████████████████████████████████| 8/8 [00:00<00:00, 1133.48it/s]\n"
     ]
    },
    {
     "name": "stdout",
     "output_type": "stream",
     "text": [
      "computing recommendations for : 10.1145/3301282\n"
     ]
    },
    {
     "name": "stderr",
     "output_type": "stream",
     "text": [
      "100%|█████████████████████████████████████████████████████████████████████████████████████████████████| 22/22 [00:00<00:00, 713.22it/s]\n"
     ]
    },
    {
     "name": "stdout",
     "output_type": "stream",
     "text": [
      "computing recommendations for : 10.1145/3439723\n"
     ]
    },
    {
     "name": "stderr",
     "output_type": "stream",
     "text": [
      "100%|████████████████████████████████████████████████████████████████████████████████████████████████| 30/30 [00:00<00:00, 1725.53it/s]"
     ]
    },
    {
     "name": "stdout",
     "output_type": "stream",
     "text": [
      "finishing evaluation....\n"
     ]
    },
    {
     "name": "stderr",
     "output_type": "stream",
     "text": [
      "\n"
     ]
    },
    {
     "data": {
      "application/vnd.jupyter.widget-view+json": {
       "model_id": "ce06e70ab5874e0ebbcd6305cf583710",
       "version_major": 2,
       "version_minor": 0
      },
      "text/plain": [
       "  0%|          | 0/3 [00:00<?, ?it/s]"
      ]
     },
     "metadata": {},
     "output_type": "display_data"
    },
    {
     "data": {
      "text/plain": [
       "0.0"
      ]
     },
     "execution_count": 44,
     "metadata": {},
     "output_type": "execute_result"
    }
   ],
   "source": [
    "evaluate = Train_Test_Split_Plain(CFU, min_ref_limit=5, train_size=0.5)\n",
    "evaluate.fit(data)"
   ]
  },
  {
   "cell_type": "code",
   "execution_count": 45,
   "id": "f394d0bb-df27-464b-bb51-fef1e2948fc3",
   "metadata": {},
   "outputs": [
    {
     "name": "stdout",
     "output_type": "stream",
     "text": [
      "The following doi's are ignored because of low reference :\n",
      "{'10.1145/3322645.3322656': 3}\n",
      "writing citation pairs....\n"
     ]
    },
    {
     "data": {
      "application/vnd.jupyter.widget-view+json": {
       "model_id": "1edc49d17c3d4dc6a4964799fd580f2c",
       "version_major": 2,
       "version_minor": 0
      },
      "text/plain": [
       "  0%|          | 0/5 [00:00<?, ?it/s]"
      ]
     },
     "metadata": {},
     "output_type": "display_data"
    },
    {
     "name": "stdout",
     "output_type": "stream",
     "text": [
      "Creating similarity matrix....\n"
     ]
    },
    {
     "name": "stderr",
     "output_type": "stream",
     "text": [
      "100%|██████████████████████████████████████████████████████████████████████████████████████████████████| 85/85 [00:00<00:00, 99.44it/s]\n"
     ]
    },
    {
     "name": "stdout",
     "output_type": "stream",
     "text": [
      "Computing recommendations for : 10.1145/3487891\n"
     ]
    },
    {
     "name": "stderr",
     "output_type": "stream",
     "text": [
      "100%|████████████████████████████████████████████████████████████████████████████████████████████████| 15/15 [00:00<00:00, 1118.56it/s]\n"
     ]
    },
    {
     "name": "stdout",
     "output_type": "stream",
     "text": [
      "Computing recommendations for : 10.1145/3301282\n"
     ]
    },
    {
     "name": "stderr",
     "output_type": "stream",
     "text": [
      "100%|█████████████████████████████████████████████████████████████████████████████████████████████████| 24/24 [00:00<00:00, 732.11it/s]\n"
     ]
    },
    {
     "name": "stdout",
     "output_type": "stream",
     "text": [
      "Computing recommendations for : 10.1145/3439723\n"
     ]
    },
    {
     "name": "stderr",
     "output_type": "stream",
     "text": [
      "100%|████████████████████████████████████████████████████████████████████████████████████████████████| 34/34 [00:00<00:00, 1769.73it/s]"
     ]
    },
    {
     "name": "stdout",
     "output_type": "stream",
     "text": [
      "finishing evaluation....\n"
     ]
    },
    {
     "name": "stderr",
     "output_type": "stream",
     "text": [
      "\n"
     ]
    },
    {
     "data": {
      "application/vnd.jupyter.widget-view+json": {
       "model_id": "f95c94c03fb74e47910fc9784134fc67",
       "version_major": 2,
       "version_minor": 0
      },
      "text/plain": [
       "  0%|          | 0/3 [00:00<?, ?it/s]"
      ]
     },
     "metadata": {},
     "output_type": "display_data"
    },
    {
     "data": {
      "text/plain": [
       "0.05441350331744319"
      ]
     },
     "execution_count": 45,
     "metadata": {},
     "output_type": "execute_result"
    }
   ],
   "source": [
    "evaluate = Train_Test_Split_Plain(CF, min_ref_limit=5, train_size=0.5)\n",
    "evaluate.fit(data)"
   ]
  },
  {
   "cell_type": "code",
   "execution_count": 9,
   "id": "f61c2478-3be2-48ec-a7ed-1ffe347fa43f",
   "metadata": {},
   "outputs": [
    {
     "name": "stdout",
     "output_type": "stream",
     "text": [
      "The following doi's are ignored because of low reference :\n",
      "{}\n",
      "writing citation pairs....\n"
     ]
    },
    {
     "data": {
      "application/vnd.jupyter.widget-view+json": {
       "model_id": "c74d43819955488aac0f708329c8f9d4",
       "version_major": 2,
       "version_minor": 0
      },
      "text/plain": [
       "  0%|          | 0/99 [00:00<?, ?it/s]"
      ]
     },
     "metadata": {},
     "output_type": "display_data"
    },
    {
     "name": "stdout",
     "output_type": "stream",
     "text": [
      "removing the indexes with no citations....\n",
      "page rank normalization on dataframe....\n"
     ]
    },
    {
     "name": "stderr",
     "output_type": "stream",
     "text": [
      "100%|████████████████████████████████████████████████████████████████████████████████████████████████| 99/99 [00:00<00:00, 5083.44it/s]\n"
     ]
    },
    {
     "name": "stdout",
     "output_type": "stream",
     "text": [
      "creating similarity matrix....\n"
     ]
    },
    {
     "name": "stderr",
     "output_type": "stream",
     "text": [
      "100%|████████████████████████████████████████████████████████████████████████████████████████████████| 100/100 [00:01<00:00, 86.08it/s]\n"
     ]
    },
    {
     "name": "stdout",
     "output_type": "stream",
     "text": [
      "normalizing the similarity matrix....\n"
     ]
    },
    {
     "name": "stderr",
     "output_type": "stream",
     "text": [
      "100%|██████████████████████████████████████████████████████████████████████████████████████████████| 100/100 [00:00<00:00, 3737.91it/s]\n"
     ]
    },
    {
     "name": "stdout",
     "output_type": "stream",
     "text": [
      "Computing recommendations for : 10\n"
     ]
    },
    {
     "name": "stderr",
     "output_type": "stream",
     "text": [
      "100%|█████████████████████████████████████████████████████████████████████████████████████████████████| 55/55 [00:00<00:00, 444.00it/s]\n"
     ]
    },
    {
     "name": "stdout",
     "output_type": "stream",
     "text": [
      "Computing recommendations for : 62\n"
     ]
    },
    {
     "name": "stderr",
     "output_type": "stream",
     "text": [
      "100%|█████████████████████████████████████████████████████████████████████████████████████████████████| 55/55 [00:00<00:00, 440.26it/s]\n"
     ]
    },
    {
     "name": "stdout",
     "output_type": "stream",
     "text": [
      "Computing recommendations for : 9\n"
     ]
    },
    {
     "name": "stderr",
     "output_type": "stream",
     "text": [
      "100%|█████████████████████████████████████████████████████████████████████████████████████████████████| 55/55 [00:00<00:00, 442.28it/s]\n"
     ]
    },
    {
     "name": "stdout",
     "output_type": "stream",
     "text": [
      "Computing recommendations for : 23\n"
     ]
    },
    {
     "name": "stderr",
     "output_type": "stream",
     "text": [
      "100%|█████████████████████████████████████████████████████████████████████████████████████████████████| 55/55 [00:00<00:00, 440.72it/s]\n"
     ]
    },
    {
     "name": "stdout",
     "output_type": "stream",
     "text": [
      "Computing recommendations for : 75\n"
     ]
    },
    {
     "name": "stderr",
     "output_type": "stream",
     "text": [
      "100%|█████████████████████████████████████████████████████████████████████████████████████████████████| 55/55 [00:00<00:00, 439.59it/s]\n"
     ]
    },
    {
     "name": "stdout",
     "output_type": "stream",
     "text": [
      "Computing recommendations for : 54\n"
     ]
    },
    {
     "name": "stderr",
     "output_type": "stream",
     "text": [
      "100%|█████████████████████████████████████████████████████████████████████████████████████████████████| 55/55 [00:00<00:00, 441.67it/s]\n"
     ]
    },
    {
     "name": "stdout",
     "output_type": "stream",
     "text": [
      "Computing recommendations for : 57\n"
     ]
    },
    {
     "name": "stderr",
     "output_type": "stream",
     "text": [
      "100%|█████████████████████████████████████████████████████████████████████████████████████████████████| 55/55 [00:00<00:00, 442.15it/s]\n"
     ]
    },
    {
     "name": "stdout",
     "output_type": "stream",
     "text": [
      "Computing recommendations for : 4\n"
     ]
    },
    {
     "name": "stderr",
     "output_type": "stream",
     "text": [
      "100%|█████████████████████████████████████████████████████████████████████████████████████████████████| 55/55 [00:00<00:00, 440.18it/s]\n"
     ]
    },
    {
     "name": "stdout",
     "output_type": "stream",
     "text": [
      "Computing recommendations for : 36\n"
     ]
    },
    {
     "name": "stderr",
     "output_type": "stream",
     "text": [
      "100%|█████████████████████████████████████████████████████████████████████████████████████████████████| 55/55 [00:00<00:00, 441.44it/s]\n"
     ]
    },
    {
     "name": "stdout",
     "output_type": "stream",
     "text": [
      "Computing recommendations for : 79\n"
     ]
    },
    {
     "name": "stderr",
     "output_type": "stream",
     "text": [
      "100%|█████████████████████████████████████████████████████████████████████████████████████████████████| 55/55 [00:00<00:00, 439.72it/s]\n"
     ]
    },
    {
     "name": "stdout",
     "output_type": "stream",
     "text": [
      "Computing recommendations for : 38\n"
     ]
    },
    {
     "name": "stderr",
     "output_type": "stream",
     "text": [
      "100%|█████████████████████████████████████████████████████████████████████████████████████████████████| 55/55 [00:00<00:00, 441.66it/s]\n"
     ]
    },
    {
     "name": "stdout",
     "output_type": "stream",
     "text": [
      "Computing recommendations for : 64\n"
     ]
    },
    {
     "name": "stderr",
     "output_type": "stream",
     "text": [
      "100%|█████████████████████████████████████████████████████████████████████████████████████████████████| 55/55 [00:00<00:00, 441.08it/s]\n"
     ]
    },
    {
     "name": "stdout",
     "output_type": "stream",
     "text": [
      "Computing recommendations for : 14\n"
     ]
    },
    {
     "name": "stderr",
     "output_type": "stream",
     "text": [
      "100%|█████████████████████████████████████████████████████████████████████████████████████████████████| 55/55 [00:00<00:00, 441.30it/s]\n"
     ]
    },
    {
     "name": "stdout",
     "output_type": "stream",
     "text": [
      "Computing recommendations for : 66\n"
     ]
    },
    {
     "name": "stderr",
     "output_type": "stream",
     "text": [
      "100%|█████████████████████████████████████████████████████████████████████████████████████████████████| 55/55 [00:00<00:00, 440.42it/s]\n"
     ]
    },
    {
     "name": "stdout",
     "output_type": "stream",
     "text": [
      "Computing recommendations for : 81\n"
     ]
    },
    {
     "name": "stderr",
     "output_type": "stream",
     "text": [
      "100%|█████████████████████████████████████████████████████████████████████████████████████████████████| 55/55 [00:00<00:00, 441.57it/s]\n"
     ]
    },
    {
     "name": "stdout",
     "output_type": "stream",
     "text": [
      "Computing recommendations for : 32\n"
     ]
    },
    {
     "name": "stderr",
     "output_type": "stream",
     "text": [
      "100%|█████████████████████████████████████████████████████████████████████████████████████████████████| 55/55 [00:00<00:00, 439.76it/s]\n"
     ]
    },
    {
     "name": "stdout",
     "output_type": "stream",
     "text": [
      "Computing recommendations for : 47\n"
     ]
    },
    {
     "name": "stderr",
     "output_type": "stream",
     "text": [
      "100%|█████████████████████████████████████████████████████████████████████████████████████████████████| 55/55 [00:00<00:00, 441.09it/s]\n"
     ]
    },
    {
     "name": "stdout",
     "output_type": "stream",
     "text": [
      "Computing recommendations for : 96\n"
     ]
    },
    {
     "name": "stderr",
     "output_type": "stream",
     "text": [
      "100%|█████████████████████████████████████████████████████████████████████████████████████████████████| 55/55 [00:00<00:00, 439.32it/s]\n"
     ]
    },
    {
     "name": "stdout",
     "output_type": "stream",
     "text": [
      "Computing recommendations for : 43\n"
     ]
    },
    {
     "name": "stderr",
     "output_type": "stream",
     "text": [
      "100%|█████████████████████████████████████████████████████████████████████████████████████████████████| 55/55 [00:00<00:00, 421.58it/s]\n"
     ]
    },
    {
     "name": "stdout",
     "output_type": "stream",
     "text": [
      "Computing recommendations for : 77\n"
     ]
    },
    {
     "name": "stderr",
     "output_type": "stream",
     "text": [
      "100%|█████████████████████████████████████████████████████████████████████████████████████████████████| 55/55 [00:00<00:00, 401.19it/s]\n"
     ]
    },
    {
     "name": "stdout",
     "output_type": "stream",
     "text": [
      "Computing recommendations for : 26\n"
     ]
    },
    {
     "name": "stderr",
     "output_type": "stream",
     "text": [
      "100%|█████████████████████████████████████████████████████████████████████████████████████████████████| 55/55 [00:00<00:00, 412.66it/s]\n"
     ]
    },
    {
     "name": "stdout",
     "output_type": "stream",
     "text": [
      "Computing recommendations for : 44\n"
     ]
    },
    {
     "name": "stderr",
     "output_type": "stream",
     "text": [
      "100%|█████████████████████████████████████████████████████████████████████████████████████████████████| 55/55 [00:00<00:00, 403.26it/s]\n"
     ]
    },
    {
     "name": "stdout",
     "output_type": "stream",
     "text": [
      "Computing recommendations for : 52\n"
     ]
    },
    {
     "name": "stderr",
     "output_type": "stream",
     "text": [
      "100%|█████████████████████████████████████████████████████████████████████████████████████████████████| 55/55 [00:00<00:00, 424.11it/s]\n"
     ]
    },
    {
     "name": "stdout",
     "output_type": "stream",
     "text": [
      "Computing recommendations for : 3\n"
     ]
    },
    {
     "name": "stderr",
     "output_type": "stream",
     "text": [
      "100%|█████████████████████████████████████████████████████████████████████████████████████████████████| 55/55 [00:00<00:00, 419.86it/s]\n"
     ]
    },
    {
     "name": "stdout",
     "output_type": "stream",
     "text": [
      "Computing recommendations for : 16\n"
     ]
    },
    {
     "name": "stderr",
     "output_type": "stream",
     "text": [
      "100%|█████████████████████████████████████████████████████████████████████████████████████████████████| 55/55 [00:00<00:00, 421.23it/s]\n"
     ]
    },
    {
     "name": "stdout",
     "output_type": "stream",
     "text": [
      "Computing recommendations for : 12\n"
     ]
    },
    {
     "name": "stderr",
     "output_type": "stream",
     "text": [
      "100%|█████████████████████████████████████████████████████████████████████████████████████████████████| 55/55 [00:00<00:00, 436.03it/s]\n"
     ]
    },
    {
     "name": "stdout",
     "output_type": "stream",
     "text": [
      "Computing recommendations for : 76\n"
     ]
    },
    {
     "name": "stderr",
     "output_type": "stream",
     "text": [
      "100%|█████████████████████████████████████████████████████████████████████████████████████████████████| 55/55 [00:00<00:00, 432.46it/s]\n"
     ]
    },
    {
     "name": "stdout",
     "output_type": "stream",
     "text": [
      "Computing recommendations for : 27\n"
     ]
    },
    {
     "name": "stderr",
     "output_type": "stream",
     "text": [
      "100%|█████████████████████████████████████████████████████████████████████████████████████████████████| 55/55 [00:00<00:00, 419.33it/s]\n"
     ]
    },
    {
     "name": "stdout",
     "output_type": "stream",
     "text": [
      "Computing recommendations for : 53\n"
     ]
    },
    {
     "name": "stderr",
     "output_type": "stream",
     "text": [
      "100%|█████████████████████████████████████████████████████████████████████████████████████████████████| 55/55 [00:00<00:00, 432.46it/s]\n"
     ]
    },
    {
     "name": "stdout",
     "output_type": "stream",
     "text": [
      "Computing recommendations for : 68\n"
     ]
    },
    {
     "name": "stderr",
     "output_type": "stream",
     "text": [
      "100%|█████████████████████████████████████████████████████████████████████████████████████████████████| 55/55 [00:00<00:00, 434.36it/s]\n"
     ]
    },
    {
     "name": "stdout",
     "output_type": "stream",
     "text": [
      "Computing recommendations for : 58\n"
     ]
    },
    {
     "name": "stderr",
     "output_type": "stream",
     "text": [
      "100%|█████████████████████████████████████████████████████████████████████████████████████████████████| 55/55 [00:00<00:00, 431.91it/s]\n"
     ]
    },
    {
     "name": "stdout",
     "output_type": "stream",
     "text": [
      "Computing recommendations for : 90\n"
     ]
    },
    {
     "name": "stderr",
     "output_type": "stream",
     "text": [
      "100%|█████████████████████████████████████████████████████████████████████████████████████████████████| 55/55 [00:00<00:00, 412.97it/s]\n"
     ]
    },
    {
     "name": "stdout",
     "output_type": "stream",
     "text": [
      "Computing recommendations for : 89\n"
     ]
    },
    {
     "name": "stderr",
     "output_type": "stream",
     "text": [
      "100%|█████████████████████████████████████████████████████████████████████████████████████████████████| 55/55 [00:00<00:00, 417.86it/s]\n"
     ]
    },
    {
     "name": "stdout",
     "output_type": "stream",
     "text": [
      "Computing recommendations for : 94\n"
     ]
    },
    {
     "name": "stderr",
     "output_type": "stream",
     "text": [
      "100%|█████████████████████████████████████████████████████████████████████████████████████████████████| 55/55 [00:00<00:00, 422.13it/s]\n"
     ]
    },
    {
     "name": "stdout",
     "output_type": "stream",
     "text": [
      "Computing recommendations for : 8\n"
     ]
    },
    {
     "name": "stderr",
     "output_type": "stream",
     "text": [
      "100%|█████████████████████████████████████████████████████████████████████████████████████████████████| 55/55 [00:00<00:00, 440.89it/s]\n"
     ]
    },
    {
     "name": "stdout",
     "output_type": "stream",
     "text": [
      "Computing recommendations for : 85\n"
     ]
    },
    {
     "name": "stderr",
     "output_type": "stream",
     "text": [
      "100%|█████████████████████████████████████████████████████████████████████████████████████████████████| 55/55 [00:00<00:00, 439.30it/s]\n"
     ]
    },
    {
     "name": "stdout",
     "output_type": "stream",
     "text": [
      "Computing recommendations for : 5\n"
     ]
    },
    {
     "name": "stderr",
     "output_type": "stream",
     "text": [
      "100%|█████████████████████████████████████████████████████████████████████████████████████████████████| 55/55 [00:00<00:00, 438.46it/s]\n"
     ]
    },
    {
     "name": "stdout",
     "output_type": "stream",
     "text": [
      "Computing recommendations for : 95\n"
     ]
    },
    {
     "name": "stderr",
     "output_type": "stream",
     "text": [
      "100%|█████████████████████████████████████████████████████████████████████████████████████████████████| 55/55 [00:00<00:00, 443.62it/s]\n"
     ]
    },
    {
     "name": "stdout",
     "output_type": "stream",
     "text": [
      "Computing recommendations for : 92\n"
     ]
    },
    {
     "name": "stderr",
     "output_type": "stream",
     "text": [
      "100%|█████████████████████████████████████████████████████████████████████████████████████████████████| 55/55 [00:00<00:00, 438.13it/s]\n"
     ]
    },
    {
     "name": "stdout",
     "output_type": "stream",
     "text": [
      "Computing recommendations for : 30\n"
     ]
    },
    {
     "name": "stderr",
     "output_type": "stream",
     "text": [
      "100%|█████████████████████████████████████████████████████████████████████████████████████████████████| 55/55 [00:00<00:00, 440.08it/s]\n"
     ]
    },
    {
     "name": "stdout",
     "output_type": "stream",
     "text": [
      "Computing recommendations for : 69\n"
     ]
    },
    {
     "name": "stderr",
     "output_type": "stream",
     "text": [
      "100%|█████████████████████████████████████████████████████████████████████████████████████████████████| 55/55 [00:00<00:00, 440.66it/s]\n"
     ]
    },
    {
     "name": "stdout",
     "output_type": "stream",
     "text": [
      "Computing recommendations for : 97\n"
     ]
    },
    {
     "name": "stderr",
     "output_type": "stream",
     "text": [
      "100%|█████████████████████████████████████████████████████████████████████████████████████████████████| 55/55 [00:00<00:00, 441.60it/s]\n"
     ]
    },
    {
     "name": "stdout",
     "output_type": "stream",
     "text": [
      "Computing recommendations for : 18\n"
     ]
    },
    {
     "name": "stderr",
     "output_type": "stream",
     "text": [
      "100%|█████████████████████████████████████████████████████████████████████████████████████████████████| 55/55 [00:00<00:00, 441.12it/s]\n"
     ]
    },
    {
     "name": "stdout",
     "output_type": "stream",
     "text": [
      "Computing recommendations for : 6\n"
     ]
    },
    {
     "name": "stderr",
     "output_type": "stream",
     "text": [
      "100%|█████████████████████████████████████████████████████████████████████████████████████████████████| 55/55 [00:00<00:00, 440.47it/s]\n"
     ]
    },
    {
     "name": "stdout",
     "output_type": "stream",
     "text": [
      "Computing recommendations for : 88\n"
     ]
    },
    {
     "name": "stderr",
     "output_type": "stream",
     "text": [
      "100%|█████████████████████████████████████████████████████████████████████████████████████████████████| 55/55 [00:00<00:00, 442.25it/s]\n"
     ]
    },
    {
     "name": "stdout",
     "output_type": "stream",
     "text": [
      "Computing recommendations for : 19\n"
     ]
    },
    {
     "name": "stderr",
     "output_type": "stream",
     "text": [
      "100%|█████████████████████████████████████████████████████████████████████████████████████████████████| 55/55 [00:00<00:00, 436.26it/s]\n"
     ]
    },
    {
     "name": "stdout",
     "output_type": "stream",
     "text": [
      "Computing recommendations for : 51\n"
     ]
    },
    {
     "name": "stderr",
     "output_type": "stream",
     "text": [
      "100%|█████████████████████████████████████████████████████████████████████████████████████████████████| 55/55 [00:00<00:00, 440.87it/s]\n"
     ]
    },
    {
     "name": "stdout",
     "output_type": "stream",
     "text": [
      "Computing recommendations for : 15\n"
     ]
    },
    {
     "name": "stderr",
     "output_type": "stream",
     "text": [
      "100%|█████████████████████████████████████████████████████████████████████████████████████████████████| 55/55 [00:00<00:00, 440.71it/s]\n"
     ]
    },
    {
     "name": "stdout",
     "output_type": "stream",
     "text": [
      "Computing recommendations for : 61\n"
     ]
    },
    {
     "name": "stderr",
     "output_type": "stream",
     "text": [
      "100%|█████████████████████████████████████████████████████████████████████████████████████████████████| 55/55 [00:00<00:00, 416.64it/s]\n"
     ]
    },
    {
     "name": "stdout",
     "output_type": "stream",
     "text": [
      "Computing recommendations for : 2\n"
     ]
    },
    {
     "name": "stderr",
     "output_type": "stream",
     "text": [
      "100%|█████████████████████████████████████████████████████████████████████████████████████████████████| 55/55 [00:00<00:00, 419.48it/s]"
     ]
    },
    {
     "name": "stdout",
     "output_type": "stream",
     "text": [
      "finishing evaluation....\n"
     ]
    },
    {
     "name": "stderr",
     "output_type": "stream",
     "text": [
      "\n"
     ]
    },
    {
     "data": {
      "application/vnd.jupyter.widget-view+json": {
       "model_id": "39d18b07e11b42f9a14f1801cdbcb06e",
       "version_major": 2,
       "version_minor": 0
      },
      "text/plain": [
       "  0%|          | 0/50 [00:00<?, ?it/s]"
      ]
     },
     "metadata": {},
     "output_type": "display_data"
    },
    {
     "data": {
      "text/plain": [
       "0.1125924824893503"
      ]
     },
     "execution_count": 9,
     "metadata": {},
     "output_type": "execute_result"
    }
   ],
   "source": [
    "evaluate = Train_Test_Split_Plain(CFUPR, min_ref_limit=5, train_size=0.5, normalize_similarity=True)\n",
    "evaluate.fit(data)"
   ]
  },
  {
   "cell_type": "code",
   "execution_count": 10,
   "id": "292008ec-7672-4c36-95c2-1d4dd97cc87a",
   "metadata": {},
   "outputs": [
    {
     "name": "stdout",
     "output_type": "stream",
     "text": [
      "The following doi's are ignored because of low reference :\n",
      "{}\n",
      "writing citation pairs....\n"
     ]
    },
    {
     "data": {
      "application/vnd.jupyter.widget-view+json": {
       "model_id": "0a0861523d0d432788cd92471021759d",
       "version_major": 2,
       "version_minor": 0
      },
      "text/plain": [
       "  0%|          | 0/99 [00:00<?, ?it/s]"
      ]
     },
     "metadata": {},
     "output_type": "display_data"
    },
    {
     "name": "stdout",
     "output_type": "stream",
     "text": [
      "removing the indexes with no citations....\n",
      "page rank normalization on dataframe....\n"
     ]
    },
    {
     "name": "stderr",
     "output_type": "stream",
     "text": [
      "100%|████████████████████████████████████████████████████████████████████████████████████████████████| 99/99 [00:00<00:00, 5089.74it/s]\n"
     ]
    },
    {
     "name": "stdout",
     "output_type": "stream",
     "text": [
      "creating similarity matrix....\n"
     ]
    },
    {
     "name": "stderr",
     "output_type": "stream",
     "text": [
      "  0%|                                                                                                          | 0/100 [00:00<?, ?it/s]/Users/sandeepchowdaryannabathuni/Desktop/Thesis/paper_recommender/cf/cf_hits.py:73: RuntimeWarning: invalid value encountered in double_scalars\n",
      "  similarity_mat.loc[col_i][col_j] = np.dot(self.df[col_i], self.df[col_j])/(np.linalg.norm(self.df[col_i]) * np.linalg.norm(self.df[col_j]))\n",
      "100%|████████████████████████████████████████████████████████████████████████████████████████████████| 100/100 [00:01<00:00, 84.92it/s]\n"
     ]
    },
    {
     "name": "stdout",
     "output_type": "stream",
     "text": [
      "normalizing the similarity matrix....\n"
     ]
    },
    {
     "name": "stderr",
     "output_type": "stream",
     "text": [
      "100%|██████████████████████████████████████████████████████████████████████████████████████████████| 100/100 [00:00<00:00, 3944.31it/s]\n"
     ]
    },
    {
     "name": "stdout",
     "output_type": "stream",
     "text": [
      "Computing recommendations for : 10\n"
     ]
    },
    {
     "name": "stderr",
     "output_type": "stream",
     "text": [
      "0it [00:00, ?it/s]\n"
     ]
    },
    {
     "name": "stdout",
     "output_type": "stream",
     "text": [
      "Computing recommendations for : 62\n"
     ]
    },
    {
     "name": "stderr",
     "output_type": "stream",
     "text": [
      "0it [00:00, ?it/s]\n"
     ]
    },
    {
     "name": "stdout",
     "output_type": "stream",
     "text": [
      "Computing recommendations for : 9\n"
     ]
    },
    {
     "name": "stderr",
     "output_type": "stream",
     "text": [
      "0it [00:00, ?it/s]\n"
     ]
    },
    {
     "name": "stdout",
     "output_type": "stream",
     "text": [
      "Computing recommendations for : 23\n"
     ]
    },
    {
     "name": "stderr",
     "output_type": "stream",
     "text": [
      "0it [00:00, ?it/s]\n"
     ]
    },
    {
     "name": "stdout",
     "output_type": "stream",
     "text": [
      "Computing recommendations for : 75\n"
     ]
    },
    {
     "name": "stderr",
     "output_type": "stream",
     "text": [
      "0it [00:00, ?it/s]\n"
     ]
    },
    {
     "name": "stdout",
     "output_type": "stream",
     "text": [
      "Computing recommendations for : 54\n"
     ]
    },
    {
     "name": "stderr",
     "output_type": "stream",
     "text": [
      "0it [00:00, ?it/s]\n"
     ]
    },
    {
     "name": "stdout",
     "output_type": "stream",
     "text": [
      "Computing recommendations for : 57\n"
     ]
    },
    {
     "name": "stderr",
     "output_type": "stream",
     "text": [
      "0it [00:00, ?it/s]\n"
     ]
    },
    {
     "name": "stdout",
     "output_type": "stream",
     "text": [
      "Computing recommendations for : 4\n"
     ]
    },
    {
     "name": "stderr",
     "output_type": "stream",
     "text": [
      "0it [00:00, ?it/s]\n"
     ]
    },
    {
     "name": "stdout",
     "output_type": "stream",
     "text": [
      "Computing recommendations for : 36\n"
     ]
    },
    {
     "name": "stderr",
     "output_type": "stream",
     "text": [
      "0it [00:00, ?it/s]\n"
     ]
    },
    {
     "name": "stdout",
     "output_type": "stream",
     "text": [
      "Computing recommendations for : 79\n"
     ]
    },
    {
     "name": "stderr",
     "output_type": "stream",
     "text": [
      "0it [00:00, ?it/s]\n"
     ]
    },
    {
     "name": "stdout",
     "output_type": "stream",
     "text": [
      "Computing recommendations for : 38\n"
     ]
    },
    {
     "name": "stderr",
     "output_type": "stream",
     "text": [
      "0it [00:00, ?it/s]\n"
     ]
    },
    {
     "name": "stdout",
     "output_type": "stream",
     "text": [
      "Computing recommendations for : 64\n"
     ]
    },
    {
     "name": "stderr",
     "output_type": "stream",
     "text": [
      "0it [00:00, ?it/s]\n"
     ]
    },
    {
     "name": "stdout",
     "output_type": "stream",
     "text": [
      "Computing recommendations for : 14\n"
     ]
    },
    {
     "name": "stderr",
     "output_type": "stream",
     "text": [
      "0it [00:00, ?it/s]\n"
     ]
    },
    {
     "name": "stdout",
     "output_type": "stream",
     "text": [
      "Computing recommendations for : 66\n"
     ]
    },
    {
     "name": "stderr",
     "output_type": "stream",
     "text": [
      "0it [00:00, ?it/s]\n"
     ]
    },
    {
     "name": "stdout",
     "output_type": "stream",
     "text": [
      "Computing recommendations for : 81\n"
     ]
    },
    {
     "name": "stderr",
     "output_type": "stream",
     "text": [
      "0it [00:00, ?it/s]\n"
     ]
    },
    {
     "name": "stdout",
     "output_type": "stream",
     "text": [
      "Computing recommendations for : 32\n"
     ]
    },
    {
     "name": "stderr",
     "output_type": "stream",
     "text": [
      "0it [00:00, ?it/s]\n"
     ]
    },
    {
     "name": "stdout",
     "output_type": "stream",
     "text": [
      "Computing recommendations for : 47\n"
     ]
    },
    {
     "name": "stderr",
     "output_type": "stream",
     "text": [
      "0it [00:00, ?it/s]\n"
     ]
    },
    {
     "name": "stdout",
     "output_type": "stream",
     "text": [
      "Computing recommendations for : 96\n"
     ]
    },
    {
     "name": "stderr",
     "output_type": "stream",
     "text": [
      "0it [00:00, ?it/s]\n"
     ]
    },
    {
     "name": "stdout",
     "output_type": "stream",
     "text": [
      "Computing recommendations for : 43\n"
     ]
    },
    {
     "name": "stderr",
     "output_type": "stream",
     "text": [
      "0it [00:00, ?it/s]\n"
     ]
    },
    {
     "name": "stdout",
     "output_type": "stream",
     "text": [
      "Computing recommendations for : 77\n"
     ]
    },
    {
     "name": "stderr",
     "output_type": "stream",
     "text": [
      "0it [00:00, ?it/s]\n"
     ]
    },
    {
     "name": "stdout",
     "output_type": "stream",
     "text": [
      "Computing recommendations for : 26\n"
     ]
    },
    {
     "name": "stderr",
     "output_type": "stream",
     "text": [
      "0it [00:00, ?it/s]\n"
     ]
    },
    {
     "name": "stdout",
     "output_type": "stream",
     "text": [
      "Computing recommendations for : 44\n"
     ]
    },
    {
     "name": "stderr",
     "output_type": "stream",
     "text": [
      "0it [00:00, ?it/s]\n"
     ]
    },
    {
     "name": "stdout",
     "output_type": "stream",
     "text": [
      "Computing recommendations for : 52\n"
     ]
    },
    {
     "name": "stderr",
     "output_type": "stream",
     "text": [
      "0it [00:00, ?it/s]\n"
     ]
    },
    {
     "name": "stdout",
     "output_type": "stream",
     "text": [
      "Computing recommendations for : 3\n"
     ]
    },
    {
     "name": "stderr",
     "output_type": "stream",
     "text": [
      "0it [00:00, ?it/s]\n"
     ]
    },
    {
     "name": "stdout",
     "output_type": "stream",
     "text": [
      "Computing recommendations for : 16\n"
     ]
    },
    {
     "name": "stderr",
     "output_type": "stream",
     "text": [
      "0it [00:00, ?it/s]\n"
     ]
    },
    {
     "name": "stdout",
     "output_type": "stream",
     "text": [
      "Computing recommendations for : 12\n"
     ]
    },
    {
     "name": "stderr",
     "output_type": "stream",
     "text": [
      "0it [00:00, ?it/s]\n"
     ]
    },
    {
     "name": "stdout",
     "output_type": "stream",
     "text": [
      "Computing recommendations for : 76\n"
     ]
    },
    {
     "name": "stderr",
     "output_type": "stream",
     "text": [
      "0it [00:00, ?it/s]\n"
     ]
    },
    {
     "name": "stdout",
     "output_type": "stream",
     "text": [
      "Computing recommendations for : 27\n"
     ]
    },
    {
     "name": "stderr",
     "output_type": "stream",
     "text": [
      "0it [00:00, ?it/s]\n"
     ]
    },
    {
     "name": "stdout",
     "output_type": "stream",
     "text": [
      "Computing recommendations for : 53\n"
     ]
    },
    {
     "name": "stderr",
     "output_type": "stream",
     "text": [
      "0it [00:00, ?it/s]\n"
     ]
    },
    {
     "name": "stdout",
     "output_type": "stream",
     "text": [
      "Computing recommendations for : 68\n"
     ]
    },
    {
     "name": "stderr",
     "output_type": "stream",
     "text": [
      "0it [00:00, ?it/s]\n"
     ]
    },
    {
     "name": "stdout",
     "output_type": "stream",
     "text": [
      "Computing recommendations for : 58\n"
     ]
    },
    {
     "name": "stderr",
     "output_type": "stream",
     "text": [
      "0it [00:00, ?it/s]\n"
     ]
    },
    {
     "name": "stdout",
     "output_type": "stream",
     "text": [
      "Computing recommendations for : 90\n"
     ]
    },
    {
     "name": "stderr",
     "output_type": "stream",
     "text": [
      "0it [00:00, ?it/s]\n"
     ]
    },
    {
     "name": "stdout",
     "output_type": "stream",
     "text": [
      "Computing recommendations for : 89\n"
     ]
    },
    {
     "name": "stderr",
     "output_type": "stream",
     "text": [
      "0it [00:00, ?it/s]\n"
     ]
    },
    {
     "name": "stdout",
     "output_type": "stream",
     "text": [
      "Computing recommendations for : 94\n"
     ]
    },
    {
     "name": "stderr",
     "output_type": "stream",
     "text": [
      "0it [00:00, ?it/s]\n"
     ]
    },
    {
     "name": "stdout",
     "output_type": "stream",
     "text": [
      "Computing recommendations for : 8\n"
     ]
    },
    {
     "name": "stderr",
     "output_type": "stream",
     "text": [
      "0it [00:00, ?it/s]\n"
     ]
    },
    {
     "name": "stdout",
     "output_type": "stream",
     "text": [
      "Computing recommendations for : 85\n"
     ]
    },
    {
     "name": "stderr",
     "output_type": "stream",
     "text": [
      "0it [00:00, ?it/s]\n"
     ]
    },
    {
     "name": "stdout",
     "output_type": "stream",
     "text": [
      "Computing recommendations for : 5\n"
     ]
    },
    {
     "name": "stderr",
     "output_type": "stream",
     "text": [
      "0it [00:00, ?it/s]\n"
     ]
    },
    {
     "name": "stdout",
     "output_type": "stream",
     "text": [
      "Computing recommendations for : 95\n"
     ]
    },
    {
     "name": "stderr",
     "output_type": "stream",
     "text": [
      "0it [00:00, ?it/s]\n"
     ]
    },
    {
     "name": "stdout",
     "output_type": "stream",
     "text": [
      "Computing recommendations for : 92\n"
     ]
    },
    {
     "name": "stderr",
     "output_type": "stream",
     "text": [
      "0it [00:00, ?it/s]\n"
     ]
    },
    {
     "name": "stdout",
     "output_type": "stream",
     "text": [
      "Computing recommendations for : 30\n"
     ]
    },
    {
     "name": "stderr",
     "output_type": "stream",
     "text": [
      "0it [00:00, ?it/s]\n"
     ]
    },
    {
     "name": "stdout",
     "output_type": "stream",
     "text": [
      "Computing recommendations for : 69\n"
     ]
    },
    {
     "name": "stderr",
     "output_type": "stream",
     "text": [
      "0it [00:00, ?it/s]\n"
     ]
    },
    {
     "name": "stdout",
     "output_type": "stream",
     "text": [
      "Computing recommendations for : 97\n"
     ]
    },
    {
     "name": "stderr",
     "output_type": "stream",
     "text": [
      "0it [00:00, ?it/s]\n"
     ]
    },
    {
     "name": "stdout",
     "output_type": "stream",
     "text": [
      "Computing recommendations for : 18\n"
     ]
    },
    {
     "name": "stderr",
     "output_type": "stream",
     "text": [
      "0it [00:00, ?it/s]\n"
     ]
    },
    {
     "name": "stdout",
     "output_type": "stream",
     "text": [
      "Computing recommendations for : 6\n"
     ]
    },
    {
     "name": "stderr",
     "output_type": "stream",
     "text": [
      "0it [00:00, ?it/s]\n"
     ]
    },
    {
     "name": "stdout",
     "output_type": "stream",
     "text": [
      "Computing recommendations for : 88\n"
     ]
    },
    {
     "name": "stderr",
     "output_type": "stream",
     "text": [
      "0it [00:00, ?it/s]\n"
     ]
    },
    {
     "name": "stdout",
     "output_type": "stream",
     "text": [
      "Computing recommendations for : 19\n"
     ]
    },
    {
     "name": "stderr",
     "output_type": "stream",
     "text": [
      "0it [00:00, ?it/s]\n"
     ]
    },
    {
     "name": "stdout",
     "output_type": "stream",
     "text": [
      "Computing recommendations for : 51\n"
     ]
    },
    {
     "name": "stderr",
     "output_type": "stream",
     "text": [
      "0it [00:00, ?it/s]\n"
     ]
    },
    {
     "name": "stdout",
     "output_type": "stream",
     "text": [
      "Computing recommendations for : 15\n"
     ]
    },
    {
     "name": "stderr",
     "output_type": "stream",
     "text": [
      "0it [00:00, ?it/s]\n"
     ]
    },
    {
     "name": "stdout",
     "output_type": "stream",
     "text": [
      "Computing recommendations for : 61\n"
     ]
    },
    {
     "name": "stderr",
     "output_type": "stream",
     "text": [
      "0it [00:00, ?it/s]\n"
     ]
    },
    {
     "name": "stdout",
     "output_type": "stream",
     "text": [
      "Computing recommendations for : 2\n"
     ]
    },
    {
     "name": "stderr",
     "output_type": "stream",
     "text": [
      "0it [00:00, ?it/s]"
     ]
    },
    {
     "name": "stdout",
     "output_type": "stream",
     "text": [
      "finishing evaluation....\n"
     ]
    },
    {
     "name": "stderr",
     "output_type": "stream",
     "text": [
      "\n"
     ]
    },
    {
     "data": {
      "application/vnd.jupyter.widget-view+json": {
       "model_id": "ae71d2c07d87492ba87a0dbc15f64cf7",
       "version_major": 2,
       "version_minor": 0
      },
      "text/plain": [
       "  0%|          | 0/50 [00:00<?, ?it/s]"
      ]
     },
     "metadata": {},
     "output_type": "display_data"
    },
    {
     "data": {
      "text/plain": [
       "0.0"
      ]
     },
     "execution_count": 10,
     "metadata": {},
     "output_type": "execute_result"
    }
   ],
   "source": [
    "evaluate = Train_Test_Split_Plain(CFUH, min_ref_limit=5, train_size=0.5, normalize_similarity=True)\n",
    "evaluate.fit(data)"
   ]
  },
  {
   "cell_type": "code",
   "execution_count": 46,
   "id": "4a82f6b5-cef3-4268-9b26-dadaa1b3dfba",
   "metadata": {},
   "outputs": [],
   "source": [
    "default_path='citation-web/'\n",
    "file_ = 'matrix-way/citation-matrix.csv'\n",
    "file_pair = 'pair-way/citation-pairs.txt'\n",
    "\n",
    "df = pd.read_csv(default_path + file_)\n",
    "index_col = df.columns[0]\n",
    "df.set_index(df[index_col], inplace=True)\n",
    "\n",
    "df.index = df.index.astype(str, copy = False)\n",
    "df.drop([index_col], axis=1, inplace=True)\n",
    "\n",
    "# clean\n",
    "indexes = df.index.values.copy()\n",
    "for index in indexes:\n",
    "    if not (1 in df.loc[index].values):\n",
    "        df.drop(index, inplace=True)\n",
    "\n",
    "from ranking.hits import Ranking\n",
    "\n",
    "file_name = default_path + file_pair\n",
    "default_temp_file_path  = \"temp/pair-way/temp-hits-base-node.txt\"\n",
    "\n",
    "root_nodes= set(df.index.values)\n",
    "potential_hub_and_auth_nodes = []"
   ]
  },
  {
   "cell_type": "code",
   "execution_count": 47,
   "id": "a28ed82a-350e-4918-a064-8639789b3654",
   "metadata": {},
   "outputs": [],
   "source": [
    "def __potential_hub_and_auth__():\n",
    "\t\t\"\"\"\n",
    "\t\tThis method is used to find all the pages that link to the \n",
    "\t\tnodes/papers in the root nodes. These are called potential hubs\n",
    "\t\t\"\"\"\n",
    "\t\tpotential_hub_and_auth_nodes = []\n",
    "\t\twith open(file_name, 'r') as f:\n",
    "\t\t\tfor line in f:\n",
    "\t\t\t\tfrom_, to_ = line.strip().replace('\\n', '').split(',')\n",
    "\n",
    "\t\t\t\tif to_ in root_nodes:\n",
    "\t\t\t\t\tpotential_hub_and_auth_nodes.append(from_)\n",
    "\t\t\t\telif from_ in root_nodes:\n",
    "\t\t\t\t\tpotential_hub_and_auth_nodes.append(to_)\n",
    "\n",
    "\t\treturn potential_hub_and_auth_nodes \n",
    "    "
   ]
  },
  {
   "cell_type": "code",
   "execution_count": 48,
   "id": "c757247f-7117-4a57-8dd8-a08497b61578",
   "metadata": {},
   "outputs": [],
   "source": [
    "potential_hub_auth_nodes = set(__potential_hub_and_auth__()) - root_nodes"
   ]
  },
  {
   "cell_type": "code",
   "execution_count": 49,
   "id": "89cf81ca-a9eb-4181-91bf-fecc5186e39d",
   "metadata": {},
   "outputs": [],
   "source": [
    "def __base__():\n",
    "\t\t\"\"\"\n",
    "\t\tThis method is used to create a base nodes for\n",
    "\t\ta given root nodes\n",
    "\n",
    "\t\tWhat is root nodes?\n",
    "\t\tThese are the most relevant nodes for a given user\n",
    "\t\tquery\n",
    "\n",
    "\t\tIn our case, these are the query list of papers\n",
    "\n",
    "\t\tTo form the base nodes, we find all the nodes or\n",
    "\t\tpapers that has out-going edges to the root nodes\n",
    "\t\tand relation between them.\n",
    "\t\t\"\"\"\n",
    "\t\trequired_nodes = set(root_nodes)\n",
    "\t\trequired_nodes.update(potential_hub_auth_nodes)\n",
    "\n",
    "\t\tbase_network = []\n",
    "\n",
    "\t\twith open(file_name) as f:\n",
    "\t\t\tfor line in f:\n",
    "\t\t\t\tfrom_, to_ = line.strip().replace('\\n', '').split(',')\n",
    "\n",
    "\t\t\t\tif (from_ in required_nodes) and (to_ in required_nodes):\n",
    "\t\t\t\t\tbase_network.append(line)\n",
    "\n",
    "\t\twith open(default_temp_file_path, 'w') as f:\n",
    "\t\t\tfor edge in base_network:\n",
    "\t\t\t\tf.write(edge)\n",
    "                \n",
    "__base__()"
   ]
  },
  {
   "cell_type": "code",
   "execution_count": 50,
   "id": "03d97003-403b-4bdf-9cc5-ccb48cdab26b",
   "metadata": {},
   "outputs": [],
   "source": [
    "class Node:\n",
    "\t\"\"\"\n",
    "\tThis class is used to create a dictionary of nodes\n",
    "\tEach node class has the following data\n",
    "\ta) vertex\n",
    "\tb) meta\n",
    "\tc) out_link\n",
    "\td) in_link\n",
    "\t\"\"\"\n",
    "\tdef __init__(self):\n",
    "\t\tself.vertex = None\n",
    "\t\tself.meta = None\n",
    "\t\tself.score = 1.0\n",
    "\t\tself.out_link = set()\n",
    "\t\tself.in_link = set()\n",
    "\n",
    "def __create__():\n",
    "\t\t\"\"\" \n",
    "\t\tThis method is used to create a graph and\n",
    "\t\treturn the dict with key as node name and\n",
    "\t\tvalue as the Node class\n",
    "\t\t\"\"\"\n",
    "\t\tnode_dict = {}\n",
    "\t\twith open(default_temp_file_path) as f:\n",
    "\t\t\tfor line in f:\n",
    "\t\t\t\tfrom_, to_ = line.replace('\\n', '').strip().split(',')\n",
    "\n",
    "\t\t\t\tif not node_dict.get(from_, False):\n",
    "\t\t\t\t\ttemp = Node()\n",
    "\t\t\t\t\ttemp.vertex = from_\n",
    "\t\t\t\t\tnode_dict[from_] = temp\n",
    "\n",
    "\n",
    "\t\t\t\tif not node_dict.get(to_, False):\n",
    "\t\t\t\t\ttemp = Node()\n",
    "\t\t\t\t\ttemp.vertex = to_\n",
    "\t\t\t\t\tnode_dict[to_] = temp\n",
    "\n",
    "\n",
    "\t\t\t\tfrom_node = node_dict[from_]\n",
    "\t\t\t\tto_node = node_dict[to_]\n",
    "\n",
    "\t\t\t\tfrom_node.out_link.add(to_)\n",
    "\t\t\t\tto_node.in_link.add(from_)\n",
    "\n",
    "\t\treturn node_dict\n",
    "    \n",
    "\n",
    "\n"
   ]
  },
  {
   "cell_type": "code",
   "execution_count": null,
   "id": "0801eff8-0c74-4765-a55f-1e904507314d",
   "metadata": {},
   "outputs": [],
   "source": []
  },
  {
   "cell_type": "code",
   "execution_count": 51,
   "id": "851ed2f9-b7ef-41af-8be7-0b829b666ee1",
   "metadata": {},
   "outputs": [],
   "source": [
    "data = __create__()"
   ]
  },
  {
   "cell_type": "code",
   "execution_count": null,
   "id": "1af88ebb-459e-4c88-8414-981fdfc998d0",
   "metadata": {},
   "outputs": [],
   "source": []
  },
  {
   "cell_type": "code",
   "execution_count": null,
   "id": "6beb350e-a532-4bfa-b101-b8cca3112cb9",
   "metadata": {},
   "outputs": [],
   "source": []
  },
  {
   "cell_type": "code",
   "execution_count": null,
   "id": "a327abe2-6990-481e-abbc-cc16c9acb5a1",
   "metadata": {},
   "outputs": [],
   "source": []
  },
  {
   "cell_type": "code",
   "execution_count": null,
   "id": "1c73a5a1-c165-4ace-bac9-576dcf9ae954",
   "metadata": {},
   "outputs": [],
   "source": []
  },
  {
   "cell_type": "code",
   "execution_count": 53,
   "id": "60a01f9e-2821-40f7-9e1d-81f592fa7670",
   "metadata": {},
   "outputs": [],
   "source": [
    "def __assign_auth_score__():\n",
    "\t\t\"\"\"\n",
    "\t\tThis method is used to assign the authorative score to\n",
    "\t\tall the nodes in the base network. Default we are assigning\n",
    "\t\tvalue 1 to all the nodes in the base network\n",
    "\t\t\"\"\"\n",
    "\t\ttemp_dict = {}\n",
    "\t\tfor key in data.keys():\n",
    "\t\t\ttemp_dict[key] = 1.0 \n",
    "\n",
    "\t\treturn temp_dict\n",
    "    \n",
    "\n",
    "\n",
    "auth_score = __assign_auth_score__()\n",
    "hub_score = __assign_auth_score__()"
   ]
  },
  {
   "cell_type": "code",
   "execution_count": 54,
   "id": "c4e2d691-b634-4cda-b740-4a7df24dd345",
   "metadata": {},
   "outputs": [
    {
     "data": {
      "text/plain": [
       "{'10.1145/3439723': 1.0,\n",
       " '10.5555/3294996.3295059': 1.0,\n",
       " '10.1109/AVSS.2009.58': 1.0,\n",
       " '10.1109/CVPR.2014.487': 1.0,\n",
       " '10.1145/3072959.3073659': 1.0,\n",
       " '10.1145/2601097.2601122': 1.0,\n",
       " '10.1023/A%3A1026543900054': 1.0,\n",
       " '10.1145/3301282': 1.0,\n",
       " '10.1007/BF01584320': 1.0,\n",
       " '10.1137/S0363012995293694': 1.0,\n",
       " '10.1145/1531326.1531330': 1.0,\n",
       " '10.5555/3295222.3295327': 1.0,\n",
       " '10.1016/j.patcog.2012.06.021': 1.0,\n",
       " '10.5555/2188385.2188410': 1.0,\n",
       " '10.1145/3077136.3080842': 1.0,\n",
       " '10.1609/aaai.v33i01.33018901': 1.0,\n",
       " '10.1145/3446374': 1.0,\n",
       " '10.1162/neco.2006.18.7.1527': 1.0,\n",
       " '10.1006/jcss.1997.1504': 1.0,\n",
       " '10.1007/s11263-019-01265-2': 1.0,\n",
       " '10.1109/access.2019.2905015': 1.0,\n",
       " '10.1162/089976698300017746': 1.0,\n",
       " '10.1145/3209978.3210184': 1.0,\n",
       " '10.1145/3459992': 1.0,\n",
       " '10.1109/ALLERTON.2019.8919758': 1.0,\n",
       " '10.1145/3340531.3411970': 1.0,\n",
       " '10.1109/TPAMI.2010.77': 1.0,\n",
       " '10.1145/3052973.3053009': 1.0,\n",
       " '10.1007/11681878_14': 1.0,\n",
       " '10.1145/3203217.3203241': 1.0,\n",
       " '10.1109/SECURWARE.2009.48': 1.0,\n",
       " '10.1145/3133956.3134077': 1.0,\n",
       " '10.1145/3326467.3326474': 1.0,\n",
       " '10.1109/TIFS.2019.2891116': 1.0,\n",
       " '10.5555/3294771.3294810': 1.0,\n",
       " '10.1145/2810103.2813687': 1.0,\n",
       " '10.5555/3305890.3305954': 1.0,\n",
       " '10.1109/ICCRD.2010.71': 1.0,\n",
       " '10.1145/3243734.3243855': 1.0,\n",
       " '10.1145/3133956.3134012': 1.0,\n",
       " '10.1145/2810103.2813677': 1.0,\n",
       " '10.1145/3374751': 1.0,\n",
       " '10.1504/IJSN.2015.071829': 1.0,\n",
       " '10.1109/TKDE.2008.234': 1.0,\n",
       " '10.1109/TIFS.2020.2968188': 1.0,\n",
       " '10.1145/3366423.3380171': 1.0,\n",
       " '10.14778/3231751.3231757': 1.0,\n",
       " '10.5555/3009657.3009736': 1.0,\n",
       " '10.5555/3157096.3157165': 1.0,\n",
       " '10.1162/089976600300015015': 1.0,\n",
       " '10.1007/978-3-030-62008-0_16': 1.0,\n",
       " '10.5555/108235.108253': 1.0,\n",
       " '10.1109/TCBB.2019.2907626': 1.0,\n",
       " '10.5555/2999134.2999257': 1.0,\n",
       " '10.1145/2976749.2978318': 1.0,\n",
       " '10.5555/3305890.3305942': 1.0,\n",
       " '10.5555/3157382.3157477': 1.0,\n",
       " '10.5555/2997046.2997095': 1.0,\n",
       " '10.5555/1620270.1620297': 1.0,\n",
       " '10.5555/3294996.3295012': 1.0,\n",
       " '10.5555/3157096.3157106': 1.0,\n",
       " '10.5555/3298483.3298649': 1.0,\n",
       " '10.5555/3294996.3295075': 1.0,\n",
       " '10.5555/3294771.3294981': 1.0,\n",
       " '10.1162/neco.1997.9.8.1735': 1.0,\n",
       " '10.5555/3157096.3157127': 1.0,\n",
       " '10.1109/TKDE.2009.191': 1.0,\n",
       " '10.5555/3305381.3305573': 1.0,\n",
       " '10.5555/3294771.3294843': 1.0,\n",
       " '10.5555/3157096.3157346': 1.0,\n",
       " '10.5555/3157096.3157149': 1.0,\n",
       " '10.5555/3045118.3045319': 1.0,\n",
       " '10.5555/2969033.2969125': 1.0,\n",
       " '10.1145/882262.882269': 1.0,\n",
       " '10.5555/3157096.3157340': 1.0,\n",
       " '10.5555/3045118.3045301': 1.0,\n",
       " '10.5555/3009657.3009806': 1.0,\n",
       " '10.1109/TIP.2003.819861': 1.0,\n",
       " '10.1109/34.3909': 1.0,\n",
       " '10.5555/3305381.3305405': 1.0,\n",
       " '10.5555/3157382.3157608': 1.0,\n",
       " '10.1145/3322645.3322656': 1.0,\n",
       " '10.5555/3045118.3045167': 1.0,\n",
       " '10.1109/TIP.2017.2662206': 1.0,\n",
       " '10.1145/3487891': 1.0,\n",
       " '10.1145/3123266.3123309': 1.0,\n",
       " '10.1109/TMM.2015.2407694': 1.0,\n",
       " '10.1007/978-3-030-58517-4_31': 1.0,\n",
       " '10.1109/TPAMI.2013.248': 1.0,\n",
       " '10.5555/3295222.3295408': 1.0,\n",
       " '10.1007/978-3-030-00928-1_60': 1.0,\n",
       " '10.1177/0278364913491297': 1.0,\n",
       " '10.1109/ICCV.2005.28': 1.0,\n",
       " '10.5555/3367243.3367316': 1.0,\n",
       " '10.5555/2002472.2002497': 1.0,\n",
       " '10.1145/3126686.3126723': 1.0,\n",
       " '10.1145/3123266.3127905': 1.0,\n",
       " '10.5555/3042817.3043083': 1.0,\n",
       " '10.1609/aaai.v33i01.33019299': 1.0,\n",
       " '10.1109/CVPR.2014.223': 1.0,\n",
       " '10.1007/978-3-642-33712-3_38': 1.0}"
      ]
     },
     "execution_count": 54,
     "metadata": {},
     "output_type": "execute_result"
    }
   ],
   "source": [
    "auth_score"
   ]
  },
  {
   "cell_type": "code",
   "execution_count": 55,
   "id": "a546f4f8-e911-42d5-9b04-e8b65470239d",
   "metadata": {},
   "outputs": [],
   "source": [
    "iterations = 500"
   ]
  },
  {
   "cell_type": "code",
   "execution_count": 56,
   "id": "e7d7cabd-f135-474d-b22e-cafeb55a599f",
   "metadata": {},
   "outputs": [],
   "source": [
    "def __calculate__():\n",
    "    global auth_score, hub_score\n",
    "    for _ in range(iterations):\n",
    "        temp_auth = {}\n",
    "        temp_hub = {}\n",
    "        total_auth = 0.0\n",
    "        total_hub = 0.0\n",
    "        for key in data.keys():\n",
    "            temp_val_auth = sum([hub_score[i] for i in data[key].in_link])\n",
    "            temp_val_hub = sum([auth_score[i] for i in data[key].out_link])\n",
    "            temp_auth[key] = temp_val_auth\n",
    "            temp_hub[key] = temp_val_hub\n",
    "            total_auth += temp_val_auth\n",
    "            total_hub += temp_val_hub\n",
    "        for key in data.keys():\n",
    "            if total_auth > 0:\n",
    "                temp_auth[key] = temp_auth[key]/total_auth\n",
    "            else: \n",
    "                temp_auth[key] = 0.0\n",
    "            \n",
    "            if total_hub > 0:\n",
    "                temp_hub[key] = temp_hub[key]/total_hub\n",
    "            else:\n",
    "                temp_hub[key] = 0.0\n",
    "        auth_score = temp_auth.copy()\n",
    "        hub_score = temp_hub.copy()"
   ]
  },
  {
   "cell_type": "code",
   "execution_count": 57,
   "id": "bb89f883-ce93-4573-aed0-bc67e66dd852",
   "metadata": {},
   "outputs": [
    {
     "data": {
      "text/plain": [
       "{'10.1145/3439723': 0.0,\n",
       " '10.5555/3294996.3295059': 0.01453616891257324,\n",
       " '10.1109/AVSS.2009.58': 0.002824850481569262,\n",
       " '10.1109/CVPR.2014.487': 0.002824850481569262,\n",
       " '10.1145/3072959.3073659': 0.002824850481569262,\n",
       " '10.1145/2601097.2601122': 0.002824850481569262,\n",
       " '10.1023/A%3A1026543900054': 0.00291437451523383,\n",
       " '10.1145/3301282': 0.017166402223335965,\n",
       " '10.1007/BF01584320': 0.002824850481569262,\n",
       " '10.1137/S0363012995293694': 0.002824850481569262,\n",
       " '10.1145/1531326.1531330': 0.002824850481569262,\n",
       " '10.5555/3295222.3295327': 0.028877720654339942,\n",
       " '10.1016/j.patcog.2012.06.021': 0.002824850481569262,\n",
       " '10.5555/2188385.2188410': 0.002824850481569262,\n",
       " '10.1145/3077136.3080842': 0.017166402223335965,\n",
       " '10.1609/aaai.v33i01.33018901': 0.002824850481569262,\n",
       " '10.1145/3446374': 0.0,\n",
       " '10.1162/neco.2006.18.7.1527': 8.95240336645674e-05,\n",
       " '10.1006/jcss.1997.1504': 8.95240336645674e-05,\n",
       " '10.1007/s11263-019-01265-2': 8.95240336645674e-05,\n",
       " '10.1109/access.2019.2905015': 8.95240336645674e-05,\n",
       " '10.1162/089976698300017746': 8.95240336645674e-05,\n",
       " '10.1145/3209978.3210184': 8.95240336645674e-05,\n",
       " '10.1145/3459992': 0.0,\n",
       " '10.1109/ALLERTON.2019.8919758': 0.014341551741766705,\n",
       " '10.1145/3340531.3411970': 0.014341551741766705,\n",
       " '10.1109/TPAMI.2010.77': 0.014341551741766705,\n",
       " '10.1145/3052973.3053009': 0.014341551741766705,\n",
       " '10.1007/11681878_14': 0.014341551741766705,\n",
       " '10.1145/3203217.3203241': 0.014341551741766705,\n",
       " '10.1109/SECURWARE.2009.48': 0.014341551741766705,\n",
       " '10.1145/3133956.3134077': 0.014341551741766705,\n",
       " '10.1145/3326467.3326474': 0.014341551741766705,\n",
       " '10.1109/TIFS.2019.2891116': 0.014341551741766705,\n",
       " '10.5555/3294771.3294810': 0.014341551741766705,\n",
       " '10.1145/2810103.2813687': 0.014341551741766705,\n",
       " '10.5555/3305890.3305954': 0.03104940167203157,\n",
       " '10.1109/ICCRD.2010.71': 0.014341551741766705,\n",
       " '10.1145/3243734.3243855': 0.014341551741766705,\n",
       " '10.1145/3133956.3134012': 0.014341551741766705,\n",
       " '10.1145/2810103.2813677': 0.014341551741766705,\n",
       " '10.1145/3374751': 0.014341551741766705,\n",
       " '10.1504/IJSN.2015.071829': 0.014341551741766705,\n",
       " '10.1109/TKDE.2008.234': 0.014341551741766705,\n",
       " '10.1109/TIFS.2020.2968188': 0.014341551741766705,\n",
       " '10.1145/3366423.3380171': 0.014341551741766705,\n",
       " '10.14778/3231751.3231757': 0.014341551741766705,\n",
       " '10.5555/3009657.3009736': 0.014341551741766705,\n",
       " '10.5555/3157096.3157165': 0.03104940167203157,\n",
       " '10.1162/089976600300015015': 0.014341551741766705,\n",
       " '10.1007/978-3-030-62008-0_16': 0.014341551741766705,\n",
       " '10.5555/108235.108253': 0.014341551741766705,\n",
       " '10.1109/TCBB.2019.2907626': 0.014341551741766705,\n",
       " '10.5555/2999134.2999257': 0.026052870172770682,\n",
       " '10.1145/2976749.2978318': 0.014341551741766705,\n",
       " '10.5555/3305890.3305942': 0.011711318431003977,\n",
       " '10.5555/3157382.3157477': 0.011711318431003977,\n",
       " '10.5555/2997046.2997095': 0.011711318431003977,\n",
       " '10.5555/1620270.1620297': 0.011711318431003977,\n",
       " '10.5555/3294996.3295012': 0.011711318431003977,\n",
       " '10.5555/3157096.3157106': 0.011711318431003977,\n",
       " '10.5555/3298483.3298649': 0.011711318431003977,\n",
       " '10.5555/3294996.3295075': 0.011711318431003977,\n",
       " '10.5555/3294771.3294981': 0.011711318431003977,\n",
       " '10.1162/neco.1997.9.8.1735': 0.011711318431003977,\n",
       " '10.5555/3157096.3157127': 0.011711318431003977,\n",
       " '10.1109/TKDE.2009.191': 0.011711318431003977,\n",
       " '10.5555/3305381.3305573': 0.011711318431003977,\n",
       " '10.5555/3294771.3294843': 0.011711318431003977,\n",
       " '10.5555/3157096.3157346': 0.016707849930264865,\n",
       " '10.5555/3157096.3157149': 0.011711318431003977,\n",
       " '10.5555/3045118.3045319': 0.011711318431003977,\n",
       " '10.5555/2969033.2969125': 0.01717777742197767,\n",
       " '10.1145/882262.882269': 0.011711318431003977,\n",
       " '10.5555/3157096.3157340': 0.016707849930264865,\n",
       " '10.5555/3045118.3045301': 0.011711318431003977,\n",
       " '10.5555/3009657.3009806': 0.011711318431003977,\n",
       " '10.1109/TIP.2003.819861': 0.011711318431003977,\n",
       " '10.1109/34.3909': 0.011711318431003977,\n",
       " '10.5555/3305381.3305405': 0.011711318431003977,\n",
       " '10.5555/3157382.3157608': 0.011711318431003977,\n",
       " '10.1145/3322645.3322656': 0.0,\n",
       " '10.5555/3045118.3045167': 0.0004699274917128074,\n",
       " '10.1109/TIP.2017.2662206': 0.0004699274917128074,\n",
       " '10.1145/3487891': 0.0,\n",
       " '10.1145/3123266.3123309': 0.004996531499260886,\n",
       " '10.1109/TMM.2015.2407694': 0.004996531499260886,\n",
       " '10.1007/978-3-030-58517-4_31': 0.004996531499260886,\n",
       " '10.1109/TPAMI.2013.248': 0.004996531499260886,\n",
       " '10.5555/3295222.3295408': 0.004996531499260886,\n",
       " '10.1007/978-3-030-00928-1_60': 0.004996531499260886,\n",
       " '10.1177/0278364913491297': 0.004996531499260886,\n",
       " '10.1109/ICCV.2005.28': 0.004996531499260886,\n",
       " '10.5555/3367243.3367316': 0.004996531499260886,\n",
       " '10.5555/2002472.2002497': 0.004996531499260886,\n",
       " '10.1145/3126686.3126723': 0.004996531499260886,\n",
       " '10.1145/3123266.3127905': 0.004996531499260886,\n",
       " '10.5555/3042817.3043083': 0.004996531499260886,\n",
       " '10.1609/aaai.v33i01.33019299': 0.004996531499260886,\n",
       " '10.1109/CVPR.2014.223': 0.004996531499260886,\n",
       " '10.1007/978-3-642-33712-3_38': 0.004996531499260886}"
      ]
     },
     "execution_count": 57,
     "metadata": {},
     "output_type": "execute_result"
    }
   ],
   "source": [
    "def scores():\n",
    "\t\tscores = {}\n",
    "\t\t__calculate__()\n",
    "\n",
    "\t\tfor key in data.keys():\n",
    "\t\t\tscores[key] = auth_score[key]\n",
    "\n",
    "\t\treturn scores\n",
    "    \n",
    "scores()"
   ]
  },
  {
   "cell_type": "code",
   "execution_count": 58,
   "id": "e87d57db-0505-455f-8e97-9d529131401e",
   "metadata": {},
   "outputs": [
    {
     "data": {
      "text/plain": [
       "{'10.1145/3439723': 0.0,\n",
       " '10.5555/3294996.3295059': 0.01453616891257324,\n",
       " '10.1109/AVSS.2009.58': 0.002824850481569262,\n",
       " '10.1109/CVPR.2014.487': 0.002824850481569262,\n",
       " '10.1145/3072959.3073659': 0.002824850481569262,\n",
       " '10.1145/2601097.2601122': 0.002824850481569262,\n",
       " '10.1023/A%3A1026543900054': 0.00291437451523383,\n",
       " '10.1145/3301282': 0.017166402223335965,\n",
       " '10.1007/BF01584320': 0.002824850481569262,\n",
       " '10.1137/S0363012995293694': 0.002824850481569262,\n",
       " '10.1145/1531326.1531330': 0.002824850481569262,\n",
       " '10.5555/3295222.3295327': 0.028877720654339942,\n",
       " '10.1016/j.patcog.2012.06.021': 0.002824850481569262,\n",
       " '10.5555/2188385.2188410': 0.002824850481569262,\n",
       " '10.1145/3077136.3080842': 0.017166402223335965,\n",
       " '10.1609/aaai.v33i01.33018901': 0.002824850481569262,\n",
       " '10.1145/3446374': 0.0,\n",
       " '10.1162/neco.2006.18.7.1527': 8.95240336645674e-05,\n",
       " '10.1006/jcss.1997.1504': 8.95240336645674e-05,\n",
       " '10.1007/s11263-019-01265-2': 8.95240336645674e-05,\n",
       " '10.1109/access.2019.2905015': 8.95240336645674e-05,\n",
       " '10.1162/089976698300017746': 8.95240336645674e-05,\n",
       " '10.1145/3209978.3210184': 8.95240336645674e-05,\n",
       " '10.1145/3459992': 0.0,\n",
       " '10.1109/ALLERTON.2019.8919758': 0.014341551741766705,\n",
       " '10.1145/3340531.3411970': 0.014341551741766705,\n",
       " '10.1109/TPAMI.2010.77': 0.014341551741766705,\n",
       " '10.1145/3052973.3053009': 0.014341551741766705,\n",
       " '10.1007/11681878_14': 0.014341551741766705,\n",
       " '10.1145/3203217.3203241': 0.014341551741766705,\n",
       " '10.1109/SECURWARE.2009.48': 0.014341551741766705,\n",
       " '10.1145/3133956.3134077': 0.014341551741766705,\n",
       " '10.1145/3326467.3326474': 0.014341551741766705,\n",
       " '10.1109/TIFS.2019.2891116': 0.014341551741766705,\n",
       " '10.5555/3294771.3294810': 0.014341551741766705,\n",
       " '10.1145/2810103.2813687': 0.014341551741766705,\n",
       " '10.5555/3305890.3305954': 0.03104940167203157,\n",
       " '10.1109/ICCRD.2010.71': 0.014341551741766705,\n",
       " '10.1145/3243734.3243855': 0.014341551741766705,\n",
       " '10.1145/3133956.3134012': 0.014341551741766705,\n",
       " '10.1145/2810103.2813677': 0.014341551741766705,\n",
       " '10.1145/3374751': 0.014341551741766705,\n",
       " '10.1504/IJSN.2015.071829': 0.014341551741766705,\n",
       " '10.1109/TKDE.2008.234': 0.014341551741766705,\n",
       " '10.1109/TIFS.2020.2968188': 0.014341551741766705,\n",
       " '10.1145/3366423.3380171': 0.014341551741766705,\n",
       " '10.14778/3231751.3231757': 0.014341551741766705,\n",
       " '10.5555/3009657.3009736': 0.014341551741766705,\n",
       " '10.5555/3157096.3157165': 0.03104940167203157,\n",
       " '10.1162/089976600300015015': 0.014341551741766705,\n",
       " '10.1007/978-3-030-62008-0_16': 0.014341551741766705,\n",
       " '10.5555/108235.108253': 0.014341551741766705,\n",
       " '10.1109/TCBB.2019.2907626': 0.014341551741766705,\n",
       " '10.5555/2999134.2999257': 0.026052870172770682,\n",
       " '10.1145/2976749.2978318': 0.014341551741766705,\n",
       " '10.5555/3305890.3305942': 0.011711318431003977,\n",
       " '10.5555/3157382.3157477': 0.011711318431003977,\n",
       " '10.5555/2997046.2997095': 0.011711318431003977,\n",
       " '10.5555/1620270.1620297': 0.011711318431003977,\n",
       " '10.5555/3294996.3295012': 0.011711318431003977,\n",
       " '10.5555/3157096.3157106': 0.011711318431003977,\n",
       " '10.5555/3298483.3298649': 0.011711318431003977,\n",
       " '10.5555/3294996.3295075': 0.011711318431003977,\n",
       " '10.5555/3294771.3294981': 0.011711318431003977,\n",
       " '10.1162/neco.1997.9.8.1735': 0.011711318431003977,\n",
       " '10.5555/3157096.3157127': 0.011711318431003977,\n",
       " '10.1109/TKDE.2009.191': 0.011711318431003977,\n",
       " '10.5555/3305381.3305573': 0.011711318431003977,\n",
       " '10.5555/3294771.3294843': 0.011711318431003977,\n",
       " '10.5555/3157096.3157346': 0.016707849930264865,\n",
       " '10.5555/3157096.3157149': 0.011711318431003977,\n",
       " '10.5555/3045118.3045319': 0.011711318431003977,\n",
       " '10.5555/2969033.2969125': 0.01717777742197767,\n",
       " '10.1145/882262.882269': 0.011711318431003977,\n",
       " '10.5555/3157096.3157340': 0.016707849930264865,\n",
       " '10.5555/3045118.3045301': 0.011711318431003977,\n",
       " '10.5555/3009657.3009806': 0.011711318431003977,\n",
       " '10.1109/TIP.2003.819861': 0.011711318431003977,\n",
       " '10.1109/34.3909': 0.011711318431003977,\n",
       " '10.5555/3305381.3305405': 0.011711318431003977,\n",
       " '10.5555/3157382.3157608': 0.011711318431003977,\n",
       " '10.1145/3322645.3322656': 0.0,\n",
       " '10.5555/3045118.3045167': 0.0004699274917128074,\n",
       " '10.1109/TIP.2017.2662206': 0.0004699274917128074,\n",
       " '10.1145/3487891': 0.0,\n",
       " '10.1145/3123266.3123309': 0.004996531499260886,\n",
       " '10.1109/TMM.2015.2407694': 0.004996531499260886,\n",
       " '10.1007/978-3-030-58517-4_31': 0.004996531499260886,\n",
       " '10.1109/TPAMI.2013.248': 0.004996531499260886,\n",
       " '10.5555/3295222.3295408': 0.004996531499260886,\n",
       " '10.1007/978-3-030-00928-1_60': 0.004996531499260886,\n",
       " '10.1177/0278364913491297': 0.004996531499260886,\n",
       " '10.1109/ICCV.2005.28': 0.004996531499260886,\n",
       " '10.5555/3367243.3367316': 0.004996531499260886,\n",
       " '10.5555/2002472.2002497': 0.004996531499260886,\n",
       " '10.1145/3126686.3126723': 0.004996531499260886,\n",
       " '10.1145/3123266.3127905': 0.004996531499260886,\n",
       " '10.5555/3042817.3043083': 0.004996531499260886,\n",
       " '10.1609/aaai.v33i01.33019299': 0.004996531499260886,\n",
       " '10.1109/CVPR.2014.223': 0.004996531499260886,\n",
       " '10.1007/978-3-642-33712-3_38': 0.004996531499260886}"
      ]
     },
     "execution_count": 58,
     "metadata": {},
     "output_type": "execute_result"
    }
   ],
   "source": [
    "def scores():\n",
    "\t\tscores = {}\n",
    "\t\t__calculate__()\n",
    "\n",
    "\t\tfor key in data.keys():\n",
    "\t\t\tscores[key] = auth_score[key]\n",
    "\n",
    "\t\treturn scores\n",
    "    \n",
    "scores()"
   ]
  },
  {
   "cell_type": "code",
   "execution_count": null,
   "id": "0349d70f-55b2-4ced-bf8d-460e2c3d3b21",
   "metadata": {},
   "outputs": [],
   "source": []
  }
 ],
 "metadata": {
  "kernelspec": {
   "display_name": "Python 3 (ipykernel)",
   "language": "python",
   "name": "python3"
  },
  "language_info": {
   "codemirror_mode": {
    "name": "ipython",
    "version": 3
   },
   "file_extension": ".py",
   "mimetype": "text/x-python",
   "name": "python",
   "nbconvert_exporter": "python",
   "pygments_lexer": "ipython3",
   "version": "3.7.3"
  }
 },
 "nbformat": 4,
 "nbformat_minor": 5
}
