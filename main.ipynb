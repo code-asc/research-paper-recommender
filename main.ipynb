{
 "cells": [
  {
   "cell_type": "code",
   "execution_count": 2,
   "id": "d484a890-963f-43c9-b71f-bbc0c053f80e",
   "metadata": {},
   "outputs": [],
   "source": [
    "import sqlite3\n",
    "import numpy as np\n",
    "import pandas as pd\n",
    "from tqdm.notebook import tqdm\n",
    "from utils.utils import get_citation_doi\n",
    "from utils.utils import get_paper_citation_pairs\n",
    "from acm_api.acm import acm_meta\n",
    "from evaluation.evaluate import Train_Test_Split"
   ]
  },
  {
   "cell_type": "markdown",
   "id": "6dff21f2-d307-4844-9cca-86019027e973",
   "metadata": {},
   "source": [
    "<h2>Processing the input file with doi of papers</h2>"
   ]
  },
  {
   "cell_type": "code",
   "execution_count": 3,
   "id": "823117b6-e153-441a-8eb9-10baeb699470",
   "metadata": {},
   "outputs": [
    {
     "name": "stdout",
     "output_type": "stream",
     "text": [
      "processing doi....\n"
     ]
    },
    {
     "data": {
      "application/vnd.jupyter.widget-view+json": {
       "model_id": "602e28c610744f0a94cf9d3ea9906e97",
       "version_major": 2,
       "version_minor": 0
      },
      "text/plain": [
       "  0%|          | 0/8 [00:00<?, ?it/s]"
      ]
     },
     "metadata": {},
     "output_type": "display_data"
    },
    {
     "name": "stdout",
     "output_type": "stream",
     "text": [
      "extracting citation's doi....\n"
     ]
    },
    {
     "data": {
      "application/vnd.jupyter.widget-view+json": {
       "model_id": "c77316fb4f444e42b5c4909919707dc1",
       "version_major": 2,
       "version_minor": 0
      },
      "text/plain": [
       "  0%|          | 0/249 [00:00<?, ?it/s]"
      ]
     },
     "metadata": {},
     "output_type": "display_data"
    },
    {
     "name": "stdout",
     "output_type": "stream",
     "text": [
      "extracting citation's doi....\n"
     ]
    },
    {
     "data": {
      "application/vnd.jupyter.widget-view+json": {
       "model_id": "64a04ab914164055bdbf987354a9c84d",
       "version_major": 2,
       "version_minor": 0
      },
      "text/plain": [
       "  0%|          | 0/155 [00:00<?, ?it/s]"
      ]
     },
     "metadata": {},
     "output_type": "display_data"
    },
    {
     "name": "stdout",
     "output_type": "stream",
     "text": [
      "extracting citation's doi....\n"
     ]
    },
    {
     "data": {
      "application/vnd.jupyter.widget-view+json": {
       "model_id": "7a80eb6d9628428f9aa9c74acf431680",
       "version_major": 2,
       "version_minor": 0
      },
      "text/plain": [
       "  0%|          | 0/172 [00:00<?, ?it/s]"
      ]
     },
     "metadata": {},
     "output_type": "display_data"
    },
    {
     "name": "stdout",
     "output_type": "stream",
     "text": [
      "extracting citation's doi....\n"
     ]
    },
    {
     "data": {
      "application/vnd.jupyter.widget-view+json": {
       "model_id": "b68ac2abf89a479f8233e4f508b020ea",
       "version_major": 2,
       "version_minor": 0
      },
      "text/plain": [
       "  0%|          | 0/162 [00:00<?, ?it/s]"
      ]
     },
     "metadata": {},
     "output_type": "display_data"
    },
    {
     "name": "stdout",
     "output_type": "stream",
     "text": [
      "extracting citation's doi....\n"
     ]
    },
    {
     "data": {
      "application/vnd.jupyter.widget-view+json": {
       "model_id": "d8eaa16662604db5a4951794b17fc73f",
       "version_major": 2,
       "version_minor": 0
      },
      "text/plain": [
       "  0%|          | 0/162 [00:00<?, ?it/s]"
      ]
     },
     "metadata": {},
     "output_type": "display_data"
    },
    {
     "name": "stdout",
     "output_type": "stream",
     "text": [
      "extracting citation's doi....\n"
     ]
    },
    {
     "data": {
      "application/vnd.jupyter.widget-view+json": {
       "model_id": "320034380b17428e8a8b058b5cd52336",
       "version_major": 2,
       "version_minor": 0
      },
      "text/plain": [
       "  0%|          | 0/146 [00:00<?, ?it/s]"
      ]
     },
     "metadata": {},
     "output_type": "display_data"
    },
    {
     "name": "stdout",
     "output_type": "stream",
     "text": [
      "extracting citation's doi....\n"
     ]
    },
    {
     "data": {
      "application/vnd.jupyter.widget-view+json": {
       "model_id": "86fedf335bca4d819e2bb6befbaa1186",
       "version_major": 2,
       "version_minor": 0
      },
      "text/plain": [
       "  0%|          | 0/18 [00:00<?, ?it/s]"
      ]
     },
     "metadata": {},
     "output_type": "display_data"
    },
    {
     "name": "stdout",
     "output_type": "stream",
     "text": [
      "extracting citation's doi....\n"
     ]
    },
    {
     "data": {
      "application/vnd.jupyter.widget-view+json": {
       "model_id": "c4e51876cb1b4ec685472603e9196469",
       "version_major": 2,
       "version_minor": 0
      },
      "text/plain": [
       "  0%|          | 0/136 [00:00<?, ?it/s]"
      ]
     },
     "metadata": {},
     "output_type": "display_data"
    }
   ],
   "source": [
    "doi_list = []\n",
    "data = {}\n",
    "\n",
    "# reading the input file with doi of papers\n",
    "with open('doi/doi.txt', 'r') as doi_file:\n",
    "    lines = doi_file.readlines()\n",
    "    \n",
    "for line in lines:\n",
    "    doi_list.append(line.strip())\n",
    "    \n",
    "con = sqlite3.connect('papers.db')\n",
    "cur = con.cursor()\n",
    "\n",
    "is_table_exists = cur.execute(\n",
    "    \"\"\"\n",
    "    SELECT name FROM sqlite_master WHERE type='table'\n",
    "    AND name='PAPERS'; \"\"\").fetchall()\n",
    "\n",
    "if is_table_exists == []:\n",
    "    cur.execute(\"\"\" \n",
    "        CREATE TABLE PAPERS (doi TEXT, data TEXT);\n",
    "    \"\"\")\n",
    "    \n",
    "print('processing doi....')\n",
    "for doi in tqdm(doi_list):\n",
    "    cursor = con.execute(\"SELECT * FROM PAPERS WHERE doi=?;\", (doi,))\n",
    "    fetch_data = cursor.fetchone()\n",
    "    \n",
    "    if fetch_data is None:\n",
    "        temp = acm_meta(doi)\n",
    "        insert_statement = 'INSERT INTO PAPERS(doi, data) VALUES(?, ?)'\n",
    "        \n",
    "        con.execute(insert_statement, (doi, str(temp)))\n",
    "        data[doi] = get_citation_doi(temp)\n",
    "        \n",
    "    else:\n",
    "        data[doi] = get_citation_doi(fetch_data[1])\n",
    "\n",
    "con.commit()\n",
    "con.close()"
   ]
  },
  {
   "cell_type": "code",
   "execution_count": 4,
   "id": "4bcd1929-daf9-4bc5-a906-d4a9d28afcbc",
   "metadata": {},
   "outputs": [
    {
     "data": {
      "text/plain": [
       "{'10.1145/3463475': ['10.5555/2969033.2969125',\n",
       "  '10.1145/3301282',\n",
       "  '10.5555/2987189.2987190',\n",
       "  '10.5555/3327546.3327685',\n",
       "  '10.5555/3454287.3455618',\n",
       "  '10.5555/3295222.3295378',\n",
       "  '10.5555/3305381.3305578',\n",
       "  '10.5555/2969239.2969405',\n",
       "  '10.5555/3157096.3157340',\n",
       "  '10.5555/3305381.3305404',\n",
       "  '10.5555/3295222.3295327',\n",
       "  '10.1007/s11263-015-0816-y',\n",
       "  '10.1007/s11042-017-5457-4',\n",
       "  '10.1007/s11227-017-2218-0',\n",
       "  '10.1145/3343031.3350944',\n",
       "  '10.1109/34.3909',\n",
       "  '10.1145/882262.882269',\n",
       "  '10.1145/3072959.3073659',\n",
       "  '10.1109/TIFS.2019.2907973',\n",
       "  '10.5555/3305890.3305954',\n",
       "  '10.5555/3294771.3294810',\n",
       "  '10.5555/3326943.3326948',\n",
       "  '10.1109/TIP.2019.2916751',\n",
       "  '10.5555/3157096.3157106',\n",
       "  '10.1145/3240508.3240618',\n",
       "  '10.1145/3335203.3335724',\n",
       "  '10.5555/3305381.3305430',\n",
       "  '10.5555/3305381.3305573',\n",
       "  '10.5555/3294771.3294838',\n",
       "  '10.1145/311535.311556',\n",
       "  '10.5555/3454287.3454527',\n",
       "  '10.1109/TIFS.2019.2891116',\n",
       "  '10.5555/3294996.3295075',\n",
       "  '10.5555/3298483.3298649',\n",
       "  '10.1145/3357384.3357899',\n",
       "  '10.1145/3077136.3080786',\n",
       "  '10.1145/3331184.3331218',\n",
       "  '10.1145/3240508.3240587',\n",
       "  '10.5555/3157096.3157165',\n",
       "  '10.5555/3294996.3295195',\n",
       "  '10.5555/3294996.3295142',\n",
       "  '10.1145/3292500.3330972',\n",
       "  '10.1145/3292500.3330869',\n",
       "  '10.1145/3292500.3330873',\n",
       "  '10.1145/3292500.3330970',\n",
       "  '10.1109/TIFS.2020.2968188',\n",
       "  '10.5555/3294996.3295059',\n",
       "  '10.1145/3231884.3231887',\n",
       "  '10.1145/3197517.3201304',\n",
       "  '10.1145/3340251',\n",
       "  '10.5555/3045118.3045167',\n",
       "  '10.5555/3305381.3305405',\n",
       "  '10.5555/3157096.3157346',\n",
       "  '10.5555/3295222.3295408',\n",
       "  '10.5555/3295222.3295349',\n",
       "  '10.5555/1953048.2021068',\n",
       "  '10.5555/3305381.3305404',\n",
       "  '10.5555/2503308.2188410',\n",
       "  '10.5555/3295222.3295294',\n",
       "  '10.5555/3157096.3157197',\n",
       "  '10.5555/3327144.3327181'],\n",
       " '10.1145/3439723': ['10.1109/CVPR.2014.487',\n",
       "  '10.1145/1531326.1531330',\n",
       "  '10.1137/S0363012995293694',\n",
       "  '10.1007/BF01584320',\n",
       "  '10.5555/2188385.2188410',\n",
       "  '10.5555/3295222.3295327',\n",
       "  '10.1145/3301282',\n",
       "  '10.1145/2601097.2601122',\n",
       "  '10.1145/3072959.3073659',\n",
       "  '10.1016/j.patcog.2012.06.021',\n",
       "  '10.1109/AVSS.2009.58',\n",
       "  '10.1145/3077136.3080842',\n",
       "  '10.1023/A%3A1026543900054',\n",
       "  '10.5555/3294996.3295059',\n",
       "  '10.1609/aaai.v33i01.33018901'],\n",
       " '10.1145/3446374': ['10.1162/neco.2006.18.7.1527',\n",
       "  '10.1109/access.2019.2905015',\n",
       "  '10.1007/s11263-019-01265-2',\n",
       "  '10.1006/jcss.1997.1504',\n",
       "  '10.1023/A%3A1026543900054',\n",
       "  '10.1162/089976698300017746',\n",
       "  '10.1145/3209978.3210184'],\n",
       " '10.1145/3459992': ['10.1145/2976749.2978318',\n",
       "  '10.1504/IJSN.2015.071829',\n",
       "  '10.1109/TIFS.2019.2891116',\n",
       "  '10.1145/3374751',\n",
       "  '10.1007/11681878_14',\n",
       "  '10.1109/SECURWARE.2009.48',\n",
       "  '10.1109/TPAMI.2010.77',\n",
       "  '10.1145/2810103.2813677',\n",
       "  '10.1162/089976600300015015',\n",
       "  '10.5555/3295222.3295327',\n",
       "  '10.1145/3133956.3134012',\n",
       "  '10.1145/3301282',\n",
       "  '10.1145/3203217.3203241',\n",
       "  '10.1109/ICCRD.2010.71',\n",
       "  '10.1109/TKDE.2008.234',\n",
       "  '10.5555/2999134.2999257',\n",
       "  '10.1007/978-3-030-62008-0_16',\n",
       "  '10.1145/3366423.3380171',\n",
       "  '10.1145/3340531.3411970',\n",
       "  '10.1145/3326467.3326474',\n",
       "  '10.5555/3294771.3294810',\n",
       "  '10.1145/3243734.3243855',\n",
       "  '10.5555/3305890.3305954',\n",
       "  '10.1145/3052973.3053009',\n",
       "  '10.14778/3231751.3231757',\n",
       "  '10.1145/3077136.3080842',\n",
       "  '10.5555/108235.108253',\n",
       "  '10.5555/3009657.3009736',\n",
       "  '10.1145/2810103.2813687',\n",
       "  '10.1145/3133956.3134077',\n",
       "  '10.1109/ALLERTON.2019.8919758',\n",
       "  '10.1109/TIFS.2020.2968188',\n",
       "  '10.5555/3157096.3157165',\n",
       "  '10.1109/TCBB.2019.2907626'],\n",
       " '10.1145/3301282': ['10.5555/3305381.3305405',\n",
       "  '10.5555/3294771.3294843',\n",
       "  '10.5555/3157096.3157340',\n",
       "  '10.1109/34.3909',\n",
       "  '10.5555/2969033.2969125',\n",
       "  '10.5555/3295222.3295327',\n",
       "  '10.5555/3157382.3157608',\n",
       "  '10.1162/neco.1997.9.8.1735',\n",
       "  '10.5555/3305381.3305573',\n",
       "  '10.5555/2999134.2999257',\n",
       "  '10.5555/2999134.2999257',\n",
       "  '10.5555/3294771.3294981',\n",
       "  '10.5555/3045118.3045301',\n",
       "  '10.5555/3294996.3295075',\n",
       "  '10.5555/3157096.3157149',\n",
       "  '10.5555/3294996.3295012',\n",
       "  '10.5555/3305890.3305942',\n",
       "  '10.5555/2997046.2997095',\n",
       "  '10.5555/3157382.3157477',\n",
       "  '10.5555/3157096.3157127',\n",
       "  '10.5555/3305890.3305954',\n",
       "  '10.1109/TKDE.2009.191',\n",
       "  '10.1145/882262.882269',\n",
       "  '10.5555/3157096.3157346',\n",
       "  '10.5555/3045118.3045319',\n",
       "  '10.5555/3294996.3295059',\n",
       "  '10.5555/3009657.3009806',\n",
       "  '10.5555/3157096.3157165',\n",
       "  '10.1109/TIP.2003.819861',\n",
       "  '10.5555/3157096.3157106',\n",
       "  '10.5555/3298483.3298649',\n",
       "  '10.5555/1620270.1620297'],\n",
       " '10.1145/3322645.3322656': ['10.5555/2969033.2969125',\n",
       "  '10.5555/3045118.3045167',\n",
       "  '10.1109/TIP.2017.2662206'],\n",
       " '10.1145/3487891': ['10.5555/2969033.2969125',\n",
       "  '10.5555/3157096.3157165',\n",
       "  '10.5555/3157096.3157340',\n",
       "  '10.5555/3305890.3305954',\n",
       "  '10.5555/3367243.3367316',\n",
       "  '10.1609/aaai.v33i01.33019299',\n",
       "  '10.1145/3123266.3127905',\n",
       "  '10.1007/978-3-030-58517-4_31',\n",
       "  '10.1007/978-3-030-00928-1_60',\n",
       "  '10.1109/TPAMI.2013.248',\n",
       "  '10.1109/ICCV.2005.28',\n",
       "  '10.5555/3157096.3157346',\n",
       "  '10.5555/3295222.3295408',\n",
       "  '10.5555/3042817.3043083',\n",
       "  '10.1145/3126686.3126723',\n",
       "  '10.1109/TMM.2015.2407694',\n",
       "  '10.1109/CVPR.2014.223',\n",
       "  '10.1177/0278364913491297',\n",
       "  '10.1007/978-3-642-33712-3_38',\n",
       "  '10.1145/3123266.3123309',\n",
       "  '10.5555/2002472.2002497']}"
      ]
     },
     "execution_count": 4,
     "metadata": {},
     "output_type": "execute_result"
    }
   ],
   "source": [
    "# Paper's doi and it's citations\n",
    "data"
   ]
  },
  {
   "cell_type": "markdown",
   "id": "cd689ff6-3a60-4ffc-a4e1-aa4c1c2e0f74",
   "metadata": {},
   "source": [
    "<h2>Code for creating the rating matrix</h2>"
   ]
  },
  {
   "cell_type": "code",
   "execution_count": 5,
   "id": "7c68584b-510b-42cd-a500-19e0124b479f",
   "metadata": {},
   "outputs": [],
   "source": [
    "citation_set = set()\n",
    "for key in data.keys():\n",
    "    citation_set.update(data[key])\n",
    "\n",
    "index_ = data.keys()\n",
    "df = pd.DataFrame(np.zeros((len(index_), len(citation_set))), index=index_, columns=citation_set)\n",
    "\n",
    "for i in index_:\n",
    "    for j in citation_set:\n",
    "        if j in data[i]:\n",
    "            df.loc[i][j] = 1\n",
    "\n",
    "df.to_csv('citation-web/matrix-way/citation-matrix.csv')"
   ]
  },
  {
   "cell_type": "markdown",
   "id": "494979c8-3cea-4afd-9cb6-130f1a24dfee",
   "metadata": {},
   "source": [
    "<h2>Creating the citation pair</h2>"
   ]
  },
  {
   "cell_type": "code",
   "execution_count": 6,
   "id": "a0090e86-30a9-453a-8e6a-7bbeea06ef31",
   "metadata": {},
   "outputs": [
    {
     "name": "stdout",
     "output_type": "stream",
     "text": [
      "writing citation pairs....\n"
     ]
    },
    {
     "data": {
      "application/vnd.jupyter.widget-view+json": {
       "model_id": "f67f8d6af253446ba186834dfa2bf04e",
       "version_major": 2,
       "version_minor": 0
      },
      "text/plain": [
       "  0%|          | 0/7 [00:00<?, ?it/s]"
      ]
     },
     "metadata": {},
     "output_type": "display_data"
    }
   ],
   "source": [
    "citation_pair_path = get_paper_citation_pairs(df, 'citation-pairs.txt')"
   ]
  },
  {
   "cell_type": "code",
   "execution_count": 7,
   "id": "5b921ec1-1b7b-4479-86b2-b383bf8fc7ff",
   "metadata": {},
   "outputs": [],
   "source": [
    "########################################\n",
    "\t# Experiment 1\n",
    "\t# Plain CF\n",
    "\t\n",
    "\t\n",
    "\t########################################\n",
    "\n",
    "\n",
    "\t########################################\n",
    "\t# Experiment 1\n",
    "\t# Plain CF\n",
    "\t\n",
    "\t# TO DO\n",
    "\t########################################"
   ]
  },
  {
   "cell_type": "code",
   "execution_count": null,
   "id": "2c069b9a",
   "metadata": {},
   "outputs": [],
   "source": []
  },
  {
   "cell_type": "code",
   "execution_count": null,
   "id": "a04b26c6",
   "metadata": {},
   "outputs": [],
   "source": []
  }
 ],
 "metadata": {
  "kernelspec": {
   "display_name": "Python 3 (ipykernel)",
   "language": "python",
   "name": "python3"
  },
  "language_info": {
   "codemirror_mode": {
    "name": "ipython",
    "version": 3
   },
   "file_extension": ".py",
   "mimetype": "text/x-python",
   "name": "python",
   "nbconvert_exporter": "python",
   "pygments_lexer": "ipython3",
   "version": "3.9.7"
  }
 },
 "nbformat": 4,
 "nbformat_minor": 5
}
